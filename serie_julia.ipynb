{
  "nbformat": 4,
  "nbformat_minor": 0,
  "metadata": {
    "colab": {
      "provenance": []
    },
    "kernelspec": {
      "name": "julia-1.7",
      "display_name": "Julia 1.7.2"
    }
  },
  "cells": [
    {
      "cell_type": "code",
      "execution_count": null,
      "metadata": {
        "id": "TVxwwlHbdAqe",
        "colab": {
          "base_uri": "https://localhost:8080/",
          "height": 87
        },
        "outputId": "035b5b70-2978-463f-dec2-7c8b289c440d"
      },
      "outputs": [
        {
          "output_type": "display_data",
          "data": {
            "text/plain": [
              "  Unrecognized magic \u001b[36m%%capture\u001b[39m.\n",
              "\n",
              "  Julia does not use the IPython \u001b[36m%magic\u001b[39m syntax. To interact with the IJulia kernel, use\n",
              "  \u001b[36mIJulia.somefunction(...)\u001b[39m, for example. Julia macros, string macros, and functions can be used to\n",
              "  accomplish most of the other functionalities of IPython magics."
            ],
            "text/markdown": "Unrecognized magic `%%capture`.\n\nJulia does not use the IPython `%magic` syntax.   To interact with the IJulia kernel, use `IJulia.somefunction(...)`, for example.  Julia macros, string macros, and functions can be used to accomplish most of the other functionalities of IPython magics.\n",
            "text/latex": "Unrecognized magic \\texttt{\\%\\%capture}.\n\nJulia does not use the IPython \\texttt{\\%magic} syntax.   To interact with the IJulia kernel, use \\texttt{IJulia.somefunction(...)}, for example.  Julia macros, string macros, and functions can be used to accomplish most of the other functionalities of IPython magics.\n\n"
          },
          "metadata": {}
        }
      ],
      "source": [
        "%%capture\n",
        "%%shell\n",
        "if ! command -v julia 3>&1 > /dev/null\n",
        "then\n",
        "    wget -q 'https://julialang-s3.julialang.org/bin/linux/x64/1.7/julia-1.7.2-linux-x86_64.tar.gz' \\\n",
        "        -O /tmp/julia.tar.gz\n",
        "    tar -x -f /tmp/julia.tar.gz -C /usr/local --strip-components 1\n",
        "    rm /tmp/julia.tar.gz\n",
        "fi\n",
        "julia -e 'using Pkg; pkg\"add IJulia; precompile;\"'\n",
        "echo 'Done'"
      ]
    },
    {
      "cell_type": "markdown",
      "source": [
        "# Tudo"
      ],
      "metadata": {
        "id": "NIWfmwuQ_A90"
      }
    },
    {
      "cell_type": "markdown",
      "source": [
        "Mude o interpretador em: Editar -> Configurações do notebook -> Tipo de ambiente de execução -> Julia\n",
        "\n",
        "Verificando o interpretador da Linguagem Julia"
      ],
      "metadata": {
        "id": "w-jmZGqXhMvx"
      }
    },
    {
      "cell_type": "markdown",
      "source": [
        "Primeira etapa"
      ],
      "metadata": {
        "id": "71rcKyTMg__p"
      }
    },
    {
      "cell_type": "code",
      "source": [
        "8 + 2"
      ],
      "metadata": {
        "colab": {
          "base_uri": "https://localhost:8080/"
        },
        "id": "VgrWwBBzdQO2",
        "outputId": "56d2018c-0d6f-448c-ec9a-fa8adf56ba4e"
      },
      "execution_count": null,
      "outputs": [
        {
          "output_type": "execute_result",
          "data": {
            "text/plain": [
              "10"
            ]
          },
          "metadata": {},
          "execution_count": 3
        }
      ]
    },
    {
      "cell_type": "code",
      "source": [
        "5 + 1\n",
        "2 + 3"
      ],
      "metadata": {
        "colab": {
          "base_uri": "https://localhost:8080/"
        },
        "id": "5OWL9i67hTaH",
        "outputId": "ec8ac7eb-bbf1-4fb1-99a2-8555d577dbcb"
      },
      "execution_count": null,
      "outputs": [
        {
          "output_type": "execute_result",
          "data": {
            "text/plain": [
              "5"
            ]
          },
          "metadata": {},
          "execution_count": 4
        }
      ]
    },
    {
      "cell_type": "code",
      "source": [
        "?println"
      ],
      "metadata": {
        "colab": {
          "base_uri": "https://localhost:8080/",
          "height": 330
        },
        "id": "aWPz02Bchdn5",
        "outputId": "ff65ab0d-3a05-4967-8561-2eb9380aa4f2"
      },
      "execution_count": null,
      "outputs": [
        {
          "output_type": "stream",
          "name": "stdout",
          "text": [
            "search: \u001b[0m\u001b[1mp\u001b[22m\u001b[0m\u001b[1mr\u001b[22m\u001b[0m\u001b[1mi\u001b[22m\u001b[0m\u001b[1mn\u001b[22m\u001b[0m\u001b[1mt\u001b[22m\u001b[0m\u001b[1ml\u001b[22m\u001b[0m\u001b[1mn\u001b[22m \u001b[0m\u001b[1mp\u001b[22m\u001b[0m\u001b[1mr\u001b[22m\u001b[0m\u001b[1mi\u001b[22m\u001b[0m\u001b[1mn\u001b[22m\u001b[0m\u001b[1mt\u001b[22msty\u001b[0m\u001b[1ml\u001b[22med \u001b[0m\u001b[1mp\u001b[22m\u001b[0m\u001b[1mr\u001b[22m\u001b[0m\u001b[1mi\u001b[22m\u001b[0m\u001b[1mn\u001b[22m\u001b[0m\u001b[1mt\u001b[22m s\u001b[0m\u001b[1mp\u001b[22m\u001b[0m\u001b[1mr\u001b[22m\u001b[0m\u001b[1mi\u001b[22m\u001b[0m\u001b[1mn\u001b[22m\u001b[0m\u001b[1mt\u001b[22m is\u001b[0m\u001b[1mp\u001b[22m\u001b[0m\u001b[1mr\u001b[22m\u001b[0m\u001b[1mi\u001b[22m\u001b[0m\u001b[1mn\u001b[22m\u001b[0m\u001b[1mt\u001b[22m\n",
            "\n"
          ]
        },
        {
          "output_type": "execute_result",
          "data": {
            "text/plain": [
              "\u001b[36m  println([io::IO], xs...)\u001b[39m\n",
              "\n",
              "  Print (using \u001b[36mprint\u001b[39m) \u001b[36mxs\u001b[39m followed by a newline. If \u001b[36mio\u001b[39m is not supplied, prints to \u001b[36mstdout\u001b[39m.\n",
              "\n",
              "  See also \u001b[36mprintstyled\u001b[39m to add colors etc.\n",
              "\n",
              "\u001b[1m  Examples\u001b[22m\n",
              "\u001b[1m  ≡≡≡≡≡≡≡≡≡≡\u001b[22m\n",
              "\n",
              "\u001b[36m  julia> println(\"Hello, world\")\u001b[39m\n",
              "\u001b[36m  Hello, world\u001b[39m\n",
              "\u001b[36m  \u001b[39m\n",
              "\u001b[36m  julia> io = IOBuffer();\u001b[39m\n",
              "\u001b[36m  \u001b[39m\n",
              "\u001b[36m  julia> println(io, \"Hello\", ',', \" world.\")\u001b[39m\n",
              "\u001b[36m  \u001b[39m\n",
              "\u001b[36m  julia> String(take!(io))\u001b[39m\n",
              "\u001b[36m  \"Hello, world.\\n\"\u001b[39m"
            ],
            "text/markdown": "```\nprintln([io::IO], xs...)\n```\n\nPrint (using [`print`](@ref)) `xs` followed by a newline. If `io` is not supplied, prints to [`stdout`](@ref).\n\nSee also [`printstyled`](@ref) to add colors etc.\n\n# Examples\n\n```jldoctest\njulia> println(\"Hello, world\")\nHello, world\n\njulia> io = IOBuffer();\n\njulia> println(io, \"Hello\", ',', \" world.\")\n\njulia> String(take!(io))\n\"Hello, world.\\n\"\n```\n",
            "text/latex": "\\begin{verbatim}\nprintln([io::IO], xs...)\n\\end{verbatim}\nPrint (using \\href{@ref}{\\texttt{print}}) \\texttt{xs} followed by a newline. If \\texttt{io} is not supplied, prints to \\href{@ref}{\\texttt{stdout}}.\n\nSee also \\href{@ref}{\\texttt{printstyled}} to add colors etc.\n\n\\section{Examples}\n\\begin{verbatim}\njulia> println(\"Hello, world\")\nHello, world\n\njulia> io = IOBuffer();\n\njulia> println(io, \"Hello\", ',', \" world.\")\n\njulia> String(take!(io))\n\"Hello, world.\\n\"\n\\end{verbatim}\n"
          },
          "metadata": {},
          "execution_count": 5
        }
      ]
    },
    {
      "cell_type": "markdown",
      "source": [
        "Segunda etapa:"
      ],
      "metadata": {
        "id": "4TlkqlF3hxL4"
      }
    },
    {
      "cell_type": "code",
      "source": [
        "println(\"Estudando Linguagem Julia!\")"
      ],
      "metadata": {
        "colab": {
          "base_uri": "https://localhost:8080/"
        },
        "id": "yssMu-yIh5fn",
        "outputId": "6bbba70f-292e-4486-c7e1-7418b7076502"
      },
      "execution_count": null,
      "outputs": [
        {
          "output_type": "stream",
          "name": "stdout",
          "text": [
            "Estudando Linguagem Julia!\n"
          ]
        }
      ]
    },
    {
      "cell_type": "code",
      "source": [
        "tempo_de_servico = 10"
      ],
      "metadata": {
        "colab": {
          "base_uri": "https://localhost:8080/"
        },
        "id": "Ec8_bW5ph6_P",
        "outputId": "0c0f9097-f370-4b8e-8244-d154af96c391"
      },
      "execution_count": null,
      "outputs": [
        {
          "output_type": "execute_result",
          "data": {
            "text/plain": [
              "10"
            ]
          },
          "metadata": {},
          "execution_count": 7
        }
      ]
    },
    {
      "cell_type": "code",
      "source": [
        "typeof(tempo_de_servico)"
      ],
      "metadata": {
        "colab": {
          "base_uri": "https://localhost:8080/"
        },
        "id": "56f0w-D4iG9n",
        "outputId": "39e5f8b7-bde5-4daf-d612-63453d99ae1d"
      },
      "execution_count": null,
      "outputs": [
        {
          "output_type": "execute_result",
          "data": {
            "text/plain": [
              "Int64"
            ]
          },
          "metadata": {},
          "execution_count": 8
        }
      ]
    },
    {
      "cell_type": "code",
      "source": [
        "π"
      ],
      "metadata": {
        "colab": {
          "base_uri": "https://localhost:8080/"
        },
        "id": "lPOrVTi3iG65",
        "outputId": "543f0629-69aa-4fbe-c2ae-4a2f33f39c4b"
      },
      "execution_count": null,
      "outputs": [
        {
          "output_type": "execute_result",
          "data": {
            "text/plain": [
              "π = 3.1415926535897..."
            ]
          },
          "metadata": {},
          "execution_count": 9
        }
      ]
    },
    {
      "cell_type": "code",
      "source": [
        " typeof(π)"
      ],
      "metadata": {
        "colab": {
          "base_uri": "https://localhost:8080/"
        },
        "id": "wAJPsHiRiG4R",
        "outputId": "a8cb5370-24f0-4669-c40d-d239e2cead43"
      },
      "execution_count": null,
      "outputs": [
        {
          "output_type": "execute_result",
          "data": {
            "text/plain": [
              "Irrational{:π}"
            ]
          },
          "metadata": {},
          "execution_count": 10
        }
      ]
    },
    {
      "cell_type": "code",
      "source": [
        "adicao_exemplo = 3 + 9"
      ],
      "metadata": {
        "colab": {
          "base_uri": "https://localhost:8080/"
        },
        "id": "YEu2OyKsjD7Y",
        "outputId": "d46b77a6-e0ec-42e6-d477-c3006fdefd52"
      },
      "execution_count": null,
      "outputs": [
        {
          "output_type": "execute_result",
          "data": {
            "text/plain": [
              "12"
            ]
          },
          "metadata": {},
          "execution_count": 11
        }
      ]
    },
    {
      "cell_type": "code",
      "source": [
        "diferenca_exemplo = 10 - 5"
      ],
      "metadata": {
        "colab": {
          "base_uri": "https://localhost:8080/"
        },
        "id": "VDMG0rUSjD5H",
        "outputId": "e7790e76-d659-4492-8595-b40e7cf2566c"
      },
      "execution_count": null,
      "outputs": [
        {
          "output_type": "execute_result",
          "data": {
            "text/plain": [
              "5"
            ]
          },
          "metadata": {},
          "execution_count": 12
        }
      ]
    },
    {
      "cell_type": "code",
      "source": [
        "multiplicacao_exemplo = 2 * 6"
      ],
      "metadata": {
        "colab": {
          "base_uri": "https://localhost:8080/"
        },
        "id": "dREtJ0rCjD25",
        "outputId": "c227bd98-da72-4a20-c12a-7b24138547be"
      },
      "execution_count": null,
      "outputs": [
        {
          "output_type": "execute_result",
          "data": {
            "text/plain": [
              "12"
            ]
          },
          "metadata": {},
          "execution_count": 13
        }
      ]
    },
    {
      "cell_type": "code",
      "source": [
        "quociente_exemplo = 100 / 10"
      ],
      "metadata": {
        "colab": {
          "base_uri": "https://localhost:8080/"
        },
        "id": "TKnqliyejD0x",
        "outputId": "a7cb3a0c-844a-4d51-8218-f3227ceb85b7"
      },
      "execution_count": null,
      "outputs": [
        {
          "output_type": "execute_result",
          "data": {
            "text/plain": [
              "10.0"
            ]
          },
          "metadata": {},
          "execution_count": 14
        }
      ]
    },
    {
      "cell_type": "code",
      "source": [
        "exponenciacao_exemplo = 5 ^ 4"
      ],
      "metadata": {
        "colab": {
          "base_uri": "https://localhost:8080/"
        },
        "id": "N4dkY_G-jDyI",
        "outputId": "3e21e56c-b8ca-478c-d676-f1d7edfdaf9b"
      },
      "execution_count": null,
      "outputs": [
        {
          "output_type": "execute_result",
          "data": {
            "text/plain": [
              "625"
            ]
          },
          "metadata": {},
          "execution_count": 15
        }
      ]
    },
    {
      "cell_type": "code",
      "source": [
        "resto_exemplo = 103 % 2"
      ],
      "metadata": {
        "colab": {
          "base_uri": "https://localhost:8080/"
        },
        "id": "KbF6GHk-jO3n",
        "outputId": "22d8d9ad-19ce-45ce-8ea1-dba3f8b5853c"
      },
      "execution_count": null,
      "outputs": [
        {
          "output_type": "execute_result",
          "data": {
            "text/plain": [
              "1"
            ]
          },
          "metadata": {},
          "execution_count": 16
        }
      ]
    },
    {
      "cell_type": "markdown",
      "source": [
        "Terceira etapa:"
      ],
      "metadata": {
        "id": "VojVKLjDjZRW"
      }
    },
    {
      "cell_type": "code",
      "source": [
        "frase1 = \"Eu sou uma string.\"\n",
        "\n",
        "frase2 = \"\"\"Eu também sou uma string.\"\"\""
      ],
      "metadata": {
        "colab": {
          "base_uri": "https://localhost:8080/"
        },
        "id": "gX4p6N7ejawG",
        "outputId": "a4f4146b-8552-46a1-96c9-7090abfb4cf5"
      },
      "execution_count": null,
      "outputs": [
        {
          "output_type": "execute_result",
          "data": {
            "text/plain": [
              "\"Eu também sou uma string.\""
            ]
          },
          "metadata": {},
          "execution_count": 17
        }
      ]
    },
    {
      "cell_type": "code",
      "source": [
        "typeof(frase1)\n",
        "\n",
        "typeof(frase2)"
      ],
      "metadata": {
        "colab": {
          "base_uri": "https://localhost:8080/"
        },
        "id": "7OHnWZiUjbE0",
        "outputId": "6d1c67d8-88f1-4ad5-faef-4862ab4f1d08"
      },
      "execution_count": null,
      "outputs": [
        {
          "output_type": "execute_result",
          "data": {
            "text/plain": [
              "String"
            ]
          },
          "metadata": {},
          "execution_count": 18
        }
      ]
    },
    {
      "cell_type": "code",
      "source": [
        "\"\"\"Isso é \"importante\" para aprender em Julia.\"\"\""
      ],
      "metadata": {
        "colab": {
          "base_uri": "https://localhost:8080/"
        },
        "id": "lazMxI_XjbCO",
        "outputId": "717672aa-9797-402e-a9b5-ec705384fcef"
      },
      "execution_count": null,
      "outputs": [
        {
          "output_type": "execute_result",
          "data": {
            "text/plain": [
              "\"Isso é \\\"importante\\\" para aprender em Julia.\""
            ]
          },
          "metadata": {},
          "execution_count": 19
        }
      ]
    },
    {
      "cell_type": "code",
      "source": [
        "caractere1 = \"a\"\n",
        "\n",
        "typeof(caractere1)\n",
        "\n",
        "caractere2 = 'a'\n",
        "\n",
        "typeof(caractere2)"
      ],
      "metadata": {
        "colab": {
          "base_uri": "https://localhost:8080/"
        },
        "id": "Na6dxeB4kBEO",
        "outputId": "817dff70-c529-4da5-a00c-d646ee673f2a"
      },
      "execution_count": null,
      "outputs": [
        {
          "output_type": "execute_result",
          "data": {
            "text/plain": [
              "Char"
            ]
          },
          "metadata": {},
          "execution_count": 20
        }
      ]
    },
    {
      "cell_type": "code",
      "source": [
        "nome = \"Ana\"\n",
        "\n",
        "println(\"Olá $nome.\")"
      ],
      "metadata": {
        "colab": {
          "base_uri": "https://localhost:8080/"
        },
        "id": "OyWYPvvhkBBm",
        "outputId": "0ee9d8bb-9c5a-4023-bb94-9ad9531a0d82"
      },
      "execution_count": null,
      "outputs": [
        {
          "output_type": "stream",
          "name": "stdout",
          "text": [
            "Olá Ana.\n"
          ]
        }
      ]
    },
    {
      "cell_type": "code",
      "source": [
        "string(frase1, frase2)"
      ],
      "metadata": {
        "colab": {
          "base_uri": "https://localhost:8080/"
        },
        "id": "pFqn-Rn-kA--",
        "outputId": "93dfe467-d0ba-460f-a214-e4c012f63a0d"
      },
      "execution_count": null,
      "outputs": [
        {
          "output_type": "execute_result",
          "data": {
            "text/plain": [
              "\"Eu sou uma string.Eu também sou uma string.\""
            ]
          },
          "metadata": {},
          "execution_count": 22
        }
      ]
    },
    {
      "cell_type": "code",
      "source": [
        "string(frase1, \"e \", frase2)"
      ],
      "metadata": {
        "colab": {
          "base_uri": "https://localhost:8080/"
        },
        "id": "-prDqDSgktKl",
        "outputId": "afc5fa02-1524-42fa-a4c2-d21c27efe9dc"
      },
      "execution_count": null,
      "outputs": [
        {
          "output_type": "execute_result",
          "data": {
            "text/plain": [
              "\"Eu sou uma string.e Eu também sou uma string.\""
            ]
          },
          "metadata": {},
          "execution_count": 23
        }
      ]
    },
    {
      "cell_type": "code",
      "source": [
        "frase1 * frase2"
      ],
      "metadata": {
        "colab": {
          "base_uri": "https://localhost:8080/"
        },
        "id": "jMcTQuAAlFKM",
        "outputId": "d9c03736-eda7-4e78-a001-3b5276bcccc1"
      },
      "execution_count": null,
      "outputs": [
        {
          "output_type": "execute_result",
          "data": {
            "text/plain": [
              "\"Eu sou uma string.Eu também sou uma string.\""
            ]
          },
          "metadata": {},
          "execution_count": 24
        }
      ]
    },
    {
      "cell_type": "markdown",
      "source": [
        "Quarta etapa"
      ],
      "metadata": {
        "id": "jojkfTLllLte"
      }
    },
    {
      "cell_type": "code",
      "source": [
        "frutas = (\"laranja\", \"maçã\", \"banana\")\n",
        "\n",
        "frutas[1]"
      ],
      "metadata": {
        "colab": {
          "base_uri": "https://localhost:8080/"
        },
        "id": "szPBX54wlQ8c",
        "outputId": "fb0f12ee-d150-4376-8e08-e68f3445897e"
      },
      "execution_count": null,
      "outputs": [
        {
          "output_type": "execute_result",
          "data": {
            "text/plain": [
              "\"laranja\""
            ]
          },
          "metadata": {},
          "execution_count": 25
        }
      ]
    },
    {
      "cell_type": "code",
      "source": [
        "animais = (gato = \"Persa\", cachorro = \"Labrador\", coelho = \"Lion\")\n",
        "\n",
        "animais[1]"
      ],
      "metadata": {
        "colab": {
          "base_uri": "https://localhost:8080/"
        },
        "id": "zH3U_caEnzD8",
        "outputId": "b8c00e05-ce12-4c48-be1f-b7029d474ad6"
      },
      "execution_count": null,
      "outputs": [
        {
          "output_type": "execute_result",
          "data": {
            "text/plain": [
              "\"Persa\""
            ]
          },
          "metadata": {},
          "execution_count": 26
        }
      ]
    },
    {
      "cell_type": "code",
      "source": [
        "animais.coelho"
      ],
      "metadata": {
        "colab": {
          "base_uri": "https://localhost:8080/"
        },
        "id": "F_zL_gHOnzAM",
        "outputId": "d0104d82-e3f2-4803-8077-80e42bfd2fd5"
      },
      "execution_count": null,
      "outputs": [
        {
          "output_type": "execute_result",
          "data": {
            "text/plain": [
              "\"Lion\""
            ]
          },
          "metadata": {},
          "execution_count": 27
        }
      ]
    },
    {
      "cell_type": "code",
      "source": [
        "contatos = Dict(\"Ana\" => \"1111-1111\", \"Beto\" => \"2222-2222\")\n",
        "\n",
        "contatos[\"Ana\"]"
      ],
      "metadata": {
        "colab": {
          "base_uri": "https://localhost:8080/"
        },
        "id": "eiex9FVHny8r",
        "outputId": "87839c79-b8fb-4c41-bc82-a347fcb71835"
      },
      "execution_count": null,
      "outputs": [
        {
          "output_type": "execute_result",
          "data": {
            "text/plain": [
              "\"1111-1111\""
            ]
          },
          "metadata": {},
          "execution_count": 28
        }
      ]
    },
    {
      "cell_type": "code",
      "source": [
        "contatos[\"Carlos\"] = \"3333-3333\"\n",
        "\n",
        "contatos"
      ],
      "metadata": {
        "colab": {
          "base_uri": "https://localhost:8080/"
        },
        "id": "8-VRIeVSoDPj",
        "outputId": "d0417dfb-ef88-4287-c539-e101b4ff452d"
      },
      "execution_count": null,
      "outputs": [
        {
          "output_type": "execute_result",
          "data": {
            "text/plain": [
              "Dict{String, String} with 3 entries:\n",
              "  \"Carlos\" => \"3333-3333\"\n",
              "  \"Beto\"   => \"2222-2222\"\n",
              "  \"Ana\"    => \"1111-1111\""
            ]
          },
          "metadata": {},
          "execution_count": 29
        }
      ]
    },
    {
      "cell_type": "code",
      "source": [
        "pop!(contatos, \"Ana\")\n",
        "\n",
        "contatos"
      ],
      "metadata": {
        "colab": {
          "base_uri": "https://localhost:8080/"
        },
        "id": "xLBfc10BoDNr",
        "outputId": "34cc1313-9b9a-422b-c7c1-3db93589e6ca"
      },
      "execution_count": null,
      "outputs": [
        {
          "output_type": "execute_result",
          "data": {
            "text/plain": [
              "Dict{String, String} with 2 entries:\n",
              "  \"Carlos\" => \"3333-3333\"\n",
              "  \"Beto\"   => \"2222-2222\""
            ]
          },
          "metadata": {},
          "execution_count": 30
        }
      ]
    },
    {
      "cell_type": "code",
      "source": [
        "cantores = [\"Roberto\", \"Caetano\", \"Gilberto\", \"Chico\"]\n",
        "\n",
        "cantores[1]"
      ],
      "metadata": {
        "colab": {
          "base_uri": "https://localhost:8080/"
        },
        "id": "-y_5rzvtoDKL",
        "outputId": "b144755d-b0d7-4dc8-c634-58a53a8b44ae"
      },
      "execution_count": null,
      "outputs": [
        {
          "output_type": "execute_result",
          "data": {
            "text/plain": [
              "\"Roberto\""
            ]
          },
          "metadata": {},
          "execution_count": 31
        }
      ]
    },
    {
      "cell_type": "code",
      "source": [
        "cantores[4] = \"Djavan\"\n",
        "\n",
        "cantores"
      ],
      "metadata": {
        "colab": {
          "base_uri": "https://localhost:8080/"
        },
        "id": "nNrnGEjsoDBU",
        "outputId": "7d53d3a1-fc7a-47ec-80a1-6838fd9fb7ef"
      },
      "execution_count": null,
      "outputs": [
        {
          "output_type": "execute_result",
          "data": {
            "text/plain": [
              "4-element Vector{String}:\n",
              " \"Roberto\"\n",
              " \"Caetano\"\n",
              " \"Gilberto\"\n",
              " \"Djavan\""
            ]
          },
          "metadata": {},
          "execution_count": 32
        }
      ]
    },
    {
      "cell_type": "code",
      "source": [
        "primos = [2, 3, 5, 7, 11, 13, 17]\n",
        "\n",
        "push!(primos, 19)"
      ],
      "metadata": {
        "colab": {
          "base_uri": "https://localhost:8080/"
        },
        "id": "Kyl92aDtoKX7",
        "outputId": "e0287e0a-e40d-4dd4-c810-6e84014d2933"
      },
      "execution_count": null,
      "outputs": [
        {
          "output_type": "execute_result",
          "data": {
            "text/plain": [
              "8-element Vector{Int64}:\n",
              "  2\n",
              "  3\n",
              "  5\n",
              "  7\n",
              " 11\n",
              " 13\n",
              " 17\n",
              " 19"
            ]
          },
          "metadata": {},
          "execution_count": 33
        }
      ]
    },
    {
      "cell_type": "code",
      "source": [
        "array_misto = [4, 8, 3.5, 2.0, \"Ana\", \"Beto\"]"
      ],
      "metadata": {
        "colab": {
          "base_uri": "https://localhost:8080/"
        },
        "id": "vnxH8aIUoNcO",
        "outputId": "4306c0d9-12d5-48ec-820c-405e86428b32"
      },
      "execution_count": null,
      "outputs": [
        {
          "output_type": "execute_result",
          "data": {
            "text/plain": [
              "6-element Vector{Any}:\n",
              " 4\n",
              " 8\n",
              " 3.5\n",
              " 2.0\n",
              "  \"Ana\"\n",
              "  \"Beto\""
            ]
          },
          "metadata": {},
          "execution_count": 34
        }
      ]
    },
    {
      "cell_type": "code",
      "source": [
        "matriz = [[\"Arroz\", \"Feijão\", \"Salada\"], [\"Ana\", \"Beto\", \"Carlos\"]]"
      ],
      "metadata": {
        "colab": {
          "base_uri": "https://localhost:8080/"
        },
        "id": "wG7Z3VPQoNae",
        "outputId": "8e884218-a21a-43cc-c643-6769a927caae"
      },
      "execution_count": null,
      "outputs": [
        {
          "output_type": "execute_result",
          "data": {
            "text/plain": [
              "2-element Vector{Vector{String}}:\n",
              " [\"Arroz\", \"Feijão\", \"Salada\"]\n",
              " [\"Ana\", \"Beto\", \"Carlos\"]"
            ]
          },
          "metadata": {},
          "execution_count": 35
        }
      ]
    },
    {
      "cell_type": "code",
      "source": [
        "array = [[1, 2, 3], [4, 5], [6, 7, 8, 9]]"
      ],
      "metadata": {
        "colab": {
          "base_uri": "https://localhost:8080/"
        },
        "id": "PTKUkwZvoNYL",
        "outputId": "8ea5c48a-7685-440c-b423-65075d8396d4"
      },
      "execution_count": null,
      "outputs": [
        {
          "output_type": "execute_result",
          "data": {
            "text/plain": [
              "3-element Vector{Vector{Int64}}:\n",
              " [1, 2, 3]\n",
              " [4, 5]\n",
              " [6, 7, 8, 9]"
            ]
          },
          "metadata": {},
          "execution_count": 36
        }
      ]
    },
    {
      "cell_type": "code",
      "source": [
        "matriz_4x3 = rand(4, 3)"
      ],
      "metadata": {
        "colab": {
          "base_uri": "https://localhost:8080/"
        },
        "id": "ej5n8rEnoNWQ",
        "outputId": "c8a6a915-ff8b-4103-aae1-ca31818991d0"
      },
      "execution_count": null,
      "outputs": [
        {
          "output_type": "execute_result",
          "data": {
            "text/plain": [
              "4×3 Matrix{Float64}:\n",
              " 0.84416   0.736343  0.481858\n",
              " 0.416374  0.706058  0.481809\n",
              " 0.419041  0.956832  0.27297\n",
              " 0.307242  0.598593  0.699674"
            ]
          },
          "metadata": {},
          "execution_count": 37
        }
      ]
    },
    {
      "cell_type": "code",
      "source": [
        "matriz_4x3 = rand(4, 3)"
      ],
      "metadata": {
        "colab": {
          "base_uri": "https://localhost:8080/"
        },
        "id": "cmQNHZbqoNTG",
        "outputId": "07e3409a-d31e-4fd5-e8af-72802cf6fb86"
      },
      "execution_count": null,
      "outputs": [
        {
          "output_type": "execute_result",
          "data": {
            "text/plain": [
              "4×3 Matrix{Float64}:\n",
              " 0.641277  0.0369537  0.538454\n",
              " 0.72521   0.674846   0.217306\n",
              " 0.973624  0.389262   0.943444\n",
              " 0.412052  0.934164   0.236791"
            ]
          },
          "metadata": {},
          "execution_count": 38
        }
      ]
    },
    {
      "cell_type": "markdown",
      "source": [
        "Quinta etapa"
      ],
      "metadata": {
        "id": "DXl4N3ZNoYgY"
      }
    },
    {
      "cell_type": "code",
      "source": [
        "indice = 0\n",
        "\n",
        "while indice < 10\n",
        "    indice += 1\n",
        "    println(indice)\n",
        "end"
      ],
      "metadata": {
        "colab": {
          "base_uri": "https://localhost:8080/"
        },
        "id": "2VC5vkEFoaUz",
        "outputId": "274383ab-42b1-4244-ddb0-e48d24246c2b"
      },
      "execution_count": null,
      "outputs": [
        {
          "output_type": "stream",
          "name": "stdout",
          "text": [
            "1\n",
            "2\n",
            "3\n",
            "4\n",
            "5\n",
            "6\n",
            "7\n",
            "8\n",
            "9\n",
            "10\n"
          ]
        }
      ]
    },
    {
      "cell_type": "code",
      "source": [
        "planetas = [\"Mercúrio\", \"Vênus\", \"Terra\", \"Marte\", \"Júpiter\", \"Saturno\", \"Urano\", \"Netuno\"]"
      ],
      "metadata": {
        "colab": {
          "base_uri": "https://localhost:8080/"
        },
        "id": "i7OLEA3HoaSr",
        "outputId": "f38d7b74-f6f6-44fb-f954-60c6f4efcdcd"
      },
      "execution_count": null,
      "outputs": [
        {
          "output_type": "execute_result",
          "data": {
            "text/plain": [
              "8-element Vector{String}:\n",
              " \"Mercúrio\"\n",
              " \"Vênus\"\n",
              " \"Terra\"\n",
              " \"Marte\"\n",
              " \"Júpiter\"\n",
              " \"Saturno\"\n",
              " \"Urano\"\n",
              " \"Netuno\""
            ]
          },
          "metadata": {},
          "execution_count": 40
        }
      ]
    },
    {
      "cell_type": "code",
      "source": [
        "k = 1\n",
        "while k <= length(planetas)\n",
        "    planeta = planetas[k]\n",
        "    println(\"$planeta é um planeta do sistema solar!\")\n",
        "    k += 1\n",
        "end"
      ],
      "metadata": {
        "colab": {
          "base_uri": "https://localhost:8080/"
        },
        "id": "raiMSFwDoaPk",
        "outputId": "6c9a64e6-25fd-48ca-b0d9-d395eaef9779"
      },
      "execution_count": null,
      "outputs": [
        {
          "output_type": "stream",
          "name": "stdout",
          "text": [
            "Mercúrio é um planeta do sistema solar!\n",
            "Vênus é um planeta do sistema solar!\n",
            "Terra é um planeta do sistema solar!\n",
            "Marte é um planeta do sistema solar!\n",
            "Júpiter é um planeta do sistema solar!\n",
            "Saturno é um planeta do sistema solar!\n",
            "Urano é um planeta do sistema solar!\n",
            "Netuno é um planeta do sistema solar!\n"
          ]
        }
      ]
    },
    {
      "cell_type": "code",
      "source": [
        "for planeta in planetas\n",
        "    println(\"$planeta é um planeta do sistema solar!\")\n",
        "end"
      ],
      "metadata": {
        "colab": {
          "base_uri": "https://localhost:8080/"
        },
        "id": "0vNjkwicoZ7k",
        "outputId": "f5ce8d96-4c7f-4d1b-a38a-186079216562"
      },
      "execution_count": null,
      "outputs": [
        {
          "output_type": "stream",
          "name": "stdout",
          "text": [
            "Mercúrio é um planeta do sistema solar!\n",
            "Vênus é um planeta do sistema solar!\n",
            "Terra é um planeta do sistema solar!\n",
            "Marte é um planeta do sistema solar!\n",
            "Júpiter é um planeta do sistema solar!\n",
            "Saturno é um planeta do sistema solar!\n",
            "Urano é um planeta do sistema solar!\n",
            "Netuno é um planeta do sistema solar!\n"
          ]
        }
      ]
    },
    {
      "cell_type": "code",
      "source": [
        "linhas, colunas = 5, 5"
      ],
      "metadata": {
        "colab": {
          "base_uri": "https://localhost:8080/"
        },
        "id": "f0-5NMCqu1Yc",
        "outputId": "b78cab9f-def5-4345-c43a-b872915c86df"
      },
      "execution_count": null,
      "outputs": [
        {
          "output_type": "execute_result",
          "data": {
            "text/plain": [
              "(5, 5)"
            ]
          },
          "metadata": {},
          "execution_count": 43
        }
      ]
    },
    {
      "cell_type": "code",
      "source": [
        "matrizA = fill(0, (linhas, colunas))"
      ],
      "metadata": {
        "colab": {
          "base_uri": "https://localhost:8080/"
        },
        "id": "CxzHlhzBu2CB",
        "outputId": "a375a959-214a-477e-a137-06e55705ed7c"
      },
      "execution_count": null,
      "outputs": [
        {
          "output_type": "execute_result",
          "data": {
            "text/plain": [
              "5×5 Matrix{Int64}:\n",
              " 0  0  0  0  0\n",
              " 0  0  0  0  0\n",
              " 0  0  0  0  0\n",
              " 0  0  0  0  0\n",
              " 0  0  0  0  0"
            ]
          },
          "metadata": {},
          "execution_count": 44
        }
      ]
    },
    {
      "cell_type": "code",
      "source": [
        "for i in 1:linhas\n",
        "    for j in 1:colunas\n",
        "        matrizA[i, j] = i + j\n",
        "    end\n",
        "end\n",
        "\n",
        "matrizA"
      ],
      "metadata": {
        "colab": {
          "base_uri": "https://localhost:8080/"
        },
        "id": "pdhzyxi4u2j0",
        "outputId": "35aac17d-0018-44a0-c38c-dd6aa92b9d00"
      },
      "execution_count": null,
      "outputs": [
        {
          "output_type": "execute_result",
          "data": {
            "text/plain": [
              "5×5 Matrix{Int64}:\n",
              " 2  3  4  5   6\n",
              " 3  4  5  6   7\n",
              " 4  5  6  7   8\n",
              " 5  6  7  8   9\n",
              " 6  7  8  9  10"
            ]
          },
          "metadata": {},
          "execution_count": 45
        }
      ]
    },
    {
      "cell_type": "code",
      "source": [
        "matrizB = fill(0, (linhas, colunas))"
      ],
      "metadata": {
        "colab": {
          "base_uri": "https://localhost:8080/"
        },
        "id": "V23jzg59u2hd",
        "outputId": "db5d6cd1-ffde-407d-cb54-f97e0b5cf645"
      },
      "execution_count": null,
      "outputs": [
        {
          "output_type": "execute_result",
          "data": {
            "text/plain": [
              "5×5 Matrix{Int64}:\n",
              " 0  0  0  0  0\n",
              " 0  0  0  0  0\n",
              " 0  0  0  0  0\n",
              " 0  0  0  0  0\n",
              " 0  0  0  0  0"
            ]
          },
          "metadata": {},
          "execution_count": 46
        }
      ]
    },
    {
      "cell_type": "code",
      "source": [
        "for i in 1:linhas, j in 1:colunas\n",
        "    matrizB[i, j] = i + j\n",
        "end\n",
        "\n",
        "matrizB"
      ],
      "metadata": {
        "colab": {
          "base_uri": "https://localhost:8080/"
        },
        "id": "bdgjJ3Vku2fK",
        "outputId": "01262ab7-2237-4263-9eca-02826b14f321"
      },
      "execution_count": null,
      "outputs": [
        {
          "output_type": "execute_result",
          "data": {
            "text/plain": [
              "5×5 Matrix{Int64}:\n",
              " 2  3  4  5   6\n",
              " 3  4  5  6   7\n",
              " 4  5  6  7   8\n",
              " 5  6  7  8   9\n",
              " 6  7  8  9  10"
            ]
          },
          "metadata": {},
          "execution_count": 47
        }
      ]
    },
    {
      "cell_type": "code",
      "source": [
        "matrizC = [i + j for i in 1:linhas, j in 1:colunas]"
      ],
      "metadata": {
        "colab": {
          "base_uri": "https://localhost:8080/"
        },
        "id": "guo4_Bnsu2cr",
        "outputId": "decc9f7f-3cc5-43d0-81e8-e1036232fab9"
      },
      "execution_count": null,
      "outputs": [
        {
          "output_type": "execute_result",
          "data": {
            "text/plain": [
              "5×5 Matrix{Int64}:\n",
              " 2  3  4  5   6\n",
              " 3  4  5  6   7\n",
              " 4  5  6  7   8\n",
              " 5  6  7  8   9\n",
              " 6  7  8  9  10"
            ]
          },
          "metadata": {},
          "execution_count": 48
        }
      ]
    },
    {
      "cell_type": "markdown",
      "source": [
        "Sexta etapa"
      ],
      "metadata": {
        "id": "e26uqcN0vKAD"
      }
    },
    {
      "cell_type": "code",
      "source": [
        "# Condicionais\n",
        "a = 20\n",
        "b = 15\n",
        "\n",
        "if a > b\n",
        "    println(\"$a é o maior valor!\")\n",
        "else\n",
        "    println(\"$b é o maior valor!\")\n",
        "end\n",
        "\n",
        "(a > b) ?  println(\"$a é o maior valor!\") : println(\"$b é o maior valor!\")\n",
        "\n",
        "M = 150\n",
        "\n",
        "M % 4\n",
        "M % 6\n",
        "\n",
        "(M % 4 == 0) && (M % 6 == 0)\n",
        "(M % 4 == 0) || (M % 6 == 0)\n",
        "\n",
        "M % 4 == 0\n",
        "M % 6 == 0\n",
        "\n",
        "if (M % 4 == 0) && (M % 6 == 0)\n",
        "    println(\"O número é divisível por 4 e 6!\")\n",
        "elseif M % 4 == 0\n",
        "    println(\"O número é divisível somente por 4!\")\n",
        "elseif M % 6 == 0\n",
        "    println(\"O número é divisível somente por 6!\")\n",
        "else\n",
        "    println(\"O número não é divisível por 4 e 6!\")\n",
        "end"
      ],
      "metadata": {
        "colab": {
          "base_uri": "https://localhost:8080/"
        },
        "id": "t12jhe8_-3ND",
        "outputId": "1e7985c4-99ab-4c86-a02b-dd00452d8f09"
      },
      "execution_count": null,
      "outputs": [
        {
          "output_type": "stream",
          "name": "stdout",
          "text": [
            "20 é o maior valor!\n",
            "20 é o maior valor!\n",
            "O número é divisível somente por 6!\n"
          ]
        }
      ]
    },
    {
      "cell_type": "markdown",
      "source": [
        "Sétima etapa"
      ],
      "metadata": {
        "id": "7MwX9Rua-7xe"
      }
    },
    {
      "cell_type": "code",
      "source": [
        "# Funções\n",
        "function Saudacao(nome)\n",
        "    println(\"Oi $nome, continue com o bom trabalho estudando Julia!\")\n",
        "end\n",
        "\n",
        "Saudacao(\"Alice\")\n",
        "\n",
        "function quadrado(x)\n",
        "    x^2\n",
        "end\n",
        "\n",
        "quadrado(8)\n",
        "\n",
        "Saudacao2 = nome -> println(\"Oi $nome, continue com o bom trabalho estudando Julia!\")\n",
        "\n",
        "Saudacao2(\"Alice\")\n",
        "\n",
        "Saudacao3 = nome -> println(\"Oi $nome, continue com o bom trabalho estudando Julia!\")\n",
        "\n",
        "Saudacao3(\"Alice\")\n",
        "\n",
        "array = [5, 7, 4]\n",
        "\n",
        "sort(array)\n",
        "\n",
        "array\n",
        "\n",
        "sort!(array)\n",
        "\n",
        "array\n",
        "\n",
        "map(quadrado, [3, 4, 5])\n",
        "\n",
        "map(x -> x^3, [3, 4, 5])\n",
        "\n",
        "matriz = [i + 2*j for j in 0:2, i in 1:3]\n",
        "\n",
        "quadrado(matriz)"
      ],
      "metadata": {
        "colab": {
          "base_uri": "https://localhost:8080/"
        },
        "id": "7x2pTrAMvMXs",
        "outputId": "c1fa0328-24e4-4f1c-b545-d6d203a2879a"
      },
      "execution_count": null,
      "outputs": [
        {
          "output_type": "stream",
          "name": "stdout",
          "text": [
            "Oi Alice, continue com o bom trabalho estudando Julia!\n",
            "Oi Alice, continue com o bom trabalho estudando Julia!\n",
            "Oi Alice, continue com o bom trabalho estudando Julia!\n"
          ]
        },
        {
          "output_type": "execute_result",
          "data": {
            "text/plain": [
              "3×3 Matrix{Int64}:\n",
              " 22  28  34\n",
              " 40  52  64\n",
              " 58  76  94"
            ]
          },
          "metadata": {},
          "execution_count": 50
        }
      ]
    },
    {
      "cell_type": "markdown",
      "source": [
        "Oitava etapa"
      ],
      "metadata": {
        "id": "8WlGu-U2_c9W"
      }
    },
    {
      "cell_type": "code",
      "source": [
        "# Álgebra Linear\n",
        "M = rand(1:5,3,3)\n",
        "\n",
        "N = fill(2.0, (3,))\n",
        "\n",
        "y = M * N\n",
        "\n",
        "transpose(M)\n",
        "\n",
        "M'\n",
        "\n",
        "M'M"
      ],
      "metadata": {
        "colab": {
          "base_uri": "https://localhost:8080/"
        },
        "id": "g2_u5NyC_fut",
        "outputId": "1eb63326-7b11-40a0-930f-61fadfb8711e"
      },
      "execution_count": null,
      "outputs": [
        {
          "output_type": "execute_result",
          "data": {
            "text/plain": [
              "3×3 Matrix{Int64}:\n",
              " 27  16  21\n",
              " 16  24  22\n",
              " 21  22  29"
            ]
          },
          "metadata": {},
          "execution_count": 51
        }
      ]
    },
    {
      "cell_type": "markdown",
      "source": [
        "Nona etapa"
      ],
      "metadata": {
        "id": "3WcKCBSO_1gj"
      }
    },
    {
      "cell_type": "code",
      "source": [
        "import Pkg\n",
        "Pkg.add(\"DataFrames\")\n",
        "Pkg.add(\"Statistics\")\n",
        "Pkg.add(\"Plots\")\n",
        "Pkg.add(\"Distributions\")\n",
        "\n",
        "using DataFrames, Statistics, Plots, Distributions"
      ],
      "metadata": {
        "colab": {
          "base_uri": "https://localhost:8080/"
        },
        "id": "vnMKAazft3Ey",
        "outputId": "feb1df18-1e84-44f3-c8ce-379ada53e2d3"
      },
      "execution_count": null,
      "outputs": [
        {
          "output_type": "stream",
          "name": "stderr",
          "text": [
            "\u001b[32m\u001b[1m    Updating\u001b[22m\u001b[39m registry at `~/.julia/registries/General.toml`\n",
            "\u001b[32m\u001b[1m   Resolving\u001b[22m\u001b[39m package versions...\n",
            "\u001b[32m\u001b[1m   Installed\u001b[22m\u001b[39m TableTraits ───────────────── v1.0.1\n",
            "\u001b[32m\u001b[1m   Installed\u001b[22m\u001b[39m Crayons ───────────────────── v4.1.1\n",
            "\u001b[32m\u001b[1m   Installed\u001b[22m\u001b[39m PooledArrays ──────────────── v1.4.3\n",
            "\u001b[32m\u001b[1m   Installed\u001b[22m\u001b[39m Tables ────────────────────── v1.11.1\n",
            "\u001b[32m\u001b[1m   Installed\u001b[22m\u001b[39m DataAPI ───────────────────── v1.15.0\n",
            "\u001b[32m\u001b[1m   Installed\u001b[22m\u001b[39m SentinelArrays ────────────── v1.4.0\n",
            "\u001b[32m\u001b[1m   Installed\u001b[22m\u001b[39m InlineStrings ─────────────── v1.4.0\n",
            "\u001b[32m\u001b[1m   Installed\u001b[22m\u001b[39m DataValueInterfaces ───────── v1.0.0\n",
            "\u001b[32m\u001b[1m   Installed\u001b[22m\u001b[39m IteratorInterfaceExtensions ─ v1.0.0\n",
            "\u001b[32m\u001b[1m   Installed\u001b[22m\u001b[39m Reexport ──────────────────── v1.2.2\n",
            "\u001b[32m\u001b[1m   Installed\u001b[22m\u001b[39m InvertedIndices ───────────── v1.3.0\n",
            "\u001b[32m\u001b[1m   Installed\u001b[22m\u001b[39m LaTeXStrings ──────────────── v1.3.0\n",
            "\u001b[32m\u001b[1m   Installed\u001b[22m\u001b[39m OrderedCollections ────────── v1.6.2\n",
            "\u001b[32m\u001b[1m   Installed\u001b[22m\u001b[39m DataFrames ────────────────── v1.6.1\n",
            "\u001b[32m\u001b[1m   Installed\u001b[22m\u001b[39m Missings ──────────────────── v1.1.0\n",
            "\u001b[32m\u001b[1m   Installed\u001b[22m\u001b[39m StringManipulation ────────── v0.3.4\n",
            "\u001b[32m\u001b[1m   Installed\u001b[22m\u001b[39m Compat ────────────────────── v4.10.0\n",
            "\u001b[32m\u001b[1m   Installed\u001b[22m\u001b[39m SortingAlgorithms ─────────── v1.2.0\n",
            "\u001b[32m\u001b[1m   Installed\u001b[22m\u001b[39m PrettyTables ──────────────── v2.2.8\n",
            "\u001b[32m\u001b[1m   Installed\u001b[22m\u001b[39m DataStructures ────────────── v0.18.15\n",
            "\u001b[32m\u001b[1m    Updating\u001b[22m\u001b[39m `~/.julia/environments/v1.7/Project.toml`\n",
            " \u001b[90m [a93c6f00] \u001b[39m\u001b[92m+ DataFrames v1.6.1\u001b[39m\n",
            "\u001b[32m\u001b[1m    Updating\u001b[22m\u001b[39m `~/.julia/environments/v1.7/Manifest.toml`\n",
            " \u001b[90m [34da2185] \u001b[39m\u001b[92m+ Compat v4.10.0\u001b[39m\n",
            " \u001b[90m [a8cc5b0e] \u001b[39m\u001b[92m+ Crayons v4.1.1\u001b[39m\n",
            " \u001b[90m [9a962f9c] \u001b[39m\u001b[92m+ DataAPI v1.15.0\u001b[39m\n",
            " \u001b[90m [a93c6f00] \u001b[39m\u001b[92m+ DataFrames v1.6.1\u001b[39m\n",
            " \u001b[90m [864edb3b] \u001b[39m\u001b[92m+ DataStructures v0.18.15\u001b[39m\n",
            " \u001b[90m [e2d170a0] \u001b[39m\u001b[92m+ DataValueInterfaces v1.0.0\u001b[39m\n",
            " \u001b[90m [842dd82b] \u001b[39m\u001b[92m+ InlineStrings v1.4.0\u001b[39m\n",
            " \u001b[90m [41ab1584] \u001b[39m\u001b[92m+ InvertedIndices v1.3.0\u001b[39m\n",
            " \u001b[90m [82899510] \u001b[39m\u001b[92m+ IteratorInterfaceExtensions v1.0.0\u001b[39m\n",
            " \u001b[90m [b964fa9f] \u001b[39m\u001b[92m+ LaTeXStrings v1.3.0\u001b[39m\n",
            " \u001b[90m [e1d29d7a] \u001b[39m\u001b[92m+ Missings v1.1.0\u001b[39m\n",
            " \u001b[90m [bac558e1] \u001b[39m\u001b[92m+ OrderedCollections v1.6.2\u001b[39m\n",
            " \u001b[90m [2dfb63ee] \u001b[39m\u001b[92m+ PooledArrays v1.4.3\u001b[39m\n",
            " \u001b[90m [08abe8d2] \u001b[39m\u001b[92m+ PrettyTables v2.2.8\u001b[39m\n",
            " \u001b[90m [189a3867] \u001b[39m\u001b[92m+ Reexport v1.2.2\u001b[39m\n",
            " \u001b[90m [91c51154] \u001b[39m\u001b[92m+ SentinelArrays v1.4.0\u001b[39m\n",
            " \u001b[90m [a2af1166] \u001b[39m\u001b[92m+ SortingAlgorithms v1.2.0\u001b[39m\n",
            " \u001b[90m [892a3eda] \u001b[39m\u001b[92m+ StringManipulation v0.3.4\u001b[39m\n",
            " \u001b[90m [3783bdb8] \u001b[39m\u001b[92m+ TableTraits v1.0.1\u001b[39m\n",
            " \u001b[90m [bd369af6] \u001b[39m\u001b[92m+ Tables v1.11.1\u001b[39m\n",
            " \u001b[90m [9fa8497b] \u001b[39m\u001b[92m+ Future\u001b[39m\n",
            " \u001b[90m [37e2e46d] \u001b[39m\u001b[92m+ LinearAlgebra\u001b[39m\n",
            " \u001b[90m [2f01184e] \u001b[39m\u001b[92m+ SparseArrays\u001b[39m\n",
            " \u001b[90m [10745b16] \u001b[39m\u001b[92m+ Statistics\u001b[39m\n",
            " \u001b[90m [e66e0078] \u001b[39m\u001b[92m+ CompilerSupportLibraries_jll\u001b[39m\n",
            " \u001b[90m [4536629a] \u001b[39m\u001b[92m+ OpenBLAS_jll\u001b[39m\n",
            " \u001b[90m [8e850b90] \u001b[39m\u001b[92m+ libblastrampoline_jll\u001b[39m\n",
            "\u001b[32m\u001b[1mPrecompiling\u001b[22m\u001b[39m project...\n",
            "\u001b[32m  ✓ \u001b[39m\u001b[90mIteratorInterfaceExtensions\u001b[39m\n",
            "\u001b[32m  ✓ \u001b[39m\u001b[90mDataValueInterfaces\u001b[39m\n",
            "\u001b[32m  ✓ \u001b[39m\u001b[90mLaTeXStrings\u001b[39m\n",
            "\u001b[32m  ✓ \u001b[39m\u001b[90mCompat\u001b[39m\n",
            "\u001b[32m  ✓ \u001b[39m\u001b[90mDataAPI\u001b[39m\n",
            "\u001b[32m  ✓ \u001b[39m\u001b[90mInvertedIndices\u001b[39m\n",
            "\u001b[32m  ✓ \u001b[39m\u001b[90mSentinelArrays\u001b[39m\n",
            "\u001b[32m  ✓ \u001b[39m\u001b[90mCompilerSupportLibraries_jll\u001b[39m\n",
            "\u001b[32m  ✓ \u001b[39m\u001b[90mReexport\u001b[39m\n",
            "\u001b[32m  ✓ \u001b[39m\u001b[90mOrderedCollections\u001b[39m\n",
            "\u001b[32m  ✓ \u001b[39m\u001b[90mCrayons\u001b[39m\n",
            "\u001b[32m  ✓ \u001b[39m\u001b[90mTableTraits\u001b[39m\n",
            "\u001b[32m  ✓ \u001b[39m\u001b[90mPooledArrays\u001b[39m\n",
            "\u001b[32m  ✓ \u001b[39m\u001b[90mMissings\u001b[39m\n",
            "\u001b[32m  ✓ \u001b[39m\u001b[90mOpenBLAS_jll\u001b[39m\n",
            "\u001b[32m  ✓ \u001b[39m\u001b[90mStringManipulation\u001b[39m\n",
            "\u001b[32m  ✓ \u001b[39m\u001b[90mInlineStrings\u001b[39m\n",
            "\u001b[32m  ✓ \u001b[39m\u001b[90mlibblastrampoline_jll\u001b[39m\n",
            "\u001b[32m  ✓ \u001b[39m\u001b[90mTables\u001b[39m\n",
            "\u001b[32m  ✓ \u001b[39m\u001b[90mDataStructures\u001b[39m\n",
            "\u001b[32m  ✓ \u001b[39m\u001b[90mSortingAlgorithms\u001b[39m\n",
            "\u001b[32m  ✓ \u001b[39m\u001b[90mPrettyTables\u001b[39m\n",
            "\u001b[32m  ✓ \u001b[39mDataFrames\n",
            "  23 dependencies successfully precompiled in 43 seconds (16 already precompiled)\n",
            "\u001b[32m\u001b[1m   Resolving\u001b[22m\u001b[39m package versions...\n",
            "\u001b[32m\u001b[1m    Updating\u001b[22m\u001b[39m `~/.julia/environments/v1.7/Project.toml`\n",
            " \u001b[90m [10745b16] \u001b[39m\u001b[92m+ Statistics\u001b[39m\n",
            "\u001b[32m\u001b[1m  No Changes\u001b[22m\u001b[39m to `~/.julia/environments/v1.7/Manifest.toml`\n",
            "\u001b[32m\u001b[1m   Resolving\u001b[22m\u001b[39m package versions...\n",
            "\u001b[32m\u001b[1m   Installed\u001b[22m\u001b[39m JpegTurbo_jll ──────────────── v2.1.91+0\n",
            "\u001b[32m\u001b[1m   Installed\u001b[22m\u001b[39m x265_jll ───────────────────── v3.5.0+0\n",
            "\u001b[32m\u001b[1m   Installed\u001b[22m\u001b[39m libfdk_aac_jll ─────────────── v2.0.2+0\n",
            "\u001b[32m\u001b[1m   Installed\u001b[22m\u001b[39m Libmount_jll ───────────────── v2.35.0+0\n",
            "\u001b[32m\u001b[1m   Installed\u001b[22m\u001b[39m LERC_jll ───────────────────── v3.0.0+1\n",
            "\u001b[32m\u001b[1m   Installed\u001b[22m\u001b[39m Opus_jll ───────────────────── v1.3.2+0\n",
            "\u001b[32m\u001b[1m   Installed\u001b[22m\u001b[39m GR_jll ─────────────────────── v0.72.10+0\n",
            "\u001b[32m\u001b[1m   Installed\u001b[22m\u001b[39m LoggingExtras ──────────────── v1.0.3\n",
            "\u001b[32m\u001b[1m   Installed\u001b[22m\u001b[39m Xorg_xkbcomp_jll ───────────── v1.4.6+0\n",
            "\u001b[32m\u001b[1m   Installed\u001b[22m\u001b[39m RelocatableFolders ─────────── v1.0.1\n",
            "\u001b[32m\u001b[1m   Installed\u001b[22m\u001b[39m Measures ───────────────────── v0.3.2\n",
            "\u001b[32m\u001b[1m   Installed\u001b[22m\u001b[39m Unitful ────────────────────── v1.17.0\n",
            "\u001b[32m\u001b[1m   Installed\u001b[22m\u001b[39m Grisu ──────────────────────── v1.0.2\n",
            "\u001b[32m\u001b[1m   Installed\u001b[22m\u001b[39m ConcurrentUtilities ────────── v2.2.1\n",
            "\u001b[32m\u001b[1m   Installed\u001b[22m\u001b[39m Formatting ─────────────────── v0.4.2\n",
            "\u001b[32m\u001b[1m   Installed\u001b[22m\u001b[39m Xorg_xcb_util_wm_jll ───────── v0.4.1+1\n",
            "\u001b[32m\u001b[1m   Installed\u001b[22m\u001b[39m Xorg_xcb_util_image_jll ────── v0.4.0+1\n",
            "\u001b[32m\u001b[1m   Installed\u001b[22m\u001b[39m Contour ────────────────────── v0.6.2\n",
            "\u001b[32m\u001b[1m   Installed\u001b[22m\u001b[39m RecipesPipeline ────────────── v0.6.12\n",
            "\u001b[32m\u001b[1m   Installed\u001b[22m\u001b[39m Xorg_libpthread_stubs_jll ──── v0.1.1+0\n",
            "\u001b[32m\u001b[1m   Installed\u001b[22m\u001b[39m PlotUtils ──────────────────── v1.3.5\n",
            "\u001b[32m\u001b[1m   Installed\u001b[22m\u001b[39m Xorg_libSM_jll ─────────────── v1.2.3+0\n",
            "\u001b[32m\u001b[1m   Installed\u001b[22m\u001b[39m OpenSSL ────────────────────── v1.4.1\n",
            "\u001b[32m\u001b[1m   Installed\u001b[22m\u001b[39m HTTP ───────────────────────── v1.10.0\n",
            "\u001b[32m\u001b[1m   Installed\u001b[22m\u001b[39m Libgpg_error_jll ───────────── v1.42.0+0\n",
            "\u001b[32m\u001b[1m   Installed\u001b[22m\u001b[39m Cairo_jll ──────────────────── v1.16.1+1\n",
            "\u001b[32m\u001b[1m   Installed\u001b[22m\u001b[39m Xorg_xcb_util_jll ──────────── v0.4.0+1\n",
            "\u001b[32m\u001b[1m   Installed\u001b[22m\u001b[39m Fontconfig_jll ─────────────── v2.13.93+0\n",
            "\u001b[32m\u001b[1m   Installed\u001b[22m\u001b[39m Xorg_libXinerama_jll ───────── v1.1.4+4\n",
            "\u001b[32m\u001b[1m   Installed\u001b[22m\u001b[39m Xorg_libxkbfile_jll ────────── v1.1.2+0\n",
            "\u001b[32m\u001b[1m   Installed\u001b[22m\u001b[39m Xorg_libXau_jll ────────────── v1.0.11+0\n",
            "\u001b[32m\u001b[1m   Installed\u001b[22m\u001b[39m Xorg_xcb_util_keysyms_jll ──── v0.4.0+1\n",
            "\u001b[32m\u001b[1m   Installed\u001b[22m\u001b[39m Showoff ────────────────────── v1.0.3\n",
            "\u001b[32m\u001b[1m   Installed\u001b[22m\u001b[39m FFMPEG ─────────────────────── v0.4.1\n",
            "\u001b[32m\u001b[1m   Installed\u001b[22m\u001b[39m EpollShim_jll ──────────────── v0.0.20230411+0\n",
            "\u001b[32m\u001b[1m   Installed\u001b[22m\u001b[39m ColorSchemes ───────────────── v3.24.0\n",
            "\u001b[32m\u001b[1m   Installed\u001b[22m\u001b[39m XZ_jll ─────────────────────── v5.4.4+0\n",
            "\u001b[32m\u001b[1m   Installed\u001b[22m\u001b[39m HarfBuzz_jll ───────────────── v2.8.1+1\n",
            "\u001b[32m\u001b[1m   Installed\u001b[22m\u001b[39m xkbcommon_jll ──────────────── v1.4.1+1\n",
            "\u001b[32m\u001b[1m   Installed\u001b[22m\u001b[39m Bzip2_jll ──────────────────── v1.0.8+0\n",
            "\u001b[32m\u001b[1m   Installed\u001b[22m\u001b[39m Pipe ───────────────────────── v1.3.0\n",
            "\u001b[32m\u001b[1m   Installed\u001b[22m\u001b[39m GR ─────────────────────────── v0.72.10\n",
            "\u001b[32m\u001b[1m   Installed\u001b[22m\u001b[39m LZO_jll ────────────────────── v2.10.1+0\n",
            "\u001b[32m\u001b[1m   Installed\u001b[22m\u001b[39m fzf_jll ────────────────────── v0.35.1+0\n",
            "\u001b[32m\u001b[1m   Installed\u001b[22m\u001b[39m PlotThemes ─────────────────── v3.1.0\n",
            "\u001b[32m\u001b[1m   Installed\u001b[22m\u001b[39m NaNMath ────────────────────── v1.0.2\n",
            "\u001b[32m\u001b[1m   Installed\u001b[22m\u001b[39m FriBidi_jll ────────────────── v1.0.10+0\n",
            "\u001b[32m\u001b[1m   Installed\u001b[22m\u001b[39m TranscodingStreams ─────────── v0.10.1\n",
            "\u001b[32m\u001b[1m   Installed\u001b[22m\u001b[39m UnicodeFun ─────────────────── v0.4.1\n",
            "\u001b[32m\u001b[1m   Installed\u001b[22m\u001b[39m FreeType2_jll ──────────────── v2.13.1+0\n",
            "\u001b[32m\u001b[1m   Installed\u001b[22m\u001b[39m GLFW_jll ───────────────────── v3.3.8+0\n",
            "\u001b[32m\u001b[1m   Installed\u001b[22m\u001b[39m x264_jll ───────────────────── v2021.5.5+0\n",
            "\u001b[32m\u001b[1m   Installed\u001b[22m\u001b[39m JLFzf ──────────────────────── v0.1.6\n",
            "\u001b[32m\u001b[1m   Installed\u001b[22m\u001b[39m IrrationalConstants ────────── v0.2.2\n",
            "\u001b[32m\u001b[1m   Installed\u001b[22m\u001b[39m Colors ─────────────────────── v0.12.10\n",
            "\u001b[32m\u001b[1m   Installed\u001b[22m\u001b[39m mtdev_jll ──────────────────── v1.1.6+0\n",
            "\u001b[32m\u001b[1m   Installed\u001b[22m\u001b[39m StatsAPI ───────────────────── v1.7.0\n",
            "\u001b[32m\u001b[1m   Installed\u001b[22m\u001b[39m libpng_jll ─────────────────── v1.6.38+0\n",
            "\u001b[32m\u001b[1m   Installed\u001b[22m\u001b[39m Xorg_libxcb_jll ────────────── v1.15.0+0\n",
            "\u001b[32m\u001b[1m   Installed\u001b[22m\u001b[39m CodecZlib ──────────────────── v0.7.3\n",
            "\u001b[32m\u001b[1m   Installed\u001b[22m\u001b[39m ExceptionUnwrapping ────────── v0.1.9\n",
            "\u001b[32m\u001b[1m   Installed\u001b[22m\u001b[39m StatsBase ──────────────────── v0.34.2\n",
            "\u001b[32m\u001b[1m   Installed\u001b[22m\u001b[39m libaom_jll ─────────────────── v3.4.0+0\n",
            "\u001b[32m\u001b[1m   Installed\u001b[22m\u001b[39m gperf_jll ──────────────────── v3.1.1+0\n",
            "\u001b[32m\u001b[1m   Installed\u001b[22m\u001b[39m eudev_jll ──────────────────── v3.2.9+0\n",
            "\u001b[32m\u001b[1m   Installed\u001b[22m\u001b[39m Xorg_libXext_jll ───────────── v1.3.4+4\n",
            "\u001b[32m\u001b[1m   Installed\u001b[22m\u001b[39m ColorTypes ─────────────────── v0.11.4\n",
            "\u001b[32m\u001b[1m   Installed\u001b[22m\u001b[39m Scratch ────────────────────── v1.2.0\n",
            "\u001b[32m\u001b[1m   Installed\u001b[22m\u001b[39m Plots ──────────────────────── v1.39.0\n",
            "\u001b[32m\u001b[1m   Installed\u001b[22m\u001b[39m Expat_jll ──────────────────── v2.5.0+0\n",
            "\u001b[32m\u001b[1m   Installed\u001b[22m\u001b[39m Xorg_xcb_util_cursor_jll ───── v0.1.4+0\n",
            "\u001b[32m\u001b[1m   Installed\u001b[22m\u001b[39m Zstd_jll ───────────────────── v1.5.5+0\n",
            "\u001b[32m\u001b[1m   Installed\u001b[22m\u001b[39m TensorCore ─────────────────── v0.1.1\n",
            "\u001b[32m\u001b[1m   Installed\u001b[22m\u001b[39m Libtiff_jll ────────────────── v4.5.1+1\n",
            "\u001b[32m\u001b[1m   Installed\u001b[22m\u001b[39m ConstructionBase ───────────── v1.5.4\n",
            "\u001b[32m\u001b[1m   Installed\u001b[22m\u001b[39m ColorVectorSpace ───────────── v0.10.0\n",
            "\u001b[32m\u001b[1m   Installed\u001b[22m\u001b[39m libevdev_jll ───────────────── v1.11.0+0\n",
            "\u001b[32m\u001b[1m   Installed\u001b[22m\u001b[39m Libffi_jll ─────────────────── v3.2.2+1\n",
            "\u001b[32m\u001b[1m   Installed\u001b[22m\u001b[39m Ogg_jll ────────────────────── v1.3.5+1\n",
            "\u001b[32m\u001b[1m   Installed\u001b[22m\u001b[39m libinput_jll ───────────────── v1.18.0+0\n",
            "\u001b[32m\u001b[1m   Installed\u001b[22m\u001b[39m Xorg_libXi_jll ─────────────── v1.7.10+4\n",
            "\u001b[32m\u001b[1m   Installed\u001b[22m\u001b[39m Xorg_libXrender_jll ────────── v0.9.10+4\n",
            "\u001b[32m\u001b[1m   Installed\u001b[22m\u001b[39m ChainRulesCore ─────────────── v1.18.0\n",
            "\u001b[32m\u001b[1m   Installed\u001b[22m\u001b[39m Vulkan_Loader_jll ──────────── v1.3.243+0\n",
            "\u001b[32m\u001b[1m   Installed\u001b[22m\u001b[39m XSLT_jll ───────────────────── v1.1.34+0\n",
            "\u001b[32m\u001b[1m   Installed\u001b[22m\u001b[39m Xorg_libXcursor_jll ────────── v1.2.0+4\n",
            "\u001b[32m\u001b[1m   Installed\u001b[22m\u001b[39m Libuuid_jll ────────────────── v2.36.0+0\n",
            "\u001b[32m\u001b[1m   Installed\u001b[22m\u001b[39m InverseFunctions ───────────── v0.1.12\n",
            "\u001b[32m\u001b[1m   Installed\u001b[22m\u001b[39m MacroTools ─────────────────── v0.5.11\n",
            "\u001b[32m\u001b[1m   Installed\u001b[22m\u001b[39m LogExpFunctions ────────────── v0.3.26\n",
            "\u001b[32m\u001b[1m   Installed\u001b[22m\u001b[39m Wayland_protocols_jll ──────── v1.25.0+0\n",
            "\u001b[32m\u001b[1m   Installed\u001b[22m\u001b[39m Graphite2_jll ──────────────── v1.3.14+0\n",
            "\u001b[32m\u001b[1m   Installed\u001b[22m\u001b[39m Pixman_jll ─────────────────── v0.42.2+0\n",
            "\u001b[32m\u001b[1m   Installed\u001b[22m\u001b[39m libass_jll ─────────────────── v0.15.1+0\n",
            "\u001b[32m\u001b[1m   Installed\u001b[22m\u001b[39m Xorg_libICE_jll ────────────── v1.0.10+1\n",
            "\u001b[32m\u001b[1m   Installed\u001b[22m\u001b[39m Xorg_xcb_util_renderutil_jll ─ v0.3.9+1\n",
            "\u001b[32m\u001b[1m   Installed\u001b[22m\u001b[39m DocStringExtensions ────────── v0.9.3\n",
            "\u001b[32m\u001b[1m   Installed\u001b[22m\u001b[39m XML2_jll ───────────────────── v2.11.5+0\n",
            "\u001b[32m\u001b[1m   Installed\u001b[22m\u001b[39m OpenSSL_jll ────────────────── v1.1.23+0\n",
            "\u001b[32m\u001b[1m   Installed\u001b[22m\u001b[39m Xorg_xtrans_jll ────────────── v1.5.0+0\n",
            "\u001b[32m\u001b[1m   Installed\u001b[22m\u001b[39m Wayland_jll ────────────────── v1.21.0+1\n",
            "\u001b[32m\u001b[1m   Installed\u001b[22m\u001b[39m Gettext_jll ────────────────── v0.21.0+0\n",
            "\u001b[32m\u001b[1m   Installed\u001b[22m\u001b[39m BitFlags ───────────────────── v0.1.7\n",
            "\u001b[32m\u001b[1m   Installed\u001b[22m\u001b[39m Latexify ───────────────────── v0.16.1\n",
            "\u001b[32m\u001b[1m   Installed\u001b[22m\u001b[39m FFMPEG_jll ─────────────────── v4.4.2+2\n",
            "\u001b[32m\u001b[1m   Installed\u001b[22m\u001b[39m Xorg_libXrandr_jll ─────────── v1.5.2+4\n",
            "\u001b[32m\u001b[1m   Installed\u001b[22m\u001b[39m Libgcrypt_jll ──────────────── v1.8.7+0\n",
            "\u001b[32m\u001b[1m   Installed\u001b[22m\u001b[39m LLVMOpenMP_jll ─────────────── v15.0.4+0\n",
            "\u001b[32m\u001b[1m   Installed\u001b[22m\u001b[39m RecipesBase ────────────────── v1.3.4\n",
            "\u001b[32m\u001b[1m   Installed\u001b[22m\u001b[39m Xorg_xkeyboard_config_jll ──── v2.39.0+0\n",
            "\u001b[32m\u001b[1m   Installed\u001b[22m\u001b[39m FixedPointNumbers ──────────── v0.8.4\n",
            "\u001b[32m\u001b[1m   Installed\u001b[22m\u001b[39m LAME_jll ───────────────────── v3.100.1+0\n",
            "\u001b[32m\u001b[1m   Installed\u001b[22m\u001b[39m Xorg_libXfixes_jll ─────────── v5.0.3+4\n",
            "\u001b[32m\u001b[1m   Installed\u001b[22m\u001b[39m Glib_jll ───────────────────── v2.76.5+0\n",
            "\u001b[32m\u001b[1m   Installed\u001b[22m\u001b[39m libvorbis_jll ──────────────── v1.3.7+1\n",
            "\u001b[32m\u001b[1m   Installed\u001b[22m\u001b[39m Libiconv_jll ───────────────── v1.17.0+0\n",
            "\u001b[32m\u001b[1m   Installed\u001b[22m\u001b[39m Qt6Base_jll ────────────────── v6.5.2+2\n",
            "\u001b[32m\u001b[1m   Installed\u001b[22m\u001b[39m URIs ───────────────────────── v1.5.1\n",
            "\u001b[32m\u001b[1m   Installed\u001b[22m\u001b[39m Libglvnd_jll ───────────────── v1.6.0+0\n",
            "\u001b[32m\u001b[1m   Installed\u001b[22m\u001b[39m Xorg_libX11_jll ────────────── v1.8.6+0\n",
            "\u001b[32m\u001b[1m   Installed\u001b[22m\u001b[39m Xorg_libXdmcp_jll ──────────── v1.1.4+0\n",
            "\u001b[32m\u001b[1m   Installed\u001b[22m\u001b[39m Unzip ──────────────────────── v0.2.0\n",
            "\u001b[32m\u001b[1m   Installed\u001b[22m\u001b[39m Requires ───────────────────── v1.3.0\n",
            "\u001b[32m\u001b[1m   Installed\u001b[22m\u001b[39m ChangesOfVariables ─────────── v0.1.8\n",
            "\u001b[32m\u001b[1m   Installed\u001b[22m\u001b[39m UnitfulLatexify ────────────── v1.6.3\n",
            "\u001b[32m\u001b[1m   Installed\u001b[22m\u001b[39m SimpleBufferStream ─────────── v1.1.0\n",
            "\u001b[32m\u001b[1m    Updating\u001b[22m\u001b[39m `~/.julia/environments/v1.7/Project.toml`\n",
            " \u001b[90m [91a5bcdd] \u001b[39m\u001b[92m+ Plots v1.39.0\u001b[39m\n",
            "\u001b[32m\u001b[1m    Updating\u001b[22m\u001b[39m `~/.julia/environments/v1.7/Manifest.toml`\n",
            " \u001b[90m [d1d4a3ce] \u001b[39m\u001b[92m+ BitFlags v0.1.7\u001b[39m\n",
            " \u001b[90m [d360d2e6] \u001b[39m\u001b[92m+ ChainRulesCore v1.18.0\u001b[39m\n",
            " \u001b[90m [9e997f8a] \u001b[39m\u001b[92m+ ChangesOfVariables v0.1.8\u001b[39m\n",
            " \u001b[90m [944b1d66] \u001b[39m\u001b[92m+ CodecZlib v0.7.3\u001b[39m\n",
            " \u001b[90m [35d6a980] \u001b[39m\u001b[92m+ ColorSchemes v3.24.0\u001b[39m\n",
            " \u001b[90m [3da002f7] \u001b[39m\u001b[92m+ ColorTypes v0.11.4\u001b[39m\n",
            " \u001b[90m [c3611d14] \u001b[39m\u001b[92m+ ColorVectorSpace v0.10.0\u001b[39m\n",
            " \u001b[90m [5ae59095] \u001b[39m\u001b[92m+ Colors v0.12.10\u001b[39m\n",
            " \u001b[90m [f0e56b4a] \u001b[39m\u001b[92m+ ConcurrentUtilities v2.2.1\u001b[39m\n",
            " \u001b[90m [187b0558] \u001b[39m\u001b[92m+ ConstructionBase v1.5.4\u001b[39m\n",
            " \u001b[90m [d38c429a] \u001b[39m\u001b[92m+ Contour v0.6.2\u001b[39m\n",
            " \u001b[90m [ffbed154] \u001b[39m\u001b[92m+ DocStringExtensions v0.9.3\u001b[39m\n",
            " \u001b[90m [460bff9d] \u001b[39m\u001b[92m+ ExceptionUnwrapping v0.1.9\u001b[39m\n",
            " \u001b[90m [c87230d0] \u001b[39m\u001b[92m+ FFMPEG v0.4.1\u001b[39m\n",
            " \u001b[90m [53c48c17] \u001b[39m\u001b[92m+ FixedPointNumbers v0.8.4\u001b[39m\n",
            " \u001b[90m [59287772] \u001b[39m\u001b[92m+ Formatting v0.4.2\u001b[39m\n",
            " \u001b[90m [28b8d3ca] \u001b[39m\u001b[92m+ GR v0.72.10\u001b[39m\n",
            " \u001b[90m [42e2da0e] \u001b[39m\u001b[92m+ Grisu v1.0.2\u001b[39m\n",
            " \u001b[90m [cd3eb016] \u001b[39m\u001b[92m+ HTTP v1.10.0\u001b[39m\n",
            " \u001b[90m [3587e190] \u001b[39m\u001b[92m+ InverseFunctions v0.1.12\u001b[39m\n",
            " \u001b[90m [92d709cd] \u001b[39m\u001b[92m+ IrrationalConstants v0.2.2\u001b[39m\n",
            " \u001b[90m [1019f520] \u001b[39m\u001b[92m+ JLFzf v0.1.6\u001b[39m\n",
            " \u001b[90m [23fbe1c1] \u001b[39m\u001b[92m+ Latexify v0.16.1\u001b[39m\n",
            " \u001b[90m [2ab3a3ac] \u001b[39m\u001b[92m+ LogExpFunctions v0.3.26\u001b[39m\n",
            " \u001b[90m [e6f89c97] \u001b[39m\u001b[92m+ LoggingExtras v1.0.3\u001b[39m\n",
            " \u001b[90m [1914dd2f] \u001b[39m\u001b[92m+ MacroTools v0.5.11\u001b[39m\n",
            " \u001b[90m [442fdcdd] \u001b[39m\u001b[92m+ Measures v0.3.2\u001b[39m\n",
            " \u001b[90m [77ba4419] \u001b[39m\u001b[92m+ NaNMath v1.0.2\u001b[39m\n",
            " \u001b[90m [4d8831e6] \u001b[39m\u001b[92m+ OpenSSL v1.4.1\u001b[39m\n",
            " \u001b[90m [b98c9c47] \u001b[39m\u001b[92m+ Pipe v1.3.0\u001b[39m\n",
            " \u001b[90m [ccf2f8ad] \u001b[39m\u001b[92m+ PlotThemes v3.1.0\u001b[39m\n",
            " \u001b[90m [995b91a9] \u001b[39m\u001b[92m+ PlotUtils v1.3.5\u001b[39m\n",
            " \u001b[90m [91a5bcdd] \u001b[39m\u001b[92m+ Plots v1.39.0\u001b[39m\n",
            " \u001b[90m [3cdcf5f2] \u001b[39m\u001b[92m+ RecipesBase v1.3.4\u001b[39m\n",
            " \u001b[90m [01d81517] \u001b[39m\u001b[92m+ RecipesPipeline v0.6.12\u001b[39m\n",
            " \u001b[90m [05181044] \u001b[39m\u001b[92m+ RelocatableFolders v1.0.1\u001b[39m\n",
            " \u001b[90m [ae029012] \u001b[39m\u001b[92m+ Requires v1.3.0\u001b[39m\n",
            " \u001b[90m [6c6a2e73] \u001b[39m\u001b[92m+ Scratch v1.2.0\u001b[39m\n",
            " \u001b[90m [992d4aef] \u001b[39m\u001b[92m+ Showoff v1.0.3\u001b[39m\n",
            " \u001b[90m [777ac1f9] \u001b[39m\u001b[92m+ SimpleBufferStream v1.1.0\u001b[39m\n",
            " \u001b[90m [82ae8749] \u001b[39m\u001b[92m+ StatsAPI v1.7.0\u001b[39m\n",
            " \u001b[90m [2913bbd2] \u001b[39m\u001b[92m+ StatsBase v0.34.2\u001b[39m\n",
            " \u001b[90m [62fd8b95] \u001b[39m\u001b[92m+ TensorCore v0.1.1\u001b[39m\n",
            " \u001b[90m [3bb67fe8] \u001b[39m\u001b[92m+ TranscodingStreams v0.10.1\u001b[39m\n",
            " \u001b[90m [5c2747f8] \u001b[39m\u001b[92m+ URIs v1.5.1\u001b[39m\n",
            " \u001b[90m [1cfade01] \u001b[39m\u001b[92m+ UnicodeFun v0.4.1\u001b[39m\n",
            " \u001b[90m [1986cc42] \u001b[39m\u001b[92m+ Unitful v1.17.0\u001b[39m\n",
            " \u001b[90m [45397f5d] \u001b[39m\u001b[92m+ UnitfulLatexify v1.6.3\u001b[39m\n",
            " \u001b[90m [41fe7b60] \u001b[39m\u001b[92m+ Unzip v0.2.0\u001b[39m\n",
            " \u001b[90m [6e34b625] \u001b[39m\u001b[92m+ Bzip2_jll v1.0.8+0\u001b[39m\n",
            " \u001b[90m [83423d85] \u001b[39m\u001b[92m+ Cairo_jll v1.16.1+1\u001b[39m\n",
            " \u001b[90m [2702e6a9] \u001b[39m\u001b[92m+ EpollShim_jll v0.0.20230411+0\u001b[39m\n",
            " \u001b[90m [2e619515] \u001b[39m\u001b[92m+ Expat_jll v2.5.0+0\u001b[39m\n",
            " \u001b[90m [b22a6f82] \u001b[39m\u001b[92m+ FFMPEG_jll v4.4.2+2\u001b[39m\n",
            " \u001b[90m [a3f928ae] \u001b[39m\u001b[92m+ Fontconfig_jll v2.13.93+0\u001b[39m\n",
            " \u001b[90m [d7e528f0] \u001b[39m\u001b[92m+ FreeType2_jll v2.13.1+0\u001b[39m\n",
            " \u001b[90m [559328eb] \u001b[39m\u001b[92m+ FriBidi_jll v1.0.10+0\u001b[39m\n",
            " \u001b[90m [0656b61e] \u001b[39m\u001b[92m+ GLFW_jll v3.3.8+0\u001b[39m\n",
            " \u001b[90m [d2c73de3] \u001b[39m\u001b[92m+ GR_jll v0.72.10+0\u001b[39m\n",
            " \u001b[90m [78b55507] \u001b[39m\u001b[92m+ Gettext_jll v0.21.0+0\u001b[39m\n",
            " \u001b[90m [7746bdde] \u001b[39m\u001b[92m+ Glib_jll v2.76.5+0\u001b[39m\n",
            " \u001b[90m [3b182d85] \u001b[39m\u001b[92m+ Graphite2_jll v1.3.14+0\u001b[39m\n",
            " \u001b[90m [2e76f6c2] \u001b[39m\u001b[92m+ HarfBuzz_jll v2.8.1+1\u001b[39m\n",
            " \u001b[90m [aacddb02] \u001b[39m\u001b[92m+ JpegTurbo_jll v2.1.91+0\u001b[39m\n",
            " \u001b[90m [c1c5ebd0] \u001b[39m\u001b[92m+ LAME_jll v3.100.1+0\u001b[39m\n",
            " \u001b[90m [88015f11] \u001b[39m\u001b[92m+ LERC_jll v3.0.0+1\u001b[39m\n",
            " \u001b[90m [1d63c593] \u001b[39m\u001b[92m+ LLVMOpenMP_jll v15.0.4+0\u001b[39m\n",
            " \u001b[90m [dd4b983a] \u001b[39m\u001b[92m+ LZO_jll v2.10.1+0\u001b[39m\n",
            " \u001b[90m [e9f186c6] \u001b[39m\u001b[92m+ Libffi_jll v3.2.2+1\u001b[39m\n",
            " \u001b[90m [d4300ac3] \u001b[39m\u001b[92m+ Libgcrypt_jll v1.8.7+0\u001b[39m\n",
            " \u001b[90m [7e76a0d4] \u001b[39m\u001b[92m+ Libglvnd_jll v1.6.0+0\u001b[39m\n",
            " \u001b[90m [7add5ba3] \u001b[39m\u001b[92m+ Libgpg_error_jll v1.42.0+0\u001b[39m\n",
            " \u001b[90m [94ce4f54] \u001b[39m\u001b[92m+ Libiconv_jll v1.17.0+0\u001b[39m\n",
            " \u001b[90m [4b2f31a3] \u001b[39m\u001b[92m+ Libmount_jll v2.35.0+0\u001b[39m\n",
            " \u001b[90m [89763e89] \u001b[39m\u001b[92m+ Libtiff_jll v4.5.1+1\u001b[39m\n",
            " \u001b[90m [38a345b3] \u001b[39m\u001b[92m+ Libuuid_jll v2.36.0+0\u001b[39m\n",
            " \u001b[90m [e7412a2a] \u001b[39m\u001b[92m+ Ogg_jll v1.3.5+1\u001b[39m\n",
            " \u001b[90m [458c3c95] \u001b[39m\u001b[92m+ OpenSSL_jll v1.1.23+0\u001b[39m\n",
            " \u001b[90m [91d4177d] \u001b[39m\u001b[92m+ Opus_jll v1.3.2+0\u001b[39m\n",
            " \u001b[90m [30392449] \u001b[39m\u001b[92m+ Pixman_jll v0.42.2+0\u001b[39m\n",
            " \u001b[90m [c0090381] \u001b[39m\u001b[92m+ Qt6Base_jll v6.5.2+2\u001b[39m\n",
            " \u001b[90m [a44049a8] \u001b[39m\u001b[92m+ Vulkan_Loader_jll v1.3.243+0\u001b[39m\n",
            " \u001b[90m [a2964d1f] \u001b[39m\u001b[92m+ Wayland_jll v1.21.0+1\u001b[39m\n",
            " \u001b[90m [2381bf8a] \u001b[39m\u001b[92m+ Wayland_protocols_jll v1.25.0+0\u001b[39m\n",
            " \u001b[90m [02c8fc9c] \u001b[39m\u001b[92m+ XML2_jll v2.11.5+0\u001b[39m\n",
            " \u001b[90m [aed1982a] \u001b[39m\u001b[92m+ XSLT_jll v1.1.34+0\u001b[39m\n",
            " \u001b[90m [ffd25f8a] \u001b[39m\u001b[92m+ XZ_jll v5.4.4+0\u001b[39m\n",
            " \u001b[90m [f67eecfb] \u001b[39m\u001b[92m+ Xorg_libICE_jll v1.0.10+1\u001b[39m\n",
            " \u001b[90m [c834827a] \u001b[39m\u001b[92m+ Xorg_libSM_jll v1.2.3+0\u001b[39m\n",
            " \u001b[90m [4f6342f7] \u001b[39m\u001b[92m+ Xorg_libX11_jll v1.8.6+0\u001b[39m\n",
            " \u001b[90m [0c0b7dd1] \u001b[39m\u001b[92m+ Xorg_libXau_jll v1.0.11+0\u001b[39m\n",
            " \u001b[90m [935fb764] \u001b[39m\u001b[92m+ Xorg_libXcursor_jll v1.2.0+4\u001b[39m\n",
            " \u001b[90m [a3789734] \u001b[39m\u001b[92m+ Xorg_libXdmcp_jll v1.1.4+0\u001b[39m\n",
            " \u001b[90m [1082639a] \u001b[39m\u001b[92m+ Xorg_libXext_jll v1.3.4+4\u001b[39m\n",
            " \u001b[90m [d091e8ba] \u001b[39m\u001b[92m+ Xorg_libXfixes_jll v5.0.3+4\u001b[39m\n",
            " \u001b[90m [a51aa0fd] \u001b[39m\u001b[92m+ Xorg_libXi_jll v1.7.10+4\u001b[39m\n",
            " \u001b[90m [d1454406] \u001b[39m\u001b[92m+ Xorg_libXinerama_jll v1.1.4+4\u001b[39m\n",
            " \u001b[90m [ec84b674] \u001b[39m\u001b[92m+ Xorg_libXrandr_jll v1.5.2+4\u001b[39m\n",
            " \u001b[90m [ea2f1a96] \u001b[39m\u001b[92m+ Xorg_libXrender_jll v0.9.10+4\u001b[39m\n",
            " \u001b[90m [14d82f49] \u001b[39m\u001b[92m+ Xorg_libpthread_stubs_jll v0.1.1+0\u001b[39m\n",
            " \u001b[90m [c7cfdc94] \u001b[39m\u001b[92m+ Xorg_libxcb_jll v1.15.0+0\u001b[39m\n",
            " \u001b[90m [cc61e674] \u001b[39m\u001b[92m+ Xorg_libxkbfile_jll v1.1.2+0\u001b[39m\n",
            " \u001b[90m [e920d4aa] \u001b[39m\u001b[92m+ Xorg_xcb_util_cursor_jll v0.1.4+0\u001b[39m\n",
            " \u001b[90m [12413925] \u001b[39m\u001b[92m+ Xorg_xcb_util_image_jll v0.4.0+1\u001b[39m\n",
            " \u001b[90m [2def613f] \u001b[39m\u001b[92m+ Xorg_xcb_util_jll v0.4.0+1\u001b[39m\n",
            " \u001b[90m [975044d2] \u001b[39m\u001b[92m+ Xorg_xcb_util_keysyms_jll v0.4.0+1\u001b[39m\n",
            " \u001b[90m [0d47668e] \u001b[39m\u001b[92m+ Xorg_xcb_util_renderutil_jll v0.3.9+1\u001b[39m\n",
            " \u001b[90m [c22f9ab0] \u001b[39m\u001b[92m+ Xorg_xcb_util_wm_jll v0.4.1+1\u001b[39m\n",
            " \u001b[90m [35661453] \u001b[39m\u001b[92m+ Xorg_xkbcomp_jll v1.4.6+0\u001b[39m\n",
            " \u001b[90m [33bec58e] \u001b[39m\u001b[92m+ Xorg_xkeyboard_config_jll v2.39.0+0\u001b[39m\n",
            " \u001b[90m [c5fb5394] \u001b[39m\u001b[92m+ Xorg_xtrans_jll v1.5.0+0\u001b[39m\n",
            " \u001b[90m [3161d3a3] \u001b[39m\u001b[92m+ Zstd_jll v1.5.5+0\u001b[39m\n",
            " \u001b[90m [35ca27e7] \u001b[39m\u001b[92m+ eudev_jll v3.2.9+0\u001b[39m\n",
            " \u001b[90m [214eeab7] \u001b[39m\u001b[92m+ fzf_jll v0.35.1+0\u001b[39m\n",
            " \u001b[90m [1a1c6b14] \u001b[39m\u001b[92m+ gperf_jll v3.1.1+0\u001b[39m\n",
            " \u001b[90m [a4ae2306] \u001b[39m\u001b[92m+ libaom_jll v3.4.0+0\u001b[39m\n",
            " \u001b[90m [0ac62f75] \u001b[39m\u001b[92m+ libass_jll v0.15.1+0\u001b[39m\n",
            " \u001b[90m [2db6ffa8] \u001b[39m\u001b[92m+ libevdev_jll v1.11.0+0\u001b[39m\n",
            " \u001b[90m [f638f0a6] \u001b[39m\u001b[92m+ libfdk_aac_jll v2.0.2+0\u001b[39m\n",
            " \u001b[90m [36db933b] \u001b[39m\u001b[92m+ libinput_jll v1.18.0+0\u001b[39m\n",
            " \u001b[90m [b53b4c65] \u001b[39m\u001b[92m+ libpng_jll v1.6.38+0\u001b[39m\n",
            " \u001b[90m [f27f6e37] \u001b[39m\u001b[92m+ libvorbis_jll v1.3.7+1\u001b[39m\n",
            " \u001b[90m [009596ad] \u001b[39m\u001b[92m+ mtdev_jll v1.1.6+0\u001b[39m\n",
            " \u001b[90m [1270edf5] \u001b[39m\u001b[92m+ x264_jll v2021.5.5+0\u001b[39m\n",
            " \u001b[90m [dfaa095f] \u001b[39m\u001b[92m+ x265_jll v3.5.0+0\u001b[39m\n",
            " \u001b[90m [d8fb68d0] \u001b[39m\u001b[92m+ xkbcommon_jll v1.4.1+1\u001b[39m\n",
            " \u001b[90m [8bb1440f] \u001b[39m\u001b[92m+ DelimitedFiles\u001b[39m\n",
            " \u001b[90m [05823500] \u001b[39m\u001b[92m+ OpenLibm_jll\u001b[39m\n",
            " \u001b[90m [efcefdf7] \u001b[39m\u001b[92m+ PCRE2_jll\u001b[39m\n",
            "\u001b[32m\u001b[1mPrecompiling\u001b[22m\u001b[39m project...\n",
            "\u001b[32m  ✓ \u001b[39m\u001b[90mStatsAPI\u001b[39m\n",
            "\u001b[32m  ✓ \u001b[39m\u001b[90mTensorCore\u001b[39m\n",
            "\u001b[32m  ✓ \u001b[39m\u001b[90mContour\u001b[39m\n",
            "\u001b[32m  ✓ \u001b[39m\u001b[90mConcurrentUtilities\u001b[39m\n",
            "\u001b[32m  ✓ \u001b[39m\u001b[90mPipe\u001b[39m\n",
            "\u001b[32m  ✓ \u001b[39m\u001b[90mOpenLibm_jll\u001b[39m\n",
            "\u001b[32m  ✓ \u001b[39m\u001b[90mXorg_libICE_jll\u001b[39m\n",
            "\u001b[32m  ✓ \u001b[39m\u001b[90mMeasures\u001b[39m\n",
            "\u001b[32m  ✓ \u001b[39m\u001b[90mInverseFunctions\u001b[39m\n",
            "\u001b[32m  ✓ \u001b[39m\u001b[90mFixedPointNumbers\u001b[39m\n",
            "\u001b[32m  ✓ \u001b[39m\u001b[90mGrisu\u001b[39m\n",
            "\u001b[32m  ✓ \u001b[39m\u001b[90mUnzip\u001b[39m\n",
            "\u001b[32m  ✓ \u001b[39m\u001b[90mRequires\u001b[39m\n",
            "\u001b[32m  ✓ \u001b[39m\u001b[90mDocStringExtensions\u001b[39m\n",
            "\u001b[32m  ✓ \u001b[39m\u001b[90mMacroTools\u001b[39m\n",
            "\u001b[32m  ✓ \u001b[39m\u001b[90mURIs\u001b[39m\n",
            "\u001b[32m  ✓ \u001b[39m\u001b[90mSimpleBufferStream\u001b[39m\n",
            "\u001b[32m  ✓ \u001b[39m\u001b[90mIrrationalConstants\u001b[39m\n",
            "\u001b[32m  ✓ \u001b[39m\u001b[90mExceptionUnwrapping\u001b[39m\n",
            "\u001b[32m  ✓ \u001b[39m\u001b[90mFormatting\u001b[39m\n",
            "\u001b[32m  ✓ \u001b[39m\u001b[90mPCRE2_jll\u001b[39m\n",
            "\u001b[32m  ✓ \u001b[39m\u001b[90mUnicodeFun\u001b[39m\n",
            "\u001b[32m  ✓ \u001b[39m\u001b[90mConstructionBase\u001b[39m\n",
            "\u001b[32m  ✓ \u001b[39m\u001b[90mTranscodingStreams\u001b[39m\n",
            "\u001b[32m  ✓ \u001b[39m\u001b[90mBitFlags\u001b[39m\n",
            "\u001b[32m  ✓ \u001b[39m\u001b[90mChainRulesCore\u001b[39m\n",
            "\u001b[32m  ✓ \u001b[39m\u001b[90mScratch\u001b[39m\n",
            "\u001b[32m  ✓ \u001b[39m\u001b[90mLoggingExtras\u001b[39m\n",
            "\u001b[32m  ✓ \u001b[39m\u001b[90mGraphite2_jll\u001b[39m\n",
            "\u001b[32m  ✓ \u001b[39m\u001b[90mOpenSSL_jll\u001b[39m\n",
            "\u001b[32m  ✓ \u001b[39m\u001b[90mRecipesBase\u001b[39m\n",
            "\u001b[32m  ✓ \u001b[39m\u001b[90mEpollShim_jll\u001b[39m\n",
            "\u001b[32m  ✓ \u001b[39m\u001b[90mLibmount_jll\u001b[39m\n",
            "\u001b[32m  ✓ \u001b[39m\u001b[90mBzip2_jll\u001b[39m\n",
            "\u001b[32m  ✓ \u001b[39m\u001b[90mLLVMOpenMP_jll\u001b[39m\n",
            "\u001b[32m  ✓ \u001b[39m\u001b[90mXorg_libXau_jll\u001b[39m\n",
            "\u001b[32m  ✓ \u001b[39m\u001b[90mlibpng_jll\u001b[39m\n",
            "\u001b[32m  ✓ \u001b[39m\u001b[90mlibfdk_aac_jll\u001b[39m\n",
            "\u001b[32m  ✓ \u001b[39m\u001b[90mLAME_jll\u001b[39m\n",
            "\u001b[32m  ✓ \u001b[39m\u001b[90mLERC_jll\u001b[39m\n",
            "\u001b[32m  ✓ \u001b[39m\u001b[90mfzf_jll\u001b[39m\n",
            "\u001b[32m  ✓ \u001b[39m\u001b[90mJpegTurbo_jll\u001b[39m\n",
            "\u001b[32m  ✓ \u001b[39m\u001b[90mXZ_jll\u001b[39m\n",
            "\u001b[32m  ✓ \u001b[39m\u001b[90mmtdev_jll\u001b[39m\n",
            "\u001b[32m  ✓ \u001b[39m\u001b[90mOgg_jll\u001b[39m\n",
            "\u001b[32m  ✓ \u001b[39m\u001b[90mgperf_jll\u001b[39m\n",
            "\u001b[32m  ✓ \u001b[39m\u001b[90mXorg_libXdmcp_jll\u001b[39m\n",
            "\u001b[32m  ✓ \u001b[39m\u001b[90mx265_jll\u001b[39m\n",
            "\u001b[32m  ✓ \u001b[39m\u001b[90mlibaom_jll\u001b[39m\n",
            "\u001b[32m  ✓ \u001b[39m\u001b[90mx264_jll\u001b[39m\n",
            "\u001b[32m  ✓ \u001b[39m\u001b[90mZstd_jll\u001b[39m\n",
            "\u001b[32m  ✓ \u001b[39m\u001b[90mExpat_jll\u001b[39m\n",
            "\u001b[32m  ✓ \u001b[39m\u001b[90mLZO_jll\u001b[39m\n",
            "\u001b[32m  ✓ \u001b[39m\u001b[90mOpus_jll\u001b[39m\n",
            "\u001b[32m  ✓ \u001b[39m\u001b[90mXorg_xtrans_jll\u001b[39m\n",
            "\u001b[32m  ✓ \u001b[39m\u001b[90mLibiconv_jll\u001b[39m\n",
            "\u001b[32m  ✓ \u001b[39m\u001b[90mlibevdev_jll\u001b[39m\n",
            "\u001b[32m  ✓ \u001b[39m\u001b[90mWayland_protocols_jll\u001b[39m\n",
            "\u001b[32m  ✓ \u001b[39m\u001b[90mLibffi_jll\u001b[39m\n",
            "\u001b[32m  ✓ \u001b[39m\u001b[90mLibgpg_error_jll\u001b[39m\n",
            "\u001b[32m  ✓ \u001b[39m\u001b[90mXorg_libpthread_stubs_jll\u001b[39m\n",
            "\u001b[32m  ✓ \u001b[39m\u001b[90mNaNMath\u001b[39m\n",
            "\u001b[32m  ✓ \u001b[39m\u001b[90mFriBidi_jll\u001b[39m\n",
            "\u001b[32m  ✓ \u001b[39m\u001b[90mLibuuid_jll\u001b[39m\n",
            "\u001b[32m  ✓ \u001b[39m\u001b[90mChangesOfVariables\u001b[39m\n",
            "\u001b[32m  ✓ \u001b[39m\u001b[90mXorg_libSM_jll\u001b[39m\n",
            "\u001b[32m  ✓ \u001b[39m\u001b[90mShowoff\u001b[39m\n",
            "\u001b[32m  ✓ \u001b[39m\u001b[90mColorTypes\u001b[39m\n",
            "\u001b[32m  ✓ \u001b[39m\u001b[90mCodecZlib\u001b[39m\n",
            "\u001b[32m  ✓ \u001b[39m\u001b[90mLatexify\u001b[39m\n",
            "\u001b[32m  ✓ \u001b[39m\u001b[90mRelocatableFolders\u001b[39m\n",
            "\u001b[32m  ✓ \u001b[39m\u001b[90mFreeType2_jll\u001b[39m\n",
            "\u001b[32m  ✓ \u001b[39m\u001b[90mOpenSSL\u001b[39m\n",
            "\u001b[32m  ✓ \u001b[39m\u001b[90mJLFzf\u001b[39m\n",
            "\u001b[32m  ✓ \u001b[39m\u001b[90mPixman_jll\u001b[39m\n",
            "\u001b[32m  ✓ \u001b[39m\u001b[90mlibvorbis_jll\u001b[39m\n",
            "\u001b[32m  ✓ \u001b[39m\u001b[90meudev_jll\u001b[39m\n",
            "\u001b[32m  ✓ \u001b[39m\u001b[90mLibtiff_jll\u001b[39m\n",
            "\u001b[32m  ✓ \u001b[39m\u001b[90mXML2_jll\u001b[39m\n",
            "\u001b[32m  ✓ \u001b[39m\u001b[90mLibgcrypt_jll\u001b[39m\n",
            "\u001b[32m  ✓ \u001b[39m\u001b[90mLogExpFunctions\u001b[39m\n",
            "\u001b[32m  ✓ \u001b[39m\u001b[90mColorVectorSpace\u001b[39m\n",
            "\u001b[32m  ✓ \u001b[39m\u001b[90mFontconfig_jll\u001b[39m\n",
            "\u001b[32m  ✓ \u001b[39m\u001b[90mColors\u001b[39m\n",
            "\u001b[32m  ✓ \u001b[39m\u001b[90mHTTP\u001b[39m\n",
            "\u001b[32m  ✓ \u001b[39m\u001b[90mlibinput_jll\u001b[39m\n",
            "\u001b[32m  ✓ \u001b[39m\u001b[90mGettext_jll\u001b[39m\n",
            "\u001b[32m  ✓ \u001b[39m\u001b[90mWayland_jll\u001b[39m\n",
            "\u001b[32m  ✓ \u001b[39m\u001b[90mXSLT_jll\u001b[39m\n",
            "\u001b[32m  ✓ \u001b[39m\u001b[90mStatsBase\u001b[39m\n",
            "\u001b[32m  ✓ \u001b[39m\u001b[90mGlib_jll\u001b[39m\n",
            "\u001b[32m  ✓ \u001b[39m\u001b[90mXorg_libxcb_jll\u001b[39m\n",
            "\u001b[32m  ✓ \u001b[39m\u001b[90mXorg_xcb_util_jll\u001b[39m\n",
            "\u001b[32m  ✓ \u001b[39m\u001b[90mXorg_libX11_jll\u001b[39m\n",
            "\u001b[32m  ✓ \u001b[39m\u001b[90mXorg_xcb_util_image_jll\u001b[39m\n",
            "\u001b[32m  ✓ \u001b[39m\u001b[90mXorg_xcb_util_keysyms_jll\u001b[39m\n",
            "\u001b[32m  ✓ \u001b[39m\u001b[90mXorg_xcb_util_renderutil_jll\u001b[39m\n",
            "\u001b[32m  ✓ \u001b[39m\u001b[90mXorg_xcb_util_wm_jll\u001b[39m\n",
            "\u001b[32m  ✓ \u001b[39m\u001b[90mColorSchemes\u001b[39m\n",
            "\u001b[32m  ✓ \u001b[39m\u001b[90mXorg_libXext_jll\u001b[39m\n",
            "\u001b[32m  ✓ \u001b[39m\u001b[90mXorg_libXrender_jll\u001b[39m\n",
            "\u001b[32m  ✓ \u001b[39m\u001b[90mUnitful\u001b[39m\n",
            "\u001b[32m  ✓ \u001b[39m\u001b[90mXorg_libxkbfile_jll\u001b[39m\n",
            "\u001b[32m  ✓ \u001b[39m\u001b[90mXorg_libXfixes_jll\u001b[39m\n",
            "\u001b[32m  ✓ \u001b[39m\u001b[90mXorg_xcb_util_cursor_jll\u001b[39m\n",
            "\u001b[32m  ✓ \u001b[39m\u001b[90mLibglvnd_jll\u001b[39m\n",
            "\u001b[32m  ✓ \u001b[39m\u001b[90mXorg_libXinerama_jll\u001b[39m\n",
            "\u001b[32m  ✓ \u001b[39m\u001b[90mCairo_jll\u001b[39m\n",
            "\u001b[32m  ✓ \u001b[39m\u001b[90mXorg_libXrandr_jll\u001b[39m\n",
            "\u001b[32m  ✓ \u001b[39m\u001b[90mXorg_xkbcomp_jll\u001b[39m\n",
            "\u001b[32m  ✓ \u001b[39m\u001b[90mUnitfulLatexify\u001b[39m\n",
            "\u001b[32m  ✓ \u001b[39m\u001b[90mPlotUtils\u001b[39m\n",
            "\u001b[32m  ✓ \u001b[39m\u001b[90mXorg_libXcursor_jll\u001b[39m\n",
            "\u001b[32m  ✓ \u001b[39m\u001b[90mXorg_libXi_jll\u001b[39m\n",
            "\u001b[32m  ✓ \u001b[39m\u001b[90mHarfBuzz_jll\u001b[39m\n",
            "\u001b[32m  ✓ \u001b[39m\u001b[90mXorg_xkeyboard_config_jll\u001b[39m\n",
            "\u001b[32m  ✓ \u001b[39m\u001b[90mGLFW_jll\u001b[39m\n",
            "\u001b[32m  ✓ \u001b[39m\u001b[90mlibass_jll\u001b[39m\n",
            "\u001b[32m  ✓ \u001b[39m\u001b[90mxkbcommon_jll\u001b[39m\n",
            "\u001b[32m  ✓ \u001b[39m\u001b[90mFFMPEG_jll\u001b[39m\n",
            "\u001b[32m  ✓ \u001b[39m\u001b[90mRecipesPipeline\u001b[39m\n",
            "\u001b[32m  ✓ \u001b[39m\u001b[90mVulkan_Loader_jll\u001b[39m\n",
            "\u001b[32m  ✓ \u001b[39m\u001b[90mFFMPEG\u001b[39m\n",
            "\u001b[32m  ✓ \u001b[39m\u001b[90mPlotThemes\u001b[39m\n",
            "\u001b[32m  ✓ \u001b[39m\u001b[90mQt6Base_jll\u001b[39m\n",
            "\u001b[32m  ✓ \u001b[39m\u001b[90mGR_jll\u001b[39m\n",
            "\u001b[32m  ✓ \u001b[39m\u001b[90mGR\u001b[39m\n",
            "\u001b[32m  ✓ \u001b[39mPlots\n",
            "  128 dependencies successfully precompiled in 148 seconds (39 already precompiled)\n",
            "\u001b[32m\u001b[1m   Resolving\u001b[22m\u001b[39m package versions...\n",
            "\u001b[32m\u001b[1m   Installed\u001b[22m\u001b[39m OpenSpecFun_jll ───────── v0.5.5+0\n",
            "\u001b[32m\u001b[1m   Installed\u001b[22m\u001b[39m Calculus ──────────────── v0.5.1\n",
            "\u001b[32m\u001b[1m   Installed\u001b[22m\u001b[39m Rmath_jll ─────────────── v0.4.0+0\n",
            "\u001b[32m\u001b[1m   Installed\u001b[22m\u001b[39m DualNumbers ───────────── v0.6.8\n",
            "\u001b[32m\u001b[1m   Installed\u001b[22m\u001b[39m StatsFuns ─────────────── v1.3.0\n",
            "\u001b[32m\u001b[1m   Installed\u001b[22m\u001b[39m Rmath ─────────────────── v0.7.1\n",
            "\u001b[32m\u001b[1m   Installed\u001b[22m\u001b[39m HypergeometricFunctions ─ v0.3.23\n",
            "\u001b[32m\u001b[1m   Installed\u001b[22m\u001b[39m SpecialFunctions ──────── v2.3.1\n",
            "\u001b[32m\u001b[1m   Installed\u001b[22m\u001b[39m PDMats ────────────────── v0.11.28\n",
            "\u001b[32m\u001b[1m   Installed\u001b[22m\u001b[39m QuadGK ────────────────── v2.9.1\n",
            "\u001b[32m\u001b[1m   Installed\u001b[22m\u001b[39m FillArrays ────────────── v1.7.0\n",
            "\u001b[32m\u001b[1m   Installed\u001b[22m\u001b[39m Distributions ─────────── v0.25.102\n",
            "\u001b[32m\u001b[1m   Installed\u001b[22m\u001b[39m DensityInterface ──────── v0.4.0\n",
            "\u001b[32m\u001b[1m    Updating\u001b[22m\u001b[39m `~/.julia/environments/v1.7/Project.toml`\n",
            " \u001b[90m [31c24e10] \u001b[39m\u001b[92m+ Distributions v0.25.102\u001b[39m\n",
            "\u001b[32m\u001b[1m    Updating\u001b[22m\u001b[39m `~/.julia/environments/v1.7/Manifest.toml`\n",
            " \u001b[90m [49dc2e85] \u001b[39m\u001b[92m+ Calculus v0.5.1\u001b[39m\n",
            " \u001b[90m [b429d917] \u001b[39m\u001b[92m+ DensityInterface v0.4.0\u001b[39m\n",
            " \u001b[90m [31c24e10] \u001b[39m\u001b[92m+ Distributions v0.25.102\u001b[39m\n",
            " \u001b[90m [fa6b7ba4] \u001b[39m\u001b[92m+ DualNumbers v0.6.8\u001b[39m\n",
            " \u001b[90m [1a297f60] \u001b[39m\u001b[92m+ FillArrays v1.7.0\u001b[39m\n",
            " \u001b[90m [34004b35] \u001b[39m\u001b[92m+ HypergeometricFunctions v0.3.23\u001b[39m\n",
            " \u001b[90m [90014a1f] \u001b[39m\u001b[92m+ PDMats v0.11.28\u001b[39m\n",
            " \u001b[90m [1fd47b50] \u001b[39m\u001b[92m+ QuadGK v2.9.1\u001b[39m\n",
            " \u001b[90m [79098fc4] \u001b[39m\u001b[92m+ Rmath v0.7.1\u001b[39m\n",
            " \u001b[90m [276daf66] \u001b[39m\u001b[92m+ SpecialFunctions v2.3.1\u001b[39m\n",
            " \u001b[90m [4c63d2b9] \u001b[39m\u001b[92m+ StatsFuns v1.3.0\u001b[39m\n",
            " \u001b[90m [efe28fd5] \u001b[39m\u001b[92m+ OpenSpecFun_jll v0.5.5+0\u001b[39m\n",
            " \u001b[90m [f50d1b31] \u001b[39m\u001b[92m+ Rmath_jll v0.4.0+0\u001b[39m\n",
            " \u001b[90m [4607b0f0] \u001b[39m\u001b[92m+ SuiteSparse\u001b[39m\n",
            "\u001b[32m\u001b[1mPrecompiling\u001b[22m\u001b[39m project...\n",
            "\u001b[32m  ✓ \u001b[39m\u001b[90mCalculus\u001b[39m\n",
            "\u001b[32m  ✓ \u001b[39m\u001b[90mPDMats\u001b[39m\n",
            "\u001b[32m  ✓ \u001b[39m\u001b[90mDensityInterface\u001b[39m\n",
            "\u001b[32m  ✓ \u001b[39m\u001b[90mFillArrays\u001b[39m\n",
            "\u001b[32m  ✓ \u001b[39m\u001b[90mRmath_jll\u001b[39m\n",
            "\u001b[32m  ✓ \u001b[39m\u001b[90mOpenSpecFun_jll\u001b[39m\n",
            "\u001b[32m  ✓ \u001b[39m\u001b[90mRmath\u001b[39m\n",
            "\u001b[32m  ✓ \u001b[39m\u001b[90mQuadGK\u001b[39m\n",
            "\u001b[32m  ✓ \u001b[39m\u001b[90mSpecialFunctions\u001b[39m\n",
            "\u001b[32m  ✓ \u001b[39m\u001b[90mDualNumbers\u001b[39m\n",
            "\u001b[32m  ✓ \u001b[39m\u001b[90mHypergeometricFunctions\u001b[39m\n",
            "\u001b[32m  ✓ \u001b[39m\u001b[90mStatsFuns\u001b[39m\n",
            "\u001b[32m  ✓ \u001b[39mDistributions\n",
            "  13 dependencies successfully precompiled in 17 seconds (167 already precompiled)\n"
          ]
        }
      ]
    },
    {
      "cell_type": "code",
      "source": [
        "# Criação do DataFrame fictício\n",
        "dataframe_ficticio = DataFrame(\n",
        "    Cliente = [\"ClienteA\", \"ClienteB\", \"ClienteC\", \"ClienteD\", \"ClienteE\"],\n",
        "    Idade = [32, 45, 28, 54, 39],\n",
        "    Compras_Mensais = [1000.0, 1500.0, 800.0, 2000.0, 1200.0],\n",
        "    Avaliacao_Satisfacao = [4.5, 3.8, 4.9, 2.5, 4.2]\n",
        ")\n",
        "\n",
        "# Exibição das primeiras linhas do DataFrame fictício\n",
        "first(dataframe_ficticio, 5)"
      ],
      "metadata": {
        "colab": {
          "base_uri": "https://localhost:8080/",
          "height": 209
        },
        "id": "30AFLtW-uNnm",
        "outputId": "d82b904c-3373-4ff7-a061-2ee02e4d1d96"
      },
      "execution_count": null,
      "outputs": [
        {
          "output_type": "execute_result",
          "data": {
            "text/plain": [
              "\u001b[1m5×4 DataFrame\u001b[0m\n",
              "\u001b[1m Row \u001b[0m│\u001b[1m Cliente  \u001b[0m\u001b[1m Idade \u001b[0m\u001b[1m Compras_Mensais \u001b[0m\u001b[1m Avaliacao_Satisfacao \u001b[0m\n",
              "     │\u001b[90m String   \u001b[0m\u001b[90m Int64 \u001b[0m\u001b[90m Float64         \u001b[0m\u001b[90m Float64              \u001b[0m\n",
              "─────┼────────────────────────────────────────────────────────\n",
              "   1 │ ClienteA     32           1000.0                   4.5\n",
              "   2 │ ClienteB     45           1500.0                   3.8\n",
              "   3 │ ClienteC     28            800.0                   4.9\n",
              "   4 │ ClienteD     54           2000.0                   2.5\n",
              "   5 │ ClienteE     39           1200.0                   4.2"
            ],
            "text/html": [
              "<div><div style = \"float: left;\"><span>5×4 DataFrame</span></div><div style = \"clear: both;\"></div></div><div class = \"data-frame\" style = \"overflow-x: scroll;\"><table class = \"data-frame\" style = \"margin-bottom: 6px;\"><thead><tr class = \"header\"><th class = \"rowNumber\" style = \"font-weight: bold; text-align: right;\">Row</th><th style = \"text-align: left;\">Cliente</th><th style = \"text-align: left;\">Idade</th><th style = \"text-align: left;\">Compras_Mensais</th><th style = \"text-align: left;\">Avaliacao_Satisfacao</th></tr><tr class = \"subheader headerLastRow\"><th class = \"rowNumber\" style = \"font-weight: bold; text-align: right;\"></th><th title = \"String\" style = \"text-align: left;\">String</th><th title = \"Int64\" style = \"text-align: left;\">Int64</th><th title = \"Float64\" style = \"text-align: left;\">Float64</th><th title = \"Float64\" style = \"text-align: left;\">Float64</th></tr></thead><tbody><tr><td class = \"rowNumber\" style = \"font-weight: bold; text-align: right;\">1</td><td style = \"text-align: left;\">ClienteA</td><td style = \"text-align: right;\">32</td><td style = \"text-align: right;\">1000.0</td><td style = \"text-align: right;\">4.5</td></tr><tr><td class = \"rowNumber\" style = \"font-weight: bold; text-align: right;\">2</td><td style = \"text-align: left;\">ClienteB</td><td style = \"text-align: right;\">45</td><td style = \"text-align: right;\">1500.0</td><td style = \"text-align: right;\">3.8</td></tr><tr><td class = \"rowNumber\" style = \"font-weight: bold; text-align: right;\">3</td><td style = \"text-align: left;\">ClienteC</td><td style = \"text-align: right;\">28</td><td style = \"text-align: right;\">800.0</td><td style = \"text-align: right;\">4.9</td></tr><tr><td class = \"rowNumber\" style = \"font-weight: bold; text-align: right;\">4</td><td style = \"text-align: left;\">ClienteD</td><td style = \"text-align: right;\">54</td><td style = \"text-align: right;\">2000.0</td><td style = \"text-align: right;\">2.5</td></tr><tr><td class = \"rowNumber\" style = \"font-weight: bold; text-align: right;\">5</td><td style = \"text-align: left;\">ClienteE</td><td style = \"text-align: right;\">39</td><td style = \"text-align: right;\">1200.0</td><td style = \"text-align: right;\">4.2</td></tr></tbody></table></div>"
            ],
            "text/latex": "\\begin{tabular}{r|cccc}\n\t& Cliente & Idade & Compras\\_Mensais & Avaliacao\\_Satisfacao\\\\\n\t\\hline\n\t& String & Int64 & Float64 & Float64\\\\\n\t\\hline\n\t1 & ClienteA & 32 & 1000.0 & 4.5 \\\\\n\t2 & ClienteB & 45 & 1500.0 & 3.8 \\\\\n\t3 & ClienteC & 28 & 800.0 & 4.9 \\\\\n\t4 & ClienteD & 54 & 2000.0 & 2.5 \\\\\n\t5 & ClienteE & 39 & 1200.0 & 4.2 \\\\\n\\end{tabular}\n"
          },
          "metadata": {},
          "execution_count": 53
        }
      ]
    },
    {
      "cell_type": "code",
      "source": [
        "# Calculando a média das idades\n",
        "media_idades = mean(dataframe_ficticio.Idade)"
      ],
      "metadata": {
        "colab": {
          "base_uri": "https://localhost:8080/"
        },
        "id": "qvBnegj40XK0",
        "outputId": "9546a9a1-703c-46dd-a952-6fa82743dfd7"
      },
      "execution_count": null,
      "outputs": [
        {
          "output_type": "execute_result",
          "data": {
            "text/plain": [
              "39.6"
            ]
          },
          "metadata": {},
          "execution_count": 54
        }
      ]
    },
    {
      "cell_type": "code",
      "source": [
        "# Calculando o desvio padrão das compras mensais\n",
        "desvio_compras = std(dataframe_ficticio.Compras_Mensais)"
      ],
      "metadata": {
        "colab": {
          "base_uri": "https://localhost:8080/"
        },
        "id": "G8KZCmXZ0ZeN",
        "outputId": "20d1a153-d5ad-4815-c448-4686dd6c3ab7"
      },
      "execution_count": null,
      "outputs": [
        {
          "output_type": "execute_result",
          "data": {
            "text/plain": [
              "469.041575982343"
            ]
          },
          "metadata": {},
          "execution_count": 55
        }
      ]
    },
    {
      "cell_type": "code",
      "source": [
        "# Realizando uma regressão linear simples\n",
        "# Suponha que queremos prever a avaliação de satisfação com base nas compras mensais\n",
        "x = dataframe_ficticio.Compras_Mensais\n",
        "y = dataframe_ficticio.Avaliacao_Satisfacao"
      ],
      "metadata": {
        "colab": {
          "base_uri": "https://localhost:8080/"
        },
        "id": "XR7LsbVG0ZcV",
        "outputId": "04da2636-21cc-4f66-c873-7e71c5d61113"
      },
      "execution_count": null,
      "outputs": [
        {
          "output_type": "execute_result",
          "data": {
            "text/plain": [
              "5-element Vector{Float64}:\n",
              " 4.5\n",
              " 3.8\n",
              " 4.9\n",
              " 2.5\n",
              " 4.2"
            ]
          },
          "metadata": {},
          "execution_count": 56
        }
      ]
    },
    {
      "cell_type": "code",
      "source": [
        "import Pkg\n",
        "Pkg.add(\"GLM\")\n",
        "using GLM"
      ],
      "metadata": {
        "colab": {
          "base_uri": "https://localhost:8080/"
        },
        "id": "Xk6xU6rU0vSO",
        "outputId": "b59aa136-3de2-4d8f-c109-7c9ece1ceac5"
      },
      "execution_count": null,
      "outputs": [
        {
          "output_type": "stream",
          "name": "stderr",
          "text": [
            "\u001b[32m\u001b[1m   Resolving\u001b[22m\u001b[39m package versions...\n",
            "\u001b[32m\u001b[1m   Installed\u001b[22m\u001b[39m ShiftedArrays ─ v2.0.0\n",
            "\u001b[32m\u001b[1m   Installed\u001b[22m\u001b[39m StatsModels ─── v0.7.3\n",
            "\u001b[32m\u001b[1m   Installed\u001b[22m\u001b[39m GLM ─────────── v1.9.0\n",
            "\u001b[32m\u001b[1m    Updating\u001b[22m\u001b[39m `~/.julia/environments/v1.7/Project.toml`\n",
            " \u001b[90m [38e38edf] \u001b[39m\u001b[92m+ GLM v1.9.0\u001b[39m\n",
            "\u001b[32m\u001b[1m    Updating\u001b[22m\u001b[39m `~/.julia/environments/v1.7/Manifest.toml`\n",
            " \u001b[90m [38e38edf] \u001b[39m\u001b[92m+ GLM v1.9.0\u001b[39m\n",
            " \u001b[90m [1277b4bf] \u001b[39m\u001b[92m+ ShiftedArrays v2.0.0\u001b[39m\n",
            " \u001b[90m [3eaba693] \u001b[39m\u001b[92m+ StatsModels v0.7.3\u001b[39m\n",
            "\u001b[32m\u001b[1mPrecompiling\u001b[22m\u001b[39m project...\n",
            "\u001b[32m  ✓ \u001b[39m\u001b[90mShiftedArrays\u001b[39m\n",
            "\u001b[32m  ✓ \u001b[39m\u001b[90mStatsModels\u001b[39m\n",
            "\u001b[32m  ✓ \u001b[39mGLM\n",
            "  3 dependencies successfully precompiled in 3 seconds (180 already precompiled)\n"
          ]
        }
      ]
    },
    {
      "cell_type": "code",
      "source": [
        "# Suponha que queremos prever a avaliação de satisfação com base nas compras mensais\n",
        "x = dataframe_ficticio.Compras_Mensais\n",
        "y = dataframe_ficticio.Avaliacao_Satisfacao\n",
        "\n",
        "# Realizando a regressão linear\n",
        "modelo_regressao = lm(@formula(Avaliacao_Satisfacao ~ Compras_Mensais), dataframe_ficticio)\n",
        "\n",
        "# Obtendo os coeficientes\n",
        "coeficientes = coef(modelo_regressao)"
      ],
      "metadata": {
        "colab": {
          "base_uri": "https://localhost:8080/"
        },
        "id": "6dIqaWO30ZZk",
        "outputId": "9602ec09-45be-4ec3-9f9b-ffb50e393ec7"
      },
      "execution_count": null,
      "outputs": [
        {
          "output_type": "execute_result",
          "data": {
            "text/plain": [
              "2-element Vector{Float64}:\n",
              "  6.5061363636363465\n",
              " -0.001943181818181806"
            ]
          },
          "metadata": {},
          "execution_count": 58
        }
      ]
    },
    {
      "cell_type": "code",
      "source": [
        "# Obtendo o coeficiente angular e o intercepto\n",
        "coef_angular = coeficientes[2]\n",
        "intercepto = coeficientes[1]"
      ],
      "metadata": {
        "colab": {
          "base_uri": "https://localhost:8080/"
        },
        "id": "E3B0CW2F0edk",
        "outputId": "69fa1552-be53-4dd3-cbcb-a5cbc6cfe11b"
      },
      "execution_count": null,
      "outputs": [
        {
          "output_type": "execute_result",
          "data": {
            "text/plain": [
              "6.5061363636363465"
            ]
          },
          "metadata": {},
          "execution_count": 59
        }
      ]
    },
    {
      "cell_type": "code",
      "source": [
        "# Gerando um gráfico de dispersão e a linha de regressão\n",
        "scatter(x, y, label=\"Dados\")\n",
        "plot!(x, x -> coef_angular * x + intercepto, label=\"Regressão Linear\", color=:red)"
      ],
      "metadata": {
        "colab": {
          "base_uri": "https://localhost:8080/",
          "height": 421
        },
        "id": "GOPrTd_a0ebM",
        "outputId": "2553a051-fe7e-4b55-c6e5-c115219e6145"
      },
      "execution_count": null,
      "outputs": [
        {
          "output_type": "execute_result",
          "data": {
            "image/svg+xml": "<?xml version=\"1.0\" encoding=\"utf-8\"?>\n<svg xmlns=\"http://www.w3.org/2000/svg\" xmlns:xlink=\"http://www.w3.org/1999/xlink\" width=\"600\" height=\"400\" viewBox=\"0 0 2400 1600\">\n<defs>\n  <clipPath id=\"clip680\">\n    <rect x=\"0\" y=\"0\" width=\"2400\" height=\"1600\"/>\n  </clipPath>\n</defs>\n<path clip-path=\"url(#clip680)\" d=\"M0 1600 L2400 1600 L2400 0 L0 0  Z\" fill=\"#ffffff\" fill-rule=\"evenodd\" fill-opacity=\"1\"/>\n<defs>\n  <clipPath id=\"clip681\">\n    <rect x=\"480\" y=\"0\" width=\"1681\" height=\"1600\"/>\n  </clipPath>\n</defs>\n<path clip-path=\"url(#clip680)\" d=\"M156.922 1486.45 L2352.76 1486.45 L2352.76 47.2441 L156.922 47.2441  Z\" fill=\"#ffffff\" fill-rule=\"evenodd\" fill-opacity=\"1\"/>\n<defs>\n  <clipPath id=\"clip682\">\n    <rect x=\"156\" y=\"47\" width=\"2197\" height=\"1440\"/>\n  </clipPath>\n</defs>\n<polyline clip-path=\"url(#clip682)\" style=\"stroke:#000000; stroke-linecap:round; stroke-linejoin:round; stroke-width:2; stroke-opacity:0.1; fill:none\" points=\"564.325,1486.45 564.325,47.2441 \"/>\n<polyline clip-path=\"url(#clip682)\" style=\"stroke:#000000; stroke-linecap:round; stroke-linejoin:round; stroke-width:2; stroke-opacity:0.1; fill:none\" points=\"995.896,1486.45 995.896,47.2441 \"/>\n<polyline clip-path=\"url(#clip682)\" style=\"stroke:#000000; stroke-linecap:round; stroke-linejoin:round; stroke-width:2; stroke-opacity:0.1; fill:none\" points=\"1427.47,1486.45 1427.47,47.2441 \"/>\n<polyline clip-path=\"url(#clip682)\" style=\"stroke:#000000; stroke-linecap:round; stroke-linejoin:round; stroke-width:2; stroke-opacity:0.1; fill:none\" points=\"1859.04,1486.45 1859.04,47.2441 \"/>\n<polyline clip-path=\"url(#clip682)\" style=\"stroke:#000000; stroke-linecap:round; stroke-linejoin:round; stroke-width:2; stroke-opacity:0.1; fill:none\" points=\"2290.61,1486.45 2290.61,47.2441 \"/>\n<polyline clip-path=\"url(#clip680)\" style=\"stroke:#000000; stroke-linecap:round; stroke-linejoin:round; stroke-width:4; stroke-opacity:1; fill:none\" points=\"156.922,1486.45 2352.76,1486.45 \"/>\n<polyline clip-path=\"url(#clip680)\" style=\"stroke:#000000; stroke-linecap:round; stroke-linejoin:round; stroke-width:4; stroke-opacity:1; fill:none\" points=\"564.325,1486.45 564.325,1467.55 \"/>\n<polyline clip-path=\"url(#clip680)\" style=\"stroke:#000000; stroke-linecap:round; stroke-linejoin:round; stroke-width:4; stroke-opacity:1; fill:none\" points=\"995.896,1486.45 995.896,1467.55 \"/>\n<polyline clip-path=\"url(#clip680)\" style=\"stroke:#000000; stroke-linecap:round; stroke-linejoin:round; stroke-width:4; stroke-opacity:1; fill:none\" points=\"1427.47,1486.45 1427.47,1467.55 \"/>\n<polyline clip-path=\"url(#clip680)\" style=\"stroke:#000000; stroke-linecap:round; stroke-linejoin:round; stroke-width:4; stroke-opacity:1; fill:none\" points=\"1859.04,1486.45 1859.04,1467.55 \"/>\n<polyline clip-path=\"url(#clip680)\" style=\"stroke:#000000; stroke-linecap:round; stroke-linejoin:round; stroke-width:4; stroke-opacity:1; fill:none\" points=\"2290.61,1486.45 2290.61,1467.55 \"/>\n<path clip-path=\"url(#clip680)\" d=\"M508.851 1544.91 L516.49 1544.91 L516.49 1518.55 L508.18 1520.21 L508.18 1515.95 L516.444 1514.29 L521.12 1514.29 L521.12 1544.91 L528.758 1544.91 L528.758 1548.85 L508.851 1548.85 L508.851 1544.91 Z\" fill=\"#000000\" fill-rule=\"nonzero\" fill-opacity=\"1\" /><path clip-path=\"url(#clip680)\" d=\"M548.203 1517.37 Q544.592 1517.37 542.763 1520.93 Q540.957 1524.47 540.957 1531.6 Q540.957 1538.71 542.763 1542.27 Q544.592 1545.82 548.203 1545.82 Q551.837 1545.82 553.643 1542.27 Q555.471 1538.71 555.471 1531.6 Q555.471 1524.47 553.643 1520.93 Q551.837 1517.37 548.203 1517.37 M548.203 1513.66 Q554.013 1513.66 557.068 1518.27 Q560.147 1522.85 560.147 1531.6 Q560.147 1540.33 557.068 1544.94 Q554.013 1549.52 548.203 1549.52 Q542.393 1549.52 539.314 1544.94 Q536.258 1540.33 536.258 1531.6 Q536.258 1522.85 539.314 1518.27 Q542.393 1513.66 548.203 1513.66 Z\" fill=\"#000000\" fill-rule=\"nonzero\" fill-opacity=\"1\" /><path clip-path=\"url(#clip680)\" d=\"M578.365 1517.37 Q574.754 1517.37 572.925 1520.93 Q571.119 1524.47 571.119 1531.6 Q571.119 1538.71 572.925 1542.27 Q574.754 1545.82 578.365 1545.82 Q581.999 1545.82 583.804 1542.27 Q585.633 1538.71 585.633 1531.6 Q585.633 1524.47 583.804 1520.93 Q581.999 1517.37 578.365 1517.37 M578.365 1513.66 Q584.175 1513.66 587.23 1518.27 Q590.309 1522.85 590.309 1531.6 Q590.309 1540.33 587.23 1544.94 Q584.175 1549.52 578.365 1549.52 Q572.555 1549.52 569.476 1544.94 Q566.42 1540.33 566.42 1531.6 Q566.42 1522.85 569.476 1518.27 Q572.555 1513.66 578.365 1513.66 Z\" fill=\"#000000\" fill-rule=\"nonzero\" fill-opacity=\"1\" /><path clip-path=\"url(#clip680)\" d=\"M608.527 1517.37 Q604.915 1517.37 603.087 1520.93 Q601.281 1524.47 601.281 1531.6 Q601.281 1538.71 603.087 1542.27 Q604.915 1545.82 608.527 1545.82 Q612.161 1545.82 613.966 1542.27 Q615.795 1538.71 615.795 1531.6 Q615.795 1524.47 613.966 1520.93 Q612.161 1517.37 608.527 1517.37 M608.527 1513.66 Q614.337 1513.66 617.392 1518.27 Q620.471 1522.85 620.471 1531.6 Q620.471 1540.33 617.392 1544.94 Q614.337 1549.52 608.527 1549.52 Q602.716 1549.52 599.638 1544.94 Q596.582 1540.33 596.582 1531.6 Q596.582 1522.85 599.638 1518.27 Q602.716 1513.66 608.527 1513.66 Z\" fill=\"#000000\" fill-rule=\"nonzero\" fill-opacity=\"1\" /><path clip-path=\"url(#clip680)\" d=\"M940.422 1544.91 L948.061 1544.91 L948.061 1518.55 L939.751 1520.21 L939.751 1515.95 L948.015 1514.29 L952.691 1514.29 L952.691 1544.91 L960.33 1544.91 L960.33 1548.85 L940.422 1548.85 L940.422 1544.91 Z\" fill=\"#000000\" fill-rule=\"nonzero\" fill-opacity=\"1\" /><path clip-path=\"url(#clip680)\" d=\"M973.802 1544.91 L990.121 1544.91 L990.121 1548.85 L968.177 1548.85 L968.177 1544.91 Q970.839 1542.16 975.422 1537.53 Q980.028 1532.88 981.209 1531.53 Q983.454 1529.01 984.334 1527.27 Q985.237 1525.51 985.237 1523.82 Q985.237 1521.07 983.292 1519.33 Q981.371 1517.6 978.269 1517.6 Q976.07 1517.6 973.616 1518.36 Q971.186 1519.13 968.408 1520.68 L968.408 1515.95 Q971.232 1514.82 973.686 1514.24 Q976.14 1513.66 978.177 1513.66 Q983.547 1513.66 986.741 1516.35 Q989.936 1519.03 989.936 1523.52 Q989.936 1525.65 989.126 1527.57 Q988.339 1529.47 986.232 1532.07 Q985.653 1532.74 982.552 1535.95 Q979.45 1539.15 973.802 1544.91 Z\" fill=\"#000000\" fill-rule=\"nonzero\" fill-opacity=\"1\" /><path clip-path=\"url(#clip680)\" d=\"M999.982 1514.29 L1018.34 1514.29 L1018.34 1518.22 L1004.26 1518.22 L1004.26 1526.7 Q1005.28 1526.35 1006.3 1526.19 Q1007.32 1526 1008.34 1526 Q1014.13 1526 1017.51 1529.17 Q1020.88 1532.34 1020.88 1537.76 Q1020.88 1543.34 1017.41 1546.44 Q1013.94 1549.52 1007.62 1549.52 Q1005.45 1549.52 1003.18 1549.15 Q1000.93 1548.78 998.524 1548.04 L998.524 1543.34 Q1000.61 1544.47 1002.83 1545.03 Q1005.05 1545.58 1007.53 1545.58 Q1011.53 1545.58 1013.87 1543.48 Q1016.21 1541.37 1016.21 1537.76 Q1016.21 1534.15 1013.87 1532.04 Q1011.53 1529.94 1007.53 1529.94 Q1005.65 1529.94 1003.78 1530.35 Q1001.93 1530.77 999.982 1531.65 L999.982 1514.29 Z\" fill=\"#000000\" fill-rule=\"nonzero\" fill-opacity=\"1\" /><path clip-path=\"url(#clip680)\" d=\"M1040.1 1517.37 Q1036.49 1517.37 1034.66 1520.93 Q1032.85 1524.47 1032.85 1531.6 Q1032.85 1538.71 1034.66 1542.27 Q1036.49 1545.82 1040.1 1545.82 Q1043.73 1545.82 1045.54 1542.27 Q1047.37 1538.71 1047.37 1531.6 Q1047.37 1524.47 1045.54 1520.93 Q1043.73 1517.37 1040.1 1517.37 M1040.1 1513.66 Q1045.91 1513.66 1048.96 1518.27 Q1052.04 1522.85 1052.04 1531.6 Q1052.04 1540.33 1048.96 1544.94 Q1045.91 1549.52 1040.1 1549.52 Q1034.29 1549.52 1031.21 1544.94 Q1028.15 1540.33 1028.15 1531.6 Q1028.15 1522.85 1031.21 1518.27 Q1034.29 1513.66 1040.1 1513.66 Z\" fill=\"#000000\" fill-rule=\"nonzero\" fill-opacity=\"1\" /><path clip-path=\"url(#clip680)\" d=\"M1371.99 1544.91 L1379.63 1544.91 L1379.63 1518.55 L1371.32 1520.21 L1371.32 1515.95 L1379.59 1514.29 L1384.26 1514.29 L1384.26 1544.91 L1391.9 1544.91 L1391.9 1548.85 L1371.99 1548.85 L1371.99 1544.91 Z\" fill=\"#000000\" fill-rule=\"nonzero\" fill-opacity=\"1\" /><path clip-path=\"url(#clip680)\" d=\"M1401.39 1514.29 L1419.75 1514.29 L1419.75 1518.22 L1405.67 1518.22 L1405.67 1526.7 Q1406.69 1526.35 1407.71 1526.19 Q1408.73 1526 1409.75 1526 Q1415.53 1526 1418.91 1529.17 Q1422.29 1532.34 1422.29 1537.76 Q1422.29 1543.34 1418.82 1546.44 Q1415.35 1549.52 1409.03 1549.52 Q1406.85 1549.52 1404.59 1549.15 Q1402.34 1548.78 1399.93 1548.04 L1399.93 1543.34 Q1402.02 1544.47 1404.24 1545.03 Q1406.46 1545.58 1408.94 1545.58 Q1412.94 1545.58 1415.28 1543.48 Q1417.62 1541.37 1417.62 1537.76 Q1417.62 1534.15 1415.28 1532.04 Q1412.94 1529.94 1408.94 1529.94 Q1407.06 1529.94 1405.19 1530.35 Q1403.34 1530.77 1401.39 1531.65 L1401.39 1514.29 Z\" fill=\"#000000\" fill-rule=\"nonzero\" fill-opacity=\"1\" /><path clip-path=\"url(#clip680)\" d=\"M1441.51 1517.37 Q1437.9 1517.37 1436.07 1520.93 Q1434.26 1524.47 1434.26 1531.6 Q1434.26 1538.71 1436.07 1542.27 Q1437.9 1545.82 1441.51 1545.82 Q1445.14 1545.82 1446.95 1542.27 Q1448.78 1538.71 1448.78 1531.6 Q1448.78 1524.47 1446.95 1520.93 Q1445.14 1517.37 1441.51 1517.37 M1441.51 1513.66 Q1447.32 1513.66 1450.37 1518.27 Q1453.45 1522.85 1453.45 1531.6 Q1453.45 1540.33 1450.37 1544.94 Q1447.32 1549.52 1441.51 1549.52 Q1435.7 1549.52 1432.62 1544.94 Q1429.56 1540.33 1429.56 1531.6 Q1429.56 1522.85 1432.62 1518.27 Q1435.7 1513.66 1441.51 1513.66 Z\" fill=\"#000000\" fill-rule=\"nonzero\" fill-opacity=\"1\" /><path clip-path=\"url(#clip680)\" d=\"M1471.67 1517.37 Q1468.06 1517.37 1466.23 1520.93 Q1464.42 1524.47 1464.42 1531.6 Q1464.42 1538.71 1466.23 1542.27 Q1468.06 1545.82 1471.67 1545.82 Q1475.3 1545.82 1477.11 1542.27 Q1478.94 1538.71 1478.94 1531.6 Q1478.94 1524.47 1477.11 1520.93 Q1475.3 1517.37 1471.67 1517.37 M1471.67 1513.66 Q1477.48 1513.66 1480.53 1518.27 Q1483.61 1522.85 1483.61 1531.6 Q1483.61 1540.33 1480.53 1544.94 Q1477.48 1549.52 1471.67 1549.52 Q1465.86 1549.52 1462.78 1544.94 Q1459.72 1540.33 1459.72 1531.6 Q1459.72 1522.85 1462.78 1518.27 Q1465.86 1513.66 1471.67 1513.66 Z\" fill=\"#000000\" fill-rule=\"nonzero\" fill-opacity=\"1\" /><path clip-path=\"url(#clip680)\" d=\"M1803.56 1544.91 L1811.2 1544.91 L1811.2 1518.55 L1802.89 1520.21 L1802.89 1515.95 L1811.16 1514.29 L1815.83 1514.29 L1815.83 1544.91 L1823.47 1544.91 L1823.47 1548.85 L1803.56 1548.85 L1803.56 1544.91 Z\" fill=\"#000000\" fill-rule=\"nonzero\" fill-opacity=\"1\" /><path clip-path=\"url(#clip680)\" d=\"M1831.74 1514.29 L1853.96 1514.29 L1853.96 1516.28 L1841.41 1548.85 L1836.53 1548.85 L1848.33 1518.22 L1831.74 1518.22 L1831.74 1514.29 Z\" fill=\"#000000\" fill-rule=\"nonzero\" fill-opacity=\"1\" /><path clip-path=\"url(#clip680)\" d=\"M1863.12 1514.29 L1881.48 1514.29 L1881.48 1518.22 L1867.41 1518.22 L1867.41 1526.7 Q1868.43 1526.35 1869.44 1526.19 Q1870.46 1526 1871.48 1526 Q1877.27 1526 1880.65 1529.17 Q1884.03 1532.34 1884.03 1537.76 Q1884.03 1543.34 1880.55 1546.44 Q1877.08 1549.52 1870.76 1549.52 Q1868.59 1549.52 1866.32 1549.15 Q1864.07 1548.78 1861.67 1548.04 L1861.67 1543.34 Q1863.75 1544.47 1865.97 1545.03 Q1868.19 1545.58 1870.67 1545.58 Q1874.68 1545.58 1877.01 1543.48 Q1879.35 1541.37 1879.35 1537.76 Q1879.35 1534.15 1877.01 1532.04 Q1874.68 1529.94 1870.67 1529.94 Q1868.8 1529.94 1866.92 1530.35 Q1865.07 1530.77 1863.12 1531.65 L1863.12 1514.29 Z\" fill=\"#000000\" fill-rule=\"nonzero\" fill-opacity=\"1\" /><path clip-path=\"url(#clip680)\" d=\"M1903.24 1517.37 Q1899.63 1517.37 1897.8 1520.93 Q1895.99 1524.47 1895.99 1531.6 Q1895.99 1538.71 1897.8 1542.27 Q1899.63 1545.82 1903.24 1545.82 Q1906.87 1545.82 1908.68 1542.27 Q1910.51 1538.71 1910.51 1531.6 Q1910.51 1524.47 1908.68 1520.93 Q1906.87 1517.37 1903.24 1517.37 M1903.24 1513.66 Q1909.05 1513.66 1912.11 1518.27 Q1915.18 1522.85 1915.18 1531.6 Q1915.18 1540.33 1912.11 1544.94 Q1909.05 1549.52 1903.24 1549.52 Q1897.43 1549.52 1894.35 1544.94 Q1891.3 1540.33 1891.3 1531.6 Q1891.3 1522.85 1894.35 1518.27 Q1897.43 1513.66 1903.24 1513.66 Z\" fill=\"#000000\" fill-rule=\"nonzero\" fill-opacity=\"1\" /><path clip-path=\"url(#clip680)\" d=\"M2239.22 1544.91 L2255.54 1544.91 L2255.54 1548.85 L2233.6 1548.85 L2233.6 1544.91 Q2236.26 1542.16 2240.84 1537.53 Q2245.45 1532.88 2246.63 1531.53 Q2248.87 1529.01 2249.75 1527.27 Q2250.66 1525.51 2250.66 1523.82 Q2250.66 1521.07 2248.71 1519.33 Q2246.79 1517.6 2243.69 1517.6 Q2241.49 1517.6 2239.04 1518.36 Q2236.61 1519.13 2233.83 1520.68 L2233.83 1515.95 Q2236.65 1514.82 2239.11 1514.24 Q2241.56 1513.66 2243.6 1513.66 Q2248.97 1513.66 2252.16 1516.35 Q2255.36 1519.03 2255.36 1523.52 Q2255.36 1525.65 2254.55 1527.57 Q2253.76 1529.47 2251.65 1532.07 Q2251.07 1532.74 2247.97 1535.95 Q2244.87 1539.15 2239.22 1544.91 Z\" fill=\"#000000\" fill-rule=\"nonzero\" fill-opacity=\"1\" /><path clip-path=\"url(#clip680)\" d=\"M2275.36 1517.37 Q2271.74 1517.37 2269.92 1520.93 Q2268.11 1524.47 2268.11 1531.6 Q2268.11 1538.71 2269.92 1542.27 Q2271.74 1545.82 2275.36 1545.82 Q2278.99 1545.82 2280.79 1542.27 Q2282.62 1538.71 2282.62 1531.6 Q2282.62 1524.47 2280.79 1520.93 Q2278.99 1517.37 2275.36 1517.37 M2275.36 1513.66 Q2281.17 1513.66 2284.22 1518.27 Q2287.3 1522.85 2287.3 1531.6 Q2287.3 1540.33 2284.22 1544.94 Q2281.17 1549.52 2275.36 1549.52 Q2269.54 1549.52 2266.47 1544.94 Q2263.41 1540.33 2263.41 1531.6 Q2263.41 1522.85 2266.47 1518.27 Q2269.54 1513.66 2275.36 1513.66 Z\" fill=\"#000000\" fill-rule=\"nonzero\" fill-opacity=\"1\" /><path clip-path=\"url(#clip680)\" d=\"M2305.52 1517.37 Q2301.91 1517.37 2300.08 1520.93 Q2298.27 1524.47 2298.27 1531.6 Q2298.27 1538.71 2300.08 1542.27 Q2301.91 1545.82 2305.52 1545.82 Q2309.15 1545.82 2310.96 1542.27 Q2312.79 1538.71 2312.79 1531.6 Q2312.79 1524.47 2310.96 1520.93 Q2309.15 1517.37 2305.52 1517.37 M2305.52 1513.66 Q2311.33 1513.66 2314.38 1518.27 Q2317.46 1522.85 2317.46 1531.6 Q2317.46 1540.33 2314.38 1544.94 Q2311.33 1549.52 2305.52 1549.52 Q2299.71 1549.52 2296.63 1544.94 Q2293.57 1540.33 2293.57 1531.6 Q2293.57 1522.85 2296.63 1518.27 Q2299.71 1513.66 2305.52 1513.66 Z\" fill=\"#000000\" fill-rule=\"nonzero\" fill-opacity=\"1\" /><path clip-path=\"url(#clip680)\" d=\"M2335.68 1517.37 Q2332.07 1517.37 2330.24 1520.93 Q2328.43 1524.47 2328.43 1531.6 Q2328.43 1538.71 2330.24 1542.27 Q2332.07 1545.82 2335.68 1545.82 Q2339.31 1545.82 2341.12 1542.27 Q2342.95 1538.71 2342.95 1531.6 Q2342.95 1524.47 2341.12 1520.93 Q2339.31 1517.37 2335.68 1517.37 M2335.68 1513.66 Q2341.49 1513.66 2344.54 1518.27 Q2347.62 1522.85 2347.62 1531.6 Q2347.62 1540.33 2344.54 1544.94 Q2341.49 1549.52 2335.68 1549.52 Q2329.87 1549.52 2326.79 1544.94 Q2323.73 1540.33 2323.73 1531.6 Q2323.73 1522.85 2326.79 1518.27 Q2329.87 1513.66 2335.68 1513.66 Z\" fill=\"#000000\" fill-rule=\"nonzero\" fill-opacity=\"1\" /><polyline clip-path=\"url(#clip682)\" style=\"stroke:#000000; stroke-linecap:round; stroke-linejoin:round; stroke-width:2; stroke-opacity:0.1; fill:none\" points=\"156.922,1445.72 2352.76,1445.72 \"/>\n<polyline clip-path=\"url(#clip682)\" style=\"stroke:#000000; stroke-linecap:round; stroke-linejoin:round; stroke-width:2; stroke-opacity:0.1; fill:none\" points=\"156.922,1168.81 2352.76,1168.81 \"/>\n<polyline clip-path=\"url(#clip682)\" style=\"stroke:#000000; stroke-linecap:round; stroke-linejoin:round; stroke-width:2; stroke-opacity:0.1; fill:none\" points=\"156.922,891.896 2352.76,891.896 \"/>\n<polyline clip-path=\"url(#clip682)\" style=\"stroke:#000000; stroke-linecap:round; stroke-linejoin:round; stroke-width:2; stroke-opacity:0.1; fill:none\" points=\"156.922,614.986 2352.76,614.986 \"/>\n<polyline clip-path=\"url(#clip682)\" style=\"stroke:#000000; stroke-linecap:round; stroke-linejoin:round; stroke-width:2; stroke-opacity:0.1; fill:none\" points=\"156.922,338.076 2352.76,338.076 \"/>\n<polyline clip-path=\"url(#clip682)\" style=\"stroke:#000000; stroke-linecap:round; stroke-linejoin:round; stroke-width:2; stroke-opacity:0.1; fill:none\" points=\"156.922,61.1664 2352.76,61.1664 \"/>\n<polyline clip-path=\"url(#clip680)\" style=\"stroke:#000000; stroke-linecap:round; stroke-linejoin:round; stroke-width:4; stroke-opacity:1; fill:none\" points=\"156.922,1486.45 156.922,47.2441 \"/>\n<polyline clip-path=\"url(#clip680)\" style=\"stroke:#000000; stroke-linecap:round; stroke-linejoin:round; stroke-width:4; stroke-opacity:1; fill:none\" points=\"156.922,1445.72 175.82,1445.72 \"/>\n<polyline clip-path=\"url(#clip680)\" style=\"stroke:#000000; stroke-linecap:round; stroke-linejoin:round; stroke-width:4; stroke-opacity:1; fill:none\" points=\"156.922,1168.81 175.82,1168.81 \"/>\n<polyline clip-path=\"url(#clip680)\" style=\"stroke:#000000; stroke-linecap:round; stroke-linejoin:round; stroke-width:4; stroke-opacity:1; fill:none\" points=\"156.922,891.896 175.82,891.896 \"/>\n<polyline clip-path=\"url(#clip680)\" style=\"stroke:#000000; stroke-linecap:round; stroke-linejoin:round; stroke-width:4; stroke-opacity:1; fill:none\" points=\"156.922,614.986 175.82,614.986 \"/>\n<polyline clip-path=\"url(#clip680)\" style=\"stroke:#000000; stroke-linecap:round; stroke-linejoin:round; stroke-width:4; stroke-opacity:1; fill:none\" points=\"156.922,338.076 175.82,338.076 \"/>\n<polyline clip-path=\"url(#clip680)\" style=\"stroke:#000000; stroke-linecap:round; stroke-linejoin:round; stroke-width:4; stroke-opacity:1; fill:none\" points=\"156.922,61.1664 175.82,61.1664 \"/>\n<path clip-path=\"url(#clip680)\" d=\"M58.7699 1459.06 L75.0892 1459.06 L75.0892 1463 L53.1449 1463 L53.1449 1459.06 Q55.8069 1456.31 60.3902 1451.68 Q64.9967 1447.02 66.1772 1445.68 Q68.4226 1443.16 69.3022 1441.42 Q70.205 1439.66 70.205 1437.97 Q70.205 1435.22 68.2606 1433.48 Q66.3393 1431.75 63.2374 1431.75 Q61.0384 1431.75 58.5847 1432.51 Q56.1541 1433.27 53.3764 1434.82 L53.3764 1430.1 Q56.2004 1428.97 58.6541 1428.39 Q61.1078 1427.81 63.1448 1427.81 Q68.5152 1427.81 71.7096 1430.5 Q74.904 1433.18 74.904 1437.67 Q74.904 1439.8 74.0939 1441.72 Q73.3068 1443.62 71.2004 1446.21 Q70.6217 1446.88 67.5198 1450.1 Q64.418 1453.3 58.7699 1459.06 Z\" fill=\"#000000\" fill-rule=\"nonzero\" fill-opacity=\"1\" /><path clip-path=\"url(#clip680)\" d=\"M84.904 1457.12 L89.7882 1457.12 L89.7882 1463 L84.904 1463 L84.904 1457.12 Z\" fill=\"#000000\" fill-rule=\"nonzero\" fill-opacity=\"1\" /><path clip-path=\"url(#clip680)\" d=\"M100.02 1428.44 L118.376 1428.44 L118.376 1432.37 L104.302 1432.37 L104.302 1440.84 Q105.321 1440.5 106.339 1440.33 Q107.358 1440.15 108.376 1440.15 Q114.163 1440.15 117.543 1443.32 Q120.922 1446.49 120.922 1451.91 Q120.922 1457.49 117.45 1460.59 Q113.978 1463.67 107.658 1463.67 Q105.483 1463.67 103.214 1463.3 Q100.969 1462.93 98.5613 1462.19 L98.5613 1457.49 Q100.645 1458.62 102.867 1459.18 Q105.089 1459.73 107.566 1459.73 Q111.571 1459.73 113.908 1457.63 Q116.246 1455.52 116.246 1451.91 Q116.246 1448.3 113.908 1446.19 Q111.571 1444.08 107.566 1444.08 Q105.691 1444.08 103.816 1444.5 Q101.964 1444.92 100.02 1445.8 L100.02 1428.44 Z\" fill=\"#000000\" fill-rule=\"nonzero\" fill-opacity=\"1\" /><path clip-path=\"url(#clip680)\" d=\"M67.9133 1167.45 Q71.2698 1168.17 73.1448 1170.44 Q75.0429 1172.71 75.0429 1176.04 Q75.0429 1181.16 71.5244 1183.96 Q68.0059 1186.76 61.5245 1186.76 Q59.3486 1186.76 57.0338 1186.32 Q54.7421 1185.9 52.2884 1185.04 L52.2884 1180.53 Q54.2328 1181.66 56.5477 1182.24 Q58.8625 1182.82 61.3856 1182.82 Q65.7837 1182.82 68.0754 1181.09 Q70.3902 1179.35 70.3902 1176.04 Q70.3902 1172.98 68.2374 1171.27 Q66.1078 1169.53 62.2884 1169.53 L58.2606 1169.53 L58.2606 1165.69 L62.4735 1165.69 Q65.9226 1165.69 67.7513 1164.33 Q69.58 1162.94 69.58 1160.35 Q69.58 1157.68 67.6819 1156.27 Q65.8069 1154.84 62.2884 1154.84 Q60.3671 1154.84 58.168 1155.25 Q55.969 1155.67 53.3301 1156.55 L53.3301 1152.38 Q55.9921 1151.64 58.3069 1151.27 Q60.6449 1150.9 62.705 1150.9 Q68.0291 1150.9 71.1309 1153.33 Q74.2327 1155.74 74.2327 1159.86 Q74.2327 1162.73 72.5892 1164.72 Q70.9457 1166.69 67.9133 1167.45 Z\" fill=\"#000000\" fill-rule=\"nonzero\" fill-opacity=\"1\" /><path clip-path=\"url(#clip680)\" d=\"M83.9086 1180.21 L88.7928 1180.21 L88.7928 1186.09 L83.9086 1186.09 L83.9086 1180.21 Z\" fill=\"#000000\" fill-rule=\"nonzero\" fill-opacity=\"1\" /><path clip-path=\"url(#clip680)\" d=\"M108.978 1154.6 Q105.367 1154.6 103.538 1158.17 Q101.733 1161.71 101.733 1168.84 Q101.733 1175.95 103.538 1179.51 Q105.367 1183.05 108.978 1183.05 Q112.612 1183.05 114.418 1179.51 Q116.246 1175.95 116.246 1168.84 Q116.246 1161.71 114.418 1158.17 Q112.612 1154.6 108.978 1154.6 M108.978 1150.9 Q114.788 1150.9 117.844 1155.51 Q120.922 1160.09 120.922 1168.84 Q120.922 1177.57 117.844 1182.17 Q114.788 1186.76 108.978 1186.76 Q103.168 1186.76 100.089 1182.17 Q97.0335 1177.57 97.0335 1168.84 Q97.0335 1160.09 100.089 1155.51 Q103.168 1150.9 108.978 1150.9 Z\" fill=\"#000000\" fill-rule=\"nonzero\" fill-opacity=\"1\" /><path clip-path=\"url(#clip680)\" d=\"M68.9087 890.542 Q72.2652 891.259 74.1402 893.528 Q76.0383 895.796 76.0383 899.13 Q76.0383 904.245 72.5198 907.046 Q69.0013 909.847 62.5198 909.847 Q60.3439 909.847 58.0291 909.407 Q55.7375 908.991 53.2838 908.134 L53.2838 903.62 Q55.2282 904.755 57.543 905.333 Q59.8578 905.912 62.381 905.912 Q66.7791 905.912 69.0707 904.176 Q71.3855 902.44 71.3855 899.13 Q71.3855 896.074 69.2328 894.361 Q67.1032 892.625 63.2837 892.625 L59.256 892.625 L59.256 888.783 L63.4689 888.783 Q66.918 888.783 68.7467 887.417 Q70.5754 886.028 70.5754 883.435 Q70.5754 880.773 68.6772 879.361 Q66.8022 877.926 63.2837 877.926 Q61.3624 877.926 59.1634 878.343 Q56.9643 878.759 54.3254 879.639 L54.3254 875.472 Q56.9875 874.732 59.3023 874.361 Q61.6402 873.991 63.7004 873.991 Q69.0244 873.991 72.1263 876.422 Q75.2281 878.829 75.2281 882.949 Q75.2281 885.82 73.5846 887.81 Q71.9411 889.778 68.9087 890.542 Z\" fill=\"#000000\" fill-rule=\"nonzero\" fill-opacity=\"1\" /><path clip-path=\"url(#clip680)\" d=\"M84.904 903.296 L89.7882 903.296 L89.7882 909.176 L84.904 909.176 L84.904 903.296 Z\" fill=\"#000000\" fill-rule=\"nonzero\" fill-opacity=\"1\" /><path clip-path=\"url(#clip680)\" d=\"M100.02 874.616 L118.376 874.616 L118.376 878.551 L104.302 878.551 L104.302 887.023 Q105.321 886.676 106.339 886.514 Q107.358 886.329 108.376 886.329 Q114.163 886.329 117.543 889.5 Q120.922 892.671 120.922 898.088 Q120.922 903.667 117.45 906.769 Q113.978 909.847 107.658 909.847 Q105.483 909.847 103.214 909.477 Q100.969 909.107 98.5613 908.366 L98.5613 903.667 Q100.645 904.801 102.867 905.357 Q105.089 905.912 107.566 905.912 Q111.571 905.912 113.908 903.806 Q116.246 901.699 116.246 898.088 Q116.246 894.477 113.908 892.37 Q111.571 890.264 107.566 890.264 Q105.691 890.264 103.816 890.681 Q101.964 891.097 100.02 891.977 L100.02 874.616 Z\" fill=\"#000000\" fill-rule=\"nonzero\" fill-opacity=\"1\" /><path clip-path=\"url(#clip680)\" d=\"M66.5939 601.78 L54.7884 620.229 L66.5939 620.229 L66.5939 601.78 M65.367 597.706 L71.2466 597.706 L71.2466 620.229 L76.1772 620.229 L76.1772 624.118 L71.2466 624.118 L71.2466 632.266 L66.5939 632.266 L66.5939 624.118 L50.9921 624.118 L50.9921 619.604 L65.367 597.706 Z\" fill=\"#000000\" fill-rule=\"nonzero\" fill-opacity=\"1\" /><path clip-path=\"url(#clip680)\" d=\"M83.9086 626.386 L88.7928 626.386 L88.7928 632.266 L83.9086 632.266 L83.9086 626.386 Z\" fill=\"#000000\" fill-rule=\"nonzero\" fill-opacity=\"1\" /><path clip-path=\"url(#clip680)\" d=\"M108.978 600.785 Q105.367 600.785 103.538 604.35 Q101.733 607.891 101.733 615.021 Q101.733 622.127 103.538 625.692 Q105.367 629.234 108.978 629.234 Q112.612 629.234 114.418 625.692 Q116.246 622.127 116.246 615.021 Q116.246 607.891 114.418 604.35 Q112.612 600.785 108.978 600.785 M108.978 597.081 Q114.788 597.081 117.844 601.688 Q120.922 606.271 120.922 615.021 Q120.922 623.748 117.844 628.354 Q114.788 632.937 108.978 632.937 Q103.168 632.937 100.089 628.354 Q97.0335 623.748 97.0335 615.021 Q97.0335 606.271 100.089 601.688 Q103.168 597.081 108.978 597.081 Z\" fill=\"#000000\" fill-rule=\"nonzero\" fill-opacity=\"1\" /><path clip-path=\"url(#clip680)\" d=\"M67.5893 324.87 L55.7838 343.319 L67.5893 343.319 L67.5893 324.87 M66.3624 320.796 L72.242 320.796 L72.242 343.319 L77.1725 343.319 L77.1725 347.208 L72.242 347.208 L72.242 355.356 L67.5893 355.356 L67.5893 347.208 L51.9875 347.208 L51.9875 342.694 L66.3624 320.796 Z\" fill=\"#000000\" fill-rule=\"nonzero\" fill-opacity=\"1\" /><path clip-path=\"url(#clip680)\" d=\"M84.904 349.477 L89.7882 349.477 L89.7882 355.356 L84.904 355.356 L84.904 349.477 Z\" fill=\"#000000\" fill-rule=\"nonzero\" fill-opacity=\"1\" /><path clip-path=\"url(#clip680)\" d=\"M100.02 320.796 L118.376 320.796 L118.376 324.731 L104.302 324.731 L104.302 333.204 Q105.321 332.856 106.339 332.694 Q107.358 332.509 108.376 332.509 Q114.163 332.509 117.543 335.68 Q120.922 338.852 120.922 344.268 Q120.922 349.847 117.45 352.949 Q113.978 356.028 107.658 356.028 Q105.483 356.028 103.214 355.657 Q100.969 355.287 98.5613 354.546 L98.5613 349.847 Q100.645 350.981 102.867 351.537 Q105.089 352.092 107.566 352.092 Q111.571 352.092 113.908 349.986 Q116.246 347.879 116.246 344.268 Q116.246 340.657 113.908 338.551 Q111.571 336.444 107.566 336.444 Q105.691 336.444 103.816 336.861 Q101.964 337.278 100.02 338.157 L100.02 320.796 Z\" fill=\"#000000\" fill-rule=\"nonzero\" fill-opacity=\"1\" /><path clip-path=\"url(#clip680)\" d=\"M53.793 43.8864 L72.1494 43.8864 L72.1494 47.8215 L58.0754 47.8215 L58.0754 56.2937 Q59.0939 55.9465 60.1124 55.7845 Q61.131 55.5993 62.1495 55.5993 Q67.9365 55.5993 71.3161 58.7705 Q74.6957 61.9418 74.6957 67.3585 Q74.6957 72.9371 71.2235 76.039 Q67.7513 79.1177 61.4319 79.1177 Q59.256 79.1177 56.9875 78.7473 Q54.7421 78.3769 52.3347 77.6362 L52.3347 72.9371 Q54.418 74.0714 56.6402 74.6269 Q58.8625 75.1825 61.3393 75.1825 Q65.3439 75.1825 67.6819 73.076 Q70.0198 70.9696 70.0198 67.3585 Q70.0198 63.7474 67.6819 61.6409 Q65.3439 59.5344 61.3393 59.5344 Q59.4643 59.5344 57.5893 59.9511 Q55.7375 60.3678 53.793 61.2474 L53.793 43.8864 Z\" fill=\"#000000\" fill-rule=\"nonzero\" fill-opacity=\"1\" /><path clip-path=\"url(#clip680)\" d=\"M83.9086 72.5668 L88.7928 72.5668 L88.7928 78.4464 L83.9086 78.4464 L83.9086 72.5668 Z\" fill=\"#000000\" fill-rule=\"nonzero\" fill-opacity=\"1\" /><path clip-path=\"url(#clip680)\" d=\"M108.978 46.9651 Q105.367 46.9651 103.538 50.5299 Q101.733 54.0715 101.733 61.2011 Q101.733 68.3075 103.538 71.8723 Q105.367 75.414 108.978 75.414 Q112.612 75.414 114.418 71.8723 Q116.246 68.3075 116.246 61.2011 Q116.246 54.0715 114.418 50.5299 Q112.612 46.9651 108.978 46.9651 M108.978 43.2614 Q114.788 43.2614 117.844 47.8678 Q120.922 52.4511 120.922 61.2011 Q120.922 69.9279 117.844 74.5344 Q114.788 79.1177 108.978 79.1177 Q103.168 79.1177 100.089 74.5344 Q97.0335 69.9279 97.0335 61.2011 Q97.0335 52.4511 100.089 47.8678 Q103.168 43.2614 108.978 43.2614 Z\" fill=\"#000000\" fill-rule=\"nonzero\" fill-opacity=\"1\" /><circle clip-path=\"url(#clip682)\" cx=\"564.325\" cy=\"338.076\" r=\"14.4\" fill=\"#009af9\" fill-rule=\"evenodd\" fill-opacity=\"1\" stroke=\"#000000\" stroke-opacity=\"1\" stroke-width=\"3.2\"/>\n<circle clip-path=\"url(#clip682)\" cx=\"1427.47\" cy=\"725.75\" r=\"14.4\" fill=\"#009af9\" fill-rule=\"evenodd\" fill-opacity=\"1\" stroke=\"#000000\" stroke-opacity=\"1\" stroke-width=\"3.2\"/>\n<circle clip-path=\"url(#clip682)\" cx=\"219.069\" cy=\"116.548\" r=\"14.4\" fill=\"#009af9\" fill-rule=\"evenodd\" fill-opacity=\"1\" stroke=\"#000000\" stroke-opacity=\"1\" stroke-width=\"3.2\"/>\n<circle clip-path=\"url(#clip682)\" cx=\"2290.61\" cy=\"1445.72\" r=\"14.4\" fill=\"#009af9\" fill-rule=\"evenodd\" fill-opacity=\"1\" stroke=\"#000000\" stroke-opacity=\"1\" stroke-width=\"3.2\"/>\n<circle clip-path=\"url(#clip682)\" cx=\"909.582\" cy=\"504.222\" r=\"14.4\" fill=\"#009af9\" fill-rule=\"evenodd\" fill-opacity=\"1\" stroke=\"#000000\" stroke-opacity=\"1\" stroke-width=\"3.2\"/>\n<polyline clip-path=\"url(#clip682)\" style=\"stroke:#ff0000; stroke-linecap:round; stroke-linejoin:round; stroke-width:4; stroke-opacity:1; fill:none\" points=\"564.325,303.211 1427.47,841.297 219.069,87.9763 2290.61,1379.38 909.582,518.445 \"/>\n<path clip-path=\"url(#clip680)\" d=\"M1657.09 250.738 L2279.56 250.738 L2279.56 95.2176 L1657.09 95.2176  Z\" fill=\"#ffffff\" fill-rule=\"evenodd\" fill-opacity=\"1\"/>\n<polyline clip-path=\"url(#clip680)\" style=\"stroke:#000000; stroke-linecap:round; stroke-linejoin:round; stroke-width:4; stroke-opacity:1; fill:none\" points=\"1657.09,250.738 2279.56,250.738 2279.56,95.2176 1657.09,95.2176 1657.09,250.738 \"/>\n<circle clip-path=\"url(#clip680)\" cx=\"1754.68\" cy=\"147.058\" r=\"20.48\" fill=\"#009af9\" fill-rule=\"evenodd\" fill-opacity=\"1\" stroke=\"#000000\" stroke-opacity=\"1\" stroke-width=\"4.55111\"/>\n<path clip-path=\"url(#clip680)\" d=\"M1856.95 133.62 L1856.95 160.495 L1862.6 160.495 Q1869.75 160.495 1873.06 157.254 Q1876.39 154.014 1876.39 147.023 Q1876.39 140.078 1873.06 136.861 Q1869.75 133.62 1862.6 133.62 L1856.95 133.62 M1852.27 129.778 L1861.88 129.778 Q1871.92 129.778 1876.62 133.967 Q1881.32 138.134 1881.32 147.023 Q1881.32 155.958 1876.6 160.148 Q1871.88 164.338 1861.88 164.338 L1852.27 164.338 L1852.27 129.778 Z\" fill=\"#000000\" fill-rule=\"nonzero\" fill-opacity=\"1\" /><path clip-path=\"url(#clip680)\" d=\"M1900.37 151.305 Q1895.21 151.305 1893.22 152.486 Q1891.23 153.666 1891.23 156.514 Q1891.23 158.782 1892.71 160.125 Q1894.22 161.444 1896.79 161.444 Q1900.33 161.444 1902.46 158.944 Q1904.61 156.421 1904.61 152.254 L1904.61 151.305 L1900.37 151.305 M1908.87 149.546 L1908.87 164.338 L1904.61 164.338 L1904.61 160.402 Q1903.15 162.763 1900.98 163.898 Q1898.8 165.009 1895.65 165.009 Q1891.67 165.009 1889.31 162.787 Q1886.97 160.541 1886.97 156.791 Q1886.97 152.416 1889.89 150.194 Q1892.83 147.972 1898.64 147.972 L1904.61 147.972 L1904.61 147.555 Q1904.61 144.615 1902.67 143.018 Q1900.74 141.398 1897.25 141.398 Q1895.03 141.398 1892.92 141.93 Q1890.81 142.463 1888.87 143.527 L1888.87 139.592 Q1891.21 138.69 1893.41 138.25 Q1895.61 137.787 1897.69 137.787 Q1903.31 137.787 1906.09 140.703 Q1908.87 143.62 1908.87 149.546 Z\" fill=\"#000000\" fill-rule=\"nonzero\" fill-opacity=\"1\" /><path clip-path=\"url(#clip680)\" d=\"M1934.7 142.347 L1934.7 128.319 L1938.96 128.319 L1938.96 164.338 L1934.7 164.338 L1934.7 160.449 Q1933.36 162.763 1931.3 163.898 Q1929.26 165.009 1926.39 165.009 Q1921.69 165.009 1918.73 161.259 Q1915.79 157.509 1915.79 151.398 Q1915.79 145.287 1918.73 141.537 Q1921.69 137.787 1926.39 137.787 Q1929.26 137.787 1931.3 138.921 Q1933.36 140.032 1934.7 142.347 M1920.19 151.398 Q1920.19 156.097 1922.11 158.782 Q1924.05 161.444 1927.43 161.444 Q1930.81 161.444 1932.76 158.782 Q1934.7 156.097 1934.7 151.398 Q1934.7 146.699 1932.76 144.037 Q1930.81 141.352 1927.43 141.352 Q1924.05 141.352 1922.11 144.037 Q1920.19 146.699 1920.19 151.398 Z\" fill=\"#000000\" fill-rule=\"nonzero\" fill-opacity=\"1\" /><path clip-path=\"url(#clip680)\" d=\"M1957.78 141.398 Q1954.35 141.398 1952.36 144.083 Q1950.37 146.745 1950.37 151.398 Q1950.37 156.051 1952.34 158.736 Q1954.33 161.398 1957.78 161.398 Q1961.18 161.398 1963.17 158.713 Q1965.16 156.027 1965.16 151.398 Q1965.16 146.791 1963.17 144.106 Q1961.18 141.398 1957.78 141.398 M1957.78 137.787 Q1963.34 137.787 1966.51 141.398 Q1969.68 145.009 1969.68 151.398 Q1969.68 157.764 1966.51 161.398 Q1963.34 165.009 1957.78 165.009 Q1952.2 165.009 1949.03 161.398 Q1945.88 157.764 1945.88 151.398 Q1945.88 145.009 1949.03 141.398 Q1952.2 137.787 1957.78 137.787 Z\" fill=\"#000000\" fill-rule=\"nonzero\" fill-opacity=\"1\" /><path clip-path=\"url(#clip680)\" d=\"M1993.27 139.176 L1993.27 143.203 Q1991.46 142.277 1989.52 141.815 Q1987.57 141.352 1985.49 141.352 Q1982.32 141.352 1980.72 142.324 Q1979.15 143.296 1979.15 145.24 Q1979.15 146.722 1980.28 147.578 Q1981.41 148.412 1984.84 149.176 L1986.3 149.5 Q1990.84 150.472 1992.73 152.254 Q1994.66 154.014 1994.66 157.185 Q1994.66 160.796 1991.79 162.902 Q1988.94 165.009 1983.94 165.009 Q1981.85 165.009 1979.59 164.592 Q1977.34 164.199 1974.84 163.388 L1974.84 158.99 Q1977.2 160.217 1979.49 160.842 Q1981.79 161.444 1984.03 161.444 Q1987.04 161.444 1988.66 160.426 Q1990.28 159.384 1990.28 157.509 Q1990.28 155.773 1989.1 154.847 Q1987.94 153.921 1983.98 153.064 L1982.5 152.717 Q1978.54 151.884 1976.79 150.171 Q1975.03 148.435 1975.03 145.426 Q1975.03 141.768 1977.62 139.778 Q1980.21 137.787 1984.98 137.787 Q1987.34 137.787 1989.42 138.134 Q1991.51 138.481 1993.27 139.176 Z\" fill=\"#000000\" fill-rule=\"nonzero\" fill-opacity=\"1\" /><polyline clip-path=\"url(#clip680)\" style=\"stroke:#ff0000; stroke-linecap:round; stroke-linejoin:round; stroke-width:4; stroke-opacity:1; fill:none\" points=\"1681.48,198.898 1827.87,198.898 \"/>\n<path clip-path=\"url(#clip680)\" d=\"M1868.66 199.974 Q1870.17 200.483 1871.58 202.15 Q1873.01 203.817 1874.45 206.733 L1879.19 216.178 L1874.17 216.178 L1869.75 207.312 Q1868.04 203.84 1866.42 202.705 Q1864.82 201.571 1862.04 201.571 L1856.95 201.571 L1856.95 216.178 L1852.27 216.178 L1852.27 181.618 L1862.83 181.618 Q1868.75 181.618 1871.67 184.094 Q1874.59 186.571 1874.59 191.571 Q1874.59 194.835 1873.06 196.988 Q1871.55 199.141 1868.66 199.974 M1856.95 185.46 L1856.95 197.729 L1862.83 197.729 Q1866.21 197.729 1867.92 196.178 Q1869.66 194.604 1869.66 191.571 Q1869.66 188.539 1867.92 187.011 Q1866.21 185.46 1862.83 185.46 L1856.95 185.46 Z\" fill=\"#000000\" fill-rule=\"nonzero\" fill-opacity=\"1\" /><path clip-path=\"url(#clip680)\" d=\"M1905.07 202.15 L1905.07 204.233 L1885.49 204.233 Q1885.77 208.631 1888.13 210.946 Q1890.51 213.238 1894.75 213.238 Q1897.2 213.238 1899.49 212.636 Q1901.81 212.034 1904.08 210.83 L1904.08 214.858 Q1901.79 215.83 1899.38 216.34 Q1896.97 216.849 1894.49 216.849 Q1888.29 216.849 1884.66 213.238 Q1881.04 209.627 1881.04 203.469 Q1881.04 197.104 1884.47 193.377 Q1887.92 189.627 1893.75 189.627 Q1898.98 189.627 1902.02 193.006 Q1905.07 196.363 1905.07 202.15 M1900.81 200.9 Q1900.77 197.405 1898.85 195.321 Q1896.95 193.238 1893.8 193.238 Q1890.23 193.238 1888.08 195.252 Q1885.95 197.266 1885.63 200.923 L1900.81 200.9 Z\" fill=\"#000000\" fill-rule=\"nonzero\" fill-opacity=\"1\" /><path clip-path=\"url(#clip680)\" d=\"M1929.12 202.914 Q1929.12 198.284 1927.2 195.738 Q1925.3 193.192 1921.85 193.192 Q1918.43 193.192 1916.51 195.738 Q1914.61 198.284 1914.61 202.914 Q1914.61 207.52 1916.51 210.066 Q1918.43 212.613 1921.85 212.613 Q1925.3 212.613 1927.2 210.066 Q1929.12 207.52 1929.12 202.914 M1933.38 212.96 Q1933.38 219.58 1930.44 222.798 Q1927.5 226.039 1921.44 226.039 Q1919.19 226.039 1917.2 225.691 Q1915.21 225.367 1913.34 224.673 L1913.34 220.529 Q1915.21 221.548 1917.04 222.034 Q1918.87 222.52 1920.77 222.52 Q1924.96 222.52 1927.04 220.321 Q1929.12 218.145 1929.12 213.724 L1929.12 211.617 Q1927.8 213.909 1925.74 215.043 Q1923.68 216.178 1920.81 216.178 Q1916.04 216.178 1913.13 212.543 Q1910.21 208.909 1910.21 202.914 Q1910.21 196.895 1913.13 193.261 Q1916.04 189.627 1920.81 189.627 Q1923.68 189.627 1925.74 190.761 Q1927.8 191.895 1929.12 194.187 L1929.12 190.252 L1933.38 190.252 L1933.38 212.96 Z\" fill=\"#000000\" fill-rule=\"nonzero\" fill-opacity=\"1\" /><path clip-path=\"url(#clip680)\" d=\"M1957.18 194.233 Q1956.46 193.817 1955.6 193.631 Q1954.77 193.423 1953.75 193.423 Q1950.14 193.423 1948.2 195.784 Q1946.28 198.122 1946.28 202.52 L1946.28 216.178 L1941.99 216.178 L1941.99 190.252 L1946.28 190.252 L1946.28 194.28 Q1947.62 191.918 1949.77 190.784 Q1951.92 189.627 1955 189.627 Q1955.44 189.627 1955.98 189.696 Q1956.51 189.743 1957.16 189.858 L1957.18 194.233 Z\" fill=\"#000000\" fill-rule=\"nonzero\" fill-opacity=\"1\" /><path clip-path=\"url(#clip680)\" d=\"M1982.78 202.15 L1982.78 204.233 L1963.2 204.233 Q1963.48 208.631 1965.84 210.946 Q1968.22 213.238 1972.46 213.238 Q1974.91 213.238 1977.2 212.636 Q1979.52 212.034 1981.79 210.83 L1981.79 214.858 Q1979.49 215.83 1977.09 216.34 Q1974.68 216.849 1972.2 216.849 Q1966 216.849 1962.36 213.238 Q1958.75 209.627 1958.75 203.469 Q1958.75 197.104 1962.18 193.377 Q1965.63 189.627 1971.46 189.627 Q1976.69 189.627 1979.72 193.006 Q1982.78 196.363 1982.78 202.15 M1978.52 200.9 Q1978.47 197.405 1976.55 195.321 Q1974.66 193.238 1971.51 193.238 Q1967.94 193.238 1965.79 195.252 Q1963.66 197.266 1963.34 200.923 L1978.52 200.9 Z\" fill=\"#000000\" fill-rule=\"nonzero\" fill-opacity=\"1\" /><path clip-path=\"url(#clip680)\" d=\"M2006.3 191.016 L2006.3 195.043 Q2004.49 194.117 2002.55 193.655 Q2000.6 193.192 1998.52 193.192 Q1995.35 193.192 1993.75 194.164 Q1992.18 195.136 1992.18 197.08 Q1992.18 198.562 1993.31 199.418 Q1994.45 200.252 1997.87 201.016 L1999.33 201.34 Q2003.87 202.312 2005.77 204.094 Q2007.69 205.854 2007.69 209.025 Q2007.69 212.636 2004.82 214.742 Q2001.97 216.849 1996.97 216.849 Q1994.89 216.849 1992.62 216.432 Q1990.37 216.039 1987.87 215.228 L1987.87 210.83 Q1990.23 212.057 1992.53 212.682 Q1994.82 213.284 1997.06 213.284 Q2000.07 213.284 2001.69 212.266 Q2003.31 211.224 2003.31 209.349 Q2003.31 207.613 2002.13 206.687 Q2000.97 205.761 1997.02 204.904 L1995.54 204.557 Q1991.58 203.724 1989.82 202.011 Q1988.06 200.275 1988.06 197.266 Q1988.06 193.608 1990.65 191.618 Q1993.24 189.627 1998.01 189.627 Q2000.37 189.627 2002.46 189.974 Q2004.54 190.321 2006.3 191.016 Z\" fill=\"#000000\" fill-rule=\"nonzero\" fill-opacity=\"1\" /><path clip-path=\"url(#clip680)\" d=\"M2031 191.016 L2031 195.043 Q2029.19 194.117 2027.25 193.655 Q2025.3 193.192 2023.22 193.192 Q2020.05 193.192 2018.45 194.164 Q2016.88 195.136 2016.88 197.08 Q2016.88 198.562 2018.01 199.418 Q2019.15 200.252 2022.57 201.016 L2024.03 201.34 Q2028.57 202.312 2030.47 204.094 Q2032.39 205.854 2032.39 209.025 Q2032.39 212.636 2029.52 214.742 Q2026.67 216.849 2021.67 216.849 Q2019.59 216.849 2017.32 216.432 Q2015.07 216.039 2012.57 215.228 L2012.57 210.83 Q2014.93 212.057 2017.22 212.682 Q2019.52 213.284 2021.76 213.284 Q2024.77 213.284 2026.39 212.266 Q2028.01 211.224 2028.01 209.349 Q2028.01 207.613 2026.83 206.687 Q2025.67 205.761 2021.72 204.904 L2020.23 204.557 Q2016.28 203.724 2014.52 202.011 Q2012.76 200.275 2012.76 197.266 Q2012.76 193.608 2015.35 191.618 Q2017.94 189.627 2022.71 189.627 Q2025.07 189.627 2027.16 189.974 Q2029.24 190.321 2031 191.016 Z\" fill=\"#000000\" fill-rule=\"nonzero\" fill-opacity=\"1\" /><path clip-path=\"url(#clip680)\" d=\"M2050.95 203.145 Q2045.79 203.145 2043.8 204.326 Q2041.81 205.506 2041.81 208.354 Q2041.81 210.622 2043.29 211.965 Q2044.79 213.284 2047.36 213.284 Q2050.91 213.284 2053.03 210.784 Q2055.19 208.261 2055.19 204.094 L2055.19 203.145 L2050.95 203.145 M2059.45 201.386 L2059.45 216.178 L2055.19 216.178 L2055.19 212.242 Q2053.73 214.603 2051.55 215.738 Q2049.38 216.849 2046.23 216.849 Q2042.25 216.849 2039.89 214.627 Q2037.55 212.381 2037.55 208.631 Q2037.55 204.256 2040.47 202.034 Q2043.41 199.812 2049.22 199.812 L2055.19 199.812 L2055.19 199.395 Q2055.19 196.455 2053.24 194.858 Q2051.32 193.238 2047.83 193.238 Q2045.6 193.238 2043.5 193.77 Q2041.39 194.303 2039.45 195.367 L2039.45 191.432 Q2041.78 190.53 2043.98 190.09 Q2046.18 189.627 2048.27 189.627 Q2053.89 189.627 2056.67 192.543 Q2059.45 195.46 2059.45 201.386 M2048.36 184.465 L2047.04 183.192 Q2046.53 182.729 2046.14 182.52 Q2045.77 182.289 2045.47 182.289 Q2044.59 182.289 2044.17 183.145 Q2043.75 183.979 2043.71 185.877 L2040.81 185.877 Q2040.86 182.752 2042.04 181.062 Q2043.22 179.349 2045.33 179.349 Q2046.21 179.349 2046.95 179.673 Q2047.69 179.997 2048.54 180.761 L2049.86 182.034 Q2050.37 182.497 2050.74 182.729 Q2051.14 182.937 2051.44 182.937 Q2052.32 182.937 2052.73 182.104 Q2053.15 181.247 2053.2 179.349 L2056.09 179.349 Q2056.04 182.474 2054.86 184.187 Q2053.68 185.877 2051.58 185.877 Q2050.7 185.877 2049.96 185.553 Q2049.22 185.229 2048.36 184.465 Z\" fill=\"#000000\" fill-rule=\"nonzero\" fill-opacity=\"1\" /><path clip-path=\"url(#clip680)\" d=\"M2078.27 193.238 Q2074.84 193.238 2072.85 195.923 Q2070.86 198.585 2070.86 203.238 Q2070.86 207.891 2072.83 210.576 Q2074.82 213.238 2078.27 213.238 Q2081.67 213.238 2083.66 210.553 Q2085.65 207.867 2085.65 203.238 Q2085.65 198.631 2083.66 195.946 Q2081.67 193.238 2078.27 193.238 M2078.27 189.627 Q2083.82 189.627 2086.99 193.238 Q2090.16 196.849 2090.16 203.238 Q2090.16 209.604 2086.99 213.238 Q2083.82 216.849 2078.27 216.849 Q2072.69 216.849 2069.52 213.238 Q2066.37 209.604 2066.37 203.238 Q2066.37 196.849 2069.52 193.238 Q2072.69 189.627 2078.27 189.627 Z\" fill=\"#000000\" fill-rule=\"nonzero\" fill-opacity=\"1\" /><path clip-path=\"url(#clip680)\" d=\"M2112.48 181.618 L2117.15 181.618 L2117.15 212.242 L2133.98 212.242 L2133.98 216.178 L2112.48 216.178 L2112.48 181.618 Z\" fill=\"#000000\" fill-rule=\"nonzero\" fill-opacity=\"1\" /><path clip-path=\"url(#clip680)\" d=\"M2138.71 190.252 L2142.96 190.252 L2142.96 216.178 L2138.71 216.178 L2138.71 190.252 M2138.71 180.159 L2142.96 180.159 L2142.96 185.553 L2138.71 185.553 L2138.71 180.159 Z\" fill=\"#000000\" fill-rule=\"nonzero\" fill-opacity=\"1\" /><path clip-path=\"url(#clip680)\" d=\"M2173.43 200.529 L2173.43 216.178 L2169.17 216.178 L2169.17 200.668 Q2169.17 196.988 2167.73 195.159 Q2166.3 193.33 2163.43 193.33 Q2159.98 193.33 2157.99 195.53 Q2156 197.729 2156 201.525 L2156 216.178 L2151.71 216.178 L2151.71 190.252 L2156 190.252 L2156 194.28 Q2157.52 191.942 2159.59 190.784 Q2161.67 189.627 2164.38 189.627 Q2168.84 189.627 2171.14 192.405 Q2173.43 195.159 2173.43 200.529 Z\" fill=\"#000000\" fill-rule=\"nonzero\" fill-opacity=\"1\" /><path clip-path=\"url(#clip680)\" d=\"M2204.1 202.15 L2204.1 204.233 L2184.52 204.233 Q2184.79 208.631 2187.15 210.946 Q2189.54 213.238 2193.77 213.238 Q2196.23 213.238 2198.52 212.636 Q2200.83 212.034 2203.1 210.83 L2203.1 214.858 Q2200.81 215.83 2198.4 216.34 Q2196 216.849 2193.52 216.849 Q2187.32 216.849 2183.68 213.238 Q2180.07 209.627 2180.07 203.469 Q2180.07 197.104 2183.5 193.377 Q2186.95 189.627 2192.78 189.627 Q2198.01 189.627 2201.04 193.006 Q2204.1 196.363 2204.1 202.15 M2199.84 200.9 Q2199.79 197.405 2197.87 195.321 Q2195.97 193.238 2192.83 193.238 Q2189.26 193.238 2187.11 195.252 Q2184.98 197.266 2184.65 200.923 L2199.84 200.9 Z\" fill=\"#000000\" fill-rule=\"nonzero\" fill-opacity=\"1\" /><path clip-path=\"url(#clip680)\" d=\"M2222.87 203.145 Q2217.71 203.145 2215.72 204.326 Q2213.73 205.506 2213.73 208.354 Q2213.73 210.622 2215.21 211.965 Q2216.71 213.284 2219.28 213.284 Q2222.83 213.284 2224.96 210.784 Q2227.11 208.261 2227.11 204.094 L2227.11 203.145 L2222.87 203.145 M2231.37 201.386 L2231.37 216.178 L2227.11 216.178 L2227.11 212.242 Q2225.65 214.603 2223.47 215.738 Q2221.3 216.849 2218.15 216.849 Q2214.17 216.849 2211.81 214.627 Q2209.47 212.381 2209.47 208.631 Q2209.47 204.256 2212.39 202.034 Q2215.33 199.812 2221.14 199.812 L2227.11 199.812 L2227.11 199.395 Q2227.11 196.455 2225.16 194.858 Q2223.24 193.238 2219.75 193.238 Q2217.52 193.238 2215.42 193.77 Q2213.31 194.303 2211.37 195.367 L2211.37 191.432 Q2213.71 190.53 2215.9 190.09 Q2218.1 189.627 2220.19 189.627 Q2225.81 189.627 2228.59 192.543 Q2231.37 195.46 2231.37 201.386 Z\" fill=\"#000000\" fill-rule=\"nonzero\" fill-opacity=\"1\" /><path clip-path=\"url(#clip680)\" d=\"M2255.16 194.233 Q2254.45 193.817 2253.59 193.631 Q2252.76 193.423 2251.74 193.423 Q2248.13 193.423 2246.18 195.784 Q2244.26 198.122 2244.26 202.52 L2244.26 216.178 L2239.98 216.178 L2239.98 190.252 L2244.26 190.252 L2244.26 194.28 Q2245.6 191.918 2247.76 190.784 Q2249.91 189.627 2252.99 189.627 Q2253.43 189.627 2253.96 189.696 Q2254.49 189.743 2255.14 189.858 L2255.16 194.233 Z\" fill=\"#000000\" fill-rule=\"nonzero\" fill-opacity=\"1\" /></svg>\n"
          },
          "metadata": {},
          "execution_count": 60
        }
      ]
    },
    {
      "cell_type": "code",
      "source": [
        "# Gerando um gráfico de dispersão e a linha de regressão\n",
        "scatter(x, y, label=\"Dados\")\n",
        "plot!(x, x -> coef_angular * x + intercepto, label=\"Regressão Linear\", color=:red)"
      ],
      "metadata": {
        "colab": {
          "base_uri": "https://localhost:8080/",
          "height": 421
        },
        "id": "9d_As3Tg0EE2",
        "outputId": "9b2e6123-166f-4086-8831-2d98d1d08afe"
      },
      "execution_count": null,
      "outputs": [
        {
          "output_type": "execute_result",
          "data": {
            "image/svg+xml": "<?xml version=\"1.0\" encoding=\"utf-8\"?>\n<svg xmlns=\"http://www.w3.org/2000/svg\" xmlns:xlink=\"http://www.w3.org/1999/xlink\" width=\"600\" height=\"400\" viewBox=\"0 0 2400 1600\">\n<defs>\n  <clipPath id=\"clip720\">\n    <rect x=\"0\" y=\"0\" width=\"2400\" height=\"1600\"/>\n  </clipPath>\n</defs>\n<path clip-path=\"url(#clip720)\" d=\"M0 1600 L2400 1600 L2400 0 L0 0  Z\" fill=\"#ffffff\" fill-rule=\"evenodd\" fill-opacity=\"1\"/>\n<defs>\n  <clipPath id=\"clip721\">\n    <rect x=\"480\" y=\"0\" width=\"1681\" height=\"1600\"/>\n  </clipPath>\n</defs>\n<path clip-path=\"url(#clip720)\" d=\"M156.922 1486.45 L2352.76 1486.45 L2352.76 47.2441 L156.922 47.2441  Z\" fill=\"#ffffff\" fill-rule=\"evenodd\" fill-opacity=\"1\"/>\n<defs>\n  <clipPath id=\"clip722\">\n    <rect x=\"156\" y=\"47\" width=\"2197\" height=\"1440\"/>\n  </clipPath>\n</defs>\n<polyline clip-path=\"url(#clip722)\" style=\"stroke:#000000; stroke-linecap:round; stroke-linejoin:round; stroke-width:2; stroke-opacity:0.1; fill:none\" points=\"564.325,1486.45 564.325,47.2441 \"/>\n<polyline clip-path=\"url(#clip722)\" style=\"stroke:#000000; stroke-linecap:round; stroke-linejoin:round; stroke-width:2; stroke-opacity:0.1; fill:none\" points=\"995.896,1486.45 995.896,47.2441 \"/>\n<polyline clip-path=\"url(#clip722)\" style=\"stroke:#000000; stroke-linecap:round; stroke-linejoin:round; stroke-width:2; stroke-opacity:0.1; fill:none\" points=\"1427.47,1486.45 1427.47,47.2441 \"/>\n<polyline clip-path=\"url(#clip722)\" style=\"stroke:#000000; stroke-linecap:round; stroke-linejoin:round; stroke-width:2; stroke-opacity:0.1; fill:none\" points=\"1859.04,1486.45 1859.04,47.2441 \"/>\n<polyline clip-path=\"url(#clip722)\" style=\"stroke:#000000; stroke-linecap:round; stroke-linejoin:round; stroke-width:2; stroke-opacity:0.1; fill:none\" points=\"2290.61,1486.45 2290.61,47.2441 \"/>\n<polyline clip-path=\"url(#clip720)\" style=\"stroke:#000000; stroke-linecap:round; stroke-linejoin:round; stroke-width:4; stroke-opacity:1; fill:none\" points=\"156.922,1486.45 2352.76,1486.45 \"/>\n<polyline clip-path=\"url(#clip720)\" style=\"stroke:#000000; stroke-linecap:round; stroke-linejoin:round; stroke-width:4; stroke-opacity:1; fill:none\" points=\"564.325,1486.45 564.325,1467.55 \"/>\n<polyline clip-path=\"url(#clip720)\" style=\"stroke:#000000; stroke-linecap:round; stroke-linejoin:round; stroke-width:4; stroke-opacity:1; fill:none\" points=\"995.896,1486.45 995.896,1467.55 \"/>\n<polyline clip-path=\"url(#clip720)\" style=\"stroke:#000000; stroke-linecap:round; stroke-linejoin:round; stroke-width:4; stroke-opacity:1; fill:none\" points=\"1427.47,1486.45 1427.47,1467.55 \"/>\n<polyline clip-path=\"url(#clip720)\" style=\"stroke:#000000; stroke-linecap:round; stroke-linejoin:round; stroke-width:4; stroke-opacity:1; fill:none\" points=\"1859.04,1486.45 1859.04,1467.55 \"/>\n<polyline clip-path=\"url(#clip720)\" style=\"stroke:#000000; stroke-linecap:round; stroke-linejoin:round; stroke-width:4; stroke-opacity:1; fill:none\" points=\"2290.61,1486.45 2290.61,1467.55 \"/>\n<path clip-path=\"url(#clip720)\" d=\"M508.851 1544.91 L516.49 1544.91 L516.49 1518.55 L508.18 1520.21 L508.18 1515.95 L516.444 1514.29 L521.12 1514.29 L521.12 1544.91 L528.758 1544.91 L528.758 1548.85 L508.851 1548.85 L508.851 1544.91 Z\" fill=\"#000000\" fill-rule=\"nonzero\" fill-opacity=\"1\" /><path clip-path=\"url(#clip720)\" d=\"M548.203 1517.37 Q544.592 1517.37 542.763 1520.93 Q540.957 1524.47 540.957 1531.6 Q540.957 1538.71 542.763 1542.27 Q544.592 1545.82 548.203 1545.82 Q551.837 1545.82 553.643 1542.27 Q555.471 1538.71 555.471 1531.6 Q555.471 1524.47 553.643 1520.93 Q551.837 1517.37 548.203 1517.37 M548.203 1513.66 Q554.013 1513.66 557.068 1518.27 Q560.147 1522.85 560.147 1531.6 Q560.147 1540.33 557.068 1544.94 Q554.013 1549.52 548.203 1549.52 Q542.393 1549.52 539.314 1544.94 Q536.258 1540.33 536.258 1531.6 Q536.258 1522.85 539.314 1518.27 Q542.393 1513.66 548.203 1513.66 Z\" fill=\"#000000\" fill-rule=\"nonzero\" fill-opacity=\"1\" /><path clip-path=\"url(#clip720)\" d=\"M578.365 1517.37 Q574.754 1517.37 572.925 1520.93 Q571.119 1524.47 571.119 1531.6 Q571.119 1538.71 572.925 1542.27 Q574.754 1545.82 578.365 1545.82 Q581.999 1545.82 583.804 1542.27 Q585.633 1538.71 585.633 1531.6 Q585.633 1524.47 583.804 1520.93 Q581.999 1517.37 578.365 1517.37 M578.365 1513.66 Q584.175 1513.66 587.23 1518.27 Q590.309 1522.85 590.309 1531.6 Q590.309 1540.33 587.23 1544.94 Q584.175 1549.52 578.365 1549.52 Q572.555 1549.52 569.476 1544.94 Q566.42 1540.33 566.42 1531.6 Q566.42 1522.85 569.476 1518.27 Q572.555 1513.66 578.365 1513.66 Z\" fill=\"#000000\" fill-rule=\"nonzero\" fill-opacity=\"1\" /><path clip-path=\"url(#clip720)\" d=\"M608.527 1517.37 Q604.915 1517.37 603.087 1520.93 Q601.281 1524.47 601.281 1531.6 Q601.281 1538.71 603.087 1542.27 Q604.915 1545.82 608.527 1545.82 Q612.161 1545.82 613.966 1542.27 Q615.795 1538.71 615.795 1531.6 Q615.795 1524.47 613.966 1520.93 Q612.161 1517.37 608.527 1517.37 M608.527 1513.66 Q614.337 1513.66 617.392 1518.27 Q620.471 1522.85 620.471 1531.6 Q620.471 1540.33 617.392 1544.94 Q614.337 1549.52 608.527 1549.52 Q602.716 1549.52 599.638 1544.94 Q596.582 1540.33 596.582 1531.6 Q596.582 1522.85 599.638 1518.27 Q602.716 1513.66 608.527 1513.66 Z\" fill=\"#000000\" fill-rule=\"nonzero\" fill-opacity=\"1\" /><path clip-path=\"url(#clip720)\" d=\"M940.422 1544.91 L948.061 1544.91 L948.061 1518.55 L939.751 1520.21 L939.751 1515.95 L948.015 1514.29 L952.691 1514.29 L952.691 1544.91 L960.33 1544.91 L960.33 1548.85 L940.422 1548.85 L940.422 1544.91 Z\" fill=\"#000000\" fill-rule=\"nonzero\" fill-opacity=\"1\" /><path clip-path=\"url(#clip720)\" d=\"M973.802 1544.91 L990.121 1544.91 L990.121 1548.85 L968.177 1548.85 L968.177 1544.91 Q970.839 1542.16 975.422 1537.53 Q980.028 1532.88 981.209 1531.53 Q983.454 1529.01 984.334 1527.27 Q985.237 1525.51 985.237 1523.82 Q985.237 1521.07 983.292 1519.33 Q981.371 1517.6 978.269 1517.6 Q976.07 1517.6 973.616 1518.36 Q971.186 1519.13 968.408 1520.68 L968.408 1515.95 Q971.232 1514.82 973.686 1514.24 Q976.14 1513.66 978.177 1513.66 Q983.547 1513.66 986.741 1516.35 Q989.936 1519.03 989.936 1523.52 Q989.936 1525.65 989.126 1527.57 Q988.339 1529.47 986.232 1532.07 Q985.653 1532.74 982.552 1535.95 Q979.45 1539.15 973.802 1544.91 Z\" fill=\"#000000\" fill-rule=\"nonzero\" fill-opacity=\"1\" /><path clip-path=\"url(#clip720)\" d=\"M999.982 1514.29 L1018.34 1514.29 L1018.34 1518.22 L1004.26 1518.22 L1004.26 1526.7 Q1005.28 1526.35 1006.3 1526.19 Q1007.32 1526 1008.34 1526 Q1014.13 1526 1017.51 1529.17 Q1020.88 1532.34 1020.88 1537.76 Q1020.88 1543.34 1017.41 1546.44 Q1013.94 1549.52 1007.62 1549.52 Q1005.45 1549.52 1003.18 1549.15 Q1000.93 1548.78 998.524 1548.04 L998.524 1543.34 Q1000.61 1544.47 1002.83 1545.03 Q1005.05 1545.58 1007.53 1545.58 Q1011.53 1545.58 1013.87 1543.48 Q1016.21 1541.37 1016.21 1537.76 Q1016.21 1534.15 1013.87 1532.04 Q1011.53 1529.94 1007.53 1529.94 Q1005.65 1529.94 1003.78 1530.35 Q1001.93 1530.77 999.982 1531.65 L999.982 1514.29 Z\" fill=\"#000000\" fill-rule=\"nonzero\" fill-opacity=\"1\" /><path clip-path=\"url(#clip720)\" d=\"M1040.1 1517.37 Q1036.49 1517.37 1034.66 1520.93 Q1032.85 1524.47 1032.85 1531.6 Q1032.85 1538.71 1034.66 1542.27 Q1036.49 1545.82 1040.1 1545.82 Q1043.73 1545.82 1045.54 1542.27 Q1047.37 1538.71 1047.37 1531.6 Q1047.37 1524.47 1045.54 1520.93 Q1043.73 1517.37 1040.1 1517.37 M1040.1 1513.66 Q1045.91 1513.66 1048.96 1518.27 Q1052.04 1522.85 1052.04 1531.6 Q1052.04 1540.33 1048.96 1544.94 Q1045.91 1549.52 1040.1 1549.52 Q1034.29 1549.52 1031.21 1544.94 Q1028.15 1540.33 1028.15 1531.6 Q1028.15 1522.85 1031.21 1518.27 Q1034.29 1513.66 1040.1 1513.66 Z\" fill=\"#000000\" fill-rule=\"nonzero\" fill-opacity=\"1\" /><path clip-path=\"url(#clip720)\" d=\"M1371.99 1544.91 L1379.63 1544.91 L1379.63 1518.55 L1371.32 1520.21 L1371.32 1515.95 L1379.59 1514.29 L1384.26 1514.29 L1384.26 1544.91 L1391.9 1544.91 L1391.9 1548.85 L1371.99 1548.85 L1371.99 1544.91 Z\" fill=\"#000000\" fill-rule=\"nonzero\" fill-opacity=\"1\" /><path clip-path=\"url(#clip720)\" d=\"M1401.39 1514.29 L1419.75 1514.29 L1419.75 1518.22 L1405.67 1518.22 L1405.67 1526.7 Q1406.69 1526.35 1407.71 1526.19 Q1408.73 1526 1409.75 1526 Q1415.53 1526 1418.91 1529.17 Q1422.29 1532.34 1422.29 1537.76 Q1422.29 1543.34 1418.82 1546.44 Q1415.35 1549.52 1409.03 1549.52 Q1406.85 1549.52 1404.59 1549.15 Q1402.34 1548.78 1399.93 1548.04 L1399.93 1543.34 Q1402.02 1544.47 1404.24 1545.03 Q1406.46 1545.58 1408.94 1545.58 Q1412.94 1545.58 1415.28 1543.48 Q1417.62 1541.37 1417.62 1537.76 Q1417.62 1534.15 1415.28 1532.04 Q1412.94 1529.94 1408.94 1529.94 Q1407.06 1529.94 1405.19 1530.35 Q1403.34 1530.77 1401.39 1531.65 L1401.39 1514.29 Z\" fill=\"#000000\" fill-rule=\"nonzero\" fill-opacity=\"1\" /><path clip-path=\"url(#clip720)\" d=\"M1441.51 1517.37 Q1437.9 1517.37 1436.07 1520.93 Q1434.26 1524.47 1434.26 1531.6 Q1434.26 1538.71 1436.07 1542.27 Q1437.9 1545.82 1441.51 1545.82 Q1445.14 1545.82 1446.95 1542.27 Q1448.78 1538.71 1448.78 1531.6 Q1448.78 1524.47 1446.95 1520.93 Q1445.14 1517.37 1441.51 1517.37 M1441.51 1513.66 Q1447.32 1513.66 1450.37 1518.27 Q1453.45 1522.85 1453.45 1531.6 Q1453.45 1540.33 1450.37 1544.94 Q1447.32 1549.52 1441.51 1549.52 Q1435.7 1549.52 1432.62 1544.94 Q1429.56 1540.33 1429.56 1531.6 Q1429.56 1522.85 1432.62 1518.27 Q1435.7 1513.66 1441.51 1513.66 Z\" fill=\"#000000\" fill-rule=\"nonzero\" fill-opacity=\"1\" /><path clip-path=\"url(#clip720)\" d=\"M1471.67 1517.37 Q1468.06 1517.37 1466.23 1520.93 Q1464.42 1524.47 1464.42 1531.6 Q1464.42 1538.71 1466.23 1542.27 Q1468.06 1545.82 1471.67 1545.82 Q1475.3 1545.82 1477.11 1542.27 Q1478.94 1538.71 1478.94 1531.6 Q1478.94 1524.47 1477.11 1520.93 Q1475.3 1517.37 1471.67 1517.37 M1471.67 1513.66 Q1477.48 1513.66 1480.53 1518.27 Q1483.61 1522.85 1483.61 1531.6 Q1483.61 1540.33 1480.53 1544.94 Q1477.48 1549.52 1471.67 1549.52 Q1465.86 1549.52 1462.78 1544.94 Q1459.72 1540.33 1459.72 1531.6 Q1459.72 1522.85 1462.78 1518.27 Q1465.86 1513.66 1471.67 1513.66 Z\" fill=\"#000000\" fill-rule=\"nonzero\" fill-opacity=\"1\" /><path clip-path=\"url(#clip720)\" d=\"M1803.56 1544.91 L1811.2 1544.91 L1811.2 1518.55 L1802.89 1520.21 L1802.89 1515.95 L1811.16 1514.29 L1815.83 1514.29 L1815.83 1544.91 L1823.47 1544.91 L1823.47 1548.85 L1803.56 1548.85 L1803.56 1544.91 Z\" fill=\"#000000\" fill-rule=\"nonzero\" fill-opacity=\"1\" /><path clip-path=\"url(#clip720)\" d=\"M1831.74 1514.29 L1853.96 1514.29 L1853.96 1516.28 L1841.41 1548.85 L1836.53 1548.85 L1848.33 1518.22 L1831.74 1518.22 L1831.74 1514.29 Z\" fill=\"#000000\" fill-rule=\"nonzero\" fill-opacity=\"1\" /><path clip-path=\"url(#clip720)\" d=\"M1863.12 1514.29 L1881.48 1514.29 L1881.48 1518.22 L1867.41 1518.22 L1867.41 1526.7 Q1868.43 1526.35 1869.44 1526.19 Q1870.46 1526 1871.48 1526 Q1877.27 1526 1880.65 1529.17 Q1884.03 1532.34 1884.03 1537.76 Q1884.03 1543.34 1880.55 1546.44 Q1877.08 1549.52 1870.76 1549.52 Q1868.59 1549.52 1866.32 1549.15 Q1864.07 1548.78 1861.67 1548.04 L1861.67 1543.34 Q1863.75 1544.47 1865.97 1545.03 Q1868.19 1545.58 1870.67 1545.58 Q1874.68 1545.58 1877.01 1543.48 Q1879.35 1541.37 1879.35 1537.76 Q1879.35 1534.15 1877.01 1532.04 Q1874.68 1529.94 1870.67 1529.94 Q1868.8 1529.94 1866.92 1530.35 Q1865.07 1530.77 1863.12 1531.65 L1863.12 1514.29 Z\" fill=\"#000000\" fill-rule=\"nonzero\" fill-opacity=\"1\" /><path clip-path=\"url(#clip720)\" d=\"M1903.24 1517.37 Q1899.63 1517.37 1897.8 1520.93 Q1895.99 1524.47 1895.99 1531.6 Q1895.99 1538.71 1897.8 1542.27 Q1899.63 1545.82 1903.24 1545.82 Q1906.87 1545.82 1908.68 1542.27 Q1910.51 1538.71 1910.51 1531.6 Q1910.51 1524.47 1908.68 1520.93 Q1906.87 1517.37 1903.24 1517.37 M1903.24 1513.66 Q1909.05 1513.66 1912.11 1518.27 Q1915.18 1522.85 1915.18 1531.6 Q1915.18 1540.33 1912.11 1544.94 Q1909.05 1549.52 1903.24 1549.52 Q1897.43 1549.52 1894.35 1544.94 Q1891.3 1540.33 1891.3 1531.6 Q1891.3 1522.85 1894.35 1518.27 Q1897.43 1513.66 1903.24 1513.66 Z\" fill=\"#000000\" fill-rule=\"nonzero\" fill-opacity=\"1\" /><path clip-path=\"url(#clip720)\" d=\"M2239.22 1544.91 L2255.54 1544.91 L2255.54 1548.85 L2233.6 1548.85 L2233.6 1544.91 Q2236.26 1542.16 2240.84 1537.53 Q2245.45 1532.88 2246.63 1531.53 Q2248.87 1529.01 2249.75 1527.27 Q2250.66 1525.51 2250.66 1523.82 Q2250.66 1521.07 2248.71 1519.33 Q2246.79 1517.6 2243.69 1517.6 Q2241.49 1517.6 2239.04 1518.36 Q2236.61 1519.13 2233.83 1520.68 L2233.83 1515.95 Q2236.65 1514.82 2239.11 1514.24 Q2241.56 1513.66 2243.6 1513.66 Q2248.97 1513.66 2252.16 1516.35 Q2255.36 1519.03 2255.36 1523.52 Q2255.36 1525.65 2254.55 1527.57 Q2253.76 1529.47 2251.65 1532.07 Q2251.07 1532.74 2247.97 1535.95 Q2244.87 1539.15 2239.22 1544.91 Z\" fill=\"#000000\" fill-rule=\"nonzero\" fill-opacity=\"1\" /><path clip-path=\"url(#clip720)\" d=\"M2275.36 1517.37 Q2271.74 1517.37 2269.92 1520.93 Q2268.11 1524.47 2268.11 1531.6 Q2268.11 1538.71 2269.92 1542.27 Q2271.74 1545.82 2275.36 1545.82 Q2278.99 1545.82 2280.79 1542.27 Q2282.62 1538.71 2282.62 1531.6 Q2282.62 1524.47 2280.79 1520.93 Q2278.99 1517.37 2275.36 1517.37 M2275.36 1513.66 Q2281.17 1513.66 2284.22 1518.27 Q2287.3 1522.85 2287.3 1531.6 Q2287.3 1540.33 2284.22 1544.94 Q2281.17 1549.52 2275.36 1549.52 Q2269.54 1549.52 2266.47 1544.94 Q2263.41 1540.33 2263.41 1531.6 Q2263.41 1522.85 2266.47 1518.27 Q2269.54 1513.66 2275.36 1513.66 Z\" fill=\"#000000\" fill-rule=\"nonzero\" fill-opacity=\"1\" /><path clip-path=\"url(#clip720)\" d=\"M2305.52 1517.37 Q2301.91 1517.37 2300.08 1520.93 Q2298.27 1524.47 2298.27 1531.6 Q2298.27 1538.71 2300.08 1542.27 Q2301.91 1545.82 2305.52 1545.82 Q2309.15 1545.82 2310.96 1542.27 Q2312.79 1538.71 2312.79 1531.6 Q2312.79 1524.47 2310.96 1520.93 Q2309.15 1517.37 2305.52 1517.37 M2305.52 1513.66 Q2311.33 1513.66 2314.38 1518.27 Q2317.46 1522.85 2317.46 1531.6 Q2317.46 1540.33 2314.38 1544.94 Q2311.33 1549.52 2305.52 1549.52 Q2299.71 1549.52 2296.63 1544.94 Q2293.57 1540.33 2293.57 1531.6 Q2293.57 1522.85 2296.63 1518.27 Q2299.71 1513.66 2305.52 1513.66 Z\" fill=\"#000000\" fill-rule=\"nonzero\" fill-opacity=\"1\" /><path clip-path=\"url(#clip720)\" d=\"M2335.68 1517.37 Q2332.07 1517.37 2330.24 1520.93 Q2328.43 1524.47 2328.43 1531.6 Q2328.43 1538.71 2330.24 1542.27 Q2332.07 1545.82 2335.68 1545.82 Q2339.31 1545.82 2341.12 1542.27 Q2342.95 1538.71 2342.95 1531.6 Q2342.95 1524.47 2341.12 1520.93 Q2339.31 1517.37 2335.68 1517.37 M2335.68 1513.66 Q2341.49 1513.66 2344.54 1518.27 Q2347.62 1522.85 2347.62 1531.6 Q2347.62 1540.33 2344.54 1544.94 Q2341.49 1549.52 2335.68 1549.52 Q2329.87 1549.52 2326.79 1544.94 Q2323.73 1540.33 2323.73 1531.6 Q2323.73 1522.85 2326.79 1518.27 Q2329.87 1513.66 2335.68 1513.66 Z\" fill=\"#000000\" fill-rule=\"nonzero\" fill-opacity=\"1\" /><polyline clip-path=\"url(#clip722)\" style=\"stroke:#000000; stroke-linecap:round; stroke-linejoin:round; stroke-width:2; stroke-opacity:0.1; fill:none\" points=\"156.922,1445.72 2352.76,1445.72 \"/>\n<polyline clip-path=\"url(#clip722)\" style=\"stroke:#000000; stroke-linecap:round; stroke-linejoin:round; stroke-width:2; stroke-opacity:0.1; fill:none\" points=\"156.922,1168.81 2352.76,1168.81 \"/>\n<polyline clip-path=\"url(#clip722)\" style=\"stroke:#000000; stroke-linecap:round; stroke-linejoin:round; stroke-width:2; stroke-opacity:0.1; fill:none\" points=\"156.922,891.896 2352.76,891.896 \"/>\n<polyline clip-path=\"url(#clip722)\" style=\"stroke:#000000; stroke-linecap:round; stroke-linejoin:round; stroke-width:2; stroke-opacity:0.1; fill:none\" points=\"156.922,614.986 2352.76,614.986 \"/>\n<polyline clip-path=\"url(#clip722)\" style=\"stroke:#000000; stroke-linecap:round; stroke-linejoin:round; stroke-width:2; stroke-opacity:0.1; fill:none\" points=\"156.922,338.076 2352.76,338.076 \"/>\n<polyline clip-path=\"url(#clip722)\" style=\"stroke:#000000; stroke-linecap:round; stroke-linejoin:round; stroke-width:2; stroke-opacity:0.1; fill:none\" points=\"156.922,61.1664 2352.76,61.1664 \"/>\n<polyline clip-path=\"url(#clip720)\" style=\"stroke:#000000; stroke-linecap:round; stroke-linejoin:round; stroke-width:4; stroke-opacity:1; fill:none\" points=\"156.922,1486.45 156.922,47.2441 \"/>\n<polyline clip-path=\"url(#clip720)\" style=\"stroke:#000000; stroke-linecap:round; stroke-linejoin:round; stroke-width:4; stroke-opacity:1; fill:none\" points=\"156.922,1445.72 175.82,1445.72 \"/>\n<polyline clip-path=\"url(#clip720)\" style=\"stroke:#000000; stroke-linecap:round; stroke-linejoin:round; stroke-width:4; stroke-opacity:1; fill:none\" points=\"156.922,1168.81 175.82,1168.81 \"/>\n<polyline clip-path=\"url(#clip720)\" style=\"stroke:#000000; stroke-linecap:round; stroke-linejoin:round; stroke-width:4; stroke-opacity:1; fill:none\" points=\"156.922,891.896 175.82,891.896 \"/>\n<polyline clip-path=\"url(#clip720)\" style=\"stroke:#000000; stroke-linecap:round; stroke-linejoin:round; stroke-width:4; stroke-opacity:1; fill:none\" points=\"156.922,614.986 175.82,614.986 \"/>\n<polyline clip-path=\"url(#clip720)\" style=\"stroke:#000000; stroke-linecap:round; stroke-linejoin:round; stroke-width:4; stroke-opacity:1; fill:none\" points=\"156.922,338.076 175.82,338.076 \"/>\n<polyline clip-path=\"url(#clip720)\" style=\"stroke:#000000; stroke-linecap:round; stroke-linejoin:round; stroke-width:4; stroke-opacity:1; fill:none\" points=\"156.922,61.1664 175.82,61.1664 \"/>\n<path clip-path=\"url(#clip720)\" d=\"M58.7699 1459.06 L75.0892 1459.06 L75.0892 1463 L53.1449 1463 L53.1449 1459.06 Q55.8069 1456.31 60.3902 1451.68 Q64.9967 1447.02 66.1772 1445.68 Q68.4226 1443.16 69.3022 1441.42 Q70.205 1439.66 70.205 1437.97 Q70.205 1435.22 68.2606 1433.48 Q66.3393 1431.75 63.2374 1431.75 Q61.0384 1431.75 58.5847 1432.51 Q56.1541 1433.27 53.3764 1434.82 L53.3764 1430.1 Q56.2004 1428.97 58.6541 1428.39 Q61.1078 1427.81 63.1448 1427.81 Q68.5152 1427.81 71.7096 1430.5 Q74.904 1433.18 74.904 1437.67 Q74.904 1439.8 74.0939 1441.72 Q73.3068 1443.62 71.2004 1446.21 Q70.6217 1446.88 67.5198 1450.1 Q64.418 1453.3 58.7699 1459.06 Z\" fill=\"#000000\" fill-rule=\"nonzero\" fill-opacity=\"1\" /><path clip-path=\"url(#clip720)\" d=\"M84.904 1457.12 L89.7882 1457.12 L89.7882 1463 L84.904 1463 L84.904 1457.12 Z\" fill=\"#000000\" fill-rule=\"nonzero\" fill-opacity=\"1\" /><path clip-path=\"url(#clip720)\" d=\"M100.02 1428.44 L118.376 1428.44 L118.376 1432.37 L104.302 1432.37 L104.302 1440.84 Q105.321 1440.5 106.339 1440.33 Q107.358 1440.15 108.376 1440.15 Q114.163 1440.15 117.543 1443.32 Q120.922 1446.49 120.922 1451.91 Q120.922 1457.49 117.45 1460.59 Q113.978 1463.67 107.658 1463.67 Q105.483 1463.67 103.214 1463.3 Q100.969 1462.93 98.5613 1462.19 L98.5613 1457.49 Q100.645 1458.62 102.867 1459.18 Q105.089 1459.73 107.566 1459.73 Q111.571 1459.73 113.908 1457.63 Q116.246 1455.52 116.246 1451.91 Q116.246 1448.3 113.908 1446.19 Q111.571 1444.08 107.566 1444.08 Q105.691 1444.08 103.816 1444.5 Q101.964 1444.92 100.02 1445.8 L100.02 1428.44 Z\" fill=\"#000000\" fill-rule=\"nonzero\" fill-opacity=\"1\" /><path clip-path=\"url(#clip720)\" d=\"M67.9133 1167.45 Q71.2698 1168.17 73.1448 1170.44 Q75.0429 1172.71 75.0429 1176.04 Q75.0429 1181.16 71.5244 1183.96 Q68.0059 1186.76 61.5245 1186.76 Q59.3486 1186.76 57.0338 1186.32 Q54.7421 1185.9 52.2884 1185.04 L52.2884 1180.53 Q54.2328 1181.66 56.5477 1182.24 Q58.8625 1182.82 61.3856 1182.82 Q65.7837 1182.82 68.0754 1181.09 Q70.3902 1179.35 70.3902 1176.04 Q70.3902 1172.98 68.2374 1171.27 Q66.1078 1169.53 62.2884 1169.53 L58.2606 1169.53 L58.2606 1165.69 L62.4735 1165.69 Q65.9226 1165.69 67.7513 1164.33 Q69.58 1162.94 69.58 1160.35 Q69.58 1157.68 67.6819 1156.27 Q65.8069 1154.84 62.2884 1154.84 Q60.3671 1154.84 58.168 1155.25 Q55.969 1155.67 53.3301 1156.55 L53.3301 1152.38 Q55.9921 1151.64 58.3069 1151.27 Q60.6449 1150.9 62.705 1150.9 Q68.0291 1150.9 71.1309 1153.33 Q74.2327 1155.74 74.2327 1159.86 Q74.2327 1162.73 72.5892 1164.72 Q70.9457 1166.69 67.9133 1167.45 Z\" fill=\"#000000\" fill-rule=\"nonzero\" fill-opacity=\"1\" /><path clip-path=\"url(#clip720)\" d=\"M83.9086 1180.21 L88.7928 1180.21 L88.7928 1186.09 L83.9086 1186.09 L83.9086 1180.21 Z\" fill=\"#000000\" fill-rule=\"nonzero\" fill-opacity=\"1\" /><path clip-path=\"url(#clip720)\" d=\"M108.978 1154.6 Q105.367 1154.6 103.538 1158.17 Q101.733 1161.71 101.733 1168.84 Q101.733 1175.95 103.538 1179.51 Q105.367 1183.05 108.978 1183.05 Q112.612 1183.05 114.418 1179.51 Q116.246 1175.95 116.246 1168.84 Q116.246 1161.71 114.418 1158.17 Q112.612 1154.6 108.978 1154.6 M108.978 1150.9 Q114.788 1150.9 117.844 1155.51 Q120.922 1160.09 120.922 1168.84 Q120.922 1177.57 117.844 1182.17 Q114.788 1186.76 108.978 1186.76 Q103.168 1186.76 100.089 1182.17 Q97.0335 1177.57 97.0335 1168.84 Q97.0335 1160.09 100.089 1155.51 Q103.168 1150.9 108.978 1150.9 Z\" fill=\"#000000\" fill-rule=\"nonzero\" fill-opacity=\"1\" /><path clip-path=\"url(#clip720)\" d=\"M68.9087 890.542 Q72.2652 891.259 74.1402 893.528 Q76.0383 895.796 76.0383 899.13 Q76.0383 904.245 72.5198 907.046 Q69.0013 909.847 62.5198 909.847 Q60.3439 909.847 58.0291 909.407 Q55.7375 908.991 53.2838 908.134 L53.2838 903.62 Q55.2282 904.755 57.543 905.333 Q59.8578 905.912 62.381 905.912 Q66.7791 905.912 69.0707 904.176 Q71.3855 902.44 71.3855 899.13 Q71.3855 896.074 69.2328 894.361 Q67.1032 892.625 63.2837 892.625 L59.256 892.625 L59.256 888.783 L63.4689 888.783 Q66.918 888.783 68.7467 887.417 Q70.5754 886.028 70.5754 883.435 Q70.5754 880.773 68.6772 879.361 Q66.8022 877.926 63.2837 877.926 Q61.3624 877.926 59.1634 878.343 Q56.9643 878.759 54.3254 879.639 L54.3254 875.472 Q56.9875 874.732 59.3023 874.361 Q61.6402 873.991 63.7004 873.991 Q69.0244 873.991 72.1263 876.422 Q75.2281 878.829 75.2281 882.949 Q75.2281 885.82 73.5846 887.81 Q71.9411 889.778 68.9087 890.542 Z\" fill=\"#000000\" fill-rule=\"nonzero\" fill-opacity=\"1\" /><path clip-path=\"url(#clip720)\" d=\"M84.904 903.296 L89.7882 903.296 L89.7882 909.176 L84.904 909.176 L84.904 903.296 Z\" fill=\"#000000\" fill-rule=\"nonzero\" fill-opacity=\"1\" /><path clip-path=\"url(#clip720)\" d=\"M100.02 874.616 L118.376 874.616 L118.376 878.551 L104.302 878.551 L104.302 887.023 Q105.321 886.676 106.339 886.514 Q107.358 886.329 108.376 886.329 Q114.163 886.329 117.543 889.5 Q120.922 892.671 120.922 898.088 Q120.922 903.667 117.45 906.769 Q113.978 909.847 107.658 909.847 Q105.483 909.847 103.214 909.477 Q100.969 909.107 98.5613 908.366 L98.5613 903.667 Q100.645 904.801 102.867 905.357 Q105.089 905.912 107.566 905.912 Q111.571 905.912 113.908 903.806 Q116.246 901.699 116.246 898.088 Q116.246 894.477 113.908 892.37 Q111.571 890.264 107.566 890.264 Q105.691 890.264 103.816 890.681 Q101.964 891.097 100.02 891.977 L100.02 874.616 Z\" fill=\"#000000\" fill-rule=\"nonzero\" fill-opacity=\"1\" /><path clip-path=\"url(#clip720)\" d=\"M66.5939 601.78 L54.7884 620.229 L66.5939 620.229 L66.5939 601.78 M65.367 597.706 L71.2466 597.706 L71.2466 620.229 L76.1772 620.229 L76.1772 624.118 L71.2466 624.118 L71.2466 632.266 L66.5939 632.266 L66.5939 624.118 L50.9921 624.118 L50.9921 619.604 L65.367 597.706 Z\" fill=\"#000000\" fill-rule=\"nonzero\" fill-opacity=\"1\" /><path clip-path=\"url(#clip720)\" d=\"M83.9086 626.386 L88.7928 626.386 L88.7928 632.266 L83.9086 632.266 L83.9086 626.386 Z\" fill=\"#000000\" fill-rule=\"nonzero\" fill-opacity=\"1\" /><path clip-path=\"url(#clip720)\" d=\"M108.978 600.785 Q105.367 600.785 103.538 604.35 Q101.733 607.891 101.733 615.021 Q101.733 622.127 103.538 625.692 Q105.367 629.234 108.978 629.234 Q112.612 629.234 114.418 625.692 Q116.246 622.127 116.246 615.021 Q116.246 607.891 114.418 604.35 Q112.612 600.785 108.978 600.785 M108.978 597.081 Q114.788 597.081 117.844 601.688 Q120.922 606.271 120.922 615.021 Q120.922 623.748 117.844 628.354 Q114.788 632.937 108.978 632.937 Q103.168 632.937 100.089 628.354 Q97.0335 623.748 97.0335 615.021 Q97.0335 606.271 100.089 601.688 Q103.168 597.081 108.978 597.081 Z\" fill=\"#000000\" fill-rule=\"nonzero\" fill-opacity=\"1\" /><path clip-path=\"url(#clip720)\" d=\"M67.5893 324.87 L55.7838 343.319 L67.5893 343.319 L67.5893 324.87 M66.3624 320.796 L72.242 320.796 L72.242 343.319 L77.1725 343.319 L77.1725 347.208 L72.242 347.208 L72.242 355.356 L67.5893 355.356 L67.5893 347.208 L51.9875 347.208 L51.9875 342.694 L66.3624 320.796 Z\" fill=\"#000000\" fill-rule=\"nonzero\" fill-opacity=\"1\" /><path clip-path=\"url(#clip720)\" d=\"M84.904 349.477 L89.7882 349.477 L89.7882 355.356 L84.904 355.356 L84.904 349.477 Z\" fill=\"#000000\" fill-rule=\"nonzero\" fill-opacity=\"1\" /><path clip-path=\"url(#clip720)\" d=\"M100.02 320.796 L118.376 320.796 L118.376 324.731 L104.302 324.731 L104.302 333.204 Q105.321 332.856 106.339 332.694 Q107.358 332.509 108.376 332.509 Q114.163 332.509 117.543 335.68 Q120.922 338.852 120.922 344.268 Q120.922 349.847 117.45 352.949 Q113.978 356.028 107.658 356.028 Q105.483 356.028 103.214 355.657 Q100.969 355.287 98.5613 354.546 L98.5613 349.847 Q100.645 350.981 102.867 351.537 Q105.089 352.092 107.566 352.092 Q111.571 352.092 113.908 349.986 Q116.246 347.879 116.246 344.268 Q116.246 340.657 113.908 338.551 Q111.571 336.444 107.566 336.444 Q105.691 336.444 103.816 336.861 Q101.964 337.278 100.02 338.157 L100.02 320.796 Z\" fill=\"#000000\" fill-rule=\"nonzero\" fill-opacity=\"1\" /><path clip-path=\"url(#clip720)\" d=\"M53.793 43.8864 L72.1494 43.8864 L72.1494 47.8215 L58.0754 47.8215 L58.0754 56.2937 Q59.0939 55.9465 60.1124 55.7845 Q61.131 55.5993 62.1495 55.5993 Q67.9365 55.5993 71.3161 58.7705 Q74.6957 61.9418 74.6957 67.3585 Q74.6957 72.9371 71.2235 76.039 Q67.7513 79.1177 61.4319 79.1177 Q59.256 79.1177 56.9875 78.7473 Q54.7421 78.3769 52.3347 77.6362 L52.3347 72.9371 Q54.418 74.0714 56.6402 74.6269 Q58.8625 75.1825 61.3393 75.1825 Q65.3439 75.1825 67.6819 73.076 Q70.0198 70.9696 70.0198 67.3585 Q70.0198 63.7474 67.6819 61.6409 Q65.3439 59.5344 61.3393 59.5344 Q59.4643 59.5344 57.5893 59.9511 Q55.7375 60.3678 53.793 61.2474 L53.793 43.8864 Z\" fill=\"#000000\" fill-rule=\"nonzero\" fill-opacity=\"1\" /><path clip-path=\"url(#clip720)\" d=\"M83.9086 72.5668 L88.7928 72.5668 L88.7928 78.4464 L83.9086 78.4464 L83.9086 72.5668 Z\" fill=\"#000000\" fill-rule=\"nonzero\" fill-opacity=\"1\" /><path clip-path=\"url(#clip720)\" d=\"M108.978 46.9651 Q105.367 46.9651 103.538 50.5299 Q101.733 54.0715 101.733 61.2011 Q101.733 68.3075 103.538 71.8723 Q105.367 75.414 108.978 75.414 Q112.612 75.414 114.418 71.8723 Q116.246 68.3075 116.246 61.2011 Q116.246 54.0715 114.418 50.5299 Q112.612 46.9651 108.978 46.9651 M108.978 43.2614 Q114.788 43.2614 117.844 47.8678 Q120.922 52.4511 120.922 61.2011 Q120.922 69.9279 117.844 74.5344 Q114.788 79.1177 108.978 79.1177 Q103.168 79.1177 100.089 74.5344 Q97.0335 69.9279 97.0335 61.2011 Q97.0335 52.4511 100.089 47.8678 Q103.168 43.2614 108.978 43.2614 Z\" fill=\"#000000\" fill-rule=\"nonzero\" fill-opacity=\"1\" /><circle clip-path=\"url(#clip722)\" cx=\"564.325\" cy=\"338.076\" r=\"14.4\" fill=\"#009af9\" fill-rule=\"evenodd\" fill-opacity=\"1\" stroke=\"#000000\" stroke-opacity=\"1\" stroke-width=\"3.2\"/>\n<circle clip-path=\"url(#clip722)\" cx=\"1427.47\" cy=\"725.75\" r=\"14.4\" fill=\"#009af9\" fill-rule=\"evenodd\" fill-opacity=\"1\" stroke=\"#000000\" stroke-opacity=\"1\" stroke-width=\"3.2\"/>\n<circle clip-path=\"url(#clip722)\" cx=\"219.069\" cy=\"116.548\" r=\"14.4\" fill=\"#009af9\" fill-rule=\"evenodd\" fill-opacity=\"1\" stroke=\"#000000\" stroke-opacity=\"1\" stroke-width=\"3.2\"/>\n<circle clip-path=\"url(#clip722)\" cx=\"2290.61\" cy=\"1445.72\" r=\"14.4\" fill=\"#009af9\" fill-rule=\"evenodd\" fill-opacity=\"1\" stroke=\"#000000\" stroke-opacity=\"1\" stroke-width=\"3.2\"/>\n<circle clip-path=\"url(#clip722)\" cx=\"909.582\" cy=\"504.222\" r=\"14.4\" fill=\"#009af9\" fill-rule=\"evenodd\" fill-opacity=\"1\" stroke=\"#000000\" stroke-opacity=\"1\" stroke-width=\"3.2\"/>\n<polyline clip-path=\"url(#clip722)\" style=\"stroke:#ff0000; stroke-linecap:round; stroke-linejoin:round; stroke-width:4; stroke-opacity:1; fill:none\" points=\"564.325,303.211 1427.47,841.297 219.069,87.9763 2290.61,1379.38 909.582,518.445 \"/>\n<path clip-path=\"url(#clip720)\" d=\"M1657.09 250.738 L2279.56 250.738 L2279.56 95.2176 L1657.09 95.2176  Z\" fill=\"#ffffff\" fill-rule=\"evenodd\" fill-opacity=\"1\"/>\n<polyline clip-path=\"url(#clip720)\" style=\"stroke:#000000; stroke-linecap:round; stroke-linejoin:round; stroke-width:4; stroke-opacity:1; fill:none\" points=\"1657.09,250.738 2279.56,250.738 2279.56,95.2176 1657.09,95.2176 1657.09,250.738 \"/>\n<circle clip-path=\"url(#clip720)\" cx=\"1754.68\" cy=\"147.058\" r=\"20.48\" fill=\"#009af9\" fill-rule=\"evenodd\" fill-opacity=\"1\" stroke=\"#000000\" stroke-opacity=\"1\" stroke-width=\"4.55111\"/>\n<path clip-path=\"url(#clip720)\" d=\"M1856.95 133.62 L1856.95 160.495 L1862.6 160.495 Q1869.75 160.495 1873.06 157.254 Q1876.39 154.014 1876.39 147.023 Q1876.39 140.078 1873.06 136.861 Q1869.75 133.62 1862.6 133.62 L1856.95 133.62 M1852.27 129.778 L1861.88 129.778 Q1871.92 129.778 1876.62 133.967 Q1881.32 138.134 1881.32 147.023 Q1881.32 155.958 1876.6 160.148 Q1871.88 164.338 1861.88 164.338 L1852.27 164.338 L1852.27 129.778 Z\" fill=\"#000000\" fill-rule=\"nonzero\" fill-opacity=\"1\" /><path clip-path=\"url(#clip720)\" d=\"M1900.37 151.305 Q1895.21 151.305 1893.22 152.486 Q1891.23 153.666 1891.23 156.514 Q1891.23 158.782 1892.71 160.125 Q1894.22 161.444 1896.79 161.444 Q1900.33 161.444 1902.46 158.944 Q1904.61 156.421 1904.61 152.254 L1904.61 151.305 L1900.37 151.305 M1908.87 149.546 L1908.87 164.338 L1904.61 164.338 L1904.61 160.402 Q1903.15 162.763 1900.98 163.898 Q1898.8 165.009 1895.65 165.009 Q1891.67 165.009 1889.31 162.787 Q1886.97 160.541 1886.97 156.791 Q1886.97 152.416 1889.89 150.194 Q1892.83 147.972 1898.64 147.972 L1904.61 147.972 L1904.61 147.555 Q1904.61 144.615 1902.67 143.018 Q1900.74 141.398 1897.25 141.398 Q1895.03 141.398 1892.92 141.93 Q1890.81 142.463 1888.87 143.527 L1888.87 139.592 Q1891.21 138.69 1893.41 138.25 Q1895.61 137.787 1897.69 137.787 Q1903.31 137.787 1906.09 140.703 Q1908.87 143.62 1908.87 149.546 Z\" fill=\"#000000\" fill-rule=\"nonzero\" fill-opacity=\"1\" /><path clip-path=\"url(#clip720)\" d=\"M1934.7 142.347 L1934.7 128.319 L1938.96 128.319 L1938.96 164.338 L1934.7 164.338 L1934.7 160.449 Q1933.36 162.763 1931.3 163.898 Q1929.26 165.009 1926.39 165.009 Q1921.69 165.009 1918.73 161.259 Q1915.79 157.509 1915.79 151.398 Q1915.79 145.287 1918.73 141.537 Q1921.69 137.787 1926.39 137.787 Q1929.26 137.787 1931.3 138.921 Q1933.36 140.032 1934.7 142.347 M1920.19 151.398 Q1920.19 156.097 1922.11 158.782 Q1924.05 161.444 1927.43 161.444 Q1930.81 161.444 1932.76 158.782 Q1934.7 156.097 1934.7 151.398 Q1934.7 146.699 1932.76 144.037 Q1930.81 141.352 1927.43 141.352 Q1924.05 141.352 1922.11 144.037 Q1920.19 146.699 1920.19 151.398 Z\" fill=\"#000000\" fill-rule=\"nonzero\" fill-opacity=\"1\" /><path clip-path=\"url(#clip720)\" d=\"M1957.78 141.398 Q1954.35 141.398 1952.36 144.083 Q1950.37 146.745 1950.37 151.398 Q1950.37 156.051 1952.34 158.736 Q1954.33 161.398 1957.78 161.398 Q1961.18 161.398 1963.17 158.713 Q1965.16 156.027 1965.16 151.398 Q1965.16 146.791 1963.17 144.106 Q1961.18 141.398 1957.78 141.398 M1957.78 137.787 Q1963.34 137.787 1966.51 141.398 Q1969.68 145.009 1969.68 151.398 Q1969.68 157.764 1966.51 161.398 Q1963.34 165.009 1957.78 165.009 Q1952.2 165.009 1949.03 161.398 Q1945.88 157.764 1945.88 151.398 Q1945.88 145.009 1949.03 141.398 Q1952.2 137.787 1957.78 137.787 Z\" fill=\"#000000\" fill-rule=\"nonzero\" fill-opacity=\"1\" /><path clip-path=\"url(#clip720)\" d=\"M1993.27 139.176 L1993.27 143.203 Q1991.46 142.277 1989.52 141.815 Q1987.57 141.352 1985.49 141.352 Q1982.32 141.352 1980.72 142.324 Q1979.15 143.296 1979.15 145.24 Q1979.15 146.722 1980.28 147.578 Q1981.41 148.412 1984.84 149.176 L1986.3 149.5 Q1990.84 150.472 1992.73 152.254 Q1994.66 154.014 1994.66 157.185 Q1994.66 160.796 1991.79 162.902 Q1988.94 165.009 1983.94 165.009 Q1981.85 165.009 1979.59 164.592 Q1977.34 164.199 1974.84 163.388 L1974.84 158.99 Q1977.2 160.217 1979.49 160.842 Q1981.79 161.444 1984.03 161.444 Q1987.04 161.444 1988.66 160.426 Q1990.28 159.384 1990.28 157.509 Q1990.28 155.773 1989.1 154.847 Q1987.94 153.921 1983.98 153.064 L1982.5 152.717 Q1978.54 151.884 1976.79 150.171 Q1975.03 148.435 1975.03 145.426 Q1975.03 141.768 1977.62 139.778 Q1980.21 137.787 1984.98 137.787 Q1987.34 137.787 1989.42 138.134 Q1991.51 138.481 1993.27 139.176 Z\" fill=\"#000000\" fill-rule=\"nonzero\" fill-opacity=\"1\" /><polyline clip-path=\"url(#clip720)\" style=\"stroke:#ff0000; stroke-linecap:round; stroke-linejoin:round; stroke-width:4; stroke-opacity:1; fill:none\" points=\"1681.48,198.898 1827.87,198.898 \"/>\n<path clip-path=\"url(#clip720)\" d=\"M1868.66 199.974 Q1870.17 200.483 1871.58 202.15 Q1873.01 203.817 1874.45 206.733 L1879.19 216.178 L1874.17 216.178 L1869.75 207.312 Q1868.04 203.84 1866.42 202.705 Q1864.82 201.571 1862.04 201.571 L1856.95 201.571 L1856.95 216.178 L1852.27 216.178 L1852.27 181.618 L1862.83 181.618 Q1868.75 181.618 1871.67 184.094 Q1874.59 186.571 1874.59 191.571 Q1874.59 194.835 1873.06 196.988 Q1871.55 199.141 1868.66 199.974 M1856.95 185.46 L1856.95 197.729 L1862.83 197.729 Q1866.21 197.729 1867.92 196.178 Q1869.66 194.604 1869.66 191.571 Q1869.66 188.539 1867.92 187.011 Q1866.21 185.46 1862.83 185.46 L1856.95 185.46 Z\" fill=\"#000000\" fill-rule=\"nonzero\" fill-opacity=\"1\" /><path clip-path=\"url(#clip720)\" d=\"M1905.07 202.15 L1905.07 204.233 L1885.49 204.233 Q1885.77 208.631 1888.13 210.946 Q1890.51 213.238 1894.75 213.238 Q1897.2 213.238 1899.49 212.636 Q1901.81 212.034 1904.08 210.83 L1904.08 214.858 Q1901.79 215.83 1899.38 216.34 Q1896.97 216.849 1894.49 216.849 Q1888.29 216.849 1884.66 213.238 Q1881.04 209.627 1881.04 203.469 Q1881.04 197.104 1884.47 193.377 Q1887.92 189.627 1893.75 189.627 Q1898.98 189.627 1902.02 193.006 Q1905.07 196.363 1905.07 202.15 M1900.81 200.9 Q1900.77 197.405 1898.85 195.321 Q1896.95 193.238 1893.8 193.238 Q1890.23 193.238 1888.08 195.252 Q1885.95 197.266 1885.63 200.923 L1900.81 200.9 Z\" fill=\"#000000\" fill-rule=\"nonzero\" fill-opacity=\"1\" /><path clip-path=\"url(#clip720)\" d=\"M1929.12 202.914 Q1929.12 198.284 1927.2 195.738 Q1925.3 193.192 1921.85 193.192 Q1918.43 193.192 1916.51 195.738 Q1914.61 198.284 1914.61 202.914 Q1914.61 207.52 1916.51 210.066 Q1918.43 212.613 1921.85 212.613 Q1925.3 212.613 1927.2 210.066 Q1929.12 207.52 1929.12 202.914 M1933.38 212.96 Q1933.38 219.58 1930.44 222.798 Q1927.5 226.039 1921.44 226.039 Q1919.19 226.039 1917.2 225.691 Q1915.21 225.367 1913.34 224.673 L1913.34 220.529 Q1915.21 221.548 1917.04 222.034 Q1918.87 222.52 1920.77 222.52 Q1924.96 222.52 1927.04 220.321 Q1929.12 218.145 1929.12 213.724 L1929.12 211.617 Q1927.8 213.909 1925.74 215.043 Q1923.68 216.178 1920.81 216.178 Q1916.04 216.178 1913.13 212.543 Q1910.21 208.909 1910.21 202.914 Q1910.21 196.895 1913.13 193.261 Q1916.04 189.627 1920.81 189.627 Q1923.68 189.627 1925.74 190.761 Q1927.8 191.895 1929.12 194.187 L1929.12 190.252 L1933.38 190.252 L1933.38 212.96 Z\" fill=\"#000000\" fill-rule=\"nonzero\" fill-opacity=\"1\" /><path clip-path=\"url(#clip720)\" d=\"M1957.18 194.233 Q1956.46 193.817 1955.6 193.631 Q1954.77 193.423 1953.75 193.423 Q1950.14 193.423 1948.2 195.784 Q1946.28 198.122 1946.28 202.52 L1946.28 216.178 L1941.99 216.178 L1941.99 190.252 L1946.28 190.252 L1946.28 194.28 Q1947.62 191.918 1949.77 190.784 Q1951.92 189.627 1955 189.627 Q1955.44 189.627 1955.98 189.696 Q1956.51 189.743 1957.16 189.858 L1957.18 194.233 Z\" fill=\"#000000\" fill-rule=\"nonzero\" fill-opacity=\"1\" /><path clip-path=\"url(#clip720)\" d=\"M1982.78 202.15 L1982.78 204.233 L1963.2 204.233 Q1963.48 208.631 1965.84 210.946 Q1968.22 213.238 1972.46 213.238 Q1974.91 213.238 1977.2 212.636 Q1979.52 212.034 1981.79 210.83 L1981.79 214.858 Q1979.49 215.83 1977.09 216.34 Q1974.68 216.849 1972.2 216.849 Q1966 216.849 1962.36 213.238 Q1958.75 209.627 1958.75 203.469 Q1958.75 197.104 1962.18 193.377 Q1965.63 189.627 1971.46 189.627 Q1976.69 189.627 1979.72 193.006 Q1982.78 196.363 1982.78 202.15 M1978.52 200.9 Q1978.47 197.405 1976.55 195.321 Q1974.66 193.238 1971.51 193.238 Q1967.94 193.238 1965.79 195.252 Q1963.66 197.266 1963.34 200.923 L1978.52 200.9 Z\" fill=\"#000000\" fill-rule=\"nonzero\" fill-opacity=\"1\" /><path clip-path=\"url(#clip720)\" d=\"M2006.3 191.016 L2006.3 195.043 Q2004.49 194.117 2002.55 193.655 Q2000.6 193.192 1998.52 193.192 Q1995.35 193.192 1993.75 194.164 Q1992.18 195.136 1992.18 197.08 Q1992.18 198.562 1993.31 199.418 Q1994.45 200.252 1997.87 201.016 L1999.33 201.34 Q2003.87 202.312 2005.77 204.094 Q2007.69 205.854 2007.69 209.025 Q2007.69 212.636 2004.82 214.742 Q2001.97 216.849 1996.97 216.849 Q1994.89 216.849 1992.62 216.432 Q1990.37 216.039 1987.87 215.228 L1987.87 210.83 Q1990.23 212.057 1992.53 212.682 Q1994.82 213.284 1997.06 213.284 Q2000.07 213.284 2001.69 212.266 Q2003.31 211.224 2003.31 209.349 Q2003.31 207.613 2002.13 206.687 Q2000.97 205.761 1997.02 204.904 L1995.54 204.557 Q1991.58 203.724 1989.82 202.011 Q1988.06 200.275 1988.06 197.266 Q1988.06 193.608 1990.65 191.618 Q1993.24 189.627 1998.01 189.627 Q2000.37 189.627 2002.46 189.974 Q2004.54 190.321 2006.3 191.016 Z\" fill=\"#000000\" fill-rule=\"nonzero\" fill-opacity=\"1\" /><path clip-path=\"url(#clip720)\" d=\"M2031 191.016 L2031 195.043 Q2029.19 194.117 2027.25 193.655 Q2025.3 193.192 2023.22 193.192 Q2020.05 193.192 2018.45 194.164 Q2016.88 195.136 2016.88 197.08 Q2016.88 198.562 2018.01 199.418 Q2019.15 200.252 2022.57 201.016 L2024.03 201.34 Q2028.57 202.312 2030.47 204.094 Q2032.39 205.854 2032.39 209.025 Q2032.39 212.636 2029.52 214.742 Q2026.67 216.849 2021.67 216.849 Q2019.59 216.849 2017.32 216.432 Q2015.07 216.039 2012.57 215.228 L2012.57 210.83 Q2014.93 212.057 2017.22 212.682 Q2019.52 213.284 2021.76 213.284 Q2024.77 213.284 2026.39 212.266 Q2028.01 211.224 2028.01 209.349 Q2028.01 207.613 2026.83 206.687 Q2025.67 205.761 2021.72 204.904 L2020.23 204.557 Q2016.28 203.724 2014.52 202.011 Q2012.76 200.275 2012.76 197.266 Q2012.76 193.608 2015.35 191.618 Q2017.94 189.627 2022.71 189.627 Q2025.07 189.627 2027.16 189.974 Q2029.24 190.321 2031 191.016 Z\" fill=\"#000000\" fill-rule=\"nonzero\" fill-opacity=\"1\" /><path clip-path=\"url(#clip720)\" d=\"M2050.95 203.145 Q2045.79 203.145 2043.8 204.326 Q2041.81 205.506 2041.81 208.354 Q2041.81 210.622 2043.29 211.965 Q2044.79 213.284 2047.36 213.284 Q2050.91 213.284 2053.03 210.784 Q2055.19 208.261 2055.19 204.094 L2055.19 203.145 L2050.95 203.145 M2059.45 201.386 L2059.45 216.178 L2055.19 216.178 L2055.19 212.242 Q2053.73 214.603 2051.55 215.738 Q2049.38 216.849 2046.23 216.849 Q2042.25 216.849 2039.89 214.627 Q2037.55 212.381 2037.55 208.631 Q2037.55 204.256 2040.47 202.034 Q2043.41 199.812 2049.22 199.812 L2055.19 199.812 L2055.19 199.395 Q2055.19 196.455 2053.24 194.858 Q2051.32 193.238 2047.83 193.238 Q2045.6 193.238 2043.5 193.77 Q2041.39 194.303 2039.45 195.367 L2039.45 191.432 Q2041.78 190.53 2043.98 190.09 Q2046.18 189.627 2048.27 189.627 Q2053.89 189.627 2056.67 192.543 Q2059.45 195.46 2059.45 201.386 M2048.36 184.465 L2047.04 183.192 Q2046.53 182.729 2046.14 182.52 Q2045.77 182.289 2045.47 182.289 Q2044.59 182.289 2044.17 183.145 Q2043.75 183.979 2043.71 185.877 L2040.81 185.877 Q2040.86 182.752 2042.04 181.062 Q2043.22 179.349 2045.33 179.349 Q2046.21 179.349 2046.95 179.673 Q2047.69 179.997 2048.54 180.761 L2049.86 182.034 Q2050.37 182.497 2050.74 182.729 Q2051.14 182.937 2051.44 182.937 Q2052.32 182.937 2052.73 182.104 Q2053.15 181.247 2053.2 179.349 L2056.09 179.349 Q2056.04 182.474 2054.86 184.187 Q2053.68 185.877 2051.58 185.877 Q2050.7 185.877 2049.96 185.553 Q2049.22 185.229 2048.36 184.465 Z\" fill=\"#000000\" fill-rule=\"nonzero\" fill-opacity=\"1\" /><path clip-path=\"url(#clip720)\" d=\"M2078.27 193.238 Q2074.84 193.238 2072.85 195.923 Q2070.86 198.585 2070.86 203.238 Q2070.86 207.891 2072.83 210.576 Q2074.82 213.238 2078.27 213.238 Q2081.67 213.238 2083.66 210.553 Q2085.65 207.867 2085.65 203.238 Q2085.65 198.631 2083.66 195.946 Q2081.67 193.238 2078.27 193.238 M2078.27 189.627 Q2083.82 189.627 2086.99 193.238 Q2090.16 196.849 2090.16 203.238 Q2090.16 209.604 2086.99 213.238 Q2083.82 216.849 2078.27 216.849 Q2072.69 216.849 2069.52 213.238 Q2066.37 209.604 2066.37 203.238 Q2066.37 196.849 2069.52 193.238 Q2072.69 189.627 2078.27 189.627 Z\" fill=\"#000000\" fill-rule=\"nonzero\" fill-opacity=\"1\" /><path clip-path=\"url(#clip720)\" d=\"M2112.48 181.618 L2117.15 181.618 L2117.15 212.242 L2133.98 212.242 L2133.98 216.178 L2112.48 216.178 L2112.48 181.618 Z\" fill=\"#000000\" fill-rule=\"nonzero\" fill-opacity=\"1\" /><path clip-path=\"url(#clip720)\" d=\"M2138.71 190.252 L2142.96 190.252 L2142.96 216.178 L2138.71 216.178 L2138.71 190.252 M2138.71 180.159 L2142.96 180.159 L2142.96 185.553 L2138.71 185.553 L2138.71 180.159 Z\" fill=\"#000000\" fill-rule=\"nonzero\" fill-opacity=\"1\" /><path clip-path=\"url(#clip720)\" d=\"M2173.43 200.529 L2173.43 216.178 L2169.17 216.178 L2169.17 200.668 Q2169.17 196.988 2167.73 195.159 Q2166.3 193.33 2163.43 193.33 Q2159.98 193.33 2157.99 195.53 Q2156 197.729 2156 201.525 L2156 216.178 L2151.71 216.178 L2151.71 190.252 L2156 190.252 L2156 194.28 Q2157.52 191.942 2159.59 190.784 Q2161.67 189.627 2164.38 189.627 Q2168.84 189.627 2171.14 192.405 Q2173.43 195.159 2173.43 200.529 Z\" fill=\"#000000\" fill-rule=\"nonzero\" fill-opacity=\"1\" /><path clip-path=\"url(#clip720)\" d=\"M2204.1 202.15 L2204.1 204.233 L2184.52 204.233 Q2184.79 208.631 2187.15 210.946 Q2189.54 213.238 2193.77 213.238 Q2196.23 213.238 2198.52 212.636 Q2200.83 212.034 2203.1 210.83 L2203.1 214.858 Q2200.81 215.83 2198.4 216.34 Q2196 216.849 2193.52 216.849 Q2187.32 216.849 2183.68 213.238 Q2180.07 209.627 2180.07 203.469 Q2180.07 197.104 2183.5 193.377 Q2186.95 189.627 2192.78 189.627 Q2198.01 189.627 2201.04 193.006 Q2204.1 196.363 2204.1 202.15 M2199.84 200.9 Q2199.79 197.405 2197.87 195.321 Q2195.97 193.238 2192.83 193.238 Q2189.26 193.238 2187.11 195.252 Q2184.98 197.266 2184.65 200.923 L2199.84 200.9 Z\" fill=\"#000000\" fill-rule=\"nonzero\" fill-opacity=\"1\" /><path clip-path=\"url(#clip720)\" d=\"M2222.87 203.145 Q2217.71 203.145 2215.72 204.326 Q2213.73 205.506 2213.73 208.354 Q2213.73 210.622 2215.21 211.965 Q2216.71 213.284 2219.28 213.284 Q2222.83 213.284 2224.96 210.784 Q2227.11 208.261 2227.11 204.094 L2227.11 203.145 L2222.87 203.145 M2231.37 201.386 L2231.37 216.178 L2227.11 216.178 L2227.11 212.242 Q2225.65 214.603 2223.47 215.738 Q2221.3 216.849 2218.15 216.849 Q2214.17 216.849 2211.81 214.627 Q2209.47 212.381 2209.47 208.631 Q2209.47 204.256 2212.39 202.034 Q2215.33 199.812 2221.14 199.812 L2227.11 199.812 L2227.11 199.395 Q2227.11 196.455 2225.16 194.858 Q2223.24 193.238 2219.75 193.238 Q2217.52 193.238 2215.42 193.77 Q2213.31 194.303 2211.37 195.367 L2211.37 191.432 Q2213.71 190.53 2215.9 190.09 Q2218.1 189.627 2220.19 189.627 Q2225.81 189.627 2228.59 192.543 Q2231.37 195.46 2231.37 201.386 Z\" fill=\"#000000\" fill-rule=\"nonzero\" fill-opacity=\"1\" /><path clip-path=\"url(#clip720)\" d=\"M2255.16 194.233 Q2254.45 193.817 2253.59 193.631 Q2252.76 193.423 2251.74 193.423 Q2248.13 193.423 2246.18 195.784 Q2244.26 198.122 2244.26 202.52 L2244.26 216.178 L2239.98 216.178 L2239.98 190.252 L2244.26 190.252 L2244.26 194.28 Q2245.6 191.918 2247.76 190.784 Q2249.91 189.627 2252.99 189.627 Q2253.43 189.627 2253.96 189.696 Q2254.49 189.743 2255.14 189.858 L2255.16 194.233 Z\" fill=\"#000000\" fill-rule=\"nonzero\" fill-opacity=\"1\" /></svg>\n"
          },
          "metadata": {},
          "execution_count": 61
        }
      ]
    },
    {
      "cell_type": "code",
      "source": [
        "# Exibindo resultados\n",
        "println(\"Média das Idades: \", media_idades)\n",
        "println(\"Desvio Padrão das Compras Mensais: \", desvio_compras)\n",
        "println(\"Coeficiente Angular da Regressão Linear: \", coef_angular)\n",
        "println(\"Intercepto da Regressão Linear: \", intercepto)"
      ],
      "metadata": {
        "colab": {
          "base_uri": "https://localhost:8080/"
        },
        "id": "-yzRO-qh1Fwb",
        "outputId": "e0ee2f53-b60b-4b9f-ddad-fc7b718df86b"
      },
      "execution_count": null,
      "outputs": [
        {
          "output_type": "stream",
          "name": "stdout",
          "text": [
            "Média das Idades: 39.6\n",
            "Desvio Padrão das Compras Mensais: 469.041575982343\n",
            "Coeficiente Angular da Regressão Linear: -0.001943181818181806\n",
            "Intercepto da Regressão Linear: 6.5061363636363465\n"
          ]
        }
      ]
    },
    {
      "cell_type": "code",
      "source": [
        "# Histograma das idades\n",
        "histogram(dataframe_ficticio.Idade, bins=10, label=\"Idades\", xlabel=\"Idade\", ylabel=\"Frequência\")"
      ],
      "metadata": {
        "colab": {
          "base_uri": "https://localhost:8080/",
          "height": 421
        },
        "id": "R17X5vKGuNlF",
        "outputId": "25626ee6-0ab2-4ced-eacb-c37242427724"
      },
      "execution_count": null,
      "outputs": [
        {
          "output_type": "execute_result",
          "data": {
            "image/svg+xml": "<?xml version=\"1.0\" encoding=\"utf-8\"?>\n<svg xmlns=\"http://www.w3.org/2000/svg\" xmlns:xlink=\"http://www.w3.org/1999/xlink\" width=\"600\" height=\"400\" viewBox=\"0 0 2400 1600\">\n<defs>\n  <clipPath id=\"clip760\">\n    <rect x=\"0\" y=\"0\" width=\"2400\" height=\"1600\"/>\n  </clipPath>\n</defs>\n<path clip-path=\"url(#clip760)\" d=\"M0 1600 L2400 1600 L2400 0 L0 0  Z\" fill=\"#ffffff\" fill-rule=\"evenodd\" fill-opacity=\"1\"/>\n<defs>\n  <clipPath id=\"clip761\">\n    <rect x=\"480\" y=\"0\" width=\"1681\" height=\"1600\"/>\n  </clipPath>\n</defs>\n<path clip-path=\"url(#clip760)\" d=\"M219.866 1423.18 L2352.76 1423.18 L2352.76 47.2441 L219.866 47.2441  Z\" fill=\"#ffffff\" fill-rule=\"evenodd\" fill-opacity=\"1\"/>\n<defs>\n  <clipPath id=\"clip762\">\n    <rect x=\"219\" y=\"47\" width=\"2134\" height=\"1377\"/>\n  </clipPath>\n</defs>\n<polyline clip-path=\"url(#clip762)\" style=\"stroke:#000000; stroke-linecap:round; stroke-linejoin:round; stroke-width:2; stroke-opacity:0.1; fill:none\" points=\"337.179,1423.18 337.179,47.2441 \"/>\n<polyline clip-path=\"url(#clip762)\" style=\"stroke:#000000; stroke-linecap:round; stroke-linejoin:round; stroke-width:2; stroke-opacity:0.1; fill:none\" points=\"653.556,1423.18 653.556,47.2441 \"/>\n<polyline clip-path=\"url(#clip762)\" style=\"stroke:#000000; stroke-linecap:round; stroke-linejoin:round; stroke-width:2; stroke-opacity:0.1; fill:none\" points=\"969.934,1423.18 969.934,47.2441 \"/>\n<polyline clip-path=\"url(#clip762)\" style=\"stroke:#000000; stroke-linecap:round; stroke-linejoin:round; stroke-width:2; stroke-opacity:0.1; fill:none\" points=\"1286.31,1423.18 1286.31,47.2441 \"/>\n<polyline clip-path=\"url(#clip762)\" style=\"stroke:#000000; stroke-linecap:round; stroke-linejoin:round; stroke-width:2; stroke-opacity:0.1; fill:none\" points=\"1602.69,1423.18 1602.69,47.2441 \"/>\n<polyline clip-path=\"url(#clip762)\" style=\"stroke:#000000; stroke-linecap:round; stroke-linejoin:round; stroke-width:2; stroke-opacity:0.1; fill:none\" points=\"1919.07,1423.18 1919.07,47.2441 \"/>\n<polyline clip-path=\"url(#clip762)\" style=\"stroke:#000000; stroke-linecap:round; stroke-linejoin:round; stroke-width:2; stroke-opacity:0.1; fill:none\" points=\"2235.44,1423.18 2235.44,47.2441 \"/>\n<polyline clip-path=\"url(#clip760)\" style=\"stroke:#000000; stroke-linecap:round; stroke-linejoin:round; stroke-width:4; stroke-opacity:1; fill:none\" points=\"219.866,1423.18 2352.76,1423.18 \"/>\n<polyline clip-path=\"url(#clip760)\" style=\"stroke:#000000; stroke-linecap:round; stroke-linejoin:round; stroke-width:4; stroke-opacity:1; fill:none\" points=\"337.179,1423.18 337.179,1404.28 \"/>\n<polyline clip-path=\"url(#clip760)\" style=\"stroke:#000000; stroke-linecap:round; stroke-linejoin:round; stroke-width:4; stroke-opacity:1; fill:none\" points=\"653.556,1423.18 653.556,1404.28 \"/>\n<polyline clip-path=\"url(#clip760)\" style=\"stroke:#000000; stroke-linecap:round; stroke-linejoin:round; stroke-width:4; stroke-opacity:1; fill:none\" points=\"969.934,1423.18 969.934,1404.28 \"/>\n<polyline clip-path=\"url(#clip760)\" style=\"stroke:#000000; stroke-linecap:round; stroke-linejoin:round; stroke-width:4; stroke-opacity:1; fill:none\" points=\"1286.31,1423.18 1286.31,1404.28 \"/>\n<polyline clip-path=\"url(#clip760)\" style=\"stroke:#000000; stroke-linecap:round; stroke-linejoin:round; stroke-width:4; stroke-opacity:1; fill:none\" points=\"1602.69,1423.18 1602.69,1404.28 \"/>\n<polyline clip-path=\"url(#clip760)\" style=\"stroke:#000000; stroke-linecap:round; stroke-linejoin:round; stroke-width:4; stroke-opacity:1; fill:none\" points=\"1919.07,1423.18 1919.07,1404.28 \"/>\n<polyline clip-path=\"url(#clip760)\" style=\"stroke:#000000; stroke-linecap:round; stroke-linejoin:round; stroke-width:4; stroke-opacity:1; fill:none\" points=\"2235.44,1423.18 2235.44,1404.28 \"/>\n<path clip-path=\"url(#clip760)\" d=\"M316.45 1481.64 L332.769 1481.64 L332.769 1485.58 L310.825 1485.58 L310.825 1481.64 Q313.487 1478.89 318.07 1474.26 Q322.677 1469.61 323.857 1468.27 Q326.103 1465.74 326.982 1464.01 Q327.885 1462.25 327.885 1460.56 Q327.885 1457.8 325.941 1456.07 Q324.019 1454.33 320.918 1454.33 Q318.718 1454.33 316.265 1455.09 Q313.834 1455.86 311.056 1457.41 L311.056 1452.69 Q313.881 1451.55 316.334 1450.97 Q318.788 1450.39 320.825 1450.39 Q326.195 1450.39 329.39 1453.08 Q332.584 1455.77 332.584 1460.26 Q332.584 1462.39 331.774 1464.31 Q330.987 1466.2 328.88 1468.8 Q328.302 1469.47 325.2 1472.69 Q322.098 1475.88 316.45 1481.64 Z\" fill=\"#000000\" fill-rule=\"nonzero\" fill-opacity=\"1\" /><path clip-path=\"url(#clip760)\" d=\"M342.63 1451.02 L360.987 1451.02 L360.987 1454.96 L346.913 1454.96 L346.913 1463.43 Q347.931 1463.08 348.95 1462.92 Q349.968 1462.73 350.987 1462.73 Q356.774 1462.73 360.153 1465.9 Q363.533 1469.08 363.533 1474.49 Q363.533 1480.07 360.061 1483.17 Q356.589 1486.25 350.269 1486.25 Q348.093 1486.25 345.825 1485.88 Q343.579 1485.51 341.172 1484.77 L341.172 1480.07 Q343.255 1481.2 345.478 1481.76 Q347.7 1482.32 350.177 1482.32 Q354.181 1482.32 356.519 1480.21 Q358.857 1478.1 358.857 1474.49 Q358.857 1470.88 356.519 1468.77 Q354.181 1466.67 350.177 1466.67 Q348.302 1466.67 346.427 1467.08 Q344.575 1467.5 342.63 1468.38 L342.63 1451.02 Z\" fill=\"#000000\" fill-rule=\"nonzero\" fill-opacity=\"1\" /><path clip-path=\"url(#clip760)\" d=\"M642.399 1466.95 Q645.755 1467.66 647.63 1469.93 Q649.529 1472.2 649.529 1475.53 Q649.529 1480.65 646.01 1483.45 Q642.492 1486.25 636.01 1486.25 Q633.834 1486.25 631.519 1485.81 Q629.228 1485.39 626.774 1484.54 L626.774 1480.02 Q628.719 1481.16 631.033 1481.74 Q633.348 1482.32 635.871 1482.32 Q640.269 1482.32 642.561 1480.58 Q644.876 1478.84 644.876 1475.53 Q644.876 1472.48 642.723 1470.77 Q640.593 1469.03 636.774 1469.03 L632.746 1469.03 L632.746 1465.19 L636.959 1465.19 Q640.408 1465.19 642.237 1463.82 Q644.066 1462.43 644.066 1459.84 Q644.066 1457.18 642.168 1455.77 Q640.293 1454.33 636.774 1454.33 Q634.853 1454.33 632.654 1454.75 Q630.455 1455.16 627.816 1456.04 L627.816 1451.88 Q630.478 1451.14 632.793 1450.77 Q635.131 1450.39 637.191 1450.39 Q642.515 1450.39 645.617 1452.83 Q648.718 1455.23 648.718 1459.35 Q648.718 1462.22 647.075 1464.21 Q645.431 1466.18 642.399 1466.95 Z\" fill=\"#000000\" fill-rule=\"nonzero\" fill-opacity=\"1\" /><path clip-path=\"url(#clip760)\" d=\"M668.394 1454.1 Q664.783 1454.1 662.954 1457.66 Q661.149 1461.2 661.149 1468.33 Q661.149 1475.44 662.954 1479.01 Q664.783 1482.55 668.394 1482.55 Q672.028 1482.55 673.834 1479.01 Q675.663 1475.44 675.663 1468.33 Q675.663 1461.2 673.834 1457.66 Q672.028 1454.1 668.394 1454.1 M668.394 1450.39 Q674.204 1450.39 677.26 1455 Q680.339 1459.58 680.339 1468.33 Q680.339 1477.06 677.26 1481.67 Q674.204 1486.25 668.394 1486.25 Q662.584 1486.25 659.505 1481.67 Q656.45 1477.06 656.45 1468.33 Q656.45 1459.58 659.505 1455 Q662.584 1450.39 668.394 1450.39 Z\" fill=\"#000000\" fill-rule=\"nonzero\" fill-opacity=\"1\" /><path clip-path=\"url(#clip760)\" d=\"M959.274 1466.95 Q962.631 1467.66 964.506 1469.93 Q966.404 1472.2 966.404 1475.53 Q966.404 1480.65 962.885 1483.45 Q959.367 1486.25 952.885 1486.25 Q950.709 1486.25 948.394 1485.81 Q946.103 1485.39 943.649 1484.54 L943.649 1480.02 Q945.594 1481.16 947.908 1481.74 Q950.223 1482.32 952.746 1482.32 Q957.144 1482.32 959.436 1480.58 Q961.751 1478.84 961.751 1475.53 Q961.751 1472.48 959.598 1470.77 Q957.469 1469.03 953.649 1469.03 L949.621 1469.03 L949.621 1465.19 L953.834 1465.19 Q957.283 1465.19 959.112 1463.82 Q960.941 1462.43 960.941 1459.84 Q960.941 1457.18 959.043 1455.77 Q957.168 1454.33 953.649 1454.33 Q951.728 1454.33 949.529 1454.75 Q947.33 1455.16 944.691 1456.04 L944.691 1451.88 Q947.353 1451.14 949.668 1450.77 Q952.006 1450.39 954.066 1450.39 Q959.39 1450.39 962.492 1452.83 Q965.593 1455.23 965.593 1459.35 Q965.593 1462.22 963.95 1464.21 Q962.306 1466.18 959.274 1466.95 Z\" fill=\"#000000\" fill-rule=\"nonzero\" fill-opacity=\"1\" /><path clip-path=\"url(#clip760)\" d=\"M975.316 1451.02 L993.672 1451.02 L993.672 1454.96 L979.598 1454.96 L979.598 1463.43 Q980.617 1463.08 981.635 1462.92 Q982.654 1462.73 983.672 1462.73 Q989.459 1462.73 992.839 1465.9 Q996.218 1469.08 996.218 1474.49 Q996.218 1480.07 992.746 1483.17 Q989.274 1486.25 982.954 1486.25 Q980.779 1486.25 978.51 1485.88 Q976.265 1485.51 973.857 1484.77 L973.857 1480.07 Q975.941 1481.2 978.163 1481.76 Q980.385 1482.32 982.862 1482.32 Q986.867 1482.32 989.204 1480.21 Q991.542 1478.1 991.542 1474.49 Q991.542 1470.88 989.204 1468.77 Q986.867 1466.67 982.862 1466.67 Q980.987 1466.67 979.112 1467.08 Q977.26 1467.5 975.316 1468.38 L975.316 1451.02 Z\" fill=\"#000000\" fill-rule=\"nonzero\" fill-opacity=\"1\" /><path clip-path=\"url(#clip760)\" d=\"M1274.48 1455.09 L1262.68 1473.54 L1274.48 1473.54 L1274.48 1455.09 M1273.26 1451.02 L1279.14 1451.02 L1279.14 1473.54 L1284.07 1473.54 L1284.07 1477.43 L1279.14 1477.43 L1279.14 1485.58 L1274.48 1485.58 L1274.48 1477.43 L1258.88 1477.43 L1258.88 1472.92 L1273.26 1451.02 Z\" fill=\"#000000\" fill-rule=\"nonzero\" fill-opacity=\"1\" /><path clip-path=\"url(#clip760)\" d=\"M1301.8 1454.1 Q1298.19 1454.1 1296.36 1457.66 Q1294.55 1461.2 1294.55 1468.33 Q1294.55 1475.44 1296.36 1479.01 Q1298.19 1482.55 1301.8 1482.55 Q1305.43 1482.55 1307.24 1479.01 Q1309.07 1475.44 1309.07 1468.33 Q1309.07 1461.2 1307.24 1457.66 Q1305.43 1454.1 1301.8 1454.1 M1301.8 1450.39 Q1307.61 1450.39 1310.66 1455 Q1313.74 1459.58 1313.74 1468.33 Q1313.74 1477.06 1310.66 1481.67 Q1307.61 1486.25 1301.8 1486.25 Q1295.99 1486.25 1292.91 1481.67 Q1289.85 1477.06 1289.85 1468.33 Q1289.85 1459.58 1292.91 1455 Q1295.99 1450.39 1301.8 1450.39 Z\" fill=\"#000000\" fill-rule=\"nonzero\" fill-opacity=\"1\" /><path clip-path=\"url(#clip760)\" d=\"M1591.36 1455.09 L1579.55 1473.54 L1591.36 1473.54 L1591.36 1455.09 M1590.13 1451.02 L1596.01 1451.02 L1596.01 1473.54 L1600.94 1473.54 L1600.94 1477.43 L1596.01 1477.43 L1596.01 1485.58 L1591.36 1485.58 L1591.36 1477.43 L1575.76 1477.43 L1575.76 1472.92 L1590.13 1451.02 Z\" fill=\"#000000\" fill-rule=\"nonzero\" fill-opacity=\"1\" /><path clip-path=\"url(#clip760)\" d=\"M1608.72 1451.02 L1627.07 1451.02 L1627.07 1454.96 L1613 1454.96 L1613 1463.43 Q1614.02 1463.08 1615.04 1462.92 Q1616.06 1462.73 1617.07 1462.73 Q1622.86 1462.73 1626.24 1465.9 Q1629.62 1469.08 1629.62 1474.49 Q1629.62 1480.07 1626.15 1483.17 Q1622.68 1486.25 1616.36 1486.25 Q1614.18 1486.25 1611.91 1485.88 Q1609.67 1485.51 1607.26 1484.77 L1607.26 1480.07 Q1609.34 1481.2 1611.57 1481.76 Q1613.79 1482.32 1616.26 1482.32 Q1620.27 1482.32 1622.61 1480.21 Q1624.95 1478.1 1624.95 1474.49 Q1624.95 1470.88 1622.61 1468.77 Q1620.27 1466.67 1616.26 1466.67 Q1614.39 1466.67 1612.51 1467.08 Q1610.66 1467.5 1608.72 1468.38 L1608.72 1451.02 Z\" fill=\"#000000\" fill-rule=\"nonzero\" fill-opacity=\"1\" /><path clip-path=\"url(#clip760)\" d=\"M1893.77 1451.02 L1912.12 1451.02 L1912.12 1454.96 L1898.05 1454.96 L1898.05 1463.43 Q1899.07 1463.08 1900.08 1462.92 Q1901.1 1462.73 1902.12 1462.73 Q1907.91 1462.73 1911.29 1465.9 Q1914.67 1469.08 1914.67 1474.49 Q1914.67 1480.07 1911.2 1483.17 Q1907.72 1486.25 1901.4 1486.25 Q1899.23 1486.25 1896.96 1485.88 Q1894.71 1485.51 1892.31 1484.77 L1892.31 1480.07 Q1894.39 1481.2 1896.61 1481.76 Q1898.83 1482.32 1901.31 1482.32 Q1905.32 1482.32 1907.65 1480.21 Q1909.99 1478.1 1909.99 1474.49 Q1909.99 1470.88 1907.65 1468.77 Q1905.32 1466.67 1901.31 1466.67 Q1899.44 1466.67 1897.56 1467.08 Q1895.71 1467.5 1893.77 1468.38 L1893.77 1451.02 Z\" fill=\"#000000\" fill-rule=\"nonzero\" fill-opacity=\"1\" /><path clip-path=\"url(#clip760)\" d=\"M1933.88 1454.1 Q1930.27 1454.1 1928.44 1457.66 Q1926.64 1461.2 1926.64 1468.33 Q1926.64 1475.44 1928.44 1479.01 Q1930.27 1482.55 1933.88 1482.55 Q1937.51 1482.55 1939.32 1479.01 Q1941.15 1475.44 1941.15 1468.33 Q1941.15 1461.2 1939.32 1457.66 Q1937.51 1454.1 1933.88 1454.1 M1933.88 1450.39 Q1939.69 1450.39 1942.75 1455 Q1945.82 1459.58 1945.82 1468.33 Q1945.82 1477.06 1942.75 1481.67 Q1939.69 1486.25 1933.88 1486.25 Q1928.07 1486.25 1924.99 1481.67 Q1921.94 1477.06 1921.94 1468.33 Q1921.94 1459.58 1924.99 1455 Q1928.07 1450.39 1933.88 1450.39 Z\" fill=\"#000000\" fill-rule=\"nonzero\" fill-opacity=\"1\" /><path clip-path=\"url(#clip760)\" d=\"M2210.64 1451.02 L2229 1451.02 L2229 1454.96 L2214.92 1454.96 L2214.92 1463.43 Q2215.94 1463.08 2216.96 1462.92 Q2217.98 1462.73 2219 1462.73 Q2224.78 1462.73 2228.16 1465.9 Q2231.54 1469.08 2231.54 1474.49 Q2231.54 1480.07 2228.07 1483.17 Q2224.6 1486.25 2218.28 1486.25 Q2216.1 1486.25 2213.83 1485.88 Q2211.59 1485.51 2209.18 1484.77 L2209.18 1480.07 Q2211.27 1481.2 2213.49 1481.76 Q2215.71 1482.32 2218.19 1482.32 Q2222.19 1482.32 2224.53 1480.21 Q2226.87 1478.1 2226.87 1474.49 Q2226.87 1470.88 2224.53 1468.77 Q2222.19 1466.67 2218.19 1466.67 Q2216.31 1466.67 2214.44 1467.08 Q2212.58 1467.5 2210.64 1468.38 L2210.64 1451.02 Z\" fill=\"#000000\" fill-rule=\"nonzero\" fill-opacity=\"1\" /><path clip-path=\"url(#clip760)\" d=\"M2240.8 1451.02 L2259.16 1451.02 L2259.16 1454.96 L2245.08 1454.96 L2245.08 1463.43 Q2246.1 1463.08 2247.12 1462.92 Q2248.14 1462.73 2249.16 1462.73 Q2254.95 1462.73 2258.33 1465.9 Q2261.7 1469.08 2261.7 1474.49 Q2261.7 1480.07 2258.23 1483.17 Q2254.76 1486.25 2248.44 1486.25 Q2246.26 1486.25 2244 1485.88 Q2241.75 1485.51 2239.34 1484.77 L2239.34 1480.07 Q2241.43 1481.2 2243.65 1481.76 Q2245.87 1482.32 2248.35 1482.32 Q2252.35 1482.32 2254.69 1480.21 Q2257.03 1478.1 2257.03 1474.49 Q2257.03 1470.88 2254.69 1468.77 Q2252.35 1466.67 2248.35 1466.67 Q2246.47 1466.67 2244.6 1467.08 Q2242.75 1467.5 2240.8 1468.38 L2240.8 1451.02 Z\" fill=\"#000000\" fill-rule=\"nonzero\" fill-opacity=\"1\" /><path clip-path=\"url(#clip760)\" d=\"M1200.23 1520.52 L1206.66 1520.52 L1206.66 1568.04 L1200.23 1568.04 L1200.23 1520.52 Z\" fill=\"#000000\" fill-rule=\"nonzero\" fill-opacity=\"1\" /><path clip-path=\"url(#clip760)\" d=\"M1242.66 1537.81 L1242.66 1518.52 L1248.51 1518.52 L1248.51 1568.04 L1242.66 1568.04 L1242.66 1562.7 Q1240.81 1565.88 1237.98 1567.44 Q1235.18 1568.97 1231.23 1568.97 Q1224.77 1568.97 1220.7 1563.81 Q1216.65 1558.65 1216.65 1550.25 Q1216.65 1541.85 1220.7 1536.69 Q1224.77 1531.54 1231.23 1531.54 Q1235.18 1531.54 1237.98 1533.1 Q1240.81 1534.62 1242.66 1537.81 M1222.7 1550.25 Q1222.7 1556.71 1225.34 1560.4 Q1228.02 1564.07 1232.66 1564.07 Q1237.31 1564.07 1239.98 1560.4 Q1242.66 1556.71 1242.66 1550.25 Q1242.66 1543.79 1239.98 1540.13 Q1237.31 1536.44 1232.66 1536.44 Q1228.02 1536.44 1225.34 1540.13 Q1222.7 1543.79 1222.7 1550.25 Z\" fill=\"#000000\" fill-rule=\"nonzero\" fill-opacity=\"1\" /><path clip-path=\"url(#clip760)\" d=\"M1276.78 1550.12 Q1269.68 1550.12 1266.94 1551.75 Q1264.21 1553.37 1264.21 1557.29 Q1264.21 1560.4 1266.24 1562.25 Q1268.31 1564.07 1271.85 1564.07 Q1276.71 1564.07 1279.64 1560.63 Q1282.6 1557.16 1282.6 1551.43 L1282.6 1550.12 L1276.78 1550.12 M1288.46 1547.71 L1288.46 1568.04 L1282.6 1568.04 L1282.6 1562.63 Q1280.6 1565.88 1277.61 1567.44 Q1274.61 1568.97 1270.29 1568.97 Q1264.81 1568.97 1261.56 1565.91 Q1258.35 1562.82 1258.35 1557.67 Q1258.35 1551.65 1262.36 1548.6 Q1266.4 1545.54 1274.39 1545.54 L1282.6 1545.54 L1282.6 1544.97 Q1282.6 1540.93 1279.93 1538.73 Q1277.29 1536.5 1272.48 1536.5 Q1269.43 1536.5 1266.53 1537.23 Q1263.63 1537.97 1260.96 1539.43 L1260.96 1534.02 Q1264.17 1532.78 1267.2 1532.17 Q1270.22 1531.54 1273.09 1531.54 Q1280.82 1531.54 1284.64 1535.55 Q1288.46 1539.56 1288.46 1547.71 Z\" fill=\"#000000\" fill-rule=\"nonzero\" fill-opacity=\"1\" /><path clip-path=\"url(#clip760)\" d=\"M1323.98 1537.81 L1323.98 1518.52 L1329.84 1518.52 L1329.84 1568.04 L1323.98 1568.04 L1323.98 1562.7 Q1322.13 1565.88 1319.3 1567.44 Q1316.5 1568.97 1312.55 1568.97 Q1306.09 1568.97 1302.02 1563.81 Q1297.98 1558.65 1297.98 1550.25 Q1297.98 1541.85 1302.02 1536.69 Q1306.09 1531.54 1312.55 1531.54 Q1316.5 1531.54 1319.3 1533.1 Q1322.13 1534.62 1323.98 1537.81 M1304.02 1550.25 Q1304.02 1556.71 1306.67 1560.4 Q1309.34 1564.07 1313.99 1564.07 Q1318.63 1564.07 1321.31 1560.4 Q1323.98 1556.71 1323.98 1550.25 Q1323.98 1543.79 1321.31 1540.13 Q1318.63 1536.44 1313.99 1536.44 Q1309.34 1536.44 1306.67 1540.13 Q1304.02 1543.79 1304.02 1550.25 Z\" fill=\"#000000\" fill-rule=\"nonzero\" fill-opacity=\"1\" /><path clip-path=\"url(#clip760)\" d=\"M1372.39 1548.76 L1372.39 1551.62 L1345.46 1551.62 Q1345.85 1557.67 1349.09 1560.85 Q1352.37 1564 1358.2 1564 Q1361.57 1564 1364.72 1563.17 Q1367.9 1562.35 1371.02 1560.69 L1371.02 1566.23 Q1367.87 1567.57 1364.56 1568.27 Q1361.25 1568.97 1357.85 1568.97 Q1349.32 1568.97 1344.32 1564 Q1339.35 1559.04 1339.35 1550.57 Q1339.35 1541.82 1344.06 1536.69 Q1348.81 1531.54 1356.83 1531.54 Q1364.02 1531.54 1368.19 1536.18 Q1372.39 1540.8 1372.39 1548.76 M1366.53 1547.04 Q1366.47 1542.23 1363.83 1539.37 Q1361.22 1536.5 1356.89 1536.5 Q1351.99 1536.5 1349.03 1539.27 Q1346.1 1542.04 1345.66 1547.07 L1366.53 1547.04 Z\" fill=\"#000000\" fill-rule=\"nonzero\" fill-opacity=\"1\" /><polyline clip-path=\"url(#clip762)\" style=\"stroke:#000000; stroke-linecap:round; stroke-linejoin:round; stroke-width:2; stroke-opacity:0.1; fill:none\" points=\"219.866,1423.18 2352.76,1423.18 \"/>\n<polyline clip-path=\"url(#clip762)\" style=\"stroke:#000000; stroke-linecap:round; stroke-linejoin:round; stroke-width:2; stroke-opacity:0.1; fill:none\" points=\"219.866,1147.99 2352.76,1147.99 \"/>\n<polyline clip-path=\"url(#clip762)\" style=\"stroke:#000000; stroke-linecap:round; stroke-linejoin:round; stroke-width:2; stroke-opacity:0.1; fill:none\" points=\"219.866,872.806 2352.76,872.806 \"/>\n<polyline clip-path=\"url(#clip762)\" style=\"stroke:#000000; stroke-linecap:round; stroke-linejoin:round; stroke-width:2; stroke-opacity:0.1; fill:none\" points=\"219.866,597.618 2352.76,597.618 \"/>\n<polyline clip-path=\"url(#clip762)\" style=\"stroke:#000000; stroke-linecap:round; stroke-linejoin:round; stroke-width:2; stroke-opacity:0.1; fill:none\" points=\"219.866,322.431 2352.76,322.431 \"/>\n<polyline clip-path=\"url(#clip762)\" style=\"stroke:#000000; stroke-linecap:round; stroke-linejoin:round; stroke-width:2; stroke-opacity:0.1; fill:none\" points=\"219.866,47.2441 2352.76,47.2441 \"/>\n<polyline clip-path=\"url(#clip760)\" style=\"stroke:#000000; stroke-linecap:round; stroke-linejoin:round; stroke-width:4; stroke-opacity:1; fill:none\" points=\"219.866,1423.18 219.866,47.2441 \"/>\n<polyline clip-path=\"url(#clip760)\" style=\"stroke:#000000; stroke-linecap:round; stroke-linejoin:round; stroke-width:4; stroke-opacity:1; fill:none\" points=\"219.866,1423.18 238.764,1423.18 \"/>\n<polyline clip-path=\"url(#clip760)\" style=\"stroke:#000000; stroke-linecap:round; stroke-linejoin:round; stroke-width:4; stroke-opacity:1; fill:none\" points=\"219.866,1147.99 238.764,1147.99 \"/>\n<polyline clip-path=\"url(#clip760)\" style=\"stroke:#000000; stroke-linecap:round; stroke-linejoin:round; stroke-width:4; stroke-opacity:1; fill:none\" points=\"219.866,872.806 238.764,872.806 \"/>\n<polyline clip-path=\"url(#clip760)\" style=\"stroke:#000000; stroke-linecap:round; stroke-linejoin:round; stroke-width:4; stroke-opacity:1; fill:none\" points=\"219.866,597.618 238.764,597.618 \"/>\n<polyline clip-path=\"url(#clip760)\" style=\"stroke:#000000; stroke-linecap:round; stroke-linejoin:round; stroke-width:4; stroke-opacity:1; fill:none\" points=\"219.866,322.431 238.764,322.431 \"/>\n<polyline clip-path=\"url(#clip760)\" style=\"stroke:#000000; stroke-linecap:round; stroke-linejoin:round; stroke-width:4; stroke-opacity:1; fill:none\" points=\"219.866,47.2441 238.764,47.2441 \"/>\n<path clip-path=\"url(#clip760)\" d=\"M126.691 1408.98 Q123.08 1408.98 121.251 1412.54 Q119.445 1416.08 119.445 1423.21 Q119.445 1430.32 121.251 1433.89 Q123.08 1437.43 126.691 1437.43 Q130.325 1437.43 132.13 1433.89 Q133.959 1430.32 133.959 1423.21 Q133.959 1416.08 132.13 1412.54 Q130.325 1408.98 126.691 1408.98 M126.691 1405.27 Q132.501 1405.27 135.556 1409.88 Q138.635 1414.46 138.635 1423.21 Q138.635 1431.94 135.556 1436.55 Q132.501 1441.13 126.691 1441.13 Q120.88 1441.13 117.802 1436.55 Q114.746 1431.94 114.746 1423.21 Q114.746 1414.46 117.802 1409.88 Q120.88 1405.27 126.691 1405.27 Z\" fill=\"#000000\" fill-rule=\"nonzero\" fill-opacity=\"1\" /><path clip-path=\"url(#clip760)\" d=\"M146.853 1434.58 L151.737 1434.58 L151.737 1440.46 L146.853 1440.46 L146.853 1434.58 Z\" fill=\"#000000\" fill-rule=\"nonzero\" fill-opacity=\"1\" /><path clip-path=\"url(#clip760)\" d=\"M171.922 1408.98 Q168.311 1408.98 166.482 1412.54 Q164.677 1416.08 164.677 1423.21 Q164.677 1430.32 166.482 1433.89 Q168.311 1437.43 171.922 1437.43 Q175.556 1437.43 177.362 1433.89 Q179.19 1430.32 179.19 1423.21 Q179.19 1416.08 177.362 1412.54 Q175.556 1408.98 171.922 1408.98 M171.922 1405.27 Q177.732 1405.27 180.788 1409.88 Q183.866 1414.46 183.866 1423.21 Q183.866 1431.94 180.788 1436.55 Q177.732 1441.13 171.922 1441.13 Q166.112 1441.13 163.033 1436.55 Q159.978 1431.94 159.978 1423.21 Q159.978 1414.46 163.033 1409.88 Q166.112 1405.27 171.922 1405.27 Z\" fill=\"#000000\" fill-rule=\"nonzero\" fill-opacity=\"1\" /><path clip-path=\"url(#clip760)\" d=\"M128.288 1133.79 Q124.677 1133.79 122.848 1137.36 Q121.043 1140.9 121.043 1148.03 Q121.043 1155.13 122.848 1158.7 Q124.677 1162.24 128.288 1162.24 Q131.922 1162.24 133.728 1158.7 Q135.556 1155.13 135.556 1148.03 Q135.556 1140.9 133.728 1137.36 Q131.922 1133.79 128.288 1133.79 M128.288 1130.09 Q134.098 1130.09 137.154 1134.69 Q140.232 1139.28 140.232 1148.03 Q140.232 1156.75 137.154 1161.36 Q134.098 1165.94 128.288 1165.94 Q122.478 1165.94 119.399 1161.36 Q116.343 1156.75 116.343 1148.03 Q116.343 1139.28 119.399 1134.69 Q122.478 1130.09 128.288 1130.09 Z\" fill=\"#000000\" fill-rule=\"nonzero\" fill-opacity=\"1\" /><path clip-path=\"url(#clip760)\" d=\"M148.45 1159.39 L153.334 1159.39 L153.334 1165.27 L148.45 1165.27 L148.45 1159.39 Z\" fill=\"#000000\" fill-rule=\"nonzero\" fill-opacity=\"1\" /><path clip-path=\"url(#clip760)\" d=\"M167.547 1161.34 L183.866 1161.34 L183.866 1165.27 L161.922 1165.27 L161.922 1161.34 Q164.584 1158.58 169.167 1153.95 Q173.774 1149.3 174.954 1147.96 Q177.2 1145.43 178.079 1143.7 Q178.982 1141.94 178.982 1140.25 Q178.982 1137.5 177.038 1135.76 Q175.116 1134.02 172.014 1134.02 Q169.815 1134.02 167.362 1134.79 Q164.931 1135.55 162.153 1137.1 L162.153 1132.38 Q164.977 1131.25 167.431 1130.67 Q169.885 1130.09 171.922 1130.09 Q177.292 1130.09 180.487 1132.77 Q183.681 1135.46 183.681 1139.95 Q183.681 1142.08 182.871 1144 Q182.084 1145.9 179.977 1148.49 Q179.399 1149.16 176.297 1152.38 Q173.195 1155.57 167.547 1161.34 Z\" fill=\"#000000\" fill-rule=\"nonzero\" fill-opacity=\"1\" /><path clip-path=\"url(#clip760)\" d=\"M126.205 858.604 Q122.593 858.604 120.765 862.169 Q118.959 865.711 118.959 872.84 Q118.959 879.947 120.765 883.512 Q122.593 887.053 126.205 887.053 Q129.839 887.053 131.644 883.512 Q133.473 879.947 133.473 872.84 Q133.473 865.711 131.644 862.169 Q129.839 858.604 126.205 858.604 M126.205 854.901 Q132.015 854.901 135.07 859.507 Q138.149 864.09 138.149 872.84 Q138.149 881.567 135.07 886.174 Q132.015 890.757 126.205 890.757 Q120.394 890.757 117.316 886.174 Q114.26 881.567 114.26 872.84 Q114.26 864.09 117.316 859.507 Q120.394 854.901 126.205 854.901 Z\" fill=\"#000000\" fill-rule=\"nonzero\" fill-opacity=\"1\" /><path clip-path=\"url(#clip760)\" d=\"M146.366 884.206 L151.251 884.206 L151.251 890.086 L146.366 890.086 L146.366 884.206 Z\" fill=\"#000000\" fill-rule=\"nonzero\" fill-opacity=\"1\" /><path clip-path=\"url(#clip760)\" d=\"M174.283 859.6 L162.477 878.049 L174.283 878.049 L174.283 859.6 M173.056 855.526 L178.936 855.526 L178.936 878.049 L183.866 878.049 L183.866 881.937 L178.936 881.937 L178.936 890.086 L174.283 890.086 L174.283 881.937 L158.681 881.937 L158.681 877.424 L173.056 855.526 Z\" fill=\"#000000\" fill-rule=\"nonzero\" fill-opacity=\"1\" /><path clip-path=\"url(#clip760)\" d=\"M126.529 583.417 Q122.918 583.417 121.089 586.982 Q119.283 590.524 119.283 597.653 Q119.283 604.76 121.089 608.324 Q122.918 611.866 126.529 611.866 Q130.163 611.866 131.968 608.324 Q133.797 604.76 133.797 597.653 Q133.797 590.524 131.968 586.982 Q130.163 583.417 126.529 583.417 M126.529 579.713 Q132.339 579.713 135.394 584.32 Q138.473 588.903 138.473 597.653 Q138.473 606.38 135.394 610.986 Q132.339 615.57 126.529 615.57 Q120.718 615.57 117.64 610.986 Q114.584 606.38 114.584 597.653 Q114.584 588.903 117.64 584.32 Q120.718 579.713 126.529 579.713 Z\" fill=\"#000000\" fill-rule=\"nonzero\" fill-opacity=\"1\" /><path clip-path=\"url(#clip760)\" d=\"M146.691 609.019 L151.575 609.019 L151.575 614.898 L146.691 614.898 L146.691 609.019 Z\" fill=\"#000000\" fill-rule=\"nonzero\" fill-opacity=\"1\" /><path clip-path=\"url(#clip760)\" d=\"M172.339 595.755 Q169.19 595.755 167.339 597.908 Q165.51 600.061 165.51 603.81 Q165.51 607.537 167.339 609.713 Q169.19 611.866 172.339 611.866 Q175.487 611.866 177.315 609.713 Q179.167 607.537 179.167 603.81 Q179.167 600.061 177.315 597.908 Q175.487 595.755 172.339 595.755 M181.621 581.102 L181.621 585.362 Q179.862 584.528 178.056 584.088 Q176.274 583.649 174.514 583.649 Q169.885 583.649 167.431 586.774 Q165.001 589.899 164.653 596.218 Q166.019 594.204 168.079 593.139 Q170.139 592.051 172.616 592.051 Q177.825 592.051 180.834 595.223 Q183.866 598.371 183.866 603.81 Q183.866 609.135 180.718 612.352 Q177.57 615.57 172.339 615.57 Q166.343 615.57 163.172 610.986 Q160.001 606.38 160.001 597.653 Q160.001 589.459 163.89 584.598 Q167.778 579.713 174.329 579.713 Q176.089 579.713 177.871 580.061 Q179.676 580.408 181.621 581.102 Z\" fill=\"#000000\" fill-rule=\"nonzero\" fill-opacity=\"1\" /><path clip-path=\"url(#clip760)\" d=\"M126.783 308.23 Q123.172 308.23 121.343 311.795 Q119.538 315.336 119.538 322.466 Q119.538 329.572 121.343 333.137 Q123.172 336.679 126.783 336.679 Q130.417 336.679 132.223 333.137 Q134.052 329.572 134.052 322.466 Q134.052 315.336 132.223 311.795 Q130.417 308.23 126.783 308.23 M126.783 304.526 Q132.593 304.526 135.649 309.133 Q138.728 313.716 138.728 322.466 Q138.728 331.193 135.649 335.799 Q132.593 340.383 126.783 340.383 Q120.973 340.383 117.894 335.799 Q114.839 331.193 114.839 322.466 Q114.839 313.716 117.894 309.133 Q120.973 304.526 126.783 304.526 Z\" fill=\"#000000\" fill-rule=\"nonzero\" fill-opacity=\"1\" /><path clip-path=\"url(#clip760)\" d=\"M146.945 333.832 L151.829 333.832 L151.829 339.711 L146.945 339.711 L146.945 333.832 Z\" fill=\"#000000\" fill-rule=\"nonzero\" fill-opacity=\"1\" /><path clip-path=\"url(#clip760)\" d=\"M172.014 323.299 Q168.681 323.299 166.76 325.082 Q164.862 326.864 164.862 329.989 Q164.862 333.114 166.76 334.896 Q168.681 336.679 172.014 336.679 Q175.348 336.679 177.269 334.896 Q179.19 333.091 179.19 329.989 Q179.19 326.864 177.269 325.082 Q175.371 323.299 172.014 323.299 M167.339 321.309 Q164.329 320.568 162.64 318.508 Q160.973 316.447 160.973 313.485 Q160.973 309.341 163.913 306.934 Q166.876 304.526 172.014 304.526 Q177.176 304.526 180.116 306.934 Q183.056 309.341 183.056 313.485 Q183.056 316.447 181.366 318.508 Q179.7 320.568 176.714 321.309 Q180.093 322.096 181.968 324.387 Q183.866 326.679 183.866 329.989 Q183.866 335.012 180.788 337.697 Q177.732 340.383 172.014 340.383 Q166.297 340.383 163.218 337.697 Q160.163 335.012 160.163 329.989 Q160.163 326.679 162.061 324.387 Q163.959 322.096 167.339 321.309 M165.626 313.924 Q165.626 316.61 167.292 318.114 Q168.982 319.619 172.014 319.619 Q175.024 319.619 176.714 318.114 Q178.426 316.61 178.426 313.924 Q178.426 311.239 176.714 309.735 Q175.024 308.23 172.014 308.23 Q168.982 308.23 167.292 309.735 Q165.626 311.239 165.626 313.924 Z\" fill=\"#000000\" fill-rule=\"nonzero\" fill-opacity=\"1\" /><path clip-path=\"url(#clip760)\" d=\"M117.501 60.5889 L125.14 60.5889 L125.14 34.2233 L116.83 35.89 L116.83 31.6308 L125.093 29.9641 L129.769 29.9641 L129.769 60.5889 L137.408 60.5889 L137.408 64.5241 L117.501 64.5241 L117.501 60.5889 Z\" fill=\"#000000\" fill-rule=\"nonzero\" fill-opacity=\"1\" /><path clip-path=\"url(#clip760)\" d=\"M146.853 58.6445 L151.737 58.6445 L151.737 64.5241 L146.853 64.5241 L146.853 58.6445 Z\" fill=\"#000000\" fill-rule=\"nonzero\" fill-opacity=\"1\" /><path clip-path=\"url(#clip760)\" d=\"M171.922 33.0428 Q168.311 33.0428 166.482 36.6076 Q164.677 40.1492 164.677 47.2788 Q164.677 54.3853 166.482 57.9501 Q168.311 61.4917 171.922 61.4917 Q175.556 61.4917 177.362 57.9501 Q179.19 54.3853 179.19 47.2788 Q179.19 40.1492 177.362 36.6076 Q175.556 33.0428 171.922 33.0428 M171.922 29.3391 Q177.732 29.3391 180.788 33.9456 Q183.866 38.5289 183.866 47.2788 Q183.866 56.0056 180.788 60.6121 Q177.732 65.1954 171.922 65.1954 Q166.112 65.1954 163.033 60.6121 Q159.978 56.0056 159.978 47.2788 Q159.978 38.5289 163.033 33.9456 Q166.112 29.3391 171.922 29.3391 Z\" fill=\"#000000\" fill-rule=\"nonzero\" fill-opacity=\"1\" /><path clip-path=\"url(#clip760)\" d=\"M16.4842 907.166 L16.4842 879.857 L21.895 879.857 L21.895 900.736 L35.8996 900.736 L35.8996 881.894 L41.3104 881.894 L41.3104 900.736 L64.0042 900.736 L64.0042 907.166 L16.4842 907.166 Z\" fill=\"#000000\" fill-rule=\"nonzero\" fill-opacity=\"1\" /><path clip-path=\"url(#clip760)\" d=\"M33.8307 854.012 Q33.2578 854.999 33.0032 856.176 Q32.7167 857.322 32.7167 858.723 Q32.7167 863.688 35.9632 866.361 Q39.1779 869.003 45.2253 869.003 L64.0042 869.003 L64.0042 874.891 L28.3562 874.891 L28.3562 869.003 L33.8944 869.003 Q30.6479 867.157 29.0883 864.197 Q27.4968 861.237 27.4968 857.004 Q27.4968 856.399 27.5923 855.667 Q27.656 854.935 27.8151 854.044 L33.8307 854.012 Z\" fill=\"#000000\" fill-rule=\"nonzero\" fill-opacity=\"1\" /><path clip-path=\"url(#clip760)\" d=\"M44.7161 818.81 L47.5806 818.81 L47.5806 845.737 Q53.6281 845.355 56.8109 842.108 Q59.9619 838.83 59.9619 833.005 Q59.9619 829.631 59.1344 826.48 Q58.3069 823.297 56.6518 820.178 L62.1899 820.178 Q63.5267 823.329 64.227 826.639 Q64.9272 829.95 64.9272 833.355 Q64.9272 841.885 59.9619 846.882 Q54.9967 851.848 46.5303 851.848 Q37.7774 851.848 32.6531 847.137 Q27.4968 842.395 27.4968 834.374 Q27.4968 827.181 32.1438 823.011 Q36.7589 818.81 44.7161 818.81 M42.9973 824.666 Q38.1912 824.73 35.3266 827.371 Q32.4621 829.981 32.4621 834.31 Q32.4621 839.212 35.2312 842.172 Q38.0002 845.1 43.0292 845.546 L42.9973 824.666 Z\" fill=\"#000000\" fill-rule=\"nonzero\" fill-opacity=\"1\" /><path clip-path=\"url(#clip760)\" d=\"M46.212 805.696 Q52.6732 805.696 56.3653 803.054 Q60.0256 800.381 60.0256 795.734 Q60.0256 791.087 56.3653 788.413 Q52.6732 785.74 46.212 785.74 Q39.7508 785.74 36.0905 788.413 Q32.3984 791.087 32.3984 795.734 Q32.3984 800.381 36.0905 803.054 Q39.7508 805.696 46.212 805.696 M58.657 785.74 Q61.8398 787.586 63.3994 790.419 Q64.9272 793.219 64.9272 797.166 Q64.9272 803.627 59.771 807.701 Q54.6147 811.744 46.212 811.744 Q37.8093 811.744 32.6531 807.701 Q27.4968 803.627 27.4968 797.166 Q27.4968 793.219 29.0564 790.419 Q30.5842 787.586 33.7671 785.74 L28.3562 785.74 L28.3562 779.883 L77.5631 779.883 L77.5631 785.74 L58.657 785.74 Z\" fill=\"#000000\" fill-rule=\"nonzero\" fill-opacity=\"1\" /><path clip-path=\"url(#clip760)\" d=\"M49.9359 768.425 L28.3562 768.425 L28.3562 762.569 L49.7131 762.569 Q54.7739 762.569 57.3202 760.595 Q59.8346 758.622 59.8346 754.675 Q59.8346 749.933 56.8109 747.195 Q53.7872 744.426 48.5673 744.426 L28.3562 744.426 L28.3562 738.57 L64.0042 738.57 L64.0042 744.426 L58.5296 744.426 Q61.7762 746.559 63.3676 749.392 Q64.9272 752.192 64.9272 755.916 Q64.9272 762.059 61.1078 765.242 Q57.2883 768.425 49.9359 768.425 M27.4968 753.688 L27.4968 753.688 Z\" fill=\"#000000\" fill-rule=\"nonzero\" fill-opacity=\"1\" /><path clip-path=\"url(#clip760)\" d=\"M44.7161 696.015 L47.5806 696.015 L47.5806 722.942 Q53.6281 722.56 56.8109 719.314 Q59.9619 716.035 59.9619 710.211 Q59.9619 706.837 59.1344 703.686 Q58.3069 700.503 56.6518 697.384 L62.1899 697.384 Q63.5267 700.535 64.227 703.845 Q64.9272 707.155 64.9272 710.561 Q64.9272 719.091 59.9619 724.088 Q54.9967 729.053 46.5303 729.053 Q37.7774 729.053 32.6531 724.343 Q27.4968 719.6 27.4968 711.579 Q27.4968 704.386 32.1438 700.216 Q36.7589 696.015 44.7161 696.015 M42.9973 701.872 Q38.1912 701.935 35.3266 704.577 Q32.4621 707.187 32.4621 711.516 Q32.4621 716.417 35.2312 719.377 Q38.0002 722.305 43.0292 722.751 L42.9973 701.872 M11.869 714.285 L11.869 709.574 L23.8365 701.776 L23.8365 706.2 L16.0386 711.929 L23.8365 717.659 L23.8365 722.083 L11.869 714.285 Z\" fill=\"#000000\" fill-rule=\"nonzero\" fill-opacity=\"1\" /><path clip-path=\"url(#clip760)\" d=\"M42.4881 656.771 L64.0042 656.771 L64.0042 662.627 L42.679 662.627 Q37.6183 662.627 35.1038 664.6 Q32.5894 666.574 32.5894 670.52 Q32.5894 675.263 35.6131 678 Q38.6368 680.737 43.8567 680.737 L64.0042 680.737 L64.0042 686.626 L28.3562 686.626 L28.3562 680.737 L33.8944 680.737 Q30.6797 678.637 29.0883 675.804 Q27.4968 672.939 27.4968 669.216 Q27.4968 663.073 31.3163 659.922 Q35.1038 656.771 42.4881 656.771 Z\" fill=\"#000000\" fill-rule=\"nonzero\" fill-opacity=\"1\" /><path clip-path=\"url(#clip760)\" d=\"M29.7248 619.436 L35.1993 619.436 Q33.8307 621.918 33.1623 624.433 Q32.4621 626.915 32.4621 629.462 Q32.4621 635.159 36.0905 638.31 Q39.6872 641.461 46.212 641.461 Q52.7369 641.461 56.3653 638.31 Q59.9619 635.159 59.9619 629.462 Q59.9619 626.915 59.2935 624.433 Q58.5933 621.918 57.2247 619.436 L62.6355 619.436 Q63.7814 621.886 64.3543 624.528 Q64.9272 627.138 64.9272 630.098 Q64.9272 638.151 59.8664 642.893 Q54.8057 647.636 46.212 647.636 Q37.491 647.636 32.4939 642.861 Q27.4968 638.055 27.4968 629.716 Q27.4968 627.011 28.0697 624.433 Q28.6108 621.855 29.7248 619.436 Z\" fill=\"#000000\" fill-rule=\"nonzero\" fill-opacity=\"1\" /><path clip-path=\"url(#clip760)\" d=\"M28.3562 609.251 L28.3562 603.394 L64.0042 603.394 L64.0042 609.251 L28.3562 609.251 M14.479 609.251 L14.479 603.394 L21.895 603.394 L21.895 609.251 L14.479 609.251 Z\" fill=\"#000000\" fill-rule=\"nonzero\" fill-opacity=\"1\" /><path clip-path=\"url(#clip760)\" d=\"M46.0847 574.939 Q46.0847 582.037 47.7079 584.774 Q49.3312 587.512 53.2461 587.512 Q56.3653 587.512 58.2114 585.475 Q60.0256 583.406 60.0256 579.873 Q60.0256 575.003 56.5881 572.075 Q53.1188 569.115 47.3897 569.115 L46.0847 569.115 L46.0847 574.939 M43.6657 563.258 L64.0042 563.258 L64.0042 569.115 L58.5933 569.115 Q61.8398 571.12 63.3994 574.112 Q64.9272 577.104 64.9272 581.432 Q64.9272 586.907 61.8716 590.153 Q58.7843 593.368 53.6281 593.368 Q47.6125 593.368 44.5569 589.358 Q41.5014 585.315 41.5014 577.327 L41.5014 569.115 L40.9285 569.115 Q36.8862 569.115 34.6901 571.788 Q32.4621 574.43 32.4621 579.236 Q32.4621 582.292 33.1941 585.188 Q33.9262 588.085 35.3903 590.758 L29.9795 590.758 Q28.7381 587.543 28.1334 584.52 Q27.4968 581.496 27.4968 578.631 Q27.4968 570.897 31.5072 567.078 Q35.5176 563.258 43.6657 563.258 Z\" fill=\"#000000\" fill-rule=\"nonzero\" fill-opacity=\"1\" /><path clip-path=\"url(#clip762)\" d=\"M337.179 47.2441 L337.179 1423.18 L653.556 1423.18 L653.556 47.2441 L337.179 47.2441 L337.179 47.2441  Z\" fill=\"#009af9\" fill-rule=\"evenodd\" fill-opacity=\"1\"/>\n<polyline clip-path=\"url(#clip762)\" style=\"stroke:#000000; stroke-linecap:round; stroke-linejoin:round; stroke-width:4; stroke-opacity:1; fill:none\" points=\"337.179,47.2441 337.179,1423.18 653.556,1423.18 653.556,47.2441 337.179,47.2441 \"/>\n<path clip-path=\"url(#clip762)\" d=\"M653.556 47.2441 L653.556 1423.18 L969.934 1423.18 L969.934 47.2441 L653.556 47.2441 L653.556 47.2441  Z\" fill=\"#009af9\" fill-rule=\"evenodd\" fill-opacity=\"1\"/>\n<polyline clip-path=\"url(#clip762)\" style=\"stroke:#000000; stroke-linecap:round; stroke-linejoin:round; stroke-width:4; stroke-opacity:1; fill:none\" points=\"653.556,47.2441 653.556,1423.18 969.934,1423.18 969.934,47.2441 653.556,47.2441 \"/>\n<path clip-path=\"url(#clip762)\" d=\"M969.934 47.2441 L969.934 1423.18 L1286.31 1423.18 L1286.31 47.2441 L969.934 47.2441 L969.934 47.2441  Z\" fill=\"#009af9\" fill-rule=\"evenodd\" fill-opacity=\"1\"/>\n<polyline clip-path=\"url(#clip762)\" style=\"stroke:#000000; stroke-linecap:round; stroke-linejoin:round; stroke-width:4; stroke-opacity:1; fill:none\" points=\"969.934,47.2441 969.934,1423.18 1286.31,1423.18 1286.31,47.2441 969.934,47.2441 \"/>\n<path clip-path=\"url(#clip762)\" d=\"M1286.31 1423.18 L1286.31 1423.18 L1602.69 1423.18 L1602.69 1423.18 L1286.31 1423.18 L1286.31 1423.18  Z\" fill=\"#009af9\" fill-rule=\"evenodd\" fill-opacity=\"1\"/>\n<polyline clip-path=\"url(#clip762)\" style=\"stroke:#000000; stroke-linecap:round; stroke-linejoin:round; stroke-width:4; stroke-opacity:1; fill:none\" points=\"1286.31,1423.18 1286.31,1423.18 1602.69,1423.18 1286.31,1423.18 \"/>\n<path clip-path=\"url(#clip762)\" d=\"M1602.69 47.2441 L1602.69 1423.18 L1919.07 1423.18 L1919.07 47.2441 L1602.69 47.2441 L1602.69 47.2441  Z\" fill=\"#009af9\" fill-rule=\"evenodd\" fill-opacity=\"1\"/>\n<polyline clip-path=\"url(#clip762)\" style=\"stroke:#000000; stroke-linecap:round; stroke-linejoin:round; stroke-width:4; stroke-opacity:1; fill:none\" points=\"1602.69,47.2441 1602.69,1423.18 1919.07,1423.18 1919.07,47.2441 1602.69,47.2441 \"/>\n<path clip-path=\"url(#clip762)\" d=\"M1919.07 47.2441 L1919.07 1423.18 L2235.44 1423.18 L2235.44 47.2441 L1919.07 47.2441 L1919.07 47.2441  Z\" fill=\"#009af9\" fill-rule=\"evenodd\" fill-opacity=\"1\"/>\n<polyline clip-path=\"url(#clip762)\" style=\"stroke:#000000; stroke-linecap:round; stroke-linejoin:round; stroke-width:4; stroke-opacity:1; fill:none\" points=\"1919.07,47.2441 1919.07,1423.18 2235.44,1423.18 2235.44,47.2441 1919.07,47.2441 \"/>\n<circle clip-path=\"url(#clip762)\" style=\"fill:#009af9; stroke:none; fill-opacity:0\" cx=\"495.368\" cy=\"47.2441\" r=\"2\"/>\n<circle clip-path=\"url(#clip762)\" style=\"fill:#009af9; stroke:none; fill-opacity:0\" cx=\"811.745\" cy=\"47.2441\" r=\"2\"/>\n<circle clip-path=\"url(#clip762)\" style=\"fill:#009af9; stroke:none; fill-opacity:0\" cx=\"1128.12\" cy=\"47.2441\" r=\"2\"/>\n<circle clip-path=\"url(#clip762)\" style=\"fill:#009af9; stroke:none; fill-opacity:0\" cx=\"1444.5\" cy=\"1423.18\" r=\"2\"/>\n<circle clip-path=\"url(#clip762)\" style=\"fill:#009af9; stroke:none; fill-opacity:0\" cx=\"1760.88\" cy=\"47.2441\" r=\"2\"/>\n<circle clip-path=\"url(#clip762)\" style=\"fill:#009af9; stroke:none; fill-opacity:0\" cx=\"2077.25\" cy=\"47.2441\" r=\"2\"/>\n<path clip-path=\"url(#clip760)\" d=\"M1918.26 1377.32 L2281.66 1377.32 L2281.66 1273.64 L1918.26 1273.64  Z\" fill=\"#ffffff\" fill-rule=\"evenodd\" fill-opacity=\"1\"/>\n<polyline clip-path=\"url(#clip760)\" style=\"stroke:#000000; stroke-linecap:round; stroke-linejoin:round; stroke-width:4; stroke-opacity:1; fill:none\" points=\"1918.26,1377.32 2281.66,1377.32 2281.66,1273.64 1918.26,1273.64 1918.26,1377.32 \"/>\n<path clip-path=\"url(#clip760)\" d=\"M1941.95 1346.21 L2084.15 1346.21 L2084.15 1304.74 L1941.95 1304.74 L1941.95 1346.21  Z\" fill=\"#009af9\" fill-rule=\"evenodd\" fill-opacity=\"1\"/>\n<polyline clip-path=\"url(#clip760)\" style=\"stroke:#000000; stroke-linecap:round; stroke-linejoin:round; stroke-width:4; stroke-opacity:1; fill:none\" points=\"1941.95,1346.21 2084.15,1346.21 2084.15,1304.74 1941.95,1304.74 1941.95,1346.21 \"/>\n<path clip-path=\"url(#clip760)\" d=\"M2107.85 1308.2 L2112.52 1308.2 L2112.52 1342.76 L2107.85 1342.76 L2107.85 1308.2 Z\" fill=\"#000000\" fill-rule=\"nonzero\" fill-opacity=\"1\" /><path clip-path=\"url(#clip760)\" d=\"M2138.7 1320.76 L2138.7 1306.74 L2142.96 1306.74 L2142.96 1342.76 L2138.7 1342.76 L2138.7 1338.87 Q2137.36 1341.18 2135.3 1342.32 Q2133.26 1343.43 2130.39 1343.43 Q2125.69 1343.43 2122.73 1339.68 Q2119.79 1335.93 2119.79 1329.82 Q2119.79 1323.7 2122.73 1319.95 Q2125.69 1316.2 2130.39 1316.2 Q2133.26 1316.2 2135.3 1317.34 Q2137.36 1318.45 2138.7 1320.76 M2124.19 1329.82 Q2124.19 1334.51 2126.11 1337.2 Q2128.05 1339.86 2131.43 1339.86 Q2134.81 1339.86 2136.76 1337.2 Q2138.7 1334.51 2138.7 1329.82 Q2138.7 1325.12 2136.76 1322.45 Q2134.81 1319.77 2131.43 1319.77 Q2128.05 1319.77 2126.11 1322.45 Q2124.19 1325.12 2124.19 1329.82 Z\" fill=\"#000000\" fill-rule=\"nonzero\" fill-opacity=\"1\" /><path clip-path=\"url(#clip760)\" d=\"M2163.52 1329.72 Q2158.35 1329.72 2156.36 1330.9 Q2154.37 1332.08 2154.37 1334.93 Q2154.37 1337.2 2155.85 1338.54 Q2157.36 1339.86 2159.93 1339.86 Q2163.47 1339.86 2165.6 1337.36 Q2167.75 1334.84 2167.75 1330.67 L2167.75 1329.72 L2163.52 1329.72 M2172.01 1327.96 L2172.01 1342.76 L2167.75 1342.76 L2167.75 1338.82 Q2166.29 1341.18 2164.12 1342.32 Q2161.94 1343.43 2158.79 1343.43 Q2154.81 1343.43 2152.45 1341.2 Q2150.11 1338.96 2150.11 1335.21 Q2150.11 1330.83 2153.03 1328.61 Q2155.97 1326.39 2161.78 1326.39 L2167.75 1326.39 L2167.75 1325.97 Q2167.75 1323.03 2165.81 1321.44 Q2163.89 1319.82 2160.39 1319.82 Q2158.17 1319.82 2156.06 1320.35 Q2153.96 1320.88 2152.01 1321.95 L2152.01 1318.01 Q2154.35 1317.11 2156.55 1316.67 Q2158.75 1316.2 2160.83 1316.2 Q2166.46 1316.2 2169.23 1319.12 Q2172.01 1322.04 2172.01 1327.96 Z\" fill=\"#000000\" fill-rule=\"nonzero\" fill-opacity=\"1\" /><path clip-path=\"url(#clip760)\" d=\"M2197.85 1320.76 L2197.85 1306.74 L2202.1 1306.74 L2202.1 1342.76 L2197.85 1342.76 L2197.85 1338.87 Q2196.5 1341.18 2194.44 1342.32 Q2192.41 1343.43 2189.54 1343.43 Q2184.84 1343.43 2181.87 1339.68 Q2178.93 1335.93 2178.93 1329.82 Q2178.93 1323.7 2181.87 1319.95 Q2184.84 1316.2 2189.54 1316.2 Q2192.41 1316.2 2194.44 1317.34 Q2196.5 1318.45 2197.85 1320.76 M2183.33 1329.82 Q2183.33 1334.51 2185.25 1337.2 Q2187.2 1339.86 2190.58 1339.86 Q2193.96 1339.86 2195.9 1337.2 Q2197.85 1334.51 2197.85 1329.82 Q2197.85 1325.12 2195.9 1322.45 Q2193.96 1319.77 2190.58 1319.77 Q2187.2 1319.77 2185.25 1322.45 Q2183.33 1325.12 2183.33 1329.82 Z\" fill=\"#000000\" fill-rule=\"nonzero\" fill-opacity=\"1\" /><path clip-path=\"url(#clip760)\" d=\"M2233.05 1328.73 L2233.05 1330.81 L2213.47 1330.81 Q2213.75 1335.21 2216.11 1337.52 Q2218.49 1339.82 2222.73 1339.82 Q2225.18 1339.82 2227.47 1339.21 Q2229.79 1338.61 2232.06 1337.41 L2232.06 1341.44 Q2229.77 1342.41 2227.36 1342.92 Q2224.95 1343.43 2222.47 1343.43 Q2216.27 1343.43 2212.64 1339.82 Q2209.03 1336.2 2209.03 1330.05 Q2209.03 1323.68 2212.45 1319.95 Q2215.9 1316.2 2221.73 1316.2 Q2226.97 1316.2 2230 1319.58 Q2233.05 1322.94 2233.05 1328.73 M2228.79 1327.48 Q2228.75 1323.98 2226.83 1321.9 Q2224.93 1319.82 2221.78 1319.82 Q2218.22 1319.82 2216.06 1321.83 Q2213.93 1323.84 2213.61 1327.5 L2228.79 1327.48 Z\" fill=\"#000000\" fill-rule=\"nonzero\" fill-opacity=\"1\" /><path clip-path=\"url(#clip760)\" d=\"M2256.57 1317.59 L2256.57 1321.62 Q2254.77 1320.7 2252.82 1320.23 Q2250.88 1319.77 2248.79 1319.77 Q2245.62 1319.77 2244.03 1320.74 Q2242.45 1321.71 2242.45 1323.66 Q2242.45 1325.14 2243.59 1326 Q2244.72 1326.83 2248.15 1327.59 L2249.6 1327.92 Q2254.14 1328.89 2256.04 1330.67 Q2257.96 1332.43 2257.96 1335.6 Q2257.96 1339.21 2255.09 1341.32 Q2252.24 1343.43 2247.24 1343.43 Q2245.16 1343.43 2242.89 1343.01 Q2240.65 1342.62 2238.15 1341.81 L2238.15 1337.41 Q2240.51 1338.63 2242.8 1339.26 Q2245.09 1339.86 2247.34 1339.86 Q2250.35 1339.86 2251.97 1338.84 Q2253.59 1337.8 2253.59 1335.93 Q2253.59 1334.19 2252.41 1333.26 Q2251.25 1332.34 2247.29 1331.48 L2245.81 1331.14 Q2241.85 1330.3 2240.09 1328.59 Q2238.33 1326.85 2238.33 1323.84 Q2238.33 1320.19 2240.92 1318.2 Q2243.52 1316.2 2248.28 1316.2 Q2250.65 1316.2 2252.73 1316.55 Q2254.81 1316.9 2256.57 1317.59 Z\" fill=\"#000000\" fill-rule=\"nonzero\" fill-opacity=\"1\" /></svg>\n"
          },
          "metadata": {},
          "execution_count": 63
        }
      ]
    },
    {
      "cell_type": "code",
      "source": [
        "# Gráfico de barras das compras mensais por cliente\n",
        "bar(dataframe_ficticio.Cliente, dataframe_ficticio.Compras_Mensais, label=\"Compras Mensais\", xlabel=\"Cliente\", ylabel=\"Valor das Compras\")"
      ],
      "metadata": {
        "colab": {
          "base_uri": "https://localhost:8080/",
          "height": 421
        },
        "id": "_q5waxdT1Se6",
        "outputId": "ebb250a6-9887-4fe0-a494-ec356d867f0b"
      },
      "execution_count": null,
      "outputs": [
        {
          "output_type": "execute_result",
          "data": {
            "image/svg+xml": "<?xml version=\"1.0\" encoding=\"utf-8\"?>\n<svg xmlns=\"http://www.w3.org/2000/svg\" xmlns:xlink=\"http://www.w3.org/1999/xlink\" width=\"600\" height=\"400\" viewBox=\"0 0 2400 1600\">\n<defs>\n  <clipPath id=\"clip800\">\n    <rect x=\"0\" y=\"0\" width=\"2400\" height=\"1600\"/>\n  </clipPath>\n</defs>\n<path clip-path=\"url(#clip800)\" d=\"M0 1600 L2400 1600 L2400 0 L0 0  Z\" fill=\"#ffffff\" fill-rule=\"evenodd\" fill-opacity=\"1\"/>\n<defs>\n  <clipPath id=\"clip801\">\n    <rect x=\"480\" y=\"0\" width=\"1681\" height=\"1600\"/>\n  </clipPath>\n</defs>\n<path clip-path=\"url(#clip800)\" d=\"M264.287 1423.18 L2352.76 1423.18 L2352.76 47.2441 L264.287 47.2441  Z\" fill=\"#ffffff\" fill-rule=\"evenodd\" fill-opacity=\"1\"/>\n<defs>\n  <clipPath id=\"clip802\">\n    <rect x=\"264\" y=\"47\" width=\"2089\" height=\"1377\"/>\n  </clipPath>\n</defs>\n<polyline clip-path=\"url(#clip802)\" style=\"stroke:#000000; stroke-linecap:round; stroke-linejoin:round; stroke-width:2; stroke-opacity:0.1; fill:none\" points=\"534.051,1423.18 534.051,47.2441 \"/>\n<polyline clip-path=\"url(#clip802)\" style=\"stroke:#000000; stroke-linecap:round; stroke-linejoin:round; stroke-width:2; stroke-opacity:0.1; fill:none\" points=\"921.286,1423.18 921.286,47.2441 \"/>\n<polyline clip-path=\"url(#clip802)\" style=\"stroke:#000000; stroke-linecap:round; stroke-linejoin:round; stroke-width:2; stroke-opacity:0.1; fill:none\" points=\"1308.52,1423.18 1308.52,47.2441 \"/>\n<polyline clip-path=\"url(#clip802)\" style=\"stroke:#000000; stroke-linecap:round; stroke-linejoin:round; stroke-width:2; stroke-opacity:0.1; fill:none\" points=\"1695.76,1423.18 1695.76,47.2441 \"/>\n<polyline clip-path=\"url(#clip802)\" style=\"stroke:#000000; stroke-linecap:round; stroke-linejoin:round; stroke-width:2; stroke-opacity:0.1; fill:none\" points=\"2082.99,1423.18 2082.99,47.2441 \"/>\n<polyline clip-path=\"url(#clip800)\" style=\"stroke:#000000; stroke-linecap:round; stroke-linejoin:round; stroke-width:4; stroke-opacity:1; fill:none\" points=\"264.287,1423.18 2352.76,1423.18 \"/>\n<polyline clip-path=\"url(#clip800)\" style=\"stroke:#000000; stroke-linecap:round; stroke-linejoin:round; stroke-width:4; stroke-opacity:1; fill:none\" points=\"534.051,1423.18 534.051,1404.28 \"/>\n<polyline clip-path=\"url(#clip800)\" style=\"stroke:#000000; stroke-linecap:round; stroke-linejoin:round; stroke-width:4; stroke-opacity:1; fill:none\" points=\"921.286,1423.18 921.286,1404.28 \"/>\n<polyline clip-path=\"url(#clip800)\" style=\"stroke:#000000; stroke-linecap:round; stroke-linejoin:round; stroke-width:4; stroke-opacity:1; fill:none\" points=\"1308.52,1423.18 1308.52,1404.28 \"/>\n<polyline clip-path=\"url(#clip800)\" style=\"stroke:#000000; stroke-linecap:round; stroke-linejoin:round; stroke-width:4; stroke-opacity:1; fill:none\" points=\"1695.76,1423.18 1695.76,1404.28 \"/>\n<polyline clip-path=\"url(#clip800)\" style=\"stroke:#000000; stroke-linecap:round; stroke-linejoin:round; stroke-width:4; stroke-opacity:1; fill:none\" points=\"2082.99,1423.18 2082.99,1404.28 \"/>\n<path clip-path=\"url(#clip800)\" d=\"M464.028 1453.68 L464.028 1458.61 Q461.667 1456.41 458.982 1455.33 Q456.32 1454.24 453.311 1454.24 Q447.385 1454.24 444.237 1457.87 Q441.088 1461.48 441.088 1468.33 Q441.088 1475.16 444.237 1478.8 Q447.385 1482.41 453.311 1482.41 Q456.32 1482.41 458.982 1481.32 Q461.667 1480.23 464.028 1478.03 L464.028 1482.92 Q461.574 1484.58 458.82 1485.42 Q456.088 1486.25 453.033 1486.25 Q445.186 1486.25 440.672 1481.46 Q436.158 1476.64 436.158 1468.33 Q436.158 1460 440.672 1455.21 Q445.186 1450.39 453.033 1450.39 Q456.135 1450.39 458.866 1451.23 Q461.621 1452.04 464.028 1453.68 Z\" fill=\"#000000\" fill-rule=\"nonzero\" fill-opacity=\"1\" /><path clip-path=\"url(#clip800)\" d=\"M471.065 1449.56 L475.324 1449.56 L475.324 1485.58 L471.065 1485.58 L471.065 1449.56 Z\" fill=\"#000000\" fill-rule=\"nonzero\" fill-opacity=\"1\" /><path clip-path=\"url(#clip800)\" d=\"M484.236 1459.65 L488.496 1459.65 L488.496 1485.58 L484.236 1485.58 L484.236 1459.65 M484.236 1449.56 L488.496 1449.56 L488.496 1454.96 L484.236 1454.96 L484.236 1449.56 Z\" fill=\"#000000\" fill-rule=\"nonzero\" fill-opacity=\"1\" /><path clip-path=\"url(#clip800)\" d=\"M519.583 1471.55 L519.583 1473.64 L500 1473.64 Q500.278 1478.03 502.639 1480.35 Q505.023 1482.64 509.259 1482.64 Q511.713 1482.64 514.005 1482.04 Q516.32 1481.44 518.588 1480.23 L518.588 1484.26 Q516.296 1485.23 513.889 1485.74 Q511.482 1486.25 509.005 1486.25 Q502.801 1486.25 499.167 1482.64 Q495.556 1479.03 495.556 1472.87 Q495.556 1466.51 498.982 1462.78 Q502.431 1459.03 508.264 1459.03 Q513.496 1459.03 516.528 1462.41 Q519.583 1465.77 519.583 1471.55 M515.324 1470.3 Q515.278 1466.81 513.357 1464.72 Q511.458 1462.64 508.31 1462.64 Q504.746 1462.64 502.593 1464.65 Q500.463 1466.67 500.139 1470.33 L515.324 1470.3 Z\" fill=\"#000000\" fill-rule=\"nonzero\" fill-opacity=\"1\" /><path clip-path=\"url(#clip800)\" d=\"M548.125 1469.93 L548.125 1485.58 L543.866 1485.58 L543.866 1470.07 Q543.866 1466.39 542.431 1464.56 Q540.995 1462.73 538.125 1462.73 Q534.676 1462.73 532.685 1464.93 Q530.694 1467.13 530.694 1470.93 L530.694 1485.58 L526.412 1485.58 L526.412 1459.65 L530.694 1459.65 L530.694 1463.68 Q532.222 1461.34 534.282 1460.19 Q536.366 1459.03 539.074 1459.03 Q543.542 1459.03 545.833 1461.81 Q548.125 1464.56 548.125 1469.93 Z\" fill=\"#000000\" fill-rule=\"nonzero\" fill-opacity=\"1\" /><path clip-path=\"url(#clip800)\" d=\"M560.833 1452.29 L560.833 1459.65 L569.606 1459.65 L569.606 1462.96 L560.833 1462.96 L560.833 1477.04 Q560.833 1480.21 561.69 1481.11 Q562.569 1482.02 565.231 1482.02 L569.606 1482.02 L569.606 1485.58 L565.231 1485.58 Q560.301 1485.58 558.426 1483.75 Q556.551 1481.9 556.551 1477.04 L556.551 1462.96 L553.426 1462.96 L553.426 1459.65 L556.551 1459.65 L556.551 1452.29 L560.833 1452.29 Z\" fill=\"#000000\" fill-rule=\"nonzero\" fill-opacity=\"1\" /><path clip-path=\"url(#clip800)\" d=\"M597.384 1471.55 L597.384 1473.64 L577.801 1473.64 Q578.078 1478.03 580.44 1480.35 Q582.824 1482.64 587.06 1482.64 Q589.514 1482.64 591.805 1482.04 Q594.12 1481.44 596.389 1480.23 L596.389 1484.26 Q594.097 1485.23 591.69 1485.74 Q589.282 1486.25 586.805 1486.25 Q580.602 1486.25 576.967 1482.64 Q573.356 1479.03 573.356 1472.87 Q573.356 1466.51 576.782 1462.78 Q580.231 1459.03 586.065 1459.03 Q591.296 1459.03 594.328 1462.41 Q597.384 1465.77 597.384 1471.55 M593.125 1470.3 Q593.078 1466.81 591.157 1464.72 Q589.259 1462.64 586.111 1462.64 Q582.546 1462.64 580.393 1464.65 Q578.264 1466.67 577.94 1470.33 L593.125 1470.3 Z\" fill=\"#000000\" fill-rule=\"nonzero\" fill-opacity=\"1\" /><path clip-path=\"url(#clip800)\" d=\"M616.111 1455.63 L609.768 1472.83 L622.476 1472.83 L616.111 1455.63 M613.472 1451.02 L618.773 1451.02 L631.944 1485.58 L627.083 1485.58 L623.935 1476.71 L608.356 1476.71 L605.208 1485.58 L600.277 1485.58 L613.472 1451.02 Z\" fill=\"#000000\" fill-rule=\"nonzero\" fill-opacity=\"1\" /><path clip-path=\"url(#clip800)\" d=\"M852.699 1453.68 L852.699 1458.61 Q850.338 1456.41 847.652 1455.33 Q844.99 1454.24 841.981 1454.24 Q836.055 1454.24 832.907 1457.87 Q829.759 1461.48 829.759 1468.33 Q829.759 1475.16 832.907 1478.8 Q836.055 1482.41 841.981 1482.41 Q844.99 1482.41 847.652 1481.32 Q850.338 1480.23 852.699 1478.03 L852.699 1482.92 Q850.245 1484.58 847.49 1485.42 Q844.759 1486.25 841.703 1486.25 Q833.856 1486.25 829.342 1481.46 Q824.828 1476.64 824.828 1468.33 Q824.828 1460 829.342 1455.21 Q833.856 1450.39 841.703 1450.39 Q844.805 1450.39 847.537 1451.23 Q850.291 1452.04 852.699 1453.68 Z\" fill=\"#000000\" fill-rule=\"nonzero\" fill-opacity=\"1\" /><path clip-path=\"url(#clip800)\" d=\"M859.736 1449.56 L863.995 1449.56 L863.995 1485.58 L859.736 1485.58 L859.736 1449.56 Z\" fill=\"#000000\" fill-rule=\"nonzero\" fill-opacity=\"1\" /><path clip-path=\"url(#clip800)\" d=\"M872.907 1459.65 L877.166 1459.65 L877.166 1485.58 L872.907 1485.58 L872.907 1459.65 M872.907 1449.56 L877.166 1449.56 L877.166 1454.96 L872.907 1454.96 L872.907 1449.56 Z\" fill=\"#000000\" fill-rule=\"nonzero\" fill-opacity=\"1\" /><path clip-path=\"url(#clip800)\" d=\"M908.254 1471.55 L908.254 1473.64 L888.671 1473.64 Q888.948 1478.03 891.31 1480.35 Q893.694 1482.64 897.93 1482.64 Q900.384 1482.64 902.675 1482.04 Q904.99 1481.44 907.259 1480.23 L907.259 1484.26 Q904.967 1485.23 902.56 1485.74 Q900.152 1486.25 897.675 1486.25 Q891.472 1486.25 887.837 1482.64 Q884.226 1479.03 884.226 1472.87 Q884.226 1466.51 887.652 1462.78 Q891.101 1459.03 896.935 1459.03 Q902.166 1459.03 905.198 1462.41 Q908.254 1465.77 908.254 1471.55 M903.995 1470.3 Q903.948 1466.81 902.027 1464.72 Q900.129 1462.64 896.981 1462.64 Q893.416 1462.64 891.263 1464.65 Q889.134 1466.67 888.81 1470.33 L903.995 1470.3 Z\" fill=\"#000000\" fill-rule=\"nonzero\" fill-opacity=\"1\" /><path clip-path=\"url(#clip800)\" d=\"M936.795 1469.93 L936.795 1485.58 L932.536 1485.58 L932.536 1470.07 Q932.536 1466.39 931.101 1464.56 Q929.666 1462.73 926.796 1462.73 Q923.346 1462.73 921.356 1464.93 Q919.365 1467.13 919.365 1470.93 L919.365 1485.58 L915.083 1485.58 L915.083 1459.65 L919.365 1459.65 L919.365 1463.68 Q920.893 1461.34 922.953 1460.19 Q925.036 1459.03 927.745 1459.03 Q932.212 1459.03 934.504 1461.81 Q936.795 1464.56 936.795 1469.93 Z\" fill=\"#000000\" fill-rule=\"nonzero\" fill-opacity=\"1\" /><path clip-path=\"url(#clip800)\" d=\"M949.504 1452.29 L949.504 1459.65 L958.277 1459.65 L958.277 1462.96 L949.504 1462.96 L949.504 1477.04 Q949.504 1480.21 950.36 1481.11 Q951.24 1482.02 953.902 1482.02 L958.277 1482.02 L958.277 1485.58 L953.902 1485.58 Q948.971 1485.58 947.096 1483.75 Q945.221 1481.9 945.221 1477.04 L945.221 1462.96 L942.096 1462.96 L942.096 1459.65 L945.221 1459.65 L945.221 1452.29 L949.504 1452.29 Z\" fill=\"#000000\" fill-rule=\"nonzero\" fill-opacity=\"1\" /><path clip-path=\"url(#clip800)\" d=\"M986.054 1471.55 L986.054 1473.64 L966.471 1473.64 Q966.749 1478.03 969.11 1480.35 Q971.494 1482.64 975.73 1482.64 Q978.184 1482.64 980.476 1482.04 Q982.791 1481.44 985.059 1480.23 L985.059 1484.26 Q982.767 1485.23 980.36 1485.74 Q977.953 1486.25 975.476 1486.25 Q969.272 1486.25 965.638 1482.64 Q962.027 1479.03 962.027 1472.87 Q962.027 1466.51 965.453 1462.78 Q968.902 1459.03 974.735 1459.03 Q979.967 1459.03 982.999 1462.41 Q986.054 1465.77 986.054 1471.55 M981.795 1470.3 Q981.749 1466.81 979.828 1464.72 Q977.929 1462.64 974.781 1462.64 Q971.217 1462.64 969.064 1464.65 Q966.934 1466.67 966.61 1470.33 L981.795 1470.3 Z\" fill=\"#000000\" fill-rule=\"nonzero\" fill-opacity=\"1\" /><path clip-path=\"url(#clip800)\" d=\"M997.906 1469.08 L997.906 1481.74 L1005.41 1481.74 Q1009.18 1481.74 1010.98 1480.19 Q1012.81 1478.61 1012.81 1475.39 Q1012.81 1472.15 1010.98 1470.63 Q1009.18 1469.08 1005.41 1469.08 L997.906 1469.08 M997.906 1454.86 L997.906 1465.28 L1004.83 1465.28 Q1008.25 1465.28 1009.92 1464.01 Q1011.61 1462.71 1011.61 1460.07 Q1011.61 1457.45 1009.92 1456.16 Q1008.25 1454.86 1004.83 1454.86 L997.906 1454.86 M993.23 1451.02 L1005.17 1451.02 Q1010.52 1451.02 1013.42 1453.24 Q1016.31 1455.46 1016.31 1459.56 Q1016.31 1462.73 1014.83 1464.61 Q1013.35 1466.48 1010.48 1466.95 Q1013.92 1467.69 1015.82 1470.05 Q1017.74 1472.39 1017.74 1475.9 Q1017.74 1480.53 1014.6 1483.06 Q1011.45 1485.58 1005.64 1485.58 L993.23 1485.58 L993.23 1451.02 Z\" fill=\"#000000\" fill-rule=\"nonzero\" fill-opacity=\"1\" /><path clip-path=\"url(#clip800)\" d=\"M1239.25 1453.68 L1239.25 1458.61 Q1236.89 1456.41 1234.2 1455.33 Q1231.54 1454.24 1228.53 1454.24 Q1222.61 1454.24 1219.46 1457.87 Q1216.31 1461.48 1216.31 1468.33 Q1216.31 1475.16 1219.46 1478.8 Q1222.61 1482.41 1228.53 1482.41 Q1231.54 1482.41 1234.2 1481.32 Q1236.89 1480.23 1239.25 1478.03 L1239.25 1482.92 Q1236.8 1484.58 1234.04 1485.42 Q1231.31 1486.25 1228.26 1486.25 Q1220.41 1486.25 1215.89 1481.46 Q1211.38 1476.64 1211.38 1468.33 Q1211.38 1460 1215.89 1455.21 Q1220.41 1450.39 1228.26 1450.39 Q1231.36 1450.39 1234.09 1451.23 Q1236.84 1452.04 1239.25 1453.68 Z\" fill=\"#000000\" fill-rule=\"nonzero\" fill-opacity=\"1\" /><path clip-path=\"url(#clip800)\" d=\"M1246.29 1449.56 L1250.55 1449.56 L1250.55 1485.58 L1246.29 1485.58 L1246.29 1449.56 Z\" fill=\"#000000\" fill-rule=\"nonzero\" fill-opacity=\"1\" /><path clip-path=\"url(#clip800)\" d=\"M1259.46 1459.65 L1263.72 1459.65 L1263.72 1485.58 L1259.46 1485.58 L1259.46 1459.65 M1259.46 1449.56 L1263.72 1449.56 L1263.72 1454.96 L1259.46 1454.96 L1259.46 1449.56 Z\" fill=\"#000000\" fill-rule=\"nonzero\" fill-opacity=\"1\" /><path clip-path=\"url(#clip800)\" d=\"M1294.81 1471.55 L1294.81 1473.64 L1275.22 1473.64 Q1275.5 1478.03 1277.86 1480.35 Q1280.25 1482.64 1284.48 1482.64 Q1286.94 1482.64 1289.23 1482.04 Q1291.54 1481.44 1293.81 1480.23 L1293.81 1484.26 Q1291.52 1485.23 1289.11 1485.74 Q1286.7 1486.25 1284.23 1486.25 Q1278.02 1486.25 1274.39 1482.64 Q1270.78 1479.03 1270.78 1472.87 Q1270.78 1466.51 1274.2 1462.78 Q1277.65 1459.03 1283.49 1459.03 Q1288.72 1459.03 1291.75 1462.41 Q1294.81 1465.77 1294.81 1471.55 M1290.55 1470.3 Q1290.5 1466.81 1288.58 1464.72 Q1286.68 1462.64 1283.53 1462.64 Q1279.97 1462.64 1277.82 1464.65 Q1275.69 1466.67 1275.36 1470.33 L1290.55 1470.3 Z\" fill=\"#000000\" fill-rule=\"nonzero\" fill-opacity=\"1\" /><path clip-path=\"url(#clip800)\" d=\"M1323.35 1469.93 L1323.35 1485.58 L1319.09 1485.58 L1319.09 1470.07 Q1319.09 1466.39 1317.65 1464.56 Q1316.22 1462.73 1313.35 1462.73 Q1309.9 1462.73 1307.91 1464.93 Q1305.92 1467.13 1305.92 1470.93 L1305.92 1485.58 L1301.64 1485.58 L1301.64 1459.65 L1305.92 1459.65 L1305.92 1463.68 Q1307.45 1461.34 1309.51 1460.19 Q1311.59 1459.03 1314.3 1459.03 Q1318.76 1459.03 1321.06 1461.81 Q1323.35 1464.56 1323.35 1469.93 Z\" fill=\"#000000\" fill-rule=\"nonzero\" fill-opacity=\"1\" /><path clip-path=\"url(#clip800)\" d=\"M1336.06 1452.29 L1336.06 1459.65 L1344.83 1459.65 L1344.83 1462.96 L1336.06 1462.96 L1336.06 1477.04 Q1336.06 1480.21 1336.91 1481.11 Q1337.79 1482.02 1340.45 1482.02 L1344.83 1482.02 L1344.83 1485.58 L1340.45 1485.58 Q1335.52 1485.58 1333.65 1483.75 Q1331.77 1481.9 1331.77 1477.04 L1331.77 1462.96 L1328.65 1462.96 L1328.65 1459.65 L1331.77 1459.65 L1331.77 1452.29 L1336.06 1452.29 Z\" fill=\"#000000\" fill-rule=\"nonzero\" fill-opacity=\"1\" /><path clip-path=\"url(#clip800)\" d=\"M1372.61 1471.55 L1372.61 1473.64 L1353.02 1473.64 Q1353.3 1478.03 1355.66 1480.35 Q1358.05 1482.64 1362.28 1482.64 Q1364.74 1482.64 1367.03 1482.04 Q1369.34 1481.44 1371.61 1480.23 L1371.61 1484.26 Q1369.32 1485.23 1366.91 1485.74 Q1364.51 1486.25 1362.03 1486.25 Q1355.82 1486.25 1352.19 1482.64 Q1348.58 1479.03 1348.58 1472.87 Q1348.58 1466.51 1352.01 1462.78 Q1355.45 1459.03 1361.29 1459.03 Q1366.52 1459.03 1369.55 1462.41 Q1372.61 1465.77 1372.61 1471.55 M1368.35 1470.3 Q1368.3 1466.81 1366.38 1464.72 Q1364.48 1462.64 1361.33 1462.64 Q1357.77 1462.64 1355.62 1464.65 Q1353.49 1466.67 1353.16 1470.33 L1368.35 1470.3 Z\" fill=\"#000000\" fill-rule=\"nonzero\" fill-opacity=\"1\" /><path clip-path=\"url(#clip800)\" d=\"M1405.66 1453.68 L1405.66 1458.61 Q1403.3 1456.41 1400.62 1455.33 Q1397.95 1454.24 1394.94 1454.24 Q1389.02 1454.24 1385.87 1457.87 Q1382.72 1461.48 1382.72 1468.33 Q1382.72 1475.16 1385.87 1478.8 Q1389.02 1482.41 1394.94 1482.41 Q1397.95 1482.41 1400.62 1481.32 Q1403.3 1480.23 1405.66 1478.03 L1405.66 1482.92 Q1403.21 1484.58 1400.45 1485.42 Q1397.72 1486.25 1394.67 1486.25 Q1386.82 1486.25 1382.31 1481.46 Q1377.79 1476.64 1377.79 1468.33 Q1377.79 1460 1382.31 1455.21 Q1386.82 1450.39 1394.67 1450.39 Q1397.77 1450.39 1400.5 1451.23 Q1403.25 1452.04 1405.66 1453.68 Z\" fill=\"#000000\" fill-rule=\"nonzero\" fill-opacity=\"1\" /><path clip-path=\"url(#clip800)\" d=\"M1624.9 1453.68 L1624.9 1458.61 Q1622.54 1456.41 1619.85 1455.33 Q1617.19 1454.24 1614.18 1454.24 Q1608.26 1454.24 1605.11 1457.87 Q1601.96 1461.48 1601.96 1468.33 Q1601.96 1475.16 1605.11 1478.8 Q1608.26 1482.41 1614.18 1482.41 Q1617.19 1482.41 1619.85 1481.32 Q1622.54 1480.23 1624.9 1478.03 L1624.9 1482.92 Q1622.45 1484.58 1619.69 1485.42 Q1616.96 1486.25 1613.91 1486.25 Q1606.06 1486.25 1601.54 1481.46 Q1597.03 1476.64 1597.03 1468.33 Q1597.03 1460 1601.54 1455.21 Q1606.06 1450.39 1613.91 1450.39 Q1617.01 1450.39 1619.74 1451.23 Q1622.49 1452.04 1624.9 1453.68 Z\" fill=\"#000000\" fill-rule=\"nonzero\" fill-opacity=\"1\" /><path clip-path=\"url(#clip800)\" d=\"M1631.94 1449.56 L1636.2 1449.56 L1636.2 1485.58 L1631.94 1485.58 L1631.94 1449.56 Z\" fill=\"#000000\" fill-rule=\"nonzero\" fill-opacity=\"1\" /><path clip-path=\"url(#clip800)\" d=\"M1645.11 1459.65 L1649.37 1459.65 L1649.37 1485.58 L1645.11 1485.58 L1645.11 1459.65 M1645.11 1449.56 L1649.37 1449.56 L1649.37 1454.96 L1645.11 1454.96 L1645.11 1449.56 Z\" fill=\"#000000\" fill-rule=\"nonzero\" fill-opacity=\"1\" /><path clip-path=\"url(#clip800)\" d=\"M1680.46 1471.55 L1680.46 1473.64 L1660.87 1473.64 Q1661.15 1478.03 1663.51 1480.35 Q1665.9 1482.64 1670.13 1482.64 Q1672.59 1482.64 1674.88 1482.04 Q1677.19 1481.44 1679.46 1480.23 L1679.46 1484.26 Q1677.17 1485.23 1674.76 1485.74 Q1672.35 1486.25 1669.88 1486.25 Q1663.67 1486.25 1660.04 1482.64 Q1656.43 1479.03 1656.43 1472.87 Q1656.43 1466.51 1659.85 1462.78 Q1663.3 1459.03 1669.14 1459.03 Q1674.37 1459.03 1677.4 1462.41 Q1680.46 1465.77 1680.46 1471.55 M1676.2 1470.3 Q1676.15 1466.81 1674.23 1464.72 Q1672.33 1462.64 1669.18 1462.64 Q1665.62 1462.64 1663.47 1464.65 Q1661.34 1466.67 1661.01 1470.33 L1676.2 1470.3 Z\" fill=\"#000000\" fill-rule=\"nonzero\" fill-opacity=\"1\" /><path clip-path=\"url(#clip800)\" d=\"M1709 1469.93 L1709 1485.58 L1704.74 1485.58 L1704.74 1470.07 Q1704.74 1466.39 1703.3 1464.56 Q1701.87 1462.73 1699 1462.73 Q1695.55 1462.73 1693.56 1464.93 Q1691.57 1467.13 1691.57 1470.93 L1691.57 1485.58 L1687.28 1485.58 L1687.28 1459.65 L1691.57 1459.65 L1691.57 1463.68 Q1693.09 1461.34 1695.16 1460.19 Q1697.24 1459.03 1699.95 1459.03 Q1704.41 1459.03 1706.71 1461.81 Q1709 1464.56 1709 1469.93 Z\" fill=\"#000000\" fill-rule=\"nonzero\" fill-opacity=\"1\" /><path clip-path=\"url(#clip800)\" d=\"M1721.71 1452.29 L1721.71 1459.65 L1730.48 1459.65 L1730.48 1462.96 L1721.71 1462.96 L1721.71 1477.04 Q1721.71 1480.21 1722.56 1481.11 Q1723.44 1482.02 1726.1 1482.02 L1730.48 1482.02 L1730.48 1485.58 L1726.1 1485.58 Q1721.17 1485.58 1719.3 1483.75 Q1717.42 1481.9 1717.42 1477.04 L1717.42 1462.96 L1714.3 1462.96 L1714.3 1459.65 L1717.42 1459.65 L1717.42 1452.29 L1721.71 1452.29 Z\" fill=\"#000000\" fill-rule=\"nonzero\" fill-opacity=\"1\" /><path clip-path=\"url(#clip800)\" d=\"M1758.26 1471.55 L1758.26 1473.64 L1738.67 1473.64 Q1738.95 1478.03 1741.31 1480.35 Q1743.7 1482.64 1747.93 1482.64 Q1750.39 1482.64 1752.68 1482.04 Q1754.99 1481.44 1757.26 1480.23 L1757.26 1484.26 Q1754.97 1485.23 1752.56 1485.74 Q1750.15 1486.25 1747.68 1486.25 Q1741.47 1486.25 1737.84 1482.64 Q1734.23 1479.03 1734.23 1472.87 Q1734.23 1466.51 1737.65 1462.78 Q1741.1 1459.03 1746.94 1459.03 Q1752.17 1459.03 1755.2 1462.41 Q1758.26 1465.77 1758.26 1471.55 M1754 1470.3 Q1753.95 1466.81 1752.03 1464.72 Q1750.13 1462.64 1746.98 1462.64 Q1743.42 1462.64 1741.27 1464.65 Q1739.14 1466.67 1738.81 1470.33 L1754 1470.3 Z\" fill=\"#000000\" fill-rule=\"nonzero\" fill-opacity=\"1\" /><path clip-path=\"url(#clip800)\" d=\"M1770.11 1454.86 L1770.11 1481.74 L1775.76 1481.74 Q1782.91 1481.74 1786.22 1478.5 Q1789.55 1475.26 1789.55 1468.27 Q1789.55 1461.32 1786.22 1458.1 Q1782.91 1454.86 1775.76 1454.86 L1770.11 1454.86 M1765.43 1451.02 L1775.04 1451.02 Q1785.09 1451.02 1789.78 1455.21 Q1794.48 1459.38 1794.48 1468.27 Q1794.48 1477.2 1789.76 1481.39 Q1785.04 1485.58 1775.04 1485.58 L1765.43 1485.58 L1765.43 1451.02 Z\" fill=\"#000000\" fill-rule=\"nonzero\" fill-opacity=\"1\" /><path clip-path=\"url(#clip800)\" d=\"M2015.53 1453.68 L2015.53 1458.61 Q2013.17 1456.41 2010.48 1455.33 Q2007.82 1454.24 2004.81 1454.24 Q1998.88 1454.24 1995.74 1457.87 Q1992.59 1461.48 1992.59 1468.33 Q1992.59 1475.16 1995.74 1478.8 Q1998.88 1482.41 2004.81 1482.41 Q2007.82 1482.41 2010.48 1481.32 Q2013.17 1480.23 2015.53 1478.03 L2015.53 1482.92 Q2013.07 1484.58 2010.32 1485.42 Q2007.59 1486.25 2004.53 1486.25 Q1996.68 1486.25 1992.17 1481.46 Q1987.66 1476.64 1987.66 1468.33 Q1987.66 1460 1992.17 1455.21 Q1996.68 1450.39 2004.53 1450.39 Q2007.63 1450.39 2010.37 1451.23 Q2013.12 1452.04 2015.53 1453.68 Z\" fill=\"#000000\" fill-rule=\"nonzero\" fill-opacity=\"1\" /><path clip-path=\"url(#clip800)\" d=\"M2022.56 1449.56 L2026.82 1449.56 L2026.82 1485.58 L2022.56 1485.58 L2022.56 1449.56 Z\" fill=\"#000000\" fill-rule=\"nonzero\" fill-opacity=\"1\" /><path clip-path=\"url(#clip800)\" d=\"M2035.74 1459.65 L2039.99 1459.65 L2039.99 1485.58 L2035.74 1485.58 L2035.74 1459.65 M2035.74 1449.56 L2039.99 1449.56 L2039.99 1454.96 L2035.74 1454.96 L2035.74 1449.56 Z\" fill=\"#000000\" fill-rule=\"nonzero\" fill-opacity=\"1\" /><path clip-path=\"url(#clip800)\" d=\"M2071.08 1471.55 L2071.08 1473.64 L2051.5 1473.64 Q2051.78 1478.03 2054.14 1480.35 Q2056.52 1482.64 2060.76 1482.64 Q2063.21 1482.64 2065.5 1482.04 Q2067.82 1481.44 2070.09 1480.23 L2070.09 1484.26 Q2067.8 1485.23 2065.39 1485.74 Q2062.98 1486.25 2060.5 1486.25 Q2054.3 1486.25 2050.67 1482.64 Q2047.05 1479.03 2047.05 1472.87 Q2047.05 1466.51 2050.48 1462.78 Q2053.93 1459.03 2059.76 1459.03 Q2064.99 1459.03 2068.03 1462.41 Q2071.08 1465.77 2071.08 1471.55 M2066.82 1470.3 Q2066.78 1466.81 2064.86 1464.72 Q2062.96 1462.64 2059.81 1462.64 Q2056.24 1462.64 2054.09 1464.65 Q2051.96 1466.67 2051.64 1470.33 L2066.82 1470.3 Z\" fill=\"#000000\" fill-rule=\"nonzero\" fill-opacity=\"1\" /><path clip-path=\"url(#clip800)\" d=\"M2099.62 1469.93 L2099.62 1485.58 L2095.36 1485.58 L2095.36 1470.07 Q2095.36 1466.39 2093.93 1464.56 Q2092.49 1462.73 2089.62 1462.73 Q2086.18 1462.73 2084.18 1464.93 Q2082.19 1467.13 2082.19 1470.93 L2082.19 1485.58 L2077.91 1485.58 L2077.91 1459.65 L2082.19 1459.65 L2082.19 1463.68 Q2083.72 1461.34 2085.78 1460.19 Q2087.86 1459.03 2090.57 1459.03 Q2095.04 1459.03 2097.33 1461.81 Q2099.62 1464.56 2099.62 1469.93 Z\" fill=\"#000000\" fill-rule=\"nonzero\" fill-opacity=\"1\" /><path clip-path=\"url(#clip800)\" d=\"M2112.33 1452.29 L2112.33 1459.65 L2121.11 1459.65 L2121.11 1462.96 L2112.33 1462.96 L2112.33 1477.04 Q2112.33 1480.21 2113.19 1481.11 Q2114.07 1482.02 2116.73 1482.02 L2121.11 1482.02 L2121.11 1485.58 L2116.73 1485.58 Q2111.8 1485.58 2109.93 1483.75 Q2108.05 1481.9 2108.05 1477.04 L2108.05 1462.96 L2104.93 1462.96 L2104.93 1459.65 L2108.05 1459.65 L2108.05 1452.29 L2112.33 1452.29 Z\" fill=\"#000000\" fill-rule=\"nonzero\" fill-opacity=\"1\" /><path clip-path=\"url(#clip800)\" d=\"M2148.88 1471.55 L2148.88 1473.64 L2129.3 1473.64 Q2129.58 1478.03 2131.94 1480.35 Q2134.32 1482.64 2138.56 1482.64 Q2141.01 1482.64 2143.3 1482.04 Q2145.62 1481.44 2147.89 1480.23 L2147.89 1484.26 Q2145.6 1485.23 2143.19 1485.74 Q2140.78 1486.25 2138.3 1486.25 Q2132.1 1486.25 2128.47 1482.64 Q2124.86 1479.03 2124.86 1472.87 Q2124.86 1466.51 2128.28 1462.78 Q2131.73 1459.03 2137.56 1459.03 Q2142.8 1459.03 2145.83 1462.41 Q2148.88 1465.77 2148.88 1471.55 M2144.62 1470.3 Q2144.58 1466.81 2142.66 1464.72 Q2140.76 1462.64 2137.61 1462.64 Q2134.05 1462.64 2131.89 1464.65 Q2129.76 1466.67 2129.44 1470.33 L2144.62 1470.3 Z\" fill=\"#000000\" fill-rule=\"nonzero\" fill-opacity=\"1\" /><path clip-path=\"url(#clip800)\" d=\"M2156.06 1451.02 L2177.91 1451.02 L2177.91 1454.96 L2160.73 1454.96 L2160.73 1465.19 L2177.19 1465.19 L2177.19 1469.12 L2160.73 1469.12 L2160.73 1481.64 L2178.33 1481.64 L2178.33 1485.58 L2156.06 1485.58 L2156.06 1451.02 Z\" fill=\"#000000\" fill-rule=\"nonzero\" fill-opacity=\"1\" /><path clip-path=\"url(#clip800)\" d=\"M1236 1524.18 L1236 1530.96 Q1232.75 1527.94 1229.06 1526.44 Q1225.4 1524.95 1221.26 1524.95 Q1213.12 1524.95 1208.79 1529.95 Q1204.46 1534.91 1204.46 1544.33 Q1204.46 1553.72 1208.79 1558.72 Q1213.12 1563.68 1221.26 1563.68 Q1225.4 1563.68 1229.06 1562.19 Q1232.75 1560.69 1236 1557.67 L1236 1564.38 Q1232.63 1566.68 1228.84 1567.82 Q1225.08 1568.97 1220.88 1568.97 Q1210.09 1568.97 1203.89 1562.38 Q1197.68 1555.76 1197.68 1544.33 Q1197.68 1532.87 1203.89 1526.28 Q1210.09 1519.66 1220.88 1519.66 Q1225.15 1519.66 1228.9 1520.81 Q1232.69 1521.92 1236 1524.18 Z\" fill=\"#000000\" fill-rule=\"nonzero\" fill-opacity=\"1\" /><path clip-path=\"url(#clip800)\" d=\"M1245.68 1518.52 L1251.53 1518.52 L1251.53 1568.04 L1245.68 1568.04 L1245.68 1518.52 Z\" fill=\"#000000\" fill-rule=\"nonzero\" fill-opacity=\"1\" /><path clip-path=\"url(#clip800)\" d=\"M1263.79 1532.4 L1269.64 1532.4 L1269.64 1568.04 L1263.79 1568.04 L1263.79 1532.4 M1263.79 1518.52 L1269.64 1518.52 L1269.64 1525.93 L1263.79 1525.93 L1263.79 1518.52 Z\" fill=\"#000000\" fill-rule=\"nonzero\" fill-opacity=\"1\" /><path clip-path=\"url(#clip800)\" d=\"M1312.39 1548.76 L1312.39 1551.62 L1285.46 1551.62 Q1285.84 1557.67 1289.09 1560.85 Q1292.37 1564 1298.19 1564 Q1301.57 1564 1304.72 1563.17 Q1307.9 1562.35 1311.02 1560.69 L1311.02 1566.23 Q1307.87 1567.57 1304.56 1568.27 Q1301.25 1568.97 1297.84 1568.97 Q1289.31 1568.97 1284.32 1564 Q1279.35 1559.04 1279.35 1550.57 Q1279.35 1541.82 1284.06 1536.69 Q1288.8 1531.54 1296.82 1531.54 Q1304.02 1531.54 1308.19 1536.18 Q1312.39 1540.8 1312.39 1548.76 M1306.53 1547.04 Q1306.47 1542.23 1303.83 1539.37 Q1301.22 1536.5 1296.89 1536.5 Q1291.99 1536.5 1289.03 1539.27 Q1286.1 1542.04 1285.65 1547.07 L1306.53 1547.04 Z\" fill=\"#000000\" fill-rule=\"nonzero\" fill-opacity=\"1\" /><path clip-path=\"url(#clip800)\" d=\"M1351.63 1546.53 L1351.63 1568.04 L1345.78 1568.04 L1345.78 1546.72 Q1345.78 1541.66 1343.8 1539.14 Q1341.83 1536.63 1337.88 1536.63 Q1333.14 1536.63 1330.4 1539.65 Q1327.67 1542.68 1327.67 1547.9 L1327.67 1568.04 L1321.78 1568.04 L1321.78 1532.4 L1327.67 1532.4 L1327.67 1537.93 Q1329.77 1534.72 1332.6 1533.13 Q1335.46 1531.54 1339.19 1531.54 Q1345.33 1531.54 1348.48 1535.36 Q1351.63 1539.14 1351.63 1546.53 Z\" fill=\"#000000\" fill-rule=\"nonzero\" fill-opacity=\"1\" /><path clip-path=\"url(#clip800)\" d=\"M1369.11 1522.27 L1369.11 1532.4 L1381.17 1532.4 L1381.17 1536.95 L1369.11 1536.95 L1369.11 1556.3 Q1369.11 1560.66 1370.28 1561.9 Q1371.49 1563.14 1375.15 1563.14 L1381.17 1563.14 L1381.17 1568.04 L1375.15 1568.04 Q1368.38 1568.04 1365.8 1565.53 Q1363.22 1562.98 1363.22 1556.3 L1363.22 1536.95 L1358.92 1536.95 L1358.92 1532.4 L1363.22 1532.4 L1363.22 1522.27 L1369.11 1522.27 Z\" fill=\"#000000\" fill-rule=\"nonzero\" fill-opacity=\"1\" /><path clip-path=\"url(#clip800)\" d=\"M1419.36 1548.76 L1419.36 1551.62 L1392.44 1551.62 Q1392.82 1557.67 1396.07 1560.85 Q1399.34 1564 1405.17 1564 Q1408.54 1564 1411.69 1563.17 Q1414.88 1562.35 1418 1560.69 L1418 1566.23 Q1414.84 1567.57 1411.53 1568.27 Q1408.22 1568.97 1404.82 1568.97 Q1396.29 1568.97 1391.29 1564 Q1386.33 1559.04 1386.33 1550.57 Q1386.33 1541.82 1391.04 1536.69 Q1395.78 1531.54 1403.8 1531.54 Q1410.99 1531.54 1415.16 1536.18 Q1419.36 1540.8 1419.36 1548.76 M1413.51 1547.04 Q1413.44 1542.23 1410.8 1539.37 Q1408.19 1536.5 1403.86 1536.5 Q1398.96 1536.5 1396 1539.27 Q1393.07 1542.04 1392.63 1547.07 L1413.51 1547.04 Z\" fill=\"#000000\" fill-rule=\"nonzero\" fill-opacity=\"1\" /><polyline clip-path=\"url(#clip802)\" style=\"stroke:#000000; stroke-linecap:round; stroke-linejoin:round; stroke-width:2; stroke-opacity:0.1; fill:none\" points=\"264.287,1423.18 2352.76,1423.18 \"/>\n<polyline clip-path=\"url(#clip802)\" style=\"stroke:#000000; stroke-linecap:round; stroke-linejoin:round; stroke-width:2; stroke-opacity:0.1; fill:none\" points=\"264.287,1079.2 2352.76,1079.2 \"/>\n<polyline clip-path=\"url(#clip802)\" style=\"stroke:#000000; stroke-linecap:round; stroke-linejoin:round; stroke-width:2; stroke-opacity:0.1; fill:none\" points=\"264.287,735.212 2352.76,735.212 \"/>\n<polyline clip-path=\"url(#clip802)\" style=\"stroke:#000000; stroke-linecap:round; stroke-linejoin:round; stroke-width:2; stroke-opacity:0.1; fill:none\" points=\"264.287,391.228 2352.76,391.228 \"/>\n<polyline clip-path=\"url(#clip802)\" style=\"stroke:#000000; stroke-linecap:round; stroke-linejoin:round; stroke-width:2; stroke-opacity:0.1; fill:none\" points=\"264.287,47.2441 2352.76,47.2441 \"/>\n<polyline clip-path=\"url(#clip800)\" style=\"stroke:#000000; stroke-linecap:round; stroke-linejoin:round; stroke-width:4; stroke-opacity:1; fill:none\" points=\"264.287,1423.18 264.287,47.2441 \"/>\n<polyline clip-path=\"url(#clip800)\" style=\"stroke:#000000; stroke-linecap:round; stroke-linejoin:round; stroke-width:4; stroke-opacity:1; fill:none\" points=\"264.287,1423.18 283.185,1423.18 \"/>\n<polyline clip-path=\"url(#clip800)\" style=\"stroke:#000000; stroke-linecap:round; stroke-linejoin:round; stroke-width:4; stroke-opacity:1; fill:none\" points=\"264.287,1079.2 283.185,1079.2 \"/>\n<polyline clip-path=\"url(#clip800)\" style=\"stroke:#000000; stroke-linecap:round; stroke-linejoin:round; stroke-width:4; stroke-opacity:1; fill:none\" points=\"264.287,735.212 283.185,735.212 \"/>\n<polyline clip-path=\"url(#clip800)\" style=\"stroke:#000000; stroke-linecap:round; stroke-linejoin:round; stroke-width:4; stroke-opacity:1; fill:none\" points=\"264.287,391.228 283.185,391.228 \"/>\n<polyline clip-path=\"url(#clip800)\" style=\"stroke:#000000; stroke-linecap:round; stroke-linejoin:round; stroke-width:4; stroke-opacity:1; fill:none\" points=\"264.287,47.2441 283.185,47.2441 \"/>\n<path clip-path=\"url(#clip800)\" d=\"M216.343 1408.98 Q212.732 1408.98 210.903 1412.54 Q209.098 1416.08 209.098 1423.21 Q209.098 1430.32 210.903 1433.89 Q212.732 1437.43 216.343 1437.43 Q219.977 1437.43 221.783 1433.89 Q223.611 1430.32 223.611 1423.21 Q223.611 1416.08 221.783 1412.54 Q219.977 1408.98 216.343 1408.98 M216.343 1405.27 Q222.153 1405.27 225.209 1409.88 Q228.287 1414.46 228.287 1423.21 Q228.287 1431.94 225.209 1436.55 Q222.153 1441.13 216.343 1441.13 Q210.533 1441.13 207.454 1436.55 Q204.399 1431.94 204.399 1423.21 Q204.399 1414.46 207.454 1409.88 Q210.533 1405.27 216.343 1405.27 Z\" fill=\"#000000\" fill-rule=\"nonzero\" fill-opacity=\"1\" /><path clip-path=\"url(#clip800)\" d=\"M146.066 1061.92 L164.422 1061.92 L164.422 1065.85 L150.348 1065.85 L150.348 1074.32 Q151.366 1073.98 152.385 1073.81 Q153.403 1073.63 154.422 1073.63 Q160.209 1073.63 163.589 1076.8 Q166.968 1079.97 166.968 1085.39 Q166.968 1090.97 163.496 1094.07 Q160.024 1097.15 153.704 1097.15 Q151.528 1097.15 149.26 1096.78 Q147.015 1096.41 144.607 1095.67 L144.607 1090.97 Q146.691 1092.1 148.913 1092.66 Q151.135 1093.21 153.612 1093.21 Q157.616 1093.21 159.954 1091.11 Q162.292 1089 162.292 1085.39 Q162.292 1081.78 159.954 1079.67 Q157.616 1077.56 153.612 1077.56 Q151.737 1077.56 149.862 1077.98 Q148.01 1078.4 146.066 1079.28 L146.066 1061.92 Z\" fill=\"#000000\" fill-rule=\"nonzero\" fill-opacity=\"1\" /><path clip-path=\"url(#clip800)\" d=\"M186.181 1064.99 Q182.57 1064.99 180.741 1068.56 Q178.936 1072.1 178.936 1079.23 Q178.936 1086.34 180.741 1089.9 Q182.57 1093.44 186.181 1093.44 Q189.815 1093.44 191.621 1089.9 Q193.45 1086.34 193.45 1079.23 Q193.45 1072.1 191.621 1068.56 Q189.815 1064.99 186.181 1064.99 M186.181 1061.29 Q191.991 1061.29 195.047 1065.9 Q198.125 1070.48 198.125 1079.23 Q198.125 1087.96 195.047 1092.56 Q191.991 1097.15 186.181 1097.15 Q180.371 1097.15 177.292 1092.56 Q174.237 1087.96 174.237 1079.23 Q174.237 1070.48 177.292 1065.9 Q180.371 1061.29 186.181 1061.29 Z\" fill=\"#000000\" fill-rule=\"nonzero\" fill-opacity=\"1\" /><path clip-path=\"url(#clip800)\" d=\"M216.343 1064.99 Q212.732 1064.99 210.903 1068.56 Q209.098 1072.1 209.098 1079.23 Q209.098 1086.34 210.903 1089.9 Q212.732 1093.44 216.343 1093.44 Q219.977 1093.44 221.783 1089.9 Q223.611 1086.34 223.611 1079.23 Q223.611 1072.1 221.783 1068.56 Q219.977 1064.99 216.343 1064.99 M216.343 1061.29 Q222.153 1061.29 225.209 1065.9 Q228.287 1070.48 228.287 1079.23 Q228.287 1087.96 225.209 1092.56 Q222.153 1097.15 216.343 1097.15 Q210.533 1097.15 207.454 1092.56 Q204.399 1087.96 204.399 1079.23 Q204.399 1070.48 207.454 1065.9 Q210.533 1061.29 216.343 1061.29 Z\" fill=\"#000000\" fill-rule=\"nonzero\" fill-opacity=\"1\" /><path clip-path=\"url(#clip800)\" d=\"M116.668 748.557 L124.306 748.557 L124.306 722.191 L115.996 723.858 L115.996 719.599 L124.26 717.932 L128.936 717.932 L128.936 748.557 L136.575 748.557 L136.575 752.492 L116.668 752.492 L116.668 748.557 Z\" fill=\"#000000\" fill-rule=\"nonzero\" fill-opacity=\"1\" /><path clip-path=\"url(#clip800)\" d=\"M156.019 721.011 Q152.408 721.011 150.579 724.575 Q148.774 728.117 148.774 735.247 Q148.774 742.353 150.579 745.918 Q152.408 749.46 156.019 749.46 Q159.653 749.46 161.459 745.918 Q163.288 742.353 163.288 735.247 Q163.288 728.117 161.459 724.575 Q159.653 721.011 156.019 721.011 M156.019 717.307 Q161.829 717.307 164.885 721.913 Q167.964 726.497 167.964 735.247 Q167.964 743.973 164.885 748.58 Q161.829 753.163 156.019 753.163 Q150.209 753.163 147.13 748.58 Q144.075 743.973 144.075 735.247 Q144.075 726.497 147.13 721.913 Q150.209 717.307 156.019 717.307 Z\" fill=\"#000000\" fill-rule=\"nonzero\" fill-opacity=\"1\" /><path clip-path=\"url(#clip800)\" d=\"M186.181 721.011 Q182.57 721.011 180.741 724.575 Q178.936 728.117 178.936 735.247 Q178.936 742.353 180.741 745.918 Q182.57 749.46 186.181 749.46 Q189.815 749.46 191.621 745.918 Q193.45 742.353 193.45 735.247 Q193.45 728.117 191.621 724.575 Q189.815 721.011 186.181 721.011 M186.181 717.307 Q191.991 717.307 195.047 721.913 Q198.125 726.497 198.125 735.247 Q198.125 743.973 195.047 748.58 Q191.991 753.163 186.181 753.163 Q180.371 753.163 177.292 748.58 Q174.237 743.973 174.237 735.247 Q174.237 726.497 177.292 721.913 Q180.371 717.307 186.181 717.307 Z\" fill=\"#000000\" fill-rule=\"nonzero\" fill-opacity=\"1\" /><path clip-path=\"url(#clip800)\" d=\"M216.343 721.011 Q212.732 721.011 210.903 724.575 Q209.098 728.117 209.098 735.247 Q209.098 742.353 210.903 745.918 Q212.732 749.46 216.343 749.46 Q219.977 749.46 221.783 745.918 Q223.611 742.353 223.611 735.247 Q223.611 728.117 221.783 724.575 Q219.977 721.011 216.343 721.011 M216.343 717.307 Q222.153 717.307 225.209 721.913 Q228.287 726.497 228.287 735.247 Q228.287 743.973 225.209 748.58 Q222.153 753.163 216.343 753.163 Q210.533 753.163 207.454 748.58 Q204.399 743.973 204.399 735.247 Q204.399 726.497 207.454 721.913 Q210.533 717.307 216.343 717.307 Z\" fill=\"#000000\" fill-rule=\"nonzero\" fill-opacity=\"1\" /><path clip-path=\"url(#clip800)\" d=\"M116.668 404.573 L124.306 404.573 L124.306 378.207 L115.996 379.874 L115.996 375.615 L124.26 373.948 L128.936 373.948 L128.936 404.573 L136.575 404.573 L136.575 408.508 L116.668 408.508 L116.668 404.573 Z\" fill=\"#000000\" fill-rule=\"nonzero\" fill-opacity=\"1\" /><path clip-path=\"url(#clip800)\" d=\"M146.066 373.948 L164.422 373.948 L164.422 377.883 L150.348 377.883 L150.348 386.355 Q151.366 386.008 152.385 385.846 Q153.403 385.661 154.422 385.661 Q160.209 385.661 163.589 388.832 Q166.968 392.003 166.968 397.42 Q166.968 402.999 163.496 406.101 Q160.024 409.179 153.704 409.179 Q151.528 409.179 149.26 408.809 Q147.015 408.439 144.607 407.698 L144.607 402.999 Q146.691 404.133 148.913 404.689 Q151.135 405.244 153.612 405.244 Q157.616 405.244 159.954 403.138 Q162.292 401.031 162.292 397.42 Q162.292 393.809 159.954 391.703 Q157.616 389.596 153.612 389.596 Q151.737 389.596 149.862 390.013 Q148.01 390.429 146.066 391.309 L146.066 373.948 Z\" fill=\"#000000\" fill-rule=\"nonzero\" fill-opacity=\"1\" /><path clip-path=\"url(#clip800)\" d=\"M186.181 377.027 Q182.57 377.027 180.741 380.592 Q178.936 384.133 178.936 391.263 Q178.936 398.369 180.741 401.934 Q182.57 405.476 186.181 405.476 Q189.815 405.476 191.621 401.934 Q193.45 398.369 193.45 391.263 Q193.45 384.133 191.621 380.592 Q189.815 377.027 186.181 377.027 M186.181 373.323 Q191.991 373.323 195.047 377.929 Q198.125 382.513 198.125 391.263 Q198.125 399.99 195.047 404.596 Q191.991 409.179 186.181 409.179 Q180.371 409.179 177.292 404.596 Q174.237 399.99 174.237 391.263 Q174.237 382.513 177.292 377.929 Q180.371 373.323 186.181 373.323 Z\" fill=\"#000000\" fill-rule=\"nonzero\" fill-opacity=\"1\" /><path clip-path=\"url(#clip800)\" d=\"M216.343 377.027 Q212.732 377.027 210.903 380.592 Q209.098 384.133 209.098 391.263 Q209.098 398.369 210.903 401.934 Q212.732 405.476 216.343 405.476 Q219.977 405.476 221.783 401.934 Q223.611 398.369 223.611 391.263 Q223.611 384.133 221.783 380.592 Q219.977 377.027 216.343 377.027 M216.343 373.323 Q222.153 373.323 225.209 377.929 Q228.287 382.513 228.287 391.263 Q228.287 399.99 225.209 404.596 Q222.153 409.179 216.343 409.179 Q210.533 409.179 207.454 404.596 Q204.399 399.99 204.399 391.263 Q204.399 382.513 207.454 377.929 Q210.533 373.323 216.343 373.323 Z\" fill=\"#000000\" fill-rule=\"nonzero\" fill-opacity=\"1\" /><path clip-path=\"url(#clip800)\" d=\"M119.885 60.5889 L136.204 60.5889 L136.204 64.5241 L114.26 64.5241 L114.26 60.5889 Q116.922 57.8343 121.505 53.2047 Q126.112 48.552 127.292 47.2094 Q129.538 44.6862 130.417 42.9501 Q131.32 41.1909 131.32 39.5011 Q131.32 36.7465 129.376 35.0104 Q127.455 33.2743 124.353 33.2743 Q122.154 33.2743 119.7 34.0381 Q117.269 34.802 114.492 36.3529 L114.492 31.6308 Q117.316 30.4965 119.769 29.9178 Q122.223 29.3391 124.26 29.3391 Q129.63 29.3391 132.825 32.0243 Q136.019 34.7094 136.019 39.2002 Q136.019 41.3298 135.209 43.2511 Q134.422 45.1492 132.316 47.7418 Q131.737 48.4131 128.635 51.6306 Q125.533 54.8251 119.885 60.5889 Z\" fill=\"#000000\" fill-rule=\"nonzero\" fill-opacity=\"1\" /><path clip-path=\"url(#clip800)\" d=\"M156.019 33.0428 Q152.408 33.0428 150.579 36.6076 Q148.774 40.1492 148.774 47.2788 Q148.774 54.3853 150.579 57.9501 Q152.408 61.4917 156.019 61.4917 Q159.653 61.4917 161.459 57.9501 Q163.288 54.3853 163.288 47.2788 Q163.288 40.1492 161.459 36.6076 Q159.653 33.0428 156.019 33.0428 M156.019 29.3391 Q161.829 29.3391 164.885 33.9456 Q167.964 38.5289 167.964 47.2788 Q167.964 56.0056 164.885 60.6121 Q161.829 65.1954 156.019 65.1954 Q150.209 65.1954 147.13 60.6121 Q144.075 56.0056 144.075 47.2788 Q144.075 38.5289 147.13 33.9456 Q150.209 29.3391 156.019 29.3391 Z\" fill=\"#000000\" fill-rule=\"nonzero\" fill-opacity=\"1\" /><path clip-path=\"url(#clip800)\" d=\"M186.181 33.0428 Q182.57 33.0428 180.741 36.6076 Q178.936 40.1492 178.936 47.2788 Q178.936 54.3853 180.741 57.9501 Q182.57 61.4917 186.181 61.4917 Q189.815 61.4917 191.621 57.9501 Q193.45 54.3853 193.45 47.2788 Q193.45 40.1492 191.621 36.6076 Q189.815 33.0428 186.181 33.0428 M186.181 29.3391 Q191.991 29.3391 195.047 33.9456 Q198.125 38.5289 198.125 47.2788 Q198.125 56.0056 195.047 60.6121 Q191.991 65.1954 186.181 65.1954 Q180.371 65.1954 177.292 60.6121 Q174.237 56.0056 174.237 47.2788 Q174.237 38.5289 177.292 33.9456 Q180.371 29.3391 186.181 29.3391 Z\" fill=\"#000000\" fill-rule=\"nonzero\" fill-opacity=\"1\" /><path clip-path=\"url(#clip800)\" d=\"M216.343 33.0428 Q212.732 33.0428 210.903 36.6076 Q209.098 40.1492 209.098 47.2788 Q209.098 54.3853 210.903 57.9501 Q212.732 61.4917 216.343 61.4917 Q219.977 61.4917 221.783 57.9501 Q223.611 54.3853 223.611 47.2788 Q223.611 40.1492 221.783 36.6076 Q219.977 33.0428 216.343 33.0428 M216.343 29.3391 Q222.153 29.3391 225.209 33.9456 Q228.287 38.5289 228.287 47.2788 Q228.287 56.0056 225.209 60.6121 Q222.153 65.1954 216.343 65.1954 Q210.533 65.1954 207.454 60.6121 Q204.399 56.0056 204.399 47.2788 Q204.399 38.5289 207.454 33.9456 Q210.533 29.3391 216.343 29.3391 Z\" fill=\"#000000\" fill-rule=\"nonzero\" fill-opacity=\"1\" /><path clip-path=\"url(#clip800)\" d=\"M64.0042 1021.21 L16.4842 1039.35 L16.4842 1032.63 L56.4926 1017.58 L16.4842 1002.49 L16.4842 995.808 L64.0042 1013.92 L64.0042 1021.21 Z\" fill=\"#000000\" fill-rule=\"nonzero\" fill-opacity=\"1\" /><path clip-path=\"url(#clip800)\" d=\"M46.0847 977.984 Q46.0847 985.082 47.7079 987.819 Q49.3312 990.556 53.2461 990.556 Q56.3653 990.556 58.2114 988.519 Q60.0256 986.45 60.0256 982.918 Q60.0256 978.048 56.5881 975.12 Q53.1188 972.159 47.3897 972.159 L46.0847 972.159 L46.0847 977.984 M43.6657 966.303 L64.0042 966.303 L64.0042 972.159 L58.5933 972.159 Q61.8398 974.165 63.3994 977.157 Q64.9272 980.148 64.9272 984.477 Q64.9272 989.952 61.8716 993.198 Q58.7843 996.413 53.6281 996.413 Q47.6125 996.413 44.5569 992.402 Q41.5014 988.36 41.5014 980.371 L41.5014 972.159 L40.9285 972.159 Q36.8862 972.159 34.6901 974.833 Q32.4621 977.475 32.4621 982.281 Q32.4621 985.336 33.1941 988.233 Q33.9262 991.129 35.3903 993.803 L29.9795 993.803 Q28.7381 990.588 28.1334 987.564 Q27.4968 984.541 27.4968 981.676 Q27.4968 973.942 31.5072 970.122 Q35.5176 966.303 43.6657 966.303 Z\" fill=\"#000000\" fill-rule=\"nonzero\" fill-opacity=\"1\" /><path clip-path=\"url(#clip800)\" d=\"M14.479 954.24 L14.479 948.384 L64.0042 948.384 L64.0042 954.24 L14.479 954.24 Z\" fill=\"#000000\" fill-rule=\"nonzero\" fill-opacity=\"1\" /><path clip-path=\"url(#clip800)\" d=\"M32.4621 922.316 Q32.4621 927.027 36.1542 929.764 Q39.8145 932.501 46.212 932.501 Q52.6095 932.501 56.3017 929.796 Q59.9619 927.058 59.9619 922.316 Q59.9619 917.637 56.2698 914.9 Q52.5777 912.163 46.212 912.163 Q39.8781 912.163 36.186 914.9 Q32.4621 917.637 32.4621 922.316 M27.4968 922.316 Q27.4968 914.677 32.4621 910.317 Q37.4273 905.956 46.212 905.956 Q54.9649 905.956 59.9619 910.317 Q64.9272 914.677 64.9272 922.316 Q64.9272 929.987 59.9619 934.347 Q54.9649 938.676 46.212 938.676 Q37.4273 938.676 32.4621 934.347 Q27.4968 929.987 27.4968 922.316 Z\" fill=\"#000000\" fill-rule=\"nonzero\" fill-opacity=\"1\" /><path clip-path=\"url(#clip800)\" d=\"M33.8307 875.592 Q33.2578 876.578 33.0032 877.756 Q32.7167 878.902 32.7167 880.302 Q32.7167 885.268 35.9632 887.941 Q39.1779 890.583 45.2253 890.583 L64.0042 890.583 L64.0042 896.471 L28.3562 896.471 L28.3562 890.583 L33.8944 890.583 Q30.6479 888.737 29.0883 885.777 Q27.4968 882.817 27.4968 878.584 Q27.4968 877.979 27.5923 877.247 Q27.656 876.515 27.8151 875.624 L33.8307 875.592 Z\" fill=\"#000000\" fill-rule=\"nonzero\" fill-opacity=\"1\" /><path clip-path=\"url(#clip800)\" d=\"M33.7671 825.271 L14.479 825.271 L14.479 819.414 L64.0042 819.414 L64.0042 825.271 L58.657 825.271 Q61.8398 827.117 63.3994 829.95 Q64.9272 832.751 64.9272 836.697 Q64.9272 843.158 59.771 847.232 Q54.6147 851.275 46.212 851.275 Q37.8093 851.275 32.6531 847.232 Q27.4968 843.158 27.4968 836.697 Q27.4968 832.751 29.0564 829.95 Q30.5842 827.117 33.7671 825.271 M46.212 845.227 Q52.6732 845.227 56.3653 842.586 Q60.0256 839.912 60.0256 835.265 Q60.0256 830.618 56.3653 827.944 Q52.6732 825.271 46.212 825.271 Q39.7508 825.271 36.0905 827.944 Q32.3984 830.618 32.3984 835.265 Q32.3984 839.912 36.0905 842.586 Q39.7508 845.227 46.212 845.227 Z\" fill=\"#000000\" fill-rule=\"nonzero\" fill-opacity=\"1\" /><path clip-path=\"url(#clip800)\" d=\"M46.0847 791.151 Q46.0847 798.248 47.7079 800.986 Q49.3312 803.723 53.2461 803.723 Q56.3653 803.723 58.2114 801.686 Q60.0256 799.617 60.0256 796.084 Q60.0256 791.214 56.5881 788.286 Q53.1188 785.326 47.3897 785.326 L46.0847 785.326 L46.0847 791.151 M43.6657 779.47 L64.0042 779.47 L64.0042 785.326 L58.5933 785.326 Q61.8398 787.331 63.3994 790.323 Q64.9272 793.315 64.9272 797.644 Q64.9272 803.118 61.8716 806.365 Q58.7843 809.579 53.6281 809.579 Q47.6125 809.579 44.5569 805.569 Q41.5014 801.527 41.5014 793.538 L41.5014 785.326 L40.9285 785.326 Q36.8862 785.326 34.6901 788 Q32.4621 790.641 32.4621 795.447 Q32.4621 798.503 33.1941 801.399 Q33.9262 804.296 35.3903 806.969 L29.9795 806.969 Q28.7381 803.755 28.1334 800.731 Q27.4968 797.707 27.4968 794.843 Q27.4968 787.108 31.5072 783.289 Q35.5176 779.47 43.6657 779.47 Z\" fill=\"#000000\" fill-rule=\"nonzero\" fill-opacity=\"1\" /><path clip-path=\"url(#clip800)\" d=\"M29.4065 744.681 L34.9447 744.681 Q33.6716 747.164 33.035 749.837 Q32.3984 752.511 32.3984 755.375 Q32.3984 759.736 33.7352 761.932 Q35.072 764.096 37.7456 764.096 Q39.7826 764.096 40.9603 762.537 Q42.1061 760.977 43.1565 756.267 L43.6021 754.261 Q44.9389 748.023 47.3897 745.413 Q49.8086 742.771 54.1691 742.771 Q59.1344 742.771 62.0308 746.718 Q64.9272 750.633 64.9272 757.508 Q64.9272 760.372 64.3543 763.492 Q63.8132 766.579 62.6992 770.016 L56.6518 770.016 Q58.3387 766.77 59.198 763.619 Q60.0256 760.468 60.0256 757.381 Q60.0256 753.243 58.6251 751.015 Q57.1929 748.787 54.6147 748.787 Q52.2276 748.787 50.9545 750.41 Q49.6813 752.002 48.5037 757.444 L48.0262 759.481 Q46.8804 764.924 44.5251 767.343 Q42.138 769.762 38.0002 769.762 Q32.9713 769.762 30.2341 766.197 Q27.4968 762.632 27.4968 756.076 Q27.4968 752.829 27.9743 749.964 Q28.4517 747.1 29.4065 744.681 Z\" fill=\"#000000\" fill-rule=\"nonzero\" fill-opacity=\"1\" /><path clip-path=\"url(#clip800)\" d=\"M20.1444 676.886 L26.9239 676.886 Q23.9002 680.133 22.4043 683.825 Q20.9083 687.485 20.9083 691.623 Q20.9083 699.771 25.9054 704.1 Q30.8707 708.428 40.2919 708.428 Q49.6813 708.428 54.6784 704.1 Q59.6436 699.771 59.6436 691.623 Q59.6436 687.485 58.1477 683.825 Q56.6518 680.133 53.6281 676.886 L60.3439 676.886 Q62.6355 680.26 63.7814 684.048 Q64.9272 687.803 64.9272 692.005 Q64.9272 702.795 58.3387 709.001 Q51.7183 715.208 40.2919 715.208 Q28.8336 715.208 22.2451 709.001 Q15.6248 702.795 15.6248 692.005 Q15.6248 687.74 16.7706 683.984 Q17.8846 680.196 20.1444 676.886 Z\" fill=\"#000000\" fill-rule=\"nonzero\" fill-opacity=\"1\" /><path clip-path=\"url(#clip800)\" d=\"M32.4621 653.397 Q32.4621 658.107 36.1542 660.845 Q39.8145 663.582 46.212 663.582 Q52.6095 663.582 56.3017 660.876 Q59.9619 658.139 59.9619 653.397 Q59.9619 648.718 56.2698 645.981 Q52.5777 643.243 46.212 643.243 Q39.8781 643.243 36.186 645.981 Q32.4621 648.718 32.4621 653.397 M27.4968 653.397 Q27.4968 645.758 32.4621 641.397 Q37.4273 637.037 46.212 637.037 Q54.9649 637.037 59.9619 641.397 Q64.9272 645.758 64.9272 653.397 Q64.9272 661.067 59.9619 665.428 Q54.9649 669.757 46.212 669.757 Q37.4273 669.757 32.4621 665.428 Q27.4968 661.067 27.4968 653.397 Z\" fill=\"#000000\" fill-rule=\"nonzero\" fill-opacity=\"1\" /><path clip-path=\"url(#clip800)\" d=\"M35.1993 599.575 Q31.2526 597.379 29.3747 594.323 Q27.4968 591.267 27.4968 587.13 Q27.4968 581.56 31.4117 578.536 Q35.2948 575.512 42.4881 575.512 L64.0042 575.512 L64.0042 581.401 L42.679 581.401 Q37.5546 581.401 35.072 583.215 Q32.5894 585.029 32.5894 588.753 Q32.5894 593.304 35.6131 595.946 Q38.6368 598.588 43.8567 598.588 L64.0042 598.588 L64.0042 604.476 L42.679 604.476 Q37.5228 604.476 35.072 606.29 Q32.5894 608.105 32.5894 611.892 Q32.5894 616.38 35.6449 619.022 Q38.6686 621.664 43.8567 621.664 L64.0042 621.664 L64.0042 627.552 L28.3562 627.552 L28.3562 621.664 L33.8944 621.664 Q30.616 619.658 29.0564 616.858 Q27.4968 614.057 27.4968 610.205 Q27.4968 606.322 29.4702 603.617 Q31.4436 600.88 35.1993 599.575 Z\" fill=\"#000000\" fill-rule=\"nonzero\" fill-opacity=\"1\" /><path clip-path=\"url(#clip800)\" d=\"M58.657 558.166 L77.5631 558.166 L77.5631 564.054 L28.3562 564.054 L28.3562 558.166 L33.7671 558.166 Q30.5842 556.32 29.0564 553.519 Q27.4968 550.686 27.4968 546.771 Q27.4968 540.278 32.6531 536.236 Q37.8093 532.162 46.212 532.162 Q54.6147 532.162 59.771 536.236 Q64.9272 540.278 64.9272 546.771 Q64.9272 550.686 63.3994 553.519 Q61.8398 556.32 58.657 558.166 M46.212 538.241 Q39.7508 538.241 36.0905 540.915 Q32.3984 543.556 32.3984 548.203 Q32.3984 552.85 36.0905 555.524 Q39.7508 558.166 46.212 558.166 Q52.6732 558.166 56.3653 555.524 Q60.0256 552.85 60.0256 548.203 Q60.0256 543.556 56.3653 540.915 Q52.6732 538.241 46.212 538.241 Z\" fill=\"#000000\" fill-rule=\"nonzero\" fill-opacity=\"1\" /><path clip-path=\"url(#clip800)\" d=\"M33.8307 501.797 Q33.2578 502.784 33.0032 503.962 Q32.7167 505.108 32.7167 506.508 Q32.7167 511.473 35.9632 514.147 Q39.1779 516.789 45.2253 516.789 L64.0042 516.789 L64.0042 522.677 L28.3562 522.677 L28.3562 516.789 L33.8944 516.789 Q30.6479 514.943 29.0883 511.983 Q27.4968 509.022 27.4968 504.789 Q27.4968 504.185 27.5923 503.453 Q27.656 502.72 27.8151 501.829 L33.8307 501.797 Z\" fill=\"#000000\" fill-rule=\"nonzero\" fill-opacity=\"1\" /><path clip-path=\"url(#clip800)\" d=\"M46.0847 479.454 Q46.0847 486.552 47.7079 489.289 Q49.3312 492.026 53.2461 492.026 Q56.3653 492.026 58.2114 489.989 Q60.0256 487.92 60.0256 484.387 Q60.0256 479.517 56.5881 476.589 Q53.1188 473.629 47.3897 473.629 L46.0847 473.629 L46.0847 479.454 M43.6657 467.773 L64.0042 467.773 L64.0042 473.629 L58.5933 473.629 Q61.8398 475.634 63.3994 478.626 Q64.9272 481.618 64.9272 485.947 Q64.9272 491.421 61.8716 494.668 Q58.7843 497.883 53.6281 497.883 Q47.6125 497.883 44.5569 493.872 Q41.5014 489.83 41.5014 481.841 L41.5014 473.629 L40.9285 473.629 Q36.8862 473.629 34.6901 476.303 Q32.4621 478.945 32.4621 483.751 Q32.4621 486.806 33.1941 489.703 Q33.9262 492.599 35.3903 495.273 L29.9795 495.273 Q28.7381 492.058 28.1334 489.034 Q27.4968 486.01 27.4968 483.146 Q27.4968 475.412 31.5072 471.592 Q35.5176 467.773 43.6657 467.773 Z\" fill=\"#000000\" fill-rule=\"nonzero\" fill-opacity=\"1\" /><path clip-path=\"url(#clip800)\" d=\"M29.4065 432.984 L34.9447 432.984 Q33.6716 435.467 33.035 438.14 Q32.3984 440.814 32.3984 443.679 Q32.3984 448.039 33.7352 450.235 Q35.072 452.4 37.7456 452.4 Q39.7826 452.4 40.9603 450.84 Q42.1061 449.28 43.1565 444.57 L43.6021 442.565 Q44.9389 436.326 47.3897 433.716 Q49.8086 431.074 54.1691 431.074 Q59.1344 431.074 62.0308 435.021 Q64.9272 438.936 64.9272 445.811 Q64.9272 448.676 64.3543 451.795 Q63.8132 454.882 62.6992 458.32 L56.6518 458.32 Q58.3387 455.073 59.198 451.922 Q60.0256 448.771 60.0256 445.684 Q60.0256 441.546 58.6251 439.318 Q57.1929 437.09 54.6147 437.09 Q52.2276 437.09 50.9545 438.713 Q49.6813 440.305 48.5037 445.747 L48.0262 447.784 Q46.8804 453.227 44.5251 455.646 Q42.138 458.065 38.0002 458.065 Q32.9713 458.065 30.2341 454.5 Q27.4968 450.935 27.4968 444.379 Q27.4968 441.132 27.9743 438.268 Q28.4517 435.403 29.4065 432.984 Z\" fill=\"#000000\" fill-rule=\"nonzero\" fill-opacity=\"1\" /><path clip-path=\"url(#clip802)\" d=\"M379.157 735.212 L379.157 1423.18 L688.945 1423.18 L688.945 735.212 L379.157 735.212 L379.157 735.212  Z\" fill=\"#009af9\" fill-rule=\"evenodd\" fill-opacity=\"1\"/>\n<polyline clip-path=\"url(#clip802)\" style=\"stroke:#000000; stroke-linecap:round; stroke-linejoin:round; stroke-width:4; stroke-opacity:1; fill:none\" points=\"379.157,735.212 379.157,1423.18 688.945,1423.18 688.945,735.212 379.157,735.212 \"/>\n<path clip-path=\"url(#clip802)\" d=\"M766.392 391.228 L766.392 1423.18 L1076.18 1423.18 L1076.18 391.228 L766.392 391.228 L766.392 391.228  Z\" fill=\"#009af9\" fill-rule=\"evenodd\" fill-opacity=\"1\"/>\n<polyline clip-path=\"url(#clip802)\" style=\"stroke:#000000; stroke-linecap:round; stroke-linejoin:round; stroke-width:4; stroke-opacity:1; fill:none\" points=\"766.392,391.228 766.392,1423.18 1076.18,1423.18 1076.18,391.228 766.392,391.228 \"/>\n<path clip-path=\"url(#clip802)\" d=\"M1153.63 872.806 L1153.63 1423.18 L1463.42 1423.18 L1463.42 872.806 L1153.63 872.806 L1153.63 872.806  Z\" fill=\"#009af9\" fill-rule=\"evenodd\" fill-opacity=\"1\"/>\n<polyline clip-path=\"url(#clip802)\" style=\"stroke:#000000; stroke-linecap:round; stroke-linejoin:round; stroke-width:4; stroke-opacity:1; fill:none\" points=\"1153.63,872.806 1153.63,1423.18 1463.42,1423.18 1463.42,872.806 1153.63,872.806 \"/>\n<path clip-path=\"url(#clip802)\" d=\"M1540.86 47.2441 L1540.86 1423.18 L1850.65 1423.18 L1850.65 47.2441 L1540.86 47.2441 L1540.86 47.2441  Z\" fill=\"#009af9\" fill-rule=\"evenodd\" fill-opacity=\"1\"/>\n<polyline clip-path=\"url(#clip802)\" style=\"stroke:#000000; stroke-linecap:round; stroke-linejoin:round; stroke-width:4; stroke-opacity:1; fill:none\" points=\"1540.86,47.2441 1540.86,1423.18 1850.65,1423.18 1850.65,47.2441 1540.86,47.2441 \"/>\n<path clip-path=\"url(#clip802)\" d=\"M1928.1 597.618 L1928.1 1423.18 L2237.89 1423.18 L2237.89 597.618 L1928.1 597.618 L1928.1 597.618  Z\" fill=\"#009af9\" fill-rule=\"evenodd\" fill-opacity=\"1\"/>\n<polyline clip-path=\"url(#clip802)\" style=\"stroke:#000000; stroke-linecap:round; stroke-linejoin:round; stroke-width:4; stroke-opacity:1; fill:none\" points=\"1928.1,597.618 1928.1,1423.18 2237.89,1423.18 2237.89,597.618 1928.1,597.618 \"/>\n<circle clip-path=\"url(#clip802)\" style=\"fill:#009af9; stroke:none; fill-opacity:0\" cx=\"534.051\" cy=\"735.212\" r=\"2\"/>\n<circle clip-path=\"url(#clip802)\" style=\"fill:#009af9; stroke:none; fill-opacity:0\" cx=\"921.286\" cy=\"391.228\" r=\"2\"/>\n<circle clip-path=\"url(#clip802)\" style=\"fill:#009af9; stroke:none; fill-opacity:0\" cx=\"1308.52\" cy=\"872.806\" r=\"2\"/>\n<circle clip-path=\"url(#clip802)\" style=\"fill:#009af9; stroke:none; fill-opacity:0\" cx=\"1695.76\" cy=\"47.2441\" r=\"2\"/>\n<circle clip-path=\"url(#clip802)\" style=\"fill:#009af9; stroke:none; fill-opacity:0\" cx=\"2082.99\" cy=\"597.618\" r=\"2\"/>\n<path clip-path=\"url(#clip800)\" d=\"M1660.85 196.789 L2283.14 196.789 L2283.14 93.1086 L1660.85 93.1086  Z\" fill=\"#ffffff\" fill-rule=\"evenodd\" fill-opacity=\"1\"/>\n<polyline clip-path=\"url(#clip800)\" style=\"stroke:#000000; stroke-linecap:round; stroke-linejoin:round; stroke-width:4; stroke-opacity:1; fill:none\" points=\"1660.85,196.789 2283.14,196.789 2283.14,93.1086 1660.85,93.1086 1660.85,196.789 \"/>\n<path clip-path=\"url(#clip800)\" d=\"M1684.05 165.685 L1823.28 165.685 L1823.28 124.213 L1684.05 124.213 L1684.05 165.685  Z\" fill=\"#009af9\" fill-rule=\"evenodd\" fill-opacity=\"1\"/>\n<polyline clip-path=\"url(#clip800)\" style=\"stroke:#000000; stroke-linecap:round; stroke-linejoin:round; stroke-width:4; stroke-opacity:1; fill:none\" points=\"1684.05,165.685 1823.28,165.685 1823.28,124.213 1684.05,124.213 1684.05,165.685 \"/>\n<path clip-path=\"url(#clip800)\" d=\"M1874.36 130.331 L1874.36 135.261 Q1872 133.062 1869.31 131.974 Q1866.65 130.886 1863.64 130.886 Q1857.72 130.886 1854.57 134.52 Q1851.42 138.132 1851.42 144.983 Q1851.42 151.812 1854.57 155.446 Q1857.72 159.057 1863.64 159.057 Q1866.65 159.057 1869.31 157.969 Q1872 156.881 1874.36 154.682 L1874.36 159.567 Q1871.9 161.233 1869.15 162.067 Q1866.42 162.9 1863.36 162.9 Q1855.52 162.9 1851 158.108 Q1846.49 153.293 1846.49 144.983 Q1846.49 136.65 1851 131.858 Q1855.52 127.044 1863.36 127.044 Q1866.46 127.044 1869.2 127.877 Q1871.95 128.687 1874.36 130.331 Z\" fill=\"#000000\" fill-rule=\"nonzero\" fill-opacity=\"1\" /><path clip-path=\"url(#clip800)\" d=\"M1891.44 139.289 Q1888.02 139.289 1886.03 141.974 Q1884.03 144.636 1884.03 149.289 Q1884.03 153.942 1886 156.627 Q1887.99 159.289 1891.44 159.289 Q1894.84 159.289 1896.84 156.604 Q1898.83 153.918 1898.83 149.289 Q1898.83 144.682 1896.84 141.997 Q1894.84 139.289 1891.44 139.289 M1891.44 135.678 Q1897 135.678 1900.17 139.289 Q1903.34 142.9 1903.34 149.289 Q1903.34 155.655 1900.17 159.289 Q1897 162.9 1891.44 162.9 Q1885.86 162.9 1882.69 159.289 Q1879.54 155.655 1879.54 149.289 Q1879.54 142.9 1882.69 139.289 Q1885.86 135.678 1891.44 135.678 Z\" fill=\"#000000\" fill-rule=\"nonzero\" fill-opacity=\"1\" /><path clip-path=\"url(#clip800)\" d=\"M1930.58 141.28 Q1932.18 138.409 1934.4 137.044 Q1936.63 135.678 1939.64 135.678 Q1943.69 135.678 1945.89 138.525 Q1948.08 141.349 1948.08 146.581 L1948.08 162.229 L1943.8 162.229 L1943.8 146.719 Q1943.8 142.993 1942.48 141.187 Q1941.16 139.382 1938.46 139.382 Q1935.15 139.382 1933.22 141.581 Q1931.3 143.78 1931.3 147.576 L1931.3 162.229 L1927.02 162.229 L1927.02 146.719 Q1927.02 142.969 1925.7 141.187 Q1924.38 139.382 1921.63 139.382 Q1918.36 139.382 1916.44 141.604 Q1914.52 143.803 1914.52 147.576 L1914.52 162.229 L1910.24 162.229 L1910.24 136.303 L1914.52 136.303 L1914.52 140.331 Q1915.98 137.946 1918.02 136.812 Q1920.05 135.678 1922.85 135.678 Q1925.68 135.678 1927.65 137.113 Q1929.64 138.548 1930.58 141.28 Z\" fill=\"#000000\" fill-rule=\"nonzero\" fill-opacity=\"1\" /><path clip-path=\"url(#clip800)\" d=\"M1960.7 158.34 L1960.7 172.09 L1956.42 172.09 L1956.42 136.303 L1960.7 136.303 L1960.7 140.238 Q1962.04 137.923 1964.08 136.812 Q1966.14 135.678 1968.99 135.678 Q1973.71 135.678 1976.65 139.428 Q1979.61 143.178 1979.61 149.289 Q1979.61 155.4 1976.65 159.15 Q1973.71 162.9 1968.99 162.9 Q1966.14 162.9 1964.08 161.789 Q1962.04 160.655 1960.7 158.34 M1975.19 149.289 Q1975.19 144.59 1973.25 141.928 Q1971.33 139.243 1967.95 139.243 Q1964.57 139.243 1962.62 141.928 Q1960.7 144.59 1960.7 149.289 Q1960.7 153.988 1962.62 156.673 Q1964.57 159.335 1967.95 159.335 Q1971.33 159.335 1973.25 156.673 Q1975.19 153.988 1975.19 149.289 Z\" fill=\"#000000\" fill-rule=\"nonzero\" fill-opacity=\"1\" /><path clip-path=\"url(#clip800)\" d=\"M2001.7 140.284 Q2000.98 139.868 2000.12 139.682 Q1999.29 139.474 1998.27 139.474 Q1994.66 139.474 1992.71 141.835 Q1990.79 144.173 1990.79 148.571 L1990.79 162.229 L1986.51 162.229 L1986.51 136.303 L1990.79 136.303 L1990.79 140.331 Q1992.14 137.969 1994.29 136.835 Q1996.44 135.678 1999.52 135.678 Q1999.96 135.678 2000.49 135.747 Q2001.02 135.794 2001.67 135.909 L2001.7 140.284 Z\" fill=\"#000000\" fill-rule=\"nonzero\" fill-opacity=\"1\" /><path clip-path=\"url(#clip800)\" d=\"M2017.95 149.196 Q2012.78 149.196 2010.79 150.377 Q2008.8 151.557 2008.8 154.405 Q2008.8 156.673 2010.28 158.016 Q2011.79 159.335 2014.36 159.335 Q2017.9 159.335 2020.03 156.835 Q2022.18 154.312 2022.18 150.145 L2022.18 149.196 L2017.95 149.196 M2026.44 147.437 L2026.44 162.229 L2022.18 162.229 L2022.18 158.293 Q2020.72 160.655 2018.55 161.789 Q2016.37 162.9 2013.22 162.9 Q2009.24 162.9 2006.88 160.678 Q2004.54 158.432 2004.54 154.682 Q2004.54 150.307 2007.46 148.085 Q2010.4 145.863 2016.21 145.863 L2022.18 145.863 L2022.18 145.446 Q2022.18 142.507 2020.24 140.909 Q2018.32 139.289 2014.82 139.289 Q2012.6 139.289 2010.49 139.821 Q2008.39 140.354 2006.44 141.419 L2006.44 137.483 Q2008.78 136.581 2010.98 136.141 Q2013.18 135.678 2015.26 135.678 Q2020.89 135.678 2023.66 138.594 Q2026.44 141.511 2026.44 147.437 Z\" fill=\"#000000\" fill-rule=\"nonzero\" fill-opacity=\"1\" /><path clip-path=\"url(#clip800)\" d=\"M2051.74 137.067 L2051.74 141.094 Q2049.94 140.169 2047.99 139.706 Q2046.05 139.243 2043.96 139.243 Q2040.79 139.243 2039.2 140.215 Q2037.62 141.187 2037.62 143.131 Q2037.62 144.613 2038.76 145.469 Q2039.89 146.303 2043.32 147.067 L2044.77 147.391 Q2049.31 148.363 2051.21 150.145 Q2053.13 151.905 2053.13 155.076 Q2053.13 158.687 2050.26 160.793 Q2047.41 162.9 2042.41 162.9 Q2040.33 162.9 2038.06 162.483 Q2035.82 162.09 2033.32 161.28 L2033.32 156.881 Q2035.68 158.108 2037.97 158.733 Q2040.26 159.335 2042.51 159.335 Q2045.51 159.335 2047.14 158.317 Q2048.76 157.275 2048.76 155.4 Q2048.76 153.664 2047.58 152.738 Q2046.42 151.812 2042.46 150.956 L2040.98 150.608 Q2037.02 149.775 2035.26 148.062 Q2033.5 146.326 2033.5 143.317 Q2033.5 139.659 2036.09 137.669 Q2038.69 135.678 2043.45 135.678 Q2045.82 135.678 2047.9 136.025 Q2049.98 136.372 2051.74 137.067 Z\" fill=\"#000000\" fill-rule=\"nonzero\" fill-opacity=\"1\" /><path clip-path=\"url(#clip800)\" d=\"M2075.17 127.669 L2082.14 127.669 L2090.95 151.187 L2099.82 127.669 L2106.79 127.669 L2106.79 162.229 L2102.23 162.229 L2102.23 131.882 L2093.32 155.585 L2088.62 155.585 L2079.7 131.882 L2079.7 162.229 L2075.17 162.229 L2075.17 127.669 Z\" fill=\"#000000\" fill-rule=\"nonzero\" fill-opacity=\"1\" /><path clip-path=\"url(#clip800)\" d=\"M2138.06 148.201 L2138.06 150.284 L2118.48 150.284 Q2118.76 154.682 2121.12 156.997 Q2123.5 159.289 2127.74 159.289 Q2130.19 159.289 2132.48 158.687 Q2134.8 158.085 2137.07 156.881 L2137.07 160.909 Q2134.77 161.881 2132.37 162.391 Q2129.96 162.9 2127.48 162.9 Q2121.28 162.9 2117.64 159.289 Q2114.03 155.678 2114.03 149.52 Q2114.03 143.155 2117.46 139.428 Q2120.91 135.678 2126.74 135.678 Q2131.97 135.678 2135.01 139.057 Q2138.06 142.414 2138.06 148.201 M2133.8 146.951 Q2133.76 143.456 2131.83 141.372 Q2129.94 139.289 2126.79 139.289 Q2123.22 139.289 2121.07 141.303 Q2118.94 143.317 2118.62 146.974 L2133.8 146.951 Z\" fill=\"#000000\" fill-rule=\"nonzero\" fill-opacity=\"1\" /><path clip-path=\"url(#clip800)\" d=\"M2166.6 146.581 L2166.6 162.229 L2162.34 162.229 L2162.34 146.719 Q2162.34 143.039 2160.91 141.21 Q2159.47 139.382 2156.6 139.382 Q2153.15 139.382 2151.16 141.581 Q2149.17 143.78 2149.17 147.576 L2149.17 162.229 L2144.89 162.229 L2144.89 136.303 L2149.17 136.303 L2149.17 140.331 Q2150.7 137.993 2152.76 136.835 Q2154.84 135.678 2157.55 135.678 Q2162.02 135.678 2164.31 138.456 Q2166.6 141.21 2166.6 146.581 Z\" fill=\"#000000\" fill-rule=\"nonzero\" fill-opacity=\"1\" /><path clip-path=\"url(#clip800)\" d=\"M2191.63 137.067 L2191.63 141.094 Q2189.82 140.169 2187.88 139.706 Q2185.93 139.243 2183.85 139.243 Q2180.68 139.243 2179.08 140.215 Q2177.5 141.187 2177.5 143.131 Q2177.5 144.613 2178.64 145.469 Q2179.77 146.303 2183.2 147.067 L2184.66 147.391 Q2189.19 148.363 2191.09 150.145 Q2193.01 151.905 2193.01 155.076 Q2193.01 158.687 2190.14 160.793 Q2187.3 162.9 2182.3 162.9 Q2180.21 162.9 2177.94 162.483 Q2175.7 162.09 2173.2 161.28 L2173.2 156.881 Q2175.56 158.108 2177.85 158.733 Q2180.14 159.335 2182.39 159.335 Q2185.4 159.335 2187.02 158.317 Q2188.64 157.275 2188.64 155.4 Q2188.64 153.664 2187.46 152.738 Q2186.3 151.812 2182.34 150.956 L2180.86 150.608 Q2176.9 149.775 2175.14 148.062 Q2173.38 146.326 2173.38 143.317 Q2173.38 139.659 2175.98 137.669 Q2178.57 135.678 2183.34 135.678 Q2185.7 135.678 2187.78 136.025 Q2189.87 136.372 2191.63 137.067 Z\" fill=\"#000000\" fill-rule=\"nonzero\" fill-opacity=\"1\" /><path clip-path=\"url(#clip800)\" d=\"M2211.58 149.196 Q2206.42 149.196 2204.43 150.377 Q2202.44 151.557 2202.44 154.405 Q2202.44 156.673 2203.92 158.016 Q2205.42 159.335 2207.99 159.335 Q2211.53 159.335 2213.66 156.835 Q2215.81 154.312 2215.81 150.145 L2215.81 149.196 L2211.58 149.196 M2220.07 147.437 L2220.07 162.229 L2215.81 162.229 L2215.81 158.293 Q2214.36 160.655 2212.18 161.789 Q2210 162.9 2206.86 162.9 Q2202.88 162.9 2200.51 160.678 Q2198.18 158.432 2198.18 154.682 Q2198.18 150.307 2201.09 148.085 Q2204.03 145.863 2209.84 145.863 L2215.81 145.863 L2215.81 145.446 Q2215.81 142.507 2213.87 140.909 Q2211.95 139.289 2208.45 139.289 Q2206.23 139.289 2204.13 139.821 Q2202.02 140.354 2200.07 141.419 L2200.07 137.483 Q2202.41 136.581 2204.61 136.141 Q2206.81 135.678 2208.89 135.678 Q2214.52 135.678 2217.3 138.594 Q2220.07 141.511 2220.07 147.437 Z\" fill=\"#000000\" fill-rule=\"nonzero\" fill-opacity=\"1\" /><path clip-path=\"url(#clip800)\" d=\"M2228.85 136.303 L2233.11 136.303 L2233.11 162.229 L2228.85 162.229 L2228.85 136.303 M2228.85 126.21 L2233.11 126.21 L2233.11 131.604 L2228.85 131.604 L2228.85 126.21 Z\" fill=\"#000000\" fill-rule=\"nonzero\" fill-opacity=\"1\" /><path clip-path=\"url(#clip800)\" d=\"M2258.55 137.067 L2258.55 141.094 Q2256.74 140.169 2254.8 139.706 Q2252.85 139.243 2250.77 139.243 Q2247.6 139.243 2246 140.215 Q2244.43 141.187 2244.43 143.131 Q2244.43 144.613 2245.56 145.469 Q2246.69 146.303 2250.12 147.067 L2251.58 147.391 Q2256.12 148.363 2258.01 150.145 Q2259.94 151.905 2259.94 155.076 Q2259.94 158.687 2257.06 160.793 Q2254.22 162.9 2249.22 162.9 Q2247.13 162.9 2244.87 162.483 Q2242.62 162.09 2240.12 161.28 L2240.12 156.881 Q2242.48 158.108 2244.77 158.733 Q2247.06 159.335 2249.31 159.335 Q2252.32 159.335 2253.94 158.317 Q2255.56 157.275 2255.56 155.4 Q2255.56 153.664 2254.38 152.738 Q2253.22 151.812 2249.26 150.956 L2247.78 150.608 Q2243.82 149.775 2242.06 148.062 Q2240.31 146.326 2240.31 143.317 Q2240.31 139.659 2242.9 137.669 Q2245.49 135.678 2250.26 135.678 Q2252.62 135.678 2254.7 136.025 Q2256.79 136.372 2258.55 137.067 Z\" fill=\"#000000\" fill-rule=\"nonzero\" fill-opacity=\"1\" /></svg>\n"
          },
          "metadata": {},
          "execution_count": 64
        }
      ]
    },
    {
      "cell_type": "code",
      "source": [
        "import Pkg\n",
        "Pkg.add(\"StatsPlots\")\n",
        "using StatsPlots"
      ],
      "metadata": {
        "colab": {
          "base_uri": "https://localhost:8080/"
        },
        "id": "3pzfcB-B2KeY",
        "outputId": "36698795-28ce-470a-a3ad-cbafb183ca08"
      },
      "execution_count": null,
      "outputs": [
        {
          "output_type": "stream",
          "name": "stderr",
          "text": [
            "\u001b[32m\u001b[1m   Resolving\u001b[22m\u001b[39m package versions...\n",
            "\u001b[32m\u001b[1m   Installed\u001b[22m\u001b[39m StaticArraysCore ── v1.4.2\n",
            "\u001b[32m\u001b[1m   Installed\u001b[22m\u001b[39m OffsetArrays ────── v1.12.10\n",
            "\u001b[32m\u001b[1m   Installed\u001b[22m\u001b[39m FFTW ────────────── v1.7.1\n",
            "\u001b[32m\u001b[1m   Installed\u001b[22m\u001b[39m Distances ───────── v0.10.10\n",
            "\u001b[32m\u001b[1m   Installed\u001b[22m\u001b[39m IntelOpenMP_jll ─── v2023.2.0+0\n",
            "\u001b[32m\u001b[1m   Installed\u001b[22m\u001b[39m Ratios ──────────── v0.4.5\n",
            "\u001b[32m\u001b[1m   Installed\u001b[22m\u001b[39m MKL_jll ─────────── v2023.2.0+0\n",
            "\u001b[32m\u001b[1m   Installed\u001b[22m\u001b[39m StatsPlots ──────── v0.15.6\n",
            "\u001b[32m\u001b[1m   Installed\u001b[22m\u001b[39m NearestNeighbors ── v0.4.13\n",
            "\u001b[32m\u001b[1m   Installed\u001b[22m\u001b[39m AbstractFFTs ────── v1.5.0\n",
            "\u001b[32m\u001b[1m   Installed\u001b[22m\u001b[39m KernelDensity ───── v0.6.7\n",
            "\u001b[32m\u001b[1m   Installed\u001b[22m\u001b[39m FFTW_jll ────────── v3.3.10+0\n",
            "\u001b[32m\u001b[1m   Installed\u001b[22m\u001b[39m Widgets ─────────── v0.6.6\n",
            "\u001b[32m\u001b[1m   Installed\u001b[22m\u001b[39m Adapt ───────────── v3.7.1\n",
            "\u001b[32m\u001b[1m   Installed\u001b[22m\u001b[39m MultivariateStats ─ v0.10.2\n",
            "\u001b[32m\u001b[1m   Installed\u001b[22m\u001b[39m Arpack_jll ──────── v3.5.1+1\n",
            "\u001b[32m\u001b[1m   Installed\u001b[22m\u001b[39m Clustering ──────── v0.15.5\n",
            "\u001b[32m\u001b[1m   Installed\u001b[22m\u001b[39m TableOperations ─── v1.2.0\n",
            "\u001b[32m\u001b[1m   Installed\u001b[22m\u001b[39m AxisAlgorithms ──── v1.0.1\n",
            "\u001b[32m\u001b[1m   Installed\u001b[22m\u001b[39m Arpack ──────────── v0.5.4\n",
            "\u001b[32m\u001b[1m   Installed\u001b[22m\u001b[39m WoodburyMatrices ── v0.5.5\n",
            "\u001b[32m\u001b[1m   Installed\u001b[22m\u001b[39m Observables ─────── v0.5.4\n",
            "\u001b[32m\u001b[1m   Installed\u001b[22m\u001b[39m Interpolations ──── v0.14.7\n",
            "\u001b[32m\u001b[1m   Installed\u001b[22m\u001b[39m StaticArrays ────── v1.6.5\n",
            "\u001b[32m\u001b[1m    Updating\u001b[22m\u001b[39m `~/.julia/environments/v1.7/Project.toml`\n",
            " \u001b[90m [f3b207a7] \u001b[39m\u001b[92m+ StatsPlots v0.15.6\u001b[39m\n",
            "\u001b[32m\u001b[1m    Updating\u001b[22m\u001b[39m `~/.julia/environments/v1.7/Manifest.toml`\n",
            " \u001b[90m [621f4979] \u001b[39m\u001b[92m+ AbstractFFTs v1.5.0\u001b[39m\n",
            " \u001b[90m [79e6a3ab] \u001b[39m\u001b[92m+ Adapt v3.7.1\u001b[39m\n",
            " \u001b[90m [7d9fca2a] \u001b[39m\u001b[92m+ Arpack v0.5.4\u001b[39m\n",
            " \u001b[90m [13072b0f] \u001b[39m\u001b[92m+ AxisAlgorithms v1.0.1\u001b[39m\n",
            " \u001b[90m [aaaa29a8] \u001b[39m\u001b[92m+ Clustering v0.15.5\u001b[39m\n",
            " \u001b[90m [b4f34e82] \u001b[39m\u001b[92m+ Distances v0.10.10\u001b[39m\n",
            " \u001b[90m [7a1cc6ca] \u001b[39m\u001b[92m+ FFTW v1.7.1\u001b[39m\n",
            " \u001b[90m [a98d9a8b] \u001b[39m\u001b[92m+ Interpolations v0.14.7\u001b[39m\n",
            " \u001b[90m [5ab0869b] \u001b[39m\u001b[92m+ KernelDensity v0.6.7\u001b[39m\n",
            " \u001b[90m [6f286f6a] \u001b[39m\u001b[92m+ MultivariateStats v0.10.2\u001b[39m\n",
            " \u001b[90m [b8a86587] \u001b[39m\u001b[92m+ NearestNeighbors v0.4.13\u001b[39m\n",
            " \u001b[90m [510215fc] \u001b[39m\u001b[92m+ Observables v0.5.4\u001b[39m\n",
            " \u001b[90m [6fe1bfb0] \u001b[39m\u001b[92m+ OffsetArrays v1.12.10\u001b[39m\n",
            " \u001b[90m [c84ed2f1] \u001b[39m\u001b[92m+ Ratios v0.4.5\u001b[39m\n",
            " \u001b[90m [90137ffa] \u001b[39m\u001b[92m+ StaticArrays v1.6.5\u001b[39m\n",
            " \u001b[90m [1e83bf80] \u001b[39m\u001b[92m+ StaticArraysCore v1.4.2\u001b[39m\n",
            " \u001b[90m [f3b207a7] \u001b[39m\u001b[92m+ StatsPlots v0.15.6\u001b[39m\n",
            " \u001b[90m [ab02a1b2] \u001b[39m\u001b[92m+ TableOperations v1.2.0\u001b[39m\n",
            " \u001b[90m [cc8bc4a8] \u001b[39m\u001b[92m+ Widgets v0.6.6\u001b[39m\n",
            " \u001b[90m [efce3f68] \u001b[39m\u001b[92m+ WoodburyMatrices v0.5.5\u001b[39m\n",
            " \u001b[90m [68821587] \u001b[39m\u001b[92m+ Arpack_jll v3.5.1+1\u001b[39m\n",
            " \u001b[90m [f5851436] \u001b[39m\u001b[92m+ FFTW_jll v3.3.10+0\u001b[39m\n",
            " \u001b[90m [1d5cc7b8] \u001b[39m\u001b[92m+ IntelOpenMP_jll v2023.2.0+0\u001b[39m\n",
            " \u001b[90m [856f044c] \u001b[39m\u001b[92m+ MKL_jll v2023.2.0+0\u001b[39m\n",
            " \u001b[90m [8ba89e20] \u001b[39m\u001b[92m+ Distributed\u001b[39m\n",
            " \u001b[90m [4af54fe1] \u001b[39m\u001b[92m+ LazyArtifacts\u001b[39m\n",
            " \u001b[90m [1a1011a3] \u001b[39m\u001b[92m+ SharedArrays\u001b[39m\n",
            "\u001b[32m\u001b[1mPrecompiling\u001b[22m\u001b[39m project...\n",
            "\u001b[32m  ✓ \u001b[39m\u001b[90mWoodburyMatrices\u001b[39m\n",
            "\u001b[32m  ✓ \u001b[39m\u001b[90mObservables\u001b[39m\n",
            "\u001b[32m  ✓ \u001b[39m\u001b[90mDistances\u001b[39m\n",
            "\u001b[32m  ✓ \u001b[39m\u001b[90mRatios\u001b[39m\n",
            "\u001b[32m  ✓ \u001b[39m\u001b[90mAdapt\u001b[39m\n",
            "\u001b[32m  ✓ \u001b[39m\u001b[90mStaticArraysCore\u001b[39m\n",
            "\u001b[32m  ✓ \u001b[39m\u001b[90mIntelOpenMP_jll\u001b[39m\n",
            "\u001b[32m  ✓ \u001b[39m\u001b[90mArpack_jll\u001b[39m\n",
            "\u001b[32m  ✓ \u001b[39m\u001b[90mAbstractFFTs\u001b[39m\n",
            "\u001b[32m  ✓ \u001b[39m\u001b[90mTableOperations\u001b[39m\n",
            "\u001b[32m  ✓ \u001b[39m\u001b[90mAxisAlgorithms\u001b[39m\n",
            "\u001b[32m  ✓ \u001b[39m\u001b[90mFFTW_jll\u001b[39m\n",
            "\u001b[32m  ✓ \u001b[39m\u001b[90mWidgets\u001b[39m\n",
            "\u001b[32m  ✓ \u001b[39m\u001b[90mOffsetArrays\u001b[39m\n",
            "\u001b[32m  ✓ \u001b[39m\u001b[90mArpack\u001b[39m\n",
            "\u001b[32m  ✓ \u001b[39m\u001b[90mMultivariateStats\u001b[39m\n",
            "\u001b[32m  ✓ \u001b[39m\u001b[90mStaticArrays\u001b[39m\n",
            "\u001b[32m  ✓ \u001b[39m\u001b[90mNearestNeighbors\u001b[39m\n",
            "\u001b[32m  ✓ \u001b[39m\u001b[90mInterpolations\u001b[39m\n",
            "\u001b[32m  ✓ \u001b[39m\u001b[90mClustering\u001b[39m\n",
            "\u001b[32m  ✓ \u001b[39m\u001b[90mMKL_jll\u001b[39m\n",
            "\u001b[32m  ✓ \u001b[39m\u001b[90mFFTW\u001b[39m\n",
            "\u001b[32m  ✓ \u001b[39m\u001b[90mKernelDensity\u001b[39m\n",
            "\u001b[32m  ✓ \u001b[39mStatsPlots\n",
            "  24 dependencies successfully precompiled in 49 seconds (183 already precompiled)\n"
          ]
        }
      ]
    },
    {
      "cell_type": "code",
      "source": [
        "# Boxplot da Avaliação de Satisfação\n",
        "boxplot(dataframe_ficticio.Avaliacao_Satisfacao, label=\"Avaliação de Satisfação\", ylabel=\"Avaliação\")"
      ],
      "metadata": {
        "colab": {
          "base_uri": "https://localhost:8080/",
          "height": 421
        },
        "id": "GVKdGuyr1ScS",
        "outputId": "ab9e895b-6fab-4f10-b660-f29bb0e4fbbe"
      },
      "execution_count": null,
      "outputs": [
        {
          "output_type": "execute_result",
          "data": {
            "image/svg+xml": "<?xml version=\"1.0\" encoding=\"utf-8\"?>\n<svg xmlns=\"http://www.w3.org/2000/svg\" xmlns:xlink=\"http://www.w3.org/1999/xlink\" width=\"600\" height=\"400\" viewBox=\"0 0 2400 1600\">\n<defs>\n  <clipPath id=\"clip840\">\n    <rect x=\"0\" y=\"0\" width=\"2400\" height=\"1600\"/>\n  </clipPath>\n</defs>\n<path clip-path=\"url(#clip840)\" d=\"M0 1600 L2400 1600 L2400 0 L0 0  Z\" fill=\"#ffffff\" fill-rule=\"evenodd\" fill-opacity=\"1\"/>\n<defs>\n  <clipPath id=\"clip841\">\n    <rect x=\"480\" y=\"0\" width=\"1681\" height=\"1600\"/>\n  </clipPath>\n</defs>\n<path clip-path=\"url(#clip840)\" d=\"M220.19 1486.45 L2352.76 1486.45 L2352.76 47.2441 L220.19 47.2441  Z\" fill=\"#ffffff\" fill-rule=\"evenodd\" fill-opacity=\"1\"/>\n<defs>\n  <clipPath id=\"clip842\">\n    <rect x=\"220\" y=\"47\" width=\"2134\" height=\"1440\"/>\n  </clipPath>\n</defs>\n<polyline clip-path=\"url(#clip842)\" style=\"stroke:#000000; stroke-linecap:round; stroke-linejoin:round; stroke-width:2; stroke-opacity:0.1; fill:none\" points=\"280.546,1486.45 280.546,47.2441 \"/>\n<polyline clip-path=\"url(#clip842)\" style=\"stroke:#000000; stroke-linecap:round; stroke-linejoin:round; stroke-width:2; stroke-opacity:0.1; fill:none\" points=\"783.51,1486.45 783.51,47.2441 \"/>\n<polyline clip-path=\"url(#clip842)\" style=\"stroke:#000000; stroke-linecap:round; stroke-linejoin:round; stroke-width:2; stroke-opacity:0.1; fill:none\" points=\"1286.47,1486.45 1286.47,47.2441 \"/>\n<polyline clip-path=\"url(#clip842)\" style=\"stroke:#000000; stroke-linecap:round; stroke-linejoin:round; stroke-width:2; stroke-opacity:0.1; fill:none\" points=\"1789.44,1486.45 1789.44,47.2441 \"/>\n<polyline clip-path=\"url(#clip842)\" style=\"stroke:#000000; stroke-linecap:round; stroke-linejoin:round; stroke-width:2; stroke-opacity:0.1; fill:none\" points=\"2292.4,1486.45 2292.4,47.2441 \"/>\n<polyline clip-path=\"url(#clip840)\" style=\"stroke:#000000; stroke-linecap:round; stroke-linejoin:round; stroke-width:4; stroke-opacity:1; fill:none\" points=\"220.19,1486.45 2352.76,1486.45 \"/>\n<polyline clip-path=\"url(#clip840)\" style=\"stroke:#000000; stroke-linecap:round; stroke-linejoin:round; stroke-width:4; stroke-opacity:1; fill:none\" points=\"280.546,1486.45 280.546,1467.55 \"/>\n<polyline clip-path=\"url(#clip840)\" style=\"stroke:#000000; stroke-linecap:round; stroke-linejoin:round; stroke-width:4; stroke-opacity:1; fill:none\" points=\"783.51,1486.45 783.51,1467.55 \"/>\n<polyline clip-path=\"url(#clip840)\" style=\"stroke:#000000; stroke-linecap:round; stroke-linejoin:round; stroke-width:4; stroke-opacity:1; fill:none\" points=\"1286.47,1486.45 1286.47,1467.55 \"/>\n<polyline clip-path=\"url(#clip840)\" style=\"stroke:#000000; stroke-linecap:round; stroke-linejoin:round; stroke-width:4; stroke-opacity:1; fill:none\" points=\"1789.44,1486.45 1789.44,1467.55 \"/>\n<polyline clip-path=\"url(#clip840)\" style=\"stroke:#000000; stroke-linecap:round; stroke-linejoin:round; stroke-width:4; stroke-opacity:1; fill:none\" points=\"2292.4,1486.45 2292.4,1467.55 \"/>\n<path clip-path=\"url(#clip840)\" d=\"M257.849 1517.37 Q254.238 1517.37 252.41 1520.93 Q250.604 1524.47 250.604 1531.6 Q250.604 1538.71 252.41 1542.27 Q254.238 1545.82 257.849 1545.82 Q261.484 1545.82 263.289 1542.27 Q265.118 1538.71 265.118 1531.6 Q265.118 1524.47 263.289 1520.93 Q261.484 1517.37 257.849 1517.37 M257.849 1513.66 Q263.659 1513.66 266.715 1518.27 Q269.794 1522.85 269.794 1531.6 Q269.794 1540.33 266.715 1544.94 Q263.659 1549.52 257.849 1549.52 Q252.039 1549.52 248.96 1544.94 Q245.905 1540.33 245.905 1531.6 Q245.905 1522.85 248.96 1518.27 Q252.039 1513.66 257.849 1513.66 Z\" fill=\"#000000\" fill-rule=\"nonzero\" fill-opacity=\"1\" /><path clip-path=\"url(#clip840)\" d=\"M278.011 1542.97 L282.895 1542.97 L282.895 1548.85 L278.011 1548.85 L278.011 1542.97 Z\" fill=\"#000000\" fill-rule=\"nonzero\" fill-opacity=\"1\" /><path clip-path=\"url(#clip840)\" d=\"M303.659 1529.7 Q300.511 1529.7 298.659 1531.86 Q296.831 1534.01 296.831 1537.76 Q296.831 1541.49 298.659 1543.66 Q300.511 1545.82 303.659 1545.82 Q306.807 1545.82 308.636 1543.66 Q310.488 1541.49 310.488 1537.76 Q310.488 1534.01 308.636 1531.86 Q306.807 1529.7 303.659 1529.7 M312.942 1515.05 L312.942 1519.31 Q311.182 1518.48 309.377 1518.04 Q307.594 1517.6 305.835 1517.6 Q301.206 1517.6 298.752 1520.72 Q296.321 1523.85 295.974 1530.17 Q297.34 1528.15 299.4 1527.09 Q301.46 1526 303.937 1526 Q309.145 1526 312.155 1529.17 Q315.187 1532.32 315.187 1537.76 Q315.187 1543.08 312.039 1546.3 Q308.891 1549.52 303.659 1549.52 Q297.664 1549.52 294.493 1544.94 Q291.321 1540.33 291.321 1531.6 Q291.321 1523.41 295.21 1518.55 Q299.099 1513.66 305.65 1513.66 Q307.409 1513.66 309.192 1514.01 Q310.997 1514.36 312.942 1515.05 Z\" fill=\"#000000\" fill-rule=\"nonzero\" fill-opacity=\"1\" /><path clip-path=\"url(#clip840)\" d=\"M760.94 1517.37 Q757.329 1517.37 755.5 1520.93 Q753.695 1524.47 753.695 1531.6 Q753.695 1538.71 755.5 1542.27 Q757.329 1545.82 760.94 1545.82 Q764.574 1545.82 766.38 1542.27 Q768.209 1538.71 768.209 1531.6 Q768.209 1524.47 766.38 1520.93 Q764.574 1517.37 760.94 1517.37 M760.94 1513.66 Q766.75 1513.66 769.806 1518.27 Q772.885 1522.85 772.885 1531.6 Q772.885 1540.33 769.806 1544.94 Q766.75 1549.52 760.94 1549.52 Q755.13 1549.52 752.051 1544.94 Q748.996 1540.33 748.996 1531.6 Q748.996 1522.85 752.051 1518.27 Q755.13 1513.66 760.94 1513.66 Z\" fill=\"#000000\" fill-rule=\"nonzero\" fill-opacity=\"1\" /><path clip-path=\"url(#clip840)\" d=\"M781.102 1542.97 L785.986 1542.97 L785.986 1548.85 L781.102 1548.85 L781.102 1542.97 Z\" fill=\"#000000\" fill-rule=\"nonzero\" fill-opacity=\"1\" /><path clip-path=\"url(#clip840)\" d=\"M806.171 1532.44 Q802.838 1532.44 800.917 1534.22 Q799.019 1536 799.019 1539.13 Q799.019 1542.25 800.917 1544.03 Q802.838 1545.82 806.171 1545.82 Q809.505 1545.82 811.426 1544.03 Q813.347 1542.23 813.347 1539.13 Q813.347 1536 811.426 1534.22 Q809.528 1532.44 806.171 1532.44 M801.496 1530.45 Q798.486 1529.7 796.797 1527.64 Q795.13 1525.58 795.13 1522.62 Q795.13 1518.48 798.07 1516.07 Q801.033 1513.66 806.171 1513.66 Q811.333 1513.66 814.273 1516.07 Q817.213 1518.48 817.213 1522.62 Q817.213 1525.58 815.523 1527.64 Q813.857 1529.7 810.871 1530.45 Q814.25 1531.23 816.125 1533.52 Q818.023 1535.82 818.023 1539.13 Q818.023 1544.15 814.945 1546.83 Q811.889 1549.52 806.171 1549.52 Q800.454 1549.52 797.375 1546.83 Q794.32 1544.15 794.32 1539.13 Q794.32 1535.82 796.218 1533.52 Q798.116 1531.23 801.496 1530.45 M799.783 1523.06 Q799.783 1525.75 801.449 1527.25 Q803.139 1528.76 806.171 1528.76 Q809.181 1528.76 810.871 1527.25 Q812.583 1525.75 812.583 1523.06 Q812.583 1520.38 810.871 1518.87 Q809.181 1517.37 806.171 1517.37 Q803.139 1517.37 801.449 1518.87 Q799.783 1520.38 799.783 1523.06 Z\" fill=\"#000000\" fill-rule=\"nonzero\" fill-opacity=\"1\" /><path clip-path=\"url(#clip840)\" d=\"M1253.63 1544.91 L1261.26 1544.91 L1261.26 1518.55 L1252.95 1520.21 L1252.95 1515.95 L1261.22 1514.29 L1265.89 1514.29 L1265.89 1544.91 L1273.53 1544.91 L1273.53 1548.85 L1253.63 1548.85 L1253.63 1544.91 Z\" fill=\"#000000\" fill-rule=\"nonzero\" fill-opacity=\"1\" /><path clip-path=\"url(#clip840)\" d=\"M1282.98 1542.97 L1287.86 1542.97 L1287.86 1548.85 L1282.98 1548.85 L1282.98 1542.97 Z\" fill=\"#000000\" fill-rule=\"nonzero\" fill-opacity=\"1\" /><path clip-path=\"url(#clip840)\" d=\"M1308.05 1517.37 Q1304.44 1517.37 1302.61 1520.93 Q1300.8 1524.47 1300.8 1531.6 Q1300.8 1538.71 1302.61 1542.27 Q1304.44 1545.82 1308.05 1545.82 Q1311.68 1545.82 1313.49 1542.27 Q1315.32 1538.71 1315.32 1531.6 Q1315.32 1524.47 1313.49 1520.93 Q1311.68 1517.37 1308.05 1517.37 M1308.05 1513.66 Q1313.86 1513.66 1316.91 1518.27 Q1319.99 1522.85 1319.99 1531.6 Q1319.99 1540.33 1316.91 1544.94 Q1313.86 1549.52 1308.05 1549.52 Q1302.24 1549.52 1299.16 1544.94 Q1296.1 1540.33 1296.1 1531.6 Q1296.1 1522.85 1299.16 1518.27 Q1302.24 1513.66 1308.05 1513.66 Z\" fill=\"#000000\" fill-rule=\"nonzero\" fill-opacity=\"1\" /><path clip-path=\"url(#clip840)\" d=\"M1757.39 1544.91 L1765.03 1544.91 L1765.03 1518.55 L1756.72 1520.21 L1756.72 1515.95 L1764.98 1514.29 L1769.66 1514.29 L1769.66 1544.91 L1777.3 1544.91 L1777.3 1548.85 L1757.39 1548.85 L1757.39 1544.91 Z\" fill=\"#000000\" fill-rule=\"nonzero\" fill-opacity=\"1\" /><path clip-path=\"url(#clip840)\" d=\"M1786.74 1542.97 L1791.62 1542.97 L1791.62 1548.85 L1786.74 1548.85 L1786.74 1542.97 Z\" fill=\"#000000\" fill-rule=\"nonzero\" fill-opacity=\"1\" /><path clip-path=\"url(#clip840)\" d=\"M1805.84 1544.91 L1822.16 1544.91 L1822.16 1548.85 L1800.21 1548.85 L1800.21 1544.91 Q1802.87 1542.16 1807.46 1537.53 Q1812.06 1532.88 1813.24 1531.53 Q1815.49 1529.01 1816.37 1527.27 Q1817.27 1525.51 1817.27 1523.82 Q1817.27 1521.07 1815.33 1519.33 Q1813.41 1517.6 1810.3 1517.6 Q1808.11 1517.6 1805.65 1518.36 Q1803.22 1519.13 1800.44 1520.68 L1800.44 1515.95 Q1803.27 1514.82 1805.72 1514.24 Q1808.18 1513.66 1810.21 1513.66 Q1815.58 1513.66 1818.78 1516.35 Q1821.97 1519.03 1821.97 1523.52 Q1821.97 1525.65 1821.16 1527.57 Q1820.37 1529.47 1818.27 1532.07 Q1817.69 1532.74 1814.59 1535.95 Q1811.49 1539.15 1805.84 1544.91 Z\" fill=\"#000000\" fill-rule=\"nonzero\" fill-opacity=\"1\" /><path clip-path=\"url(#clip840)\" d=\"M2259.31 1544.91 L2266.95 1544.91 L2266.95 1518.55 L2258.64 1520.21 L2258.64 1515.95 L2266.9 1514.29 L2271.58 1514.29 L2271.58 1544.91 L2279.22 1544.91 L2279.22 1548.85 L2259.31 1548.85 L2259.31 1544.91 Z\" fill=\"#000000\" fill-rule=\"nonzero\" fill-opacity=\"1\" /><path clip-path=\"url(#clip840)\" d=\"M2288.66 1542.97 L2293.55 1542.97 L2293.55 1548.85 L2288.66 1548.85 L2288.66 1542.97 Z\" fill=\"#000000\" fill-rule=\"nonzero\" fill-opacity=\"1\" /><path clip-path=\"url(#clip840)\" d=\"M2316.58 1518.36 L2304.77 1536.81 L2316.58 1536.81 L2316.58 1518.36 M2315.35 1514.29 L2321.23 1514.29 L2321.23 1536.81 L2326.16 1536.81 L2326.16 1540.7 L2321.23 1540.7 L2321.23 1548.85 L2316.58 1548.85 L2316.58 1540.7 L2300.98 1540.7 L2300.98 1536.19 L2315.35 1514.29 Z\" fill=\"#000000\" fill-rule=\"nonzero\" fill-opacity=\"1\" /><polyline clip-path=\"url(#clip842)\" style=\"stroke:#000000; stroke-linecap:round; stroke-linejoin:round; stroke-width:2; stroke-opacity:0.1; fill:none\" points=\"220.19,1445.72 2352.76,1445.72 \"/>\n<polyline clip-path=\"url(#clip842)\" style=\"stroke:#000000; stroke-linecap:round; stroke-linejoin:round; stroke-width:2; stroke-opacity:0.1; fill:none\" points=\"220.19,1162.85 2352.76,1162.85 \"/>\n<polyline clip-path=\"url(#clip842)\" style=\"stroke:#000000; stroke-linecap:round; stroke-linejoin:round; stroke-width:2; stroke-opacity:0.1; fill:none\" points=\"220.19,879.991 2352.76,879.991 \"/>\n<polyline clip-path=\"url(#clip842)\" style=\"stroke:#000000; stroke-linecap:round; stroke-linejoin:round; stroke-width:2; stroke-opacity:0.1; fill:none\" points=\"220.19,597.129 2352.76,597.129 \"/>\n<polyline clip-path=\"url(#clip842)\" style=\"stroke:#000000; stroke-linecap:round; stroke-linejoin:round; stroke-width:2; stroke-opacity:0.1; fill:none\" points=\"220.19,314.266 2352.76,314.266 \"/>\n<polyline clip-path=\"url(#clip840)\" style=\"stroke:#000000; stroke-linecap:round; stroke-linejoin:round; stroke-width:4; stroke-opacity:1; fill:none\" points=\"220.19,1486.45 220.19,47.2441 \"/>\n<polyline clip-path=\"url(#clip840)\" style=\"stroke:#000000; stroke-linecap:round; stroke-linejoin:round; stroke-width:4; stroke-opacity:1; fill:none\" points=\"220.19,1445.72 239.088,1445.72 \"/>\n<polyline clip-path=\"url(#clip840)\" style=\"stroke:#000000; stroke-linecap:round; stroke-linejoin:round; stroke-width:4; stroke-opacity:1; fill:none\" points=\"220.19,1162.85 239.088,1162.85 \"/>\n<polyline clip-path=\"url(#clip840)\" style=\"stroke:#000000; stroke-linecap:round; stroke-linejoin:round; stroke-width:4; stroke-opacity:1; fill:none\" points=\"220.19,879.991 239.088,879.991 \"/>\n<polyline clip-path=\"url(#clip840)\" style=\"stroke:#000000; stroke-linecap:round; stroke-linejoin:round; stroke-width:4; stroke-opacity:1; fill:none\" points=\"220.19,597.129 239.088,597.129 \"/>\n<polyline clip-path=\"url(#clip840)\" style=\"stroke:#000000; stroke-linecap:round; stroke-linejoin:round; stroke-width:4; stroke-opacity:1; fill:none\" points=\"220.19,314.266 239.088,314.266 \"/>\n<path clip-path=\"url(#clip840)\" d=\"M122.038 1459.06 L138.357 1459.06 L138.357 1463 L116.413 1463 L116.413 1459.06 Q119.075 1456.31 123.658 1451.68 Q128.265 1447.02 129.445 1445.68 Q131.691 1443.16 132.57 1441.42 Q133.473 1439.66 133.473 1437.97 Q133.473 1435.22 131.529 1433.48 Q129.607 1431.75 126.505 1431.75 Q124.306 1431.75 121.853 1432.51 Q119.422 1433.27 116.644 1434.82 L116.644 1430.1 Q119.468 1428.97 121.922 1428.39 Q124.376 1427.81 126.413 1427.81 Q131.783 1427.81 134.978 1430.5 Q138.172 1433.18 138.172 1437.67 Q138.172 1439.8 137.362 1441.72 Q136.575 1443.62 134.468 1446.21 Q133.89 1446.88 130.788 1450.1 Q127.686 1453.3 122.038 1459.06 Z\" fill=\"#000000\" fill-rule=\"nonzero\" fill-opacity=\"1\" /><path clip-path=\"url(#clip840)\" d=\"M148.172 1457.12 L153.056 1457.12 L153.056 1463 L148.172 1463 L148.172 1457.12 Z\" fill=\"#000000\" fill-rule=\"nonzero\" fill-opacity=\"1\" /><path clip-path=\"url(#clip840)\" d=\"M163.288 1428.44 L181.644 1428.44 L181.644 1432.37 L167.57 1432.37 L167.57 1440.84 Q168.589 1440.5 169.607 1440.33 Q170.626 1440.15 171.644 1440.15 Q177.431 1440.15 180.811 1443.32 Q184.19 1446.49 184.19 1451.91 Q184.19 1457.49 180.718 1460.59 Q177.246 1463.67 170.927 1463.67 Q168.751 1463.67 166.482 1463.3 Q164.237 1462.93 161.829 1462.19 L161.829 1457.49 Q163.913 1458.62 166.135 1459.18 Q168.357 1459.73 170.834 1459.73 Q174.839 1459.73 177.176 1457.63 Q179.514 1455.52 179.514 1451.91 Q179.514 1448.3 177.176 1446.19 Q174.839 1444.08 170.834 1444.08 Q168.959 1444.08 167.084 1444.5 Q165.232 1444.92 163.288 1445.8 L163.288 1428.44 Z\" fill=\"#000000\" fill-rule=\"nonzero\" fill-opacity=\"1\" /><path clip-path=\"url(#clip840)\" d=\"M131.181 1161.5 Q134.538 1162.22 136.413 1164.49 Q138.311 1166.75 138.311 1170.09 Q138.311 1175.2 134.792 1178 Q131.274 1180.8 124.793 1180.8 Q122.617 1180.8 120.302 1180.36 Q118.01 1179.95 115.556 1179.09 L115.556 1174.58 Q117.501 1175.71 119.816 1176.29 Q122.13 1176.87 124.654 1176.87 Q129.052 1176.87 131.343 1175.13 Q133.658 1173.4 133.658 1170.09 Q133.658 1167.03 131.505 1165.32 Q129.376 1163.58 125.556 1163.58 L121.529 1163.58 L121.529 1159.74 L125.742 1159.74 Q129.191 1159.74 131.019 1158.37 Q132.848 1156.99 132.848 1154.39 Q132.848 1151.73 130.95 1150.32 Q129.075 1148.88 125.556 1148.88 Q123.635 1148.88 121.436 1149.3 Q119.237 1149.72 116.598 1150.6 L116.598 1146.43 Q119.26 1145.69 121.575 1145.32 Q123.913 1144.95 125.973 1144.95 Q131.297 1144.95 134.399 1147.38 Q137.501 1149.79 137.501 1153.91 Q137.501 1156.78 135.857 1158.77 Q134.214 1160.74 131.181 1161.5 Z\" fill=\"#000000\" fill-rule=\"nonzero\" fill-opacity=\"1\" /><path clip-path=\"url(#clip840)\" d=\"M147.177 1174.25 L152.061 1174.25 L152.061 1180.13 L147.177 1180.13 L147.177 1174.25 Z\" fill=\"#000000\" fill-rule=\"nonzero\" fill-opacity=\"1\" /><path clip-path=\"url(#clip840)\" d=\"M172.246 1148.65 Q168.635 1148.65 166.806 1152.22 Q165.001 1155.76 165.001 1162.89 Q165.001 1169.99 166.806 1173.56 Q168.635 1177.1 172.246 1177.1 Q175.88 1177.1 177.686 1173.56 Q179.514 1169.99 179.514 1162.89 Q179.514 1155.76 177.686 1152.22 Q175.88 1148.65 172.246 1148.65 M172.246 1144.95 Q178.056 1144.95 181.112 1149.55 Q184.19 1154.14 184.19 1162.89 Q184.19 1171.61 181.112 1176.22 Q178.056 1180.8 172.246 1180.8 Q166.436 1180.8 163.357 1176.22 Q160.302 1171.61 160.302 1162.89 Q160.302 1154.14 163.357 1149.55 Q166.436 1144.95 172.246 1144.95 Z\" fill=\"#000000\" fill-rule=\"nonzero\" fill-opacity=\"1\" /><path clip-path=\"url(#clip840)\" d=\"M132.177 878.637 Q135.533 879.354 137.408 881.623 Q139.306 883.891 139.306 887.225 Q139.306 892.34 135.788 895.141 Q132.269 897.942 125.788 897.942 Q123.612 897.942 121.297 897.502 Q119.006 897.086 116.552 896.229 L116.552 891.715 Q118.496 892.85 120.811 893.428 Q123.126 894.007 125.649 894.007 Q130.047 894.007 132.339 892.271 Q134.654 890.535 134.654 887.225 Q134.654 884.169 132.501 882.456 Q130.371 880.72 126.552 880.72 L122.524 880.72 L122.524 876.878 L126.737 876.878 Q130.186 876.878 132.015 875.512 Q133.843 874.123 133.843 871.53 Q133.843 868.868 131.945 867.456 Q130.07 866.021 126.552 866.021 Q124.63 866.021 122.431 866.438 Q120.232 866.854 117.593 867.734 L117.593 863.567 Q120.255 862.827 122.57 862.456 Q124.908 862.086 126.968 862.086 Q132.292 862.086 135.394 864.516 Q138.496 866.924 138.496 871.044 Q138.496 873.915 136.853 875.905 Q135.209 877.873 132.177 878.637 Z\" fill=\"#000000\" fill-rule=\"nonzero\" fill-opacity=\"1\" /><path clip-path=\"url(#clip840)\" d=\"M148.172 891.391 L153.056 891.391 L153.056 897.271 L148.172 897.271 L148.172 891.391 Z\" fill=\"#000000\" fill-rule=\"nonzero\" fill-opacity=\"1\" /><path clip-path=\"url(#clip840)\" d=\"M163.288 862.711 L181.644 862.711 L181.644 866.646 L167.57 866.646 L167.57 875.118 Q168.589 874.771 169.607 874.609 Q170.626 874.424 171.644 874.424 Q177.431 874.424 180.811 877.595 Q184.19 880.766 184.19 886.183 Q184.19 891.762 180.718 894.864 Q177.246 897.942 170.927 897.942 Q168.751 897.942 166.482 897.572 Q164.237 897.201 161.829 896.461 L161.829 891.762 Q163.913 892.896 166.135 893.452 Q168.357 894.007 170.834 894.007 Q174.839 894.007 177.176 891.901 Q179.514 889.794 179.514 886.183 Q179.514 882.572 177.176 880.465 Q174.839 878.359 170.834 878.359 Q168.959 878.359 167.084 878.776 Q165.232 879.192 163.288 880.072 L163.288 862.711 Z\" fill=\"#000000\" fill-rule=\"nonzero\" fill-opacity=\"1\" /><path clip-path=\"url(#clip840)\" d=\"M129.862 583.923 L118.056 602.372 L129.862 602.372 L129.862 583.923 M128.635 579.849 L134.515 579.849 L134.515 602.372 L139.445 602.372 L139.445 606.26 L134.515 606.26 L134.515 614.409 L129.862 614.409 L129.862 606.26 L114.26 606.26 L114.26 601.747 L128.635 579.849 Z\" fill=\"#000000\" fill-rule=\"nonzero\" fill-opacity=\"1\" /><path clip-path=\"url(#clip840)\" d=\"M147.177 608.529 L152.061 608.529 L152.061 614.409 L147.177 614.409 L147.177 608.529 Z\" fill=\"#000000\" fill-rule=\"nonzero\" fill-opacity=\"1\" /><path clip-path=\"url(#clip840)\" d=\"M172.246 582.927 Q168.635 582.927 166.806 586.492 Q165.001 590.034 165.001 597.163 Q165.001 604.27 166.806 607.835 Q168.635 611.376 172.246 611.376 Q175.88 611.376 177.686 607.835 Q179.514 604.27 179.514 597.163 Q179.514 590.034 177.686 586.492 Q175.88 582.927 172.246 582.927 M172.246 579.224 Q178.056 579.224 181.112 583.83 Q184.19 588.413 184.19 597.163 Q184.19 605.89 181.112 610.497 Q178.056 615.08 172.246 615.08 Q166.436 615.08 163.357 610.497 Q160.302 605.89 160.302 597.163 Q160.302 588.413 163.357 583.83 Q166.436 579.224 172.246 579.224 Z\" fill=\"#000000\" fill-rule=\"nonzero\" fill-opacity=\"1\" /><path clip-path=\"url(#clip840)\" d=\"M130.857 301.06 L119.052 319.509 L130.857 319.509 L130.857 301.06 M129.63 296.986 L135.51 296.986 L135.51 319.509 L140.441 319.509 L140.441 323.398 L135.51 323.398 L135.51 331.546 L130.857 331.546 L130.857 323.398 L115.256 323.398 L115.256 318.884 L129.63 296.986 Z\" fill=\"#000000\" fill-rule=\"nonzero\" fill-opacity=\"1\" /><path clip-path=\"url(#clip840)\" d=\"M148.172 325.667 L153.056 325.667 L153.056 331.546 L148.172 331.546 L148.172 325.667 Z\" fill=\"#000000\" fill-rule=\"nonzero\" fill-opacity=\"1\" /><path clip-path=\"url(#clip840)\" d=\"M163.288 296.986 L181.644 296.986 L181.644 300.921 L167.57 300.921 L167.57 309.394 Q168.589 309.046 169.607 308.884 Q170.626 308.699 171.644 308.699 Q177.431 308.699 180.811 311.87 Q184.19 315.042 184.19 320.458 Q184.19 326.037 180.718 329.139 Q177.246 332.217 170.927 332.217 Q168.751 332.217 166.482 331.847 Q164.237 331.477 161.829 330.736 L161.829 326.037 Q163.913 327.171 166.135 327.727 Q168.357 328.282 170.834 328.282 Q174.839 328.282 177.176 326.176 Q179.514 324.069 179.514 320.458 Q179.514 316.847 177.176 314.741 Q174.839 312.634 170.834 312.634 Q168.959 312.634 167.084 313.051 Q165.232 313.468 163.288 314.347 L163.288 296.986 Z\" fill=\"#000000\" fill-rule=\"nonzero\" fill-opacity=\"1\" /><path clip-path=\"url(#clip840)\" d=\"M22.818 898.6 L46.4666 907.321 L46.4666 889.847 L22.818 898.6 M16.4842 902.229 L16.4842 894.94 L64.0042 876.829 L64.0042 883.513 L51.8138 887.842 L51.8138 909.263 L64.0042 913.591 L64.0042 920.371 L16.4842 902.229 Z\" fill=\"#000000\" fill-rule=\"nonzero\" fill-opacity=\"1\" /><path clip-path=\"url(#clip840)\" d=\"M28.3562 878.166 L28.3562 871.96 L58.275 860.82 L28.3562 849.68 L28.3562 843.473 L64.0042 856.841 L64.0042 864.798 L28.3562 878.166 Z\" fill=\"#000000\" fill-rule=\"nonzero\" fill-opacity=\"1\" /><path clip-path=\"url(#clip840)\" d=\"M46.0847 819.188 Q46.0847 826.286 47.7079 829.023 Q49.3312 831.76 53.2461 831.76 Q56.3653 831.76 58.2114 829.723 Q60.0256 827.654 60.0256 824.121 Q60.0256 819.252 56.5881 816.323 Q53.1188 813.363 47.3897 813.363 L46.0847 813.363 L46.0847 819.188 M43.6657 807.507 L64.0042 807.507 L64.0042 813.363 L58.5933 813.363 Q61.8398 815.369 63.3994 818.36 Q64.9272 821.352 64.9272 825.681 Q64.9272 831.156 61.8716 834.402 Q58.7843 837.617 53.6281 837.617 Q47.6125 837.617 44.5569 833.606 Q41.5014 829.564 41.5014 821.575 L41.5014 813.363 L40.9285 813.363 Q36.8862 813.363 34.6901 816.037 Q32.4621 818.679 32.4621 823.485 Q32.4621 826.54 33.1941 829.437 Q33.9262 832.333 35.3903 835.007 L29.9795 835.007 Q28.7381 831.792 28.1334 828.768 Q27.4968 825.745 27.4968 822.88 Q27.4968 815.146 31.5072 811.326 Q35.5176 807.507 43.6657 807.507 Z\" fill=\"#000000\" fill-rule=\"nonzero\" fill-opacity=\"1\" /><path clip-path=\"url(#clip840)\" d=\"M14.479 795.444 L14.479 789.587 L64.0042 789.587 L64.0042 795.444 L14.479 795.444 Z\" fill=\"#000000\" fill-rule=\"nonzero\" fill-opacity=\"1\" /><path clip-path=\"url(#clip840)\" d=\"M28.3562 777.333 L28.3562 771.477 L64.0042 771.477 L64.0042 777.333 L28.3562 777.333 M14.479 777.333 L14.479 771.477 L21.895 771.477 L21.895 777.333 L14.479 777.333 Z\" fill=\"#000000\" fill-rule=\"nonzero\" fill-opacity=\"1\" /><path clip-path=\"url(#clip840)\" d=\"M46.0847 743.022 Q46.0847 750.12 47.7079 752.857 Q49.3312 755.595 53.2461 755.595 Q56.3653 755.595 58.2114 753.558 Q60.0256 751.489 60.0256 747.956 Q60.0256 743.086 56.5881 740.158 Q53.1188 737.198 47.3897 737.198 L46.0847 737.198 L46.0847 743.022 M43.6657 731.341 L64.0042 731.341 L64.0042 737.198 L58.5933 737.198 Q61.8398 739.203 63.3994 742.195 Q64.9272 745.187 64.9272 749.515 Q64.9272 754.99 61.8716 758.236 Q58.7843 761.451 53.6281 761.451 Q47.6125 761.451 44.5569 757.441 Q41.5014 753.398 41.5014 745.409 L41.5014 737.198 L40.9285 737.198 Q36.8862 737.198 34.6901 739.871 Q32.4621 742.513 32.4621 747.319 Q32.4621 750.375 33.1941 753.271 Q33.9262 756.168 35.3903 758.841 L29.9795 758.841 Q28.7381 755.626 28.1334 752.603 Q27.4968 749.579 27.4968 746.714 Q27.4968 738.98 31.5072 735.161 Q35.5176 731.341 43.6657 731.341 Z\" fill=\"#000000\" fill-rule=\"nonzero\" fill-opacity=\"1\" /><path clip-path=\"url(#clip840)\" d=\"M29.7248 693.624 L35.1993 693.624 Q33.8307 696.107 33.1623 698.622 Q32.4621 701.104 32.4621 703.65 Q32.4621 709.348 36.0905 712.499 Q39.6872 715.65 46.212 715.65 Q52.7369 715.65 56.3653 712.499 Q59.9619 709.348 59.9619 703.65 Q59.9619 701.104 59.2935 698.622 Q58.5933 696.107 57.2247 693.624 L62.6355 693.624 Q63.7814 696.075 64.3543 698.717 Q64.9272 701.327 64.9272 704.287 Q64.9272 712.34 59.8664 717.082 Q54.8057 721.825 46.212 721.825 Q37.491 721.825 32.4939 717.05 Q27.4968 712.244 27.4968 703.905 Q27.4968 701.2 28.0697 698.622 Q28.6108 696.043 29.7248 693.624 M64.0042 701.9 Q65.9775 700.149 67.6326 699.29 Q69.3195 698.431 70.8473 698.431 Q73.68 698.431 75.1123 700.34 Q76.5764 702.25 76.5764 706.006 Q76.5764 707.47 76.3855 708.87 Q76.1945 710.239 75.8125 711.608 L71.643 711.608 Q72.1841 710.525 72.4069 709.348 Q72.6615 708.17 72.6615 706.674 Q72.6615 704.796 71.8976 703.841 Q71.1337 702.887 69.6696 702.887 Q68.7148 702.887 67.3143 703.587 Q65.9457 704.255 64.0042 705.687 L64.0042 701.9 Z\" fill=\"#000000\" fill-rule=\"nonzero\" fill-opacity=\"1\" /><path clip-path=\"url(#clip840)\" d=\"M46.0847 667.239 Q46.0847 674.336 47.7079 677.074 Q49.3312 679.811 53.2461 679.811 Q56.3653 679.811 58.2114 677.774 Q60.0256 675.705 60.0256 672.172 Q60.0256 667.302 56.5881 664.374 Q53.1188 661.414 47.3897 661.414 L46.0847 661.414 L46.0847 667.239 M43.6657 655.558 L64.0042 655.558 L64.0042 661.414 L58.5933 661.414 Q61.8398 663.419 63.3994 666.411 Q64.9272 669.403 64.9272 673.732 Q64.9272 679.206 61.8716 682.453 Q58.7843 685.667 53.6281 685.667 Q47.6125 685.667 44.5569 681.657 Q41.5014 677.615 41.5014 669.626 L41.5014 661.414 L40.9285 661.414 Q36.8862 661.414 34.6901 664.088 Q32.4621 666.729 32.4621 671.535 Q32.4621 674.591 33.1941 677.487 Q33.9262 680.384 35.3903 683.057 L29.9795 683.057 Q28.7381 679.843 28.1334 676.819 Q27.4968 673.795 27.4968 670.931 Q27.4968 663.196 31.5072 659.377 Q35.5176 655.558 43.6657 655.558 M20.3991 670.803 L18.6485 672.618 Q18.0119 673.318 17.7255 673.859 Q17.4072 674.368 17.4072 674.782 Q17.4072 675.991 18.5848 676.564 Q19.7307 677.137 22.3406 677.201 L22.3406 681.179 Q18.0438 681.116 15.7203 679.493 Q13.365 677.869 13.365 674.973 Q13.365 673.763 13.8106 672.745 Q14.2562 671.726 15.3065 670.549 L17.0571 668.735 Q17.6936 668.034 18.0119 667.525 Q18.2984 666.984 18.2984 666.57 Q18.2984 665.361 17.1526 664.788 Q15.9749 664.215 13.365 664.151 L13.365 660.173 Q17.6618 660.236 20.0171 661.86 Q22.3406 663.483 22.3406 666.379 Q22.3406 667.589 21.895 668.607 Q21.4494 669.626 20.3991 670.803 Z\" fill=\"#000000\" fill-rule=\"nonzero\" fill-opacity=\"1\" /><path clip-path=\"url(#clip840)\" d=\"M32.4621 629.681 Q32.4621 634.392 36.1542 637.129 Q39.8145 639.866 46.212 639.866 Q52.6095 639.866 56.3017 637.161 Q59.9619 634.423 59.9619 629.681 Q59.9619 625.002 56.2698 622.265 Q52.5777 619.528 46.212 619.528 Q39.8781 619.528 36.186 622.265 Q32.4621 625.002 32.4621 629.681 M27.4968 629.681 Q27.4968 622.042 32.4621 617.682 Q37.4273 613.321 46.212 613.321 Q54.9649 613.321 59.9619 617.682 Q64.9272 622.042 64.9272 629.681 Q64.9272 637.352 59.9619 641.712 Q54.9649 646.041 46.212 646.041 Q37.4273 646.041 32.4621 641.712 Q27.4968 637.352 27.4968 629.681 Z\" fill=\"#000000\" fill-rule=\"nonzero\" fill-opacity=\"1\" /><path clip-path=\"url(#clip842)\" d=\"M1286.47 710.274 L783.51 710.274 L1789.44 710.274 L1286.47 710.274 L1286.47 710.274 L1286.47 710.274  Z\" fill=\"#009af9\" fill-rule=\"evenodd\" fill-opacity=\"1\"/>\n<polyline clip-path=\"url(#clip842)\" style=\"stroke:#000000; stroke-linecap:round; stroke-linejoin:round; stroke-width:4; stroke-opacity:1; fill:none\" points=\"1286.47,710.274 783.51,710.274 1789.44,710.274 1286.47,710.274 \"/>\n<path clip-path=\"url(#clip842)\" d=\"M2292.4 710.274 L2292.4 483.984 L280.546 483.984 L280.546 710.274 L2292.4 710.274 L2292.4 483.984 L2292.4 710.274  Z\" fill=\"#009af9\" fill-rule=\"evenodd\" fill-opacity=\"1\"/>\n<polyline clip-path=\"url(#clip842)\" style=\"stroke:#000000; stroke-linecap:round; stroke-linejoin:round; stroke-width:4; stroke-opacity:1; fill:none\" points=\"2292.4,710.274 2292.4,483.984 280.546,483.984 280.546,710.274 2292.4,710.274 2292.4,483.984 2292.4,710.274 \"/>\n<path clip-path=\"url(#clip842)\" d=\"M2292.4 314.266 L280.546 314.266 L280.546 483.984 L2292.4 483.984 L2292.4 314.266 L1286.47 314.266 L2292.4 314.266  Z\" fill=\"#009af9\" fill-rule=\"evenodd\" fill-opacity=\"1\"/>\n<polyline clip-path=\"url(#clip842)\" style=\"stroke:#000000; stroke-linecap:round; stroke-linejoin:round; stroke-width:4; stroke-opacity:1; fill:none\" points=\"2292.4,314.266 280.546,314.266 280.546,483.984 2292.4,483.984 2292.4,314.266 1286.47,314.266 2292.4,314.266 \"/>\n<path clip-path=\"url(#clip842)\" d=\"M1286.47 87.9763 L783.51 87.9763 L1789.44 87.9763 L1286.47 87.9763 L1286.47 314.266 L1286.47 87.9763  Z\" fill=\"#009af9\" fill-rule=\"evenodd\" fill-opacity=\"1\"/>\n<polyline clip-path=\"url(#clip842)\" style=\"stroke:#000000; stroke-linecap:round; stroke-linejoin:round; stroke-width:4; stroke-opacity:1; fill:none\" points=\"1286.47,87.9763 783.51,87.9763 1789.44,87.9763 1286.47,87.9763 1286.47,314.266 1286.47,87.9763 \"/>\n<circle clip-path=\"url(#clip842)\" cx=\"1286.47\" cy=\"1445.72\" r=\"14.4\" fill=\"#009af9\" fill-rule=\"evenodd\" fill-opacity=\"1\" stroke=\"#000000\" stroke-opacity=\"1\" stroke-width=\"3.2\"/>\n<polyline clip-path=\"url(#clip842)\" style=\"stroke:#009af9; stroke-linecap:round; stroke-linejoin:round; stroke-width:0; stroke-opacity:1; fill:none\" points=\"1286.47,710.274 783.51,710.274 1789.44,710.274 1286.47,710.274 \"/>\n<polyline clip-path=\"url(#clip842)\" style=\"stroke:#009af9; stroke-linecap:round; stroke-linejoin:round; stroke-width:0; stroke-opacity:1; fill:none\" points=\"2292.4,710.274 2292.4,483.984 280.546,483.984 280.546,710.274 2292.4,710.274 2292.4,483.984 \"/>\n<polyline clip-path=\"url(#clip842)\" style=\"stroke:#009af9; stroke-linecap:round; stroke-linejoin:round; stroke-width:0; stroke-opacity:1; fill:none\" points=\"2292.4,314.266 280.546,314.266 280.546,483.984 2292.4,483.984 2292.4,314.266 1286.47,314.266 \"/>\n<polyline clip-path=\"url(#clip842)\" style=\"stroke:#009af9; stroke-linecap:round; stroke-linejoin:round; stroke-width:0; stroke-opacity:1; fill:none\" points=\"1286.47,87.9763 783.51,87.9763 1789.44,87.9763 1286.47,87.9763 1286.47,314.266 \"/>\n<path clip-path=\"url(#clip840)\" d=\"M1510.25 1438.47 L2281.67 1438.47 L2281.67 1334.79 L1510.25 1334.79  Z\" fill=\"#ffffff\" fill-rule=\"evenodd\" fill-opacity=\"1\"/>\n<polyline clip-path=\"url(#clip840)\" style=\"stroke:#000000; stroke-linecap:round; stroke-linejoin:round; stroke-width:4; stroke-opacity:1; fill:none\" points=\"1510.25,1438.47 2281.67,1438.47 2281.67,1334.79 1510.25,1334.79 1510.25,1438.47 \"/>\n<path clip-path=\"url(#clip840)\" d=\"M1533.94 1407.37 L1676.11 1407.37 L1676.11 1365.9 L1533.94 1365.9 L1533.94 1407.37  Z\" fill=\"#009af9\" fill-rule=\"evenodd\" fill-opacity=\"1\"/>\n<polyline clip-path=\"url(#clip840)\" style=\"stroke:#000000; stroke-linecap:round; stroke-linejoin:round; stroke-width:4; stroke-opacity:1; fill:none\" points=\"1533.94,1407.37 1676.11,1407.37 1676.11,1365.9 1533.94,1365.9 1533.94,1407.37 \"/>\n<path clip-path=\"url(#clip840)\" d=\"M1715.64 1373.96 L1709.3 1391.16 L1722.01 1391.16 L1715.64 1373.96 M1713 1369.35 L1718.3 1369.35 L1731.47 1403.91 L1726.61 1403.91 L1723.46 1395.05 L1707.89 1395.05 L1704.74 1403.91 L1699.81 1403.91 L1713 1369.35 Z\" fill=\"#000000\" fill-rule=\"nonzero\" fill-opacity=\"1\" /><path clip-path=\"url(#clip840)\" d=\"M1730.5 1377.99 L1735.02 1377.99 L1743.12 1399.75 L1751.22 1377.99 L1755.73 1377.99 L1746.01 1403.91 L1740.22 1403.91 L1730.5 1377.99 Z\" fill=\"#000000\" fill-rule=\"nonzero\" fill-opacity=\"1\" /><path clip-path=\"url(#clip840)\" d=\"M1773.39 1390.88 Q1768.23 1390.88 1766.24 1392.06 Q1764.25 1393.24 1764.25 1396.09 Q1764.25 1398.36 1765.73 1399.7 Q1767.24 1401.02 1769.81 1401.02 Q1773.35 1401.02 1775.48 1398.52 Q1777.63 1396 1777.63 1391.83 L1777.63 1390.88 L1773.39 1390.88 M1781.89 1389.12 L1781.89 1403.91 L1777.63 1403.91 L1777.63 1399.98 Q1776.17 1402.34 1774 1403.47 Q1771.82 1404.59 1768.67 1404.59 Q1764.69 1404.59 1762.33 1402.36 Q1759.99 1400.12 1759.99 1396.37 Q1759.99 1391.99 1762.91 1389.77 Q1765.85 1387.55 1771.66 1387.55 L1777.63 1387.55 L1777.63 1387.13 Q1777.63 1384.19 1775.69 1382.6 Q1773.76 1380.97 1770.27 1380.97 Q1768.05 1380.97 1765.94 1381.51 Q1763.83 1382.04 1761.89 1383.1 L1761.89 1379.17 Q1764.23 1378.27 1766.43 1377.83 Q1768.63 1377.36 1770.71 1377.36 Q1776.33 1377.36 1779.11 1380.28 Q1781.89 1383.2 1781.89 1389.12 Z\" fill=\"#000000\" fill-rule=\"nonzero\" fill-opacity=\"1\" /><path clip-path=\"url(#clip840)\" d=\"M1790.66 1367.9 L1794.92 1367.9 L1794.92 1403.91 L1790.66 1403.91 L1790.66 1367.9 Z\" fill=\"#000000\" fill-rule=\"nonzero\" fill-opacity=\"1\" /><path clip-path=\"url(#clip840)\" d=\"M1803.83 1377.99 L1808.09 1377.99 L1808.09 1403.91 L1803.83 1403.91 L1803.83 1377.99 M1803.83 1367.9 L1808.09 1367.9 L1808.09 1373.29 L1803.83 1373.29 L1803.83 1367.9 Z\" fill=\"#000000\" fill-rule=\"nonzero\" fill-opacity=\"1\" /><path clip-path=\"url(#clip840)\" d=\"M1828.79 1390.88 Q1823.63 1390.88 1821.63 1392.06 Q1819.64 1393.24 1819.64 1396.09 Q1819.64 1398.36 1821.13 1399.7 Q1822.63 1401.02 1825.2 1401.02 Q1828.74 1401.02 1830.87 1398.52 Q1833.02 1396 1833.02 1391.83 L1833.02 1390.88 L1828.79 1390.88 M1837.28 1389.12 L1837.28 1403.91 L1833.02 1403.91 L1833.02 1399.98 Q1831.57 1402.34 1829.39 1403.47 Q1827.21 1404.59 1824.07 1404.59 Q1820.08 1404.59 1817.72 1402.36 Q1815.38 1400.12 1815.38 1396.37 Q1815.38 1391.99 1818.3 1389.77 Q1821.24 1387.55 1827.05 1387.55 L1833.02 1387.55 L1833.02 1387.13 Q1833.02 1384.19 1831.08 1382.6 Q1829.16 1380.97 1825.66 1380.97 Q1823.44 1380.97 1821.33 1381.51 Q1819.23 1382.04 1817.28 1383.1 L1817.28 1379.17 Q1819.62 1378.27 1821.82 1377.83 Q1824.02 1377.36 1826.1 1377.36 Q1831.73 1377.36 1834.51 1380.28 Q1837.28 1383.2 1837.28 1389.12 Z\" fill=\"#000000\" fill-rule=\"nonzero\" fill-opacity=\"1\" /><path clip-path=\"url(#clip840)\" d=\"M1864.71 1378.98 L1864.71 1382.97 Q1862.91 1381.97 1861.08 1381.48 Q1859.27 1380.97 1857.42 1380.97 Q1853.28 1380.97 1850.99 1383.61 Q1848.69 1386.23 1848.69 1390.97 Q1848.69 1395.72 1850.99 1398.36 Q1853.28 1400.97 1857.42 1400.97 Q1859.27 1400.97 1861.08 1400.49 Q1862.91 1399.98 1864.71 1398.98 L1864.71 1402.92 Q1862.93 1403.75 1861.01 1404.17 Q1859.11 1404.59 1856.96 1404.59 Q1851.1 1404.59 1847.65 1400.91 Q1844.2 1397.22 1844.2 1390.97 Q1844.2 1384.63 1847.68 1381 Q1851.17 1377.36 1857.24 1377.36 Q1859.2 1377.36 1861.08 1377.78 Q1862.95 1378.17 1864.71 1378.98 M1858.69 1403.91 Q1859.97 1405.35 1860.59 1406.55 Q1861.22 1407.78 1861.22 1408.89 Q1861.22 1410.95 1859.83 1411.99 Q1858.44 1413.06 1855.71 1413.06 Q1854.64 1413.06 1853.63 1412.92 Q1852.63 1412.78 1851.63 1412.5 L1851.63 1409.47 Q1852.42 1409.86 1853.28 1410.03 Q1854.13 1410.21 1855.22 1410.21 Q1856.59 1410.21 1857.28 1409.66 Q1857.98 1409.1 1857.98 1408.03 Q1857.98 1407.34 1857.47 1406.32 Q1856.98 1405.33 1855.94 1403.91 L1858.69 1403.91 Z\" fill=\"#000000\" fill-rule=\"nonzero\" fill-opacity=\"1\" /><path clip-path=\"url(#clip840)\" d=\"M1883.9 1390.88 Q1878.74 1390.88 1876.75 1392.06 Q1874.76 1393.24 1874.76 1396.09 Q1874.76 1398.36 1876.24 1399.7 Q1877.75 1401.02 1880.32 1401.02 Q1883.86 1401.02 1885.99 1398.52 Q1888.14 1396 1888.14 1391.83 L1888.14 1390.88 L1883.9 1390.88 M1892.4 1389.12 L1892.4 1403.91 L1888.14 1403.91 L1888.14 1399.98 Q1886.68 1402.34 1884.5 1403.47 Q1882.33 1404.59 1879.18 1404.59 Q1875.2 1404.59 1872.84 1402.36 Q1870.5 1400.12 1870.5 1396.37 Q1870.5 1391.99 1873.42 1389.77 Q1876.36 1387.55 1882.17 1387.55 L1888.14 1387.55 L1888.14 1387.13 Q1888.14 1384.19 1886.19 1382.6 Q1884.27 1380.97 1880.78 1380.97 Q1878.56 1380.97 1876.45 1381.51 Q1874.34 1382.04 1872.4 1383.1 L1872.4 1379.17 Q1874.74 1378.27 1876.94 1377.83 Q1879.13 1377.36 1881.22 1377.36 Q1886.84 1377.36 1889.62 1380.28 Q1892.4 1383.2 1892.4 1389.12 M1881.31 1372.2 L1879.99 1370.93 Q1879.48 1370.47 1879.09 1370.26 Q1878.72 1370.03 1878.42 1370.03 Q1877.54 1370.03 1877.12 1370.88 Q1876.7 1371.72 1876.66 1373.61 L1873.76 1373.61 Q1873.81 1370.49 1874.99 1368.8 Q1876.17 1367.09 1878.28 1367.09 Q1879.16 1367.09 1879.9 1367.41 Q1880.64 1367.73 1881.5 1368.5 L1882.82 1369.77 Q1883.32 1370.23 1883.69 1370.47 Q1884.09 1370.67 1884.39 1370.67 Q1885.27 1370.67 1885.69 1369.84 Q1886.1 1368.98 1886.15 1367.09 L1889.04 1367.09 Q1889 1370.21 1887.82 1371.92 Q1886.63 1373.61 1884.53 1373.61 Q1883.65 1373.61 1882.91 1373.29 Q1882.17 1372.97 1881.31 1372.2 Z\" fill=\"#000000\" fill-rule=\"nonzero\" fill-opacity=\"1\" /><path clip-path=\"url(#clip840)\" d=\"M1911.22 1380.97 Q1907.79 1380.97 1905.8 1383.66 Q1903.81 1386.32 1903.81 1390.97 Q1903.81 1395.63 1905.78 1398.31 Q1907.77 1400.97 1911.22 1400.97 Q1914.62 1400.97 1916.61 1398.29 Q1918.6 1395.6 1918.6 1390.97 Q1918.6 1386.37 1916.61 1383.68 Q1914.62 1380.97 1911.22 1380.97 M1911.22 1377.36 Q1916.77 1377.36 1919.94 1380.97 Q1923.12 1384.59 1923.12 1390.97 Q1923.12 1397.34 1919.94 1400.97 Q1916.77 1404.59 1911.22 1404.59 Q1905.64 1404.59 1902.47 1400.97 Q1899.32 1397.34 1899.32 1390.97 Q1899.32 1384.59 1902.47 1380.97 Q1905.64 1377.36 1911.22 1377.36 Z\" fill=\"#000000\" fill-rule=\"nonzero\" fill-opacity=\"1\" /><path clip-path=\"url(#clip840)\" d=\"M1962.31 1381.92 L1962.31 1367.9 L1966.56 1367.9 L1966.56 1403.91 L1962.31 1403.91 L1962.31 1400.03 Q1960.96 1402.34 1958.9 1403.47 Q1956.87 1404.59 1954 1404.59 Q1949.3 1404.59 1946.33 1400.84 Q1943.39 1397.09 1943.39 1390.97 Q1943.39 1384.86 1946.33 1381.11 Q1949.3 1377.36 1954 1377.36 Q1956.87 1377.36 1958.9 1378.5 Q1960.96 1379.61 1962.31 1381.92 M1947.79 1390.97 Q1947.79 1395.67 1949.71 1398.36 Q1951.66 1401.02 1955.04 1401.02 Q1958.42 1401.02 1960.36 1398.36 Q1962.31 1395.67 1962.31 1390.97 Q1962.31 1386.28 1960.36 1383.61 Q1958.42 1380.93 1955.04 1380.93 Q1951.66 1380.93 1949.71 1383.61 Q1947.79 1386.28 1947.79 1390.97 Z\" fill=\"#000000\" fill-rule=\"nonzero\" fill-opacity=\"1\" /><path clip-path=\"url(#clip840)\" d=\"M1997.51 1389.89 L1997.51 1391.97 L1977.93 1391.97 Q1978.21 1396.37 1980.57 1398.68 Q1982.95 1400.97 1987.19 1400.97 Q1989.64 1400.97 1991.93 1400.37 Q1994.25 1399.77 1996.52 1398.57 L1996.52 1402.59 Q1994.23 1403.57 1991.82 1404.08 Q1989.41 1404.59 1986.93 1404.59 Q1980.73 1404.59 1977.1 1400.97 Q1973.49 1397.36 1973.49 1391.21 Q1973.49 1384.84 1976.91 1381.11 Q1980.36 1377.36 1986.19 1377.36 Q1991.43 1377.36 1994.46 1380.74 Q1997.51 1384.1 1997.51 1389.89 M1993.25 1388.64 Q1993.21 1385.14 1991.29 1383.06 Q1989.39 1380.97 1986.24 1380.97 Q1982.68 1380.97 1980.52 1382.99 Q1978.39 1385 1978.07 1388.66 L1993.25 1388.64 Z\" fill=\"#000000\" fill-rule=\"nonzero\" fill-opacity=\"1\" /><path clip-path=\"url(#clip840)\" d=\"M2040.48 1370.49 L2040.48 1375.05 Q2037.81 1373.78 2035.45 1373.15 Q2033.09 1372.53 2030.89 1372.53 Q2027.07 1372.53 2024.99 1374.01 Q2022.93 1375.49 2022.93 1378.22 Q2022.93 1380.51 2024.3 1381.69 Q2025.68 1382.85 2029.53 1383.57 L2032.35 1384.15 Q2037.58 1385.14 2040.06 1387.66 Q2042.56 1390.16 2042.56 1394.38 Q2042.56 1399.4 2039.18 1401.99 Q2035.82 1404.59 2029.32 1404.59 Q2026.87 1404.59 2024.09 1404.03 Q2021.33 1403.47 2018.37 1402.39 L2018.37 1397.57 Q2021.22 1399.17 2023.95 1399.98 Q2026.68 1400.79 2029.32 1400.79 Q2033.32 1400.79 2035.5 1399.22 Q2037.68 1397.64 2037.68 1394.72 Q2037.68 1392.18 2036.1 1390.74 Q2034.55 1389.31 2030.99 1388.59 L2028.14 1388.03 Q2022.91 1386.99 2020.57 1384.77 Q2018.23 1382.55 2018.23 1378.59 Q2018.23 1374.01 2021.45 1371.37 Q2024.69 1368.73 2030.36 1368.73 Q2032.79 1368.73 2035.31 1369.17 Q2037.84 1369.61 2040.48 1370.49 Z\" fill=\"#000000\" fill-rule=\"nonzero\" fill-opacity=\"1\" /><path clip-path=\"url(#clip840)\" d=\"M2061.45 1390.88 Q2056.29 1390.88 2054.3 1392.06 Q2052.31 1393.24 2052.31 1396.09 Q2052.31 1398.36 2053.79 1399.7 Q2055.29 1401.02 2057.86 1401.02 Q2061.4 1401.02 2063.53 1398.52 Q2065.68 1396 2065.68 1391.83 L2065.68 1390.88 L2061.45 1390.88 M2069.94 1389.12 L2069.94 1403.91 L2065.68 1403.91 L2065.68 1399.98 Q2064.23 1402.34 2062.05 1403.47 Q2059.87 1404.59 2056.73 1404.59 Q2052.74 1404.59 2050.38 1402.36 Q2048.05 1400.12 2048.05 1396.37 Q2048.05 1391.99 2050.96 1389.77 Q2053.9 1387.55 2059.71 1387.55 L2065.68 1387.55 L2065.68 1387.13 Q2065.68 1384.19 2063.74 1382.6 Q2061.82 1380.97 2058.32 1380.97 Q2056.1 1380.97 2053.99 1381.51 Q2051.89 1382.04 2049.94 1383.1 L2049.94 1379.17 Q2052.28 1378.27 2054.48 1377.83 Q2056.68 1377.36 2058.76 1377.36 Q2064.39 1377.36 2067.17 1380.28 Q2069.94 1383.2 2069.94 1389.12 Z\" fill=\"#000000\" fill-rule=\"nonzero\" fill-opacity=\"1\" /><path clip-path=\"url(#clip840)\" d=\"M2082.93 1370.63 L2082.93 1377.99 L2091.7 1377.99 L2091.7 1381.3 L2082.93 1381.3 L2082.93 1395.37 Q2082.93 1398.54 2083.79 1399.45 Q2084.67 1400.35 2087.33 1400.35 L2091.7 1400.35 L2091.7 1403.91 L2087.33 1403.91 Q2082.4 1403.91 2080.52 1402.09 Q2078.65 1400.23 2078.65 1395.37 L2078.65 1381.3 L2075.52 1381.3 L2075.52 1377.99 L2078.65 1377.99 L2078.65 1370.63 L2082.93 1370.63 Z\" fill=\"#000000\" fill-rule=\"nonzero\" fill-opacity=\"1\" /><path clip-path=\"url(#clip840)\" d=\"M2097.3 1377.99 L2101.56 1377.99 L2101.56 1403.91 L2097.3 1403.91 L2097.3 1377.99 M2097.3 1367.9 L2101.56 1367.9 L2101.56 1373.29 L2097.3 1373.29 L2097.3 1367.9 Z\" fill=\"#000000\" fill-rule=\"nonzero\" fill-opacity=\"1\" /><path clip-path=\"url(#clip840)\" d=\"M2127 1378.75 L2127 1382.78 Q2125.2 1381.85 2123.25 1381.39 Q2121.31 1380.93 2119.23 1380.93 Q2116.05 1380.93 2114.46 1381.9 Q2112.88 1382.87 2112.88 1384.82 Q2112.88 1386.3 2114.02 1387.16 Q2115.15 1387.99 2118.58 1388.75 L2120.04 1389.08 Q2124.57 1390.05 2126.47 1391.83 Q2128.39 1393.59 2128.39 1396.76 Q2128.39 1400.37 2125.52 1402.48 Q2122.68 1404.59 2117.68 1404.59 Q2115.59 1404.59 2113.32 1404.17 Q2111.08 1403.78 2108.58 1402.97 L2108.58 1398.57 Q2110.94 1399.79 2113.23 1400.42 Q2115.52 1401.02 2117.77 1401.02 Q2120.78 1401.02 2122.4 1400 Q2124.02 1398.96 2124.02 1397.09 Q2124.02 1395.35 2122.84 1394.42 Q2121.68 1393.5 2117.72 1392.64 L2116.24 1392.29 Q2112.28 1391.46 2110.52 1389.75 Q2108.76 1388.01 2108.76 1385 Q2108.76 1381.35 2111.36 1379.35 Q2113.95 1377.36 2118.72 1377.36 Q2121.08 1377.36 2123.16 1377.71 Q2125.24 1378.06 2127 1378.75 Z\" fill=\"#000000\" fill-rule=\"nonzero\" fill-opacity=\"1\" /><path clip-path=\"url(#clip840)\" d=\"M2148.3 1367.9 L2148.3 1371.44 L2144.23 1371.44 Q2141.93 1371.44 2141.03 1372.36 Q2140.15 1373.29 2140.15 1375.7 L2140.15 1377.99 L2147.17 1377.99 L2147.17 1381.3 L2140.15 1381.3 L2140.15 1403.91 L2135.87 1403.91 L2135.87 1381.3 L2131.8 1381.3 L2131.8 1377.99 L2135.87 1377.99 L2135.87 1376.18 Q2135.87 1371.85 2137.88 1369.89 Q2139.9 1367.9 2144.27 1367.9 L2148.3 1367.9 Z\" fill=\"#000000\" fill-rule=\"nonzero\" fill-opacity=\"1\" /><path clip-path=\"url(#clip840)\" d=\"M2163.65 1390.88 Q2158.49 1390.88 2156.49 1392.06 Q2154.5 1393.24 2154.5 1396.09 Q2154.5 1398.36 2155.99 1399.7 Q2157.49 1401.02 2160.06 1401.02 Q2163.6 1401.02 2165.73 1398.52 Q2167.88 1396 2167.88 1391.83 L2167.88 1390.88 L2163.65 1390.88 M2172.14 1389.12 L2172.14 1403.91 L2167.88 1403.91 L2167.88 1399.98 Q2166.42 1402.34 2164.25 1403.47 Q2162.07 1404.59 2158.92 1404.59 Q2154.94 1404.59 2152.58 1402.36 Q2150.24 1400.12 2150.24 1396.37 Q2150.24 1391.99 2153.16 1389.77 Q2156.1 1387.55 2161.91 1387.55 L2167.88 1387.55 L2167.88 1387.13 Q2167.88 1384.19 2165.94 1382.6 Q2164.02 1380.97 2160.52 1380.97 Q2158.3 1380.97 2156.19 1381.51 Q2154.09 1382.04 2152.14 1383.1 L2152.14 1379.17 Q2154.48 1378.27 2156.68 1377.83 Q2158.88 1377.36 2160.96 1377.36 Q2166.59 1377.36 2169.36 1380.28 Q2172.14 1383.2 2172.14 1389.12 Z\" fill=\"#000000\" fill-rule=\"nonzero\" fill-opacity=\"1\" /><path clip-path=\"url(#clip840)\" d=\"M2199.57 1378.98 L2199.57 1382.97 Q2197.77 1381.97 2195.94 1381.48 Q2194.13 1380.97 2192.28 1380.97 Q2188.14 1380.97 2185.85 1383.61 Q2183.55 1386.23 2183.55 1390.97 Q2183.55 1395.72 2185.85 1398.36 Q2188.14 1400.97 2192.28 1400.97 Q2194.13 1400.97 2195.94 1400.49 Q2197.77 1399.98 2199.57 1398.98 L2199.57 1402.92 Q2197.79 1403.75 2195.87 1404.17 Q2193.97 1404.59 2191.82 1404.59 Q2185.96 1404.59 2182.51 1400.91 Q2179.06 1397.22 2179.06 1390.97 Q2179.06 1384.63 2182.54 1381 Q2186.03 1377.36 2192.1 1377.36 Q2194.06 1377.36 2195.94 1377.78 Q2197.81 1378.17 2199.57 1378.98 M2193.55 1403.91 Q2194.83 1405.35 2195.45 1406.55 Q2196.08 1407.78 2196.08 1408.89 Q2196.08 1410.95 2194.69 1411.99 Q2193.3 1413.06 2190.57 1413.06 Q2189.5 1413.06 2188.48 1412.92 Q2187.49 1412.78 2186.49 1412.5 L2186.49 1409.47 Q2187.28 1409.86 2188.14 1410.03 Q2188.99 1410.21 2190.08 1410.21 Q2191.45 1410.21 2192.14 1409.66 Q2192.84 1409.1 2192.84 1408.03 Q2192.84 1407.34 2192.33 1406.32 Q2191.84 1405.33 2190.8 1403.91 L2193.55 1403.91 Z\" fill=\"#000000\" fill-rule=\"nonzero\" fill-opacity=\"1\" /><path clip-path=\"url(#clip840)\" d=\"M2218.76 1390.88 Q2213.6 1390.88 2211.61 1392.06 Q2209.62 1393.24 2209.62 1396.09 Q2209.62 1398.36 2211.1 1399.7 Q2212.61 1401.02 2215.17 1401.02 Q2218.72 1401.02 2220.85 1398.52 Q2223 1396 2223 1391.83 L2223 1390.88 L2218.76 1390.88 M2227.26 1389.12 L2227.26 1403.91 L2223 1403.91 L2223 1399.98 Q2221.54 1402.34 2219.36 1403.47 Q2217.19 1404.59 2214.04 1404.59 Q2210.06 1404.59 2207.7 1402.36 Q2205.36 1400.12 2205.36 1396.37 Q2205.36 1391.99 2208.28 1389.77 Q2211.22 1387.55 2217.03 1387.55 L2223 1387.55 L2223 1387.13 Q2223 1384.19 2221.05 1382.6 Q2219.13 1380.97 2215.64 1380.97 Q2213.42 1380.97 2211.31 1381.51 Q2209.2 1382.04 2207.26 1383.1 L2207.26 1379.17 Q2209.6 1378.27 2211.79 1377.83 Q2213.99 1377.36 2216.08 1377.36 Q2221.7 1377.36 2224.48 1380.28 Q2227.26 1383.2 2227.26 1389.12 M2216.17 1372.2 L2214.85 1370.93 Q2214.34 1370.47 2213.95 1370.26 Q2213.58 1370.03 2213.28 1370.03 Q2212.4 1370.03 2211.98 1370.88 Q2211.56 1371.72 2211.52 1373.61 L2208.62 1373.61 Q2208.67 1370.49 2209.85 1368.8 Q2211.03 1367.09 2213.14 1367.09 Q2214.02 1367.09 2214.76 1367.41 Q2215.5 1367.73 2216.36 1368.5 L2217.67 1369.77 Q2218.18 1370.23 2218.55 1370.47 Q2218.95 1370.67 2219.25 1370.67 Q2220.13 1370.67 2220.54 1369.84 Q2220.96 1368.98 2221.01 1367.09 L2223.9 1367.09 Q2223.86 1370.21 2222.67 1371.92 Q2221.49 1373.61 2219.39 1373.61 Q2218.51 1373.61 2217.77 1373.29 Q2217.03 1372.97 2216.17 1372.2 Z\" fill=\"#000000\" fill-rule=\"nonzero\" fill-opacity=\"1\" /><path clip-path=\"url(#clip840)\" d=\"M2246.08 1380.97 Q2242.65 1380.97 2240.66 1383.66 Q2238.67 1386.32 2238.67 1390.97 Q2238.67 1395.63 2240.64 1398.31 Q2242.63 1400.97 2246.08 1400.97 Q2249.48 1400.97 2251.47 1398.29 Q2253.46 1395.6 2253.46 1390.97 Q2253.46 1386.37 2251.47 1383.68 Q2249.48 1380.97 2246.08 1380.97 M2246.08 1377.36 Q2251.63 1377.36 2254.8 1380.97 Q2257.98 1384.59 2257.98 1390.97 Q2257.98 1397.34 2254.8 1400.97 Q2251.63 1404.59 2246.08 1404.59 Q2240.5 1404.59 2237.33 1400.97 Q2234.18 1397.34 2234.18 1390.97 Q2234.18 1384.59 2237.33 1380.97 Q2240.5 1377.36 2246.08 1377.36 Z\" fill=\"#000000\" fill-rule=\"nonzero\" fill-opacity=\"1\" /></svg>\n"
          },
          "metadata": {},
          "execution_count": 66
        }
      ]
    },
    {
      "cell_type": "code",
      "source": [
        "# Gráfico de dispersão das idades em relação à avaliação de satisfação\n",
        "scatter(dataframe_ficticio.Idade, dataframe_ficticio.Avaliacao_Satisfacao, label=\"Idade vs. Avaliação\", xlabel=\"Idade\", ylabel=\"Avaliação de Satisfação\")"
      ],
      "metadata": {
        "colab": {
          "base_uri": "https://localhost:8080/",
          "height": 421
        },
        "id": "FbKrwsybuNhm",
        "outputId": "1dbac507-6573-40f1-9e77-d9a1c8486087"
      },
      "execution_count": null,
      "outputs": [
        {
          "output_type": "execute_result",
          "data": {
            "image/svg+xml": "<?xml version=\"1.0\" encoding=\"utf-8\"?>\n<svg xmlns=\"http://www.w3.org/2000/svg\" xmlns:xlink=\"http://www.w3.org/1999/xlink\" width=\"600\" height=\"400\" viewBox=\"0 0 2400 1600\">\n<defs>\n  <clipPath id=\"clip880\">\n    <rect x=\"0\" y=\"0\" width=\"2400\" height=\"1600\"/>\n  </clipPath>\n</defs>\n<path clip-path=\"url(#clip880)\" d=\"M0 1600 L2400 1600 L2400 0 L0 0  Z\" fill=\"#ffffff\" fill-rule=\"evenodd\" fill-opacity=\"1\"/>\n<defs>\n  <clipPath id=\"clip881\">\n    <rect x=\"480\" y=\"0\" width=\"1681\" height=\"1600\"/>\n  </clipPath>\n</defs>\n<path clip-path=\"url(#clip880)\" d=\"M220.19 1423.18 L2352.76 1423.18 L2352.76 47.2441 L220.19 47.2441  Z\" fill=\"#ffffff\" fill-rule=\"evenodd\" fill-opacity=\"1\"/>\n<defs>\n  <clipPath id=\"clip882\">\n    <rect x=\"220\" y=\"47\" width=\"2134\" height=\"1377\"/>\n  </clipPath>\n</defs>\n<polyline clip-path=\"url(#clip882)\" style=\"stroke:#000000; stroke-linecap:round; stroke-linejoin:round; stroke-width:2; stroke-opacity:0.1; fill:none\" points=\"435.304,1423.18 435.304,47.2441 \"/>\n<polyline clip-path=\"url(#clip882)\" style=\"stroke:#000000; stroke-linecap:round; stroke-linejoin:round; stroke-width:2; stroke-opacity:0.1; fill:none\" points=\"822.199,1423.18 822.199,47.2441 \"/>\n<polyline clip-path=\"url(#clip882)\" style=\"stroke:#000000; stroke-linecap:round; stroke-linejoin:round; stroke-width:2; stroke-opacity:0.1; fill:none\" points=\"1209.09,1423.18 1209.09,47.2441 \"/>\n<polyline clip-path=\"url(#clip882)\" style=\"stroke:#000000; stroke-linecap:round; stroke-linejoin:round; stroke-width:2; stroke-opacity:0.1; fill:none\" points=\"1595.99,1423.18 1595.99,47.2441 \"/>\n<polyline clip-path=\"url(#clip882)\" style=\"stroke:#000000; stroke-linecap:round; stroke-linejoin:round; stroke-width:2; stroke-opacity:0.1; fill:none\" points=\"1982.88,1423.18 1982.88,47.2441 \"/>\n<polyline clip-path=\"url(#clip880)\" style=\"stroke:#000000; stroke-linecap:round; stroke-linejoin:round; stroke-width:4; stroke-opacity:1; fill:none\" points=\"220.19,1423.18 2352.76,1423.18 \"/>\n<polyline clip-path=\"url(#clip880)\" style=\"stroke:#000000; stroke-linecap:round; stroke-linejoin:round; stroke-width:4; stroke-opacity:1; fill:none\" points=\"435.304,1423.18 435.304,1404.28 \"/>\n<polyline clip-path=\"url(#clip880)\" style=\"stroke:#000000; stroke-linecap:round; stroke-linejoin:round; stroke-width:4; stroke-opacity:1; fill:none\" points=\"822.199,1423.18 822.199,1404.28 \"/>\n<polyline clip-path=\"url(#clip880)\" style=\"stroke:#000000; stroke-linecap:round; stroke-linejoin:round; stroke-width:4; stroke-opacity:1; fill:none\" points=\"1209.09,1423.18 1209.09,1404.28 \"/>\n<polyline clip-path=\"url(#clip880)\" style=\"stroke:#000000; stroke-linecap:round; stroke-linejoin:round; stroke-width:4; stroke-opacity:1; fill:none\" points=\"1595.99,1423.18 1595.99,1404.28 \"/>\n<polyline clip-path=\"url(#clip880)\" style=\"stroke:#000000; stroke-linecap:round; stroke-linejoin:round; stroke-width:4; stroke-opacity:1; fill:none\" points=\"1982.88,1423.18 1982.88,1404.28 \"/>\n<path clip-path=\"url(#clip880)\" d=\"M424.147 1466.95 Q427.503 1467.66 429.378 1469.93 Q431.276 1472.2 431.276 1475.53 Q431.276 1480.65 427.758 1483.45 Q424.239 1486.25 417.758 1486.25 Q415.582 1486.25 413.267 1485.81 Q410.975 1485.39 408.522 1484.54 L408.522 1480.02 Q410.466 1481.16 412.781 1481.74 Q415.096 1482.32 417.619 1482.32 Q422.017 1482.32 424.309 1480.58 Q426.623 1478.84 426.623 1475.53 Q426.623 1472.48 424.471 1470.77 Q422.341 1469.03 418.522 1469.03 L414.494 1469.03 L414.494 1465.19 L418.707 1465.19 Q422.156 1465.19 423.985 1463.82 Q425.813 1462.43 425.813 1459.84 Q425.813 1457.18 423.915 1455.77 Q422.04 1454.33 418.522 1454.33 Q416.6 1454.33 414.401 1454.75 Q412.202 1455.16 409.563 1456.04 L409.563 1451.88 Q412.225 1451.14 414.54 1450.77 Q416.878 1450.39 418.938 1450.39 Q424.262 1450.39 427.364 1452.83 Q430.466 1455.23 430.466 1459.35 Q430.466 1462.22 428.823 1464.21 Q427.179 1466.18 424.147 1466.95 Z\" fill=\"#000000\" fill-rule=\"nonzero\" fill-opacity=\"1\" /><path clip-path=\"url(#clip880)\" d=\"M450.142 1454.1 Q446.531 1454.1 444.702 1457.66 Q442.897 1461.2 442.897 1468.33 Q442.897 1475.44 444.702 1479.01 Q446.531 1482.55 450.142 1482.55 Q453.776 1482.55 455.582 1479.01 Q457.41 1475.44 457.41 1468.33 Q457.41 1461.2 455.582 1457.66 Q453.776 1454.1 450.142 1454.1 M450.142 1450.39 Q455.952 1450.39 459.008 1455 Q462.086 1459.58 462.086 1468.33 Q462.086 1477.06 459.008 1481.67 Q455.952 1486.25 450.142 1486.25 Q444.332 1486.25 441.253 1481.67 Q438.197 1477.06 438.197 1468.33 Q438.197 1459.58 441.253 1455 Q444.332 1450.39 450.142 1450.39 Z\" fill=\"#000000\" fill-rule=\"nonzero\" fill-opacity=\"1\" /><path clip-path=\"url(#clip880)\" d=\"M811.539 1466.95 Q814.896 1467.66 816.771 1469.93 Q818.669 1472.2 818.669 1475.53 Q818.669 1480.65 815.15 1483.45 Q811.632 1486.25 805.151 1486.25 Q802.975 1486.25 800.66 1485.81 Q798.368 1485.39 795.914 1484.54 L795.914 1480.02 Q797.859 1481.16 800.174 1481.74 Q802.489 1482.32 805.012 1482.32 Q809.41 1482.32 811.701 1480.58 Q814.016 1478.84 814.016 1475.53 Q814.016 1472.48 811.863 1470.77 Q809.734 1469.03 805.914 1469.03 L801.887 1469.03 L801.887 1465.19 L806.1 1465.19 Q809.549 1465.19 811.377 1463.82 Q813.206 1462.43 813.206 1459.84 Q813.206 1457.18 811.308 1455.77 Q809.433 1454.33 805.914 1454.33 Q803.993 1454.33 801.794 1454.75 Q799.595 1455.16 796.956 1456.04 L796.956 1451.88 Q799.618 1451.14 801.933 1450.77 Q804.271 1450.39 806.331 1450.39 Q811.655 1450.39 814.757 1452.83 Q817.859 1455.23 817.859 1459.35 Q817.859 1462.22 816.215 1464.21 Q814.572 1466.18 811.539 1466.95 Z\" fill=\"#000000\" fill-rule=\"nonzero\" fill-opacity=\"1\" /><path clip-path=\"url(#clip880)\" d=\"M827.581 1451.02 L845.937 1451.02 L845.937 1454.96 L831.863 1454.96 L831.863 1463.43 Q832.882 1463.08 833.9 1462.92 Q834.919 1462.73 835.937 1462.73 Q841.724 1462.73 845.104 1465.9 Q848.484 1469.08 848.484 1474.49 Q848.484 1480.07 845.011 1483.17 Q841.539 1486.25 835.22 1486.25 Q833.044 1486.25 830.775 1485.88 Q828.53 1485.51 826.123 1484.77 L826.123 1480.07 Q828.206 1481.2 830.428 1481.76 Q832.65 1482.32 835.127 1482.32 Q839.132 1482.32 841.47 1480.21 Q843.808 1478.1 843.808 1474.49 Q843.808 1470.88 841.47 1468.77 Q839.132 1466.67 835.127 1466.67 Q833.252 1466.67 831.377 1467.08 Q829.525 1467.5 827.581 1468.38 L827.581 1451.02 Z\" fill=\"#000000\" fill-rule=\"nonzero\" fill-opacity=\"1\" /><path clip-path=\"url(#clip880)\" d=\"M1197.27 1455.09 L1185.46 1473.54 L1197.27 1473.54 L1197.27 1455.09 M1196.04 1451.02 L1201.92 1451.02 L1201.92 1473.54 L1206.85 1473.54 L1206.85 1477.43 L1201.92 1477.43 L1201.92 1485.58 L1197.27 1485.58 L1197.27 1477.43 L1181.66 1477.43 L1181.66 1472.92 L1196.04 1451.02 Z\" fill=\"#000000\" fill-rule=\"nonzero\" fill-opacity=\"1\" /><path clip-path=\"url(#clip880)\" d=\"M1224.58 1454.1 Q1220.97 1454.1 1219.14 1457.66 Q1217.33 1461.2 1217.33 1468.33 Q1217.33 1475.44 1219.14 1479.01 Q1220.97 1482.55 1224.58 1482.55 Q1228.21 1482.55 1230.02 1479.01 Q1231.85 1475.44 1231.85 1468.33 Q1231.85 1461.2 1230.02 1457.66 Q1228.21 1454.1 1224.58 1454.1 M1224.58 1450.39 Q1230.39 1450.39 1233.45 1455 Q1236.52 1459.58 1236.52 1468.33 Q1236.52 1477.06 1233.45 1481.67 Q1230.39 1486.25 1224.58 1486.25 Q1218.77 1486.25 1215.69 1481.67 Q1212.64 1477.06 1212.64 1468.33 Q1212.64 1459.58 1215.69 1455 Q1218.77 1450.39 1224.58 1450.39 Z\" fill=\"#000000\" fill-rule=\"nonzero\" fill-opacity=\"1\" /><path clip-path=\"url(#clip880)\" d=\"M1584.66 1455.09 L1572.85 1473.54 L1584.66 1473.54 L1584.66 1455.09 M1583.43 1451.02 L1589.31 1451.02 L1589.31 1473.54 L1594.24 1473.54 L1594.24 1477.43 L1589.31 1477.43 L1589.31 1485.58 L1584.66 1485.58 L1584.66 1477.43 L1569.06 1477.43 L1569.06 1472.92 L1583.43 1451.02 Z\" fill=\"#000000\" fill-rule=\"nonzero\" fill-opacity=\"1\" /><path clip-path=\"url(#clip880)\" d=\"M1602.02 1451.02 L1620.38 1451.02 L1620.38 1454.96 L1606.3 1454.96 L1606.3 1463.43 Q1607.32 1463.08 1608.34 1462.92 Q1609.36 1462.73 1610.38 1462.73 Q1616.16 1462.73 1619.54 1465.9 Q1622.92 1469.08 1622.92 1474.49 Q1622.92 1480.07 1619.45 1483.17 Q1615.98 1486.25 1609.66 1486.25 Q1607.48 1486.25 1605.21 1485.88 Q1602.97 1485.51 1600.56 1484.77 L1600.56 1480.07 Q1602.64 1481.2 1604.87 1481.76 Q1607.09 1482.32 1609.57 1482.32 Q1613.57 1482.32 1615.91 1480.21 Q1618.25 1478.1 1618.25 1474.49 Q1618.25 1470.88 1615.91 1468.77 Q1613.57 1466.67 1609.57 1466.67 Q1607.69 1466.67 1605.82 1467.08 Q1603.96 1467.5 1602.02 1468.38 L1602.02 1451.02 Z\" fill=\"#000000\" fill-rule=\"nonzero\" fill-opacity=\"1\" /><path clip-path=\"url(#clip880)\" d=\"M1957.58 1451.02 L1975.94 1451.02 L1975.94 1454.96 L1961.87 1454.96 L1961.87 1463.43 Q1962.88 1463.08 1963.9 1462.92 Q1964.92 1462.73 1965.94 1462.73 Q1971.73 1462.73 1975.11 1465.9 Q1978.49 1469.08 1978.49 1474.49 Q1978.49 1480.07 1975.01 1483.17 Q1971.54 1486.25 1965.22 1486.25 Q1963.05 1486.25 1960.78 1485.88 Q1958.53 1485.51 1956.13 1484.77 L1956.13 1480.07 Q1958.21 1481.2 1960.43 1481.76 Q1962.65 1482.32 1965.13 1482.32 Q1969.13 1482.32 1971.47 1480.21 Q1973.81 1478.1 1973.81 1474.49 Q1973.81 1470.88 1971.47 1468.77 Q1969.13 1466.67 1965.13 1466.67 Q1963.25 1466.67 1961.38 1467.08 Q1959.53 1467.5 1957.58 1468.38 L1957.58 1451.02 Z\" fill=\"#000000\" fill-rule=\"nonzero\" fill-opacity=\"1\" /><path clip-path=\"url(#clip880)\" d=\"M1997.7 1454.1 Q1994.09 1454.1 1992.26 1457.66 Q1990.45 1461.2 1990.45 1468.33 Q1990.45 1475.44 1992.26 1479.01 Q1994.09 1482.55 1997.7 1482.55 Q2001.33 1482.55 2003.14 1479.01 Q2004.97 1475.44 2004.97 1468.33 Q2004.97 1461.2 2003.14 1457.66 Q2001.33 1454.1 1997.7 1454.1 M1997.7 1450.39 Q2003.51 1450.39 2006.56 1455 Q2009.64 1459.58 2009.64 1468.33 Q2009.64 1477.06 2006.56 1481.67 Q2003.51 1486.25 1997.7 1486.25 Q1991.89 1486.25 1988.81 1481.67 Q1985.75 1477.06 1985.75 1468.33 Q1985.75 1459.58 1988.81 1455 Q1991.89 1450.39 1997.7 1450.39 Z\" fill=\"#000000\" fill-rule=\"nonzero\" fill-opacity=\"1\" /><path clip-path=\"url(#clip880)\" d=\"M1200.39 1520.52 L1206.82 1520.52 L1206.82 1568.04 L1200.39 1568.04 L1200.39 1520.52 Z\" fill=\"#000000\" fill-rule=\"nonzero\" fill-opacity=\"1\" /><path clip-path=\"url(#clip880)\" d=\"M1242.82 1537.81 L1242.82 1518.52 L1248.68 1518.52 L1248.68 1568.04 L1242.82 1568.04 L1242.82 1562.7 Q1240.97 1565.88 1238.14 1567.44 Q1235.34 1568.97 1231.39 1568.97 Q1224.93 1568.97 1220.86 1563.81 Q1216.82 1558.65 1216.82 1550.25 Q1216.82 1541.85 1220.86 1536.69 Q1224.93 1531.54 1231.39 1531.54 Q1235.34 1531.54 1238.14 1533.1 Q1240.97 1534.62 1242.82 1537.81 M1222.86 1550.25 Q1222.86 1556.71 1225.51 1560.4 Q1228.18 1564.07 1232.83 1564.07 Q1237.47 1564.07 1240.15 1560.4 Q1242.82 1556.71 1242.82 1550.25 Q1242.82 1543.79 1240.15 1540.13 Q1237.47 1536.44 1232.83 1536.44 Q1228.18 1536.44 1225.51 1540.13 Q1222.86 1543.79 1222.86 1550.25 Z\" fill=\"#000000\" fill-rule=\"nonzero\" fill-opacity=\"1\" /><path clip-path=\"url(#clip880)\" d=\"M1276.94 1550.12 Q1269.84 1550.12 1267.11 1551.75 Q1264.37 1553.37 1264.37 1557.29 Q1264.37 1560.4 1266.41 1562.25 Q1268.47 1564.07 1272.01 1564.07 Q1276.88 1564.07 1279.81 1560.63 Q1282.77 1557.16 1282.77 1551.43 L1282.77 1550.12 L1276.94 1550.12 M1288.62 1547.71 L1288.62 1568.04 L1282.77 1568.04 L1282.77 1562.63 Q1280.76 1565.88 1277.77 1567.44 Q1274.78 1568.97 1270.45 1568.97 Q1264.97 1568.97 1261.73 1565.91 Q1258.51 1562.82 1258.51 1557.67 Q1258.51 1551.65 1262.52 1548.6 Q1266.56 1545.54 1274.55 1545.54 L1282.77 1545.54 L1282.77 1544.97 Q1282.77 1540.93 1280.09 1538.73 Q1277.45 1536.5 1272.64 1536.5 Q1269.59 1536.5 1266.69 1537.23 Q1263.8 1537.97 1261.12 1539.43 L1261.12 1534.02 Q1264.34 1532.78 1267.36 1532.17 Q1270.38 1531.54 1273.25 1531.54 Q1280.98 1531.54 1284.8 1535.55 Q1288.62 1539.56 1288.62 1547.71 Z\" fill=\"#000000\" fill-rule=\"nonzero\" fill-opacity=\"1\" /><path clip-path=\"url(#clip880)\" d=\"M1324.14 1537.81 L1324.14 1518.52 L1330 1518.52 L1330 1568.04 L1324.14 1568.04 L1324.14 1562.7 Q1322.3 1565.88 1319.46 1567.44 Q1316.66 1568.97 1312.72 1568.97 Q1306.25 1568.97 1302.18 1563.81 Q1298.14 1558.65 1298.14 1550.25 Q1298.14 1541.85 1302.18 1536.69 Q1306.25 1531.54 1312.72 1531.54 Q1316.66 1531.54 1319.46 1533.1 Q1322.3 1534.62 1324.14 1537.81 M1304.19 1550.25 Q1304.19 1556.71 1306.83 1560.4 Q1309.5 1564.07 1314.15 1564.07 Q1318.79 1564.07 1321.47 1560.4 Q1324.14 1556.71 1324.14 1550.25 Q1324.14 1543.79 1321.47 1540.13 Q1318.79 1536.44 1314.15 1536.44 Q1309.5 1536.44 1306.83 1540.13 Q1304.19 1543.79 1304.19 1550.25 Z\" fill=\"#000000\" fill-rule=\"nonzero\" fill-opacity=\"1\" /><path clip-path=\"url(#clip880)\" d=\"M1372.55 1548.76 L1372.55 1551.62 L1345.63 1551.62 Q1346.01 1557.67 1349.25 1560.85 Q1352.53 1564 1358.36 1564 Q1361.73 1564 1364.88 1563.17 Q1368.07 1562.35 1371.18 1560.69 L1371.18 1566.23 Q1368.03 1567.57 1364.72 1568.27 Q1361.41 1568.97 1358.01 1568.97 Q1349.48 1568.97 1344.48 1564 Q1339.52 1559.04 1339.52 1550.57 Q1339.52 1541.82 1344.23 1536.69 Q1348.97 1531.54 1356.99 1531.54 Q1364.18 1531.54 1368.35 1536.18 Q1372.55 1540.8 1372.55 1548.76 M1366.7 1547.04 Q1366.63 1542.23 1363.99 1539.37 Q1361.38 1536.5 1357.05 1536.5 Q1352.15 1536.5 1349.19 1539.27 Q1346.26 1542.04 1345.82 1547.07 L1366.7 1547.04 Z\" fill=\"#000000\" fill-rule=\"nonzero\" fill-opacity=\"1\" /><polyline clip-path=\"url(#clip882)\" style=\"stroke:#000000; stroke-linecap:round; stroke-linejoin:round; stroke-width:2; stroke-opacity:0.1; fill:none\" points=\"220.19,1384.24 2352.76,1384.24 \"/>\n<polyline clip-path=\"url(#clip882)\" style=\"stroke:#000000; stroke-linecap:round; stroke-linejoin:round; stroke-width:2; stroke-opacity:0.1; fill:none\" points=\"220.19,1113.81 2352.76,1113.81 \"/>\n<polyline clip-path=\"url(#clip882)\" style=\"stroke:#000000; stroke-linecap:round; stroke-linejoin:round; stroke-width:2; stroke-opacity:0.1; fill:none\" points=\"220.19,843.383 2352.76,843.383 \"/>\n<polyline clip-path=\"url(#clip882)\" style=\"stroke:#000000; stroke-linecap:round; stroke-linejoin:round; stroke-width:2; stroke-opacity:0.1; fill:none\" points=\"220.19,572.955 2352.76,572.955 \"/>\n<polyline clip-path=\"url(#clip882)\" style=\"stroke:#000000; stroke-linecap:round; stroke-linejoin:round; stroke-width:2; stroke-opacity:0.1; fill:none\" points=\"220.19,302.528 2352.76,302.528 \"/>\n<polyline clip-path=\"url(#clip880)\" style=\"stroke:#000000; stroke-linecap:round; stroke-linejoin:round; stroke-width:4; stroke-opacity:1; fill:none\" points=\"220.19,1423.18 220.19,47.2441 \"/>\n<polyline clip-path=\"url(#clip880)\" style=\"stroke:#000000; stroke-linecap:round; stroke-linejoin:round; stroke-width:4; stroke-opacity:1; fill:none\" points=\"220.19,1384.24 239.088,1384.24 \"/>\n<polyline clip-path=\"url(#clip880)\" style=\"stroke:#000000; stroke-linecap:round; stroke-linejoin:round; stroke-width:4; stroke-opacity:1; fill:none\" points=\"220.19,1113.81 239.088,1113.81 \"/>\n<polyline clip-path=\"url(#clip880)\" style=\"stroke:#000000; stroke-linecap:round; stroke-linejoin:round; stroke-width:4; stroke-opacity:1; fill:none\" points=\"220.19,843.383 239.088,843.383 \"/>\n<polyline clip-path=\"url(#clip880)\" style=\"stroke:#000000; stroke-linecap:round; stroke-linejoin:round; stroke-width:4; stroke-opacity:1; fill:none\" points=\"220.19,572.955 239.088,572.955 \"/>\n<polyline clip-path=\"url(#clip880)\" style=\"stroke:#000000; stroke-linecap:round; stroke-linejoin:round; stroke-width:4; stroke-opacity:1; fill:none\" points=\"220.19,302.528 239.088,302.528 \"/>\n<path clip-path=\"url(#clip880)\" d=\"M122.038 1397.58 L138.357 1397.58 L138.357 1401.52 L116.413 1401.52 L116.413 1397.58 Q119.075 1394.83 123.658 1390.2 Q128.265 1385.55 129.445 1384.2 Q131.691 1381.68 132.57 1379.94 Q133.473 1378.19 133.473 1376.5 Q133.473 1373.74 131.529 1372 Q129.607 1370.27 126.505 1370.27 Q124.306 1370.27 121.853 1371.03 Q119.422 1371.8 116.644 1373.35 L116.644 1368.62 Q119.468 1367.49 121.922 1366.91 Q124.376 1366.33 126.413 1366.33 Q131.783 1366.33 134.978 1369.02 Q138.172 1371.7 138.172 1376.19 Q138.172 1378.32 137.362 1380.25 Q136.575 1382.14 134.468 1384.74 Q133.89 1385.41 130.788 1388.62 Q127.686 1391.82 122.038 1397.58 Z\" fill=\"#000000\" fill-rule=\"nonzero\" fill-opacity=\"1\" /><path clip-path=\"url(#clip880)\" d=\"M148.172 1395.64 L153.056 1395.64 L153.056 1401.52 L148.172 1401.52 L148.172 1395.64 Z\" fill=\"#000000\" fill-rule=\"nonzero\" fill-opacity=\"1\" /><path clip-path=\"url(#clip880)\" d=\"M163.288 1366.96 L181.644 1366.96 L181.644 1370.89 L167.57 1370.89 L167.57 1379.37 Q168.589 1379.02 169.607 1378.86 Q170.626 1378.67 171.644 1378.67 Q177.431 1378.67 180.811 1381.84 Q184.19 1385.01 184.19 1390.43 Q184.19 1396.01 180.718 1399.11 Q177.246 1402.19 170.927 1402.19 Q168.751 1402.19 166.482 1401.82 Q164.237 1401.45 161.829 1400.71 L161.829 1396.01 Q163.913 1397.14 166.135 1397.7 Q168.357 1398.25 170.834 1398.25 Q174.839 1398.25 177.176 1396.15 Q179.514 1394.04 179.514 1390.43 Q179.514 1386.82 177.176 1384.71 Q174.839 1382.61 170.834 1382.61 Q168.959 1382.61 167.084 1383.02 Q165.232 1383.44 163.288 1384.32 L163.288 1366.96 Z\" fill=\"#000000\" fill-rule=\"nonzero\" fill-opacity=\"1\" /><path clip-path=\"url(#clip880)\" d=\"M131.181 1112.46 Q134.538 1113.17 136.413 1115.44 Q138.311 1117.71 138.311 1121.04 Q138.311 1126.16 134.792 1128.96 Q131.274 1131.76 124.793 1131.76 Q122.617 1131.76 120.302 1131.32 Q118.01 1130.91 115.556 1130.05 L115.556 1125.54 Q117.501 1126.67 119.816 1127.25 Q122.13 1127.83 124.654 1127.83 Q129.052 1127.83 131.343 1126.09 Q133.658 1124.35 133.658 1121.04 Q133.658 1117.99 131.505 1116.28 Q129.376 1114.54 125.556 1114.54 L121.529 1114.54 L121.529 1110.7 L125.742 1110.7 Q129.191 1110.7 131.019 1109.33 Q132.848 1107.94 132.848 1105.35 Q132.848 1102.69 130.95 1101.28 Q129.075 1099.84 125.556 1099.84 Q123.635 1099.84 121.436 1100.26 Q119.237 1100.67 116.598 1101.55 L116.598 1097.39 Q119.26 1096.65 121.575 1096.28 Q123.913 1095.91 125.973 1095.91 Q131.297 1095.91 134.399 1098.34 Q137.501 1100.74 137.501 1104.86 Q137.501 1107.73 135.857 1109.73 Q134.214 1111.69 131.181 1112.46 Z\" fill=\"#000000\" fill-rule=\"nonzero\" fill-opacity=\"1\" /><path clip-path=\"url(#clip880)\" d=\"M147.177 1125.21 L152.061 1125.21 L152.061 1131.09 L147.177 1131.09 L147.177 1125.21 Z\" fill=\"#000000\" fill-rule=\"nonzero\" fill-opacity=\"1\" /><path clip-path=\"url(#clip880)\" d=\"M172.246 1099.61 Q168.635 1099.61 166.806 1103.17 Q165.001 1106.72 165.001 1113.85 Q165.001 1120.95 166.806 1124.52 Q168.635 1128.06 172.246 1128.06 Q175.88 1128.06 177.686 1124.52 Q179.514 1120.95 179.514 1113.85 Q179.514 1106.72 177.686 1103.17 Q175.88 1099.61 172.246 1099.61 M172.246 1095.91 Q178.056 1095.91 181.112 1100.51 Q184.19 1105.1 184.19 1113.85 Q184.19 1122.57 181.112 1127.18 Q178.056 1131.76 172.246 1131.76 Q166.436 1131.76 163.357 1127.18 Q160.302 1122.57 160.302 1113.85 Q160.302 1105.1 163.357 1100.51 Q166.436 1095.91 172.246 1095.91 Z\" fill=\"#000000\" fill-rule=\"nonzero\" fill-opacity=\"1\" /><path clip-path=\"url(#clip880)\" d=\"M132.177 842.029 Q135.533 842.746 137.408 845.015 Q139.306 847.283 139.306 850.617 Q139.306 855.732 135.788 858.533 Q132.269 861.334 125.788 861.334 Q123.612 861.334 121.297 860.894 Q119.006 860.478 116.552 859.621 L116.552 855.107 Q118.496 856.242 120.811 856.82 Q123.126 857.399 125.649 857.399 Q130.047 857.399 132.339 855.663 Q134.654 853.927 134.654 850.617 Q134.654 847.561 132.501 845.848 Q130.371 844.112 126.552 844.112 L122.524 844.112 L122.524 840.27 L126.737 840.27 Q130.186 840.27 132.015 838.904 Q133.843 837.515 133.843 834.922 Q133.843 832.26 131.945 830.848 Q130.07 829.413 126.552 829.413 Q124.63 829.413 122.431 829.83 Q120.232 830.247 117.593 831.126 L117.593 826.959 Q120.255 826.219 122.57 825.848 Q124.908 825.478 126.968 825.478 Q132.292 825.478 135.394 827.909 Q138.496 830.316 138.496 834.436 Q138.496 837.307 136.853 839.297 Q135.209 841.265 132.177 842.029 Z\" fill=\"#000000\" fill-rule=\"nonzero\" fill-opacity=\"1\" /><path clip-path=\"url(#clip880)\" d=\"M148.172 854.783 L153.056 854.783 L153.056 860.663 L148.172 860.663 L148.172 854.783 Z\" fill=\"#000000\" fill-rule=\"nonzero\" fill-opacity=\"1\" /><path clip-path=\"url(#clip880)\" d=\"M163.288 826.103 L181.644 826.103 L181.644 830.038 L167.57 830.038 L167.57 838.51 Q168.589 838.163 169.607 838.001 Q170.626 837.816 171.644 837.816 Q177.431 837.816 180.811 840.987 Q184.19 844.158 184.19 849.575 Q184.19 855.154 180.718 858.256 Q177.246 861.334 170.927 861.334 Q168.751 861.334 166.482 860.964 Q164.237 860.594 161.829 859.853 L161.829 855.154 Q163.913 856.288 166.135 856.844 Q168.357 857.399 170.834 857.399 Q174.839 857.399 177.176 855.293 Q179.514 853.186 179.514 849.575 Q179.514 845.964 177.176 843.858 Q174.839 841.751 170.834 841.751 Q168.959 841.751 167.084 842.168 Q165.232 842.584 163.288 843.464 L163.288 826.103 Z\" fill=\"#000000\" fill-rule=\"nonzero\" fill-opacity=\"1\" /><path clip-path=\"url(#clip880)\" d=\"M129.862 559.749 L118.056 578.198 L129.862 578.198 L129.862 559.749 M128.635 555.675 L134.515 555.675 L134.515 578.198 L139.445 578.198 L139.445 582.087 L134.515 582.087 L134.515 590.235 L129.862 590.235 L129.862 582.087 L114.26 582.087 L114.26 577.573 L128.635 555.675 Z\" fill=\"#000000\" fill-rule=\"nonzero\" fill-opacity=\"1\" /><path clip-path=\"url(#clip880)\" d=\"M147.177 584.356 L152.061 584.356 L152.061 590.235 L147.177 590.235 L147.177 584.356 Z\" fill=\"#000000\" fill-rule=\"nonzero\" fill-opacity=\"1\" /><path clip-path=\"url(#clip880)\" d=\"M172.246 558.754 Q168.635 558.754 166.806 562.319 Q165.001 565.861 165.001 572.99 Q165.001 580.097 166.806 583.661 Q168.635 587.203 172.246 587.203 Q175.88 587.203 177.686 583.661 Q179.514 580.097 179.514 572.99 Q179.514 565.861 177.686 562.319 Q175.88 558.754 172.246 558.754 M172.246 555.05 Q178.056 555.05 181.112 559.657 Q184.19 564.24 184.19 572.99 Q184.19 581.717 181.112 586.323 Q178.056 590.907 172.246 590.907 Q166.436 590.907 163.357 586.323 Q160.302 581.717 160.302 572.99 Q160.302 564.24 163.357 559.657 Q166.436 555.05 172.246 555.05 Z\" fill=\"#000000\" fill-rule=\"nonzero\" fill-opacity=\"1\" /><path clip-path=\"url(#clip880)\" d=\"M130.857 289.322 L119.052 307.771 L130.857 307.771 L130.857 289.322 M129.63 285.248 L135.51 285.248 L135.51 307.771 L140.441 307.771 L140.441 311.66 L135.51 311.66 L135.51 319.808 L130.857 319.808 L130.857 311.66 L115.256 311.66 L115.256 307.146 L129.63 285.248 Z\" fill=\"#000000\" fill-rule=\"nonzero\" fill-opacity=\"1\" /><path clip-path=\"url(#clip880)\" d=\"M148.172 313.928 L153.056 313.928 L153.056 319.808 L148.172 319.808 L148.172 313.928 Z\" fill=\"#000000\" fill-rule=\"nonzero\" fill-opacity=\"1\" /><path clip-path=\"url(#clip880)\" d=\"M163.288 285.248 L181.644 285.248 L181.644 289.183 L167.57 289.183 L167.57 297.655 Q168.589 297.308 169.607 297.146 Q170.626 296.961 171.644 296.961 Q177.431 296.961 180.811 300.132 Q184.19 303.303 184.19 308.72 Q184.19 314.299 180.718 317.4 Q177.246 320.479 170.927 320.479 Q168.751 320.479 166.482 320.109 Q164.237 319.738 161.829 318.998 L161.829 314.299 Q163.913 315.433 166.135 315.988 Q168.357 316.544 170.834 316.544 Q174.839 316.544 177.176 314.437 Q179.514 312.331 179.514 308.72 Q179.514 305.109 177.176 303.002 Q174.839 300.896 170.834 300.896 Q168.959 300.896 167.084 301.312 Q165.232 301.729 163.288 302.609 L163.288 285.248 Z\" fill=\"#000000\" fill-rule=\"nonzero\" fill-opacity=\"1\" /><path clip-path=\"url(#clip880)\" d=\"M22.818 1097.18 L46.4666 1105.9 L46.4666 1088.43 L22.818 1097.18 M16.4842 1100.81 L16.4842 1093.52 L64.0042 1075.41 L64.0042 1082.1 L51.8138 1086.42 L51.8138 1107.84 L64.0042 1112.17 L64.0042 1118.95 L16.4842 1100.81 Z\" fill=\"#000000\" fill-rule=\"nonzero\" fill-opacity=\"1\" /><path clip-path=\"url(#clip880)\" d=\"M28.3562 1076.75 L28.3562 1070.54 L58.275 1059.4 L28.3562 1048.26 L28.3562 1042.05 L64.0042 1055.42 L64.0042 1063.38 L28.3562 1076.75 Z\" fill=\"#000000\" fill-rule=\"nonzero\" fill-opacity=\"1\" /><path clip-path=\"url(#clip880)\" d=\"M46.0847 1017.77 Q46.0847 1024.87 47.7079 1027.6 Q49.3312 1030.34 53.2461 1030.34 Q56.3653 1030.34 58.2114 1028.31 Q60.0256 1026.24 60.0256 1022.7 Q60.0256 1017.83 56.5881 1014.91 Q53.1188 1011.95 47.3897 1011.95 L46.0847 1011.95 L46.0847 1017.77 M43.6657 1006.09 L64.0042 1006.09 L64.0042 1011.95 L58.5933 1011.95 Q61.8398 1013.95 63.3994 1016.94 Q64.9272 1019.93 64.9272 1024.26 Q64.9272 1029.74 61.8716 1032.98 Q58.7843 1036.2 53.6281 1036.2 Q47.6125 1036.2 44.5569 1032.19 Q41.5014 1028.15 41.5014 1020.16 L41.5014 1011.95 L40.9285 1011.95 Q36.8862 1011.95 34.6901 1014.62 Q32.4621 1017.26 32.4621 1022.07 Q32.4621 1025.12 33.1941 1028.02 Q33.9262 1030.91 35.3903 1033.59 L29.9795 1033.59 Q28.7381 1030.37 28.1334 1027.35 Q27.4968 1024.33 27.4968 1021.46 Q27.4968 1013.73 31.5072 1009.91 Q35.5176 1006.09 43.6657 1006.09 Z\" fill=\"#000000\" fill-rule=\"nonzero\" fill-opacity=\"1\" /><path clip-path=\"url(#clip880)\" d=\"M14.479 994.026 L14.479 988.169 L64.0042 988.169 L64.0042 994.026 L14.479 994.026 Z\" fill=\"#000000\" fill-rule=\"nonzero\" fill-opacity=\"1\" /><path clip-path=\"url(#clip880)\" d=\"M28.3562 975.915 L28.3562 970.059 L64.0042 970.059 L64.0042 975.915 L28.3562 975.915 M14.479 975.915 L14.479 970.059 L21.895 970.059 L21.895 975.915 L14.479 975.915 Z\" fill=\"#000000\" fill-rule=\"nonzero\" fill-opacity=\"1\" /><path clip-path=\"url(#clip880)\" d=\"M46.0847 941.604 Q46.0847 948.702 47.7079 951.439 Q49.3312 954.176 53.2461 954.176 Q56.3653 954.176 58.2114 952.139 Q60.0256 950.07 60.0256 946.538 Q60.0256 941.668 56.5881 938.74 Q53.1188 935.779 47.3897 935.779 L46.0847 935.779 L46.0847 941.604 M43.6657 929.923 L64.0042 929.923 L64.0042 935.779 L58.5933 935.779 Q61.8398 937.785 63.3994 940.777 Q64.9272 943.768 64.9272 948.097 Q64.9272 953.572 61.8716 956.818 Q58.7843 960.033 53.6281 960.033 Q47.6125 960.033 44.5569 956.022 Q41.5014 951.98 41.5014 943.991 L41.5014 935.779 L40.9285 935.779 Q36.8862 935.779 34.6901 938.453 Q32.4621 941.095 32.4621 945.901 Q32.4621 948.956 33.1941 951.853 Q33.9262 954.749 35.3903 957.423 L29.9795 957.423 Q28.7381 954.208 28.1334 951.184 Q27.4968 948.161 27.4968 945.296 Q27.4968 937.562 31.5072 933.742 Q35.5176 929.923 43.6657 929.923 Z\" fill=\"#000000\" fill-rule=\"nonzero\" fill-opacity=\"1\" /><path clip-path=\"url(#clip880)\" d=\"M29.7248 892.206 L35.1993 892.206 Q33.8307 894.689 33.1623 897.203 Q32.4621 899.686 32.4621 902.232 Q32.4621 907.93 36.0905 911.081 Q39.6872 914.232 46.212 914.232 Q52.7369 914.232 56.3653 911.081 Q59.9619 907.93 59.9619 902.232 Q59.9619 899.686 59.2935 897.203 Q58.5933 894.689 57.2247 892.206 L62.6355 892.206 Q63.7814 894.657 64.3543 897.299 Q64.9272 899.909 64.9272 902.869 Q64.9272 910.921 59.8664 915.664 Q54.8057 920.406 46.212 920.406 Q37.491 920.406 32.4939 915.632 Q27.4968 910.826 27.4968 902.487 Q27.4968 899.781 28.0697 897.203 Q28.6108 894.625 29.7248 892.206 M64.0042 900.482 Q65.9775 898.731 67.6326 897.872 Q69.3195 897.012 70.8473 897.012 Q73.68 897.012 75.1123 898.922 Q76.5764 900.832 76.5764 904.588 Q76.5764 906.052 76.3855 907.452 Q76.1945 908.821 75.8125 910.189 L71.643 910.189 Q72.1841 909.107 72.4069 907.93 Q72.6615 906.752 72.6615 905.256 Q72.6615 903.378 71.8976 902.423 Q71.1337 901.468 69.6696 901.468 Q68.7148 901.468 67.3143 902.169 Q65.9457 902.837 64.0042 904.269 L64.0042 900.482 Z\" fill=\"#000000\" fill-rule=\"nonzero\" fill-opacity=\"1\" /><path clip-path=\"url(#clip880)\" d=\"M46.0847 865.82 Q46.0847 872.918 47.7079 875.655 Q49.3312 878.393 53.2461 878.393 Q56.3653 878.393 58.2114 876.356 Q60.0256 874.287 60.0256 870.754 Q60.0256 865.884 56.5881 862.956 Q53.1188 859.996 47.3897 859.996 L46.0847 859.996 L46.0847 865.82 M43.6657 854.139 L64.0042 854.139 L64.0042 859.996 L58.5933 859.996 Q61.8398 862.001 63.3994 864.993 Q64.9272 867.985 64.9272 872.313 Q64.9272 877.788 61.8716 881.034 Q58.7843 884.249 53.6281 884.249 Q47.6125 884.249 44.5569 880.239 Q41.5014 876.196 41.5014 868.207 L41.5014 859.996 L40.9285 859.996 Q36.8862 859.996 34.6901 862.669 Q32.4621 865.311 32.4621 870.117 Q32.4621 873.173 33.1941 876.069 Q33.9262 878.966 35.3903 881.639 L29.9795 881.639 Q28.7381 878.424 28.1334 875.401 Q27.4968 872.377 27.4968 869.512 Q27.4968 861.778 31.5072 857.959 Q35.5176 854.139 43.6657 854.139 M20.3991 869.385 L18.6485 871.199 Q18.0119 871.9 17.7255 872.441 Q17.4072 872.95 17.4072 873.364 Q17.4072 874.573 18.5848 875.146 Q19.7307 875.719 22.3406 875.783 L22.3406 879.761 Q18.0438 879.698 15.7203 878.074 Q13.365 876.451 13.365 873.555 Q13.365 872.345 13.8106 871.327 Q14.2562 870.308 15.3065 869.131 L17.0571 867.316 Q17.6936 866.616 18.0119 866.107 Q18.2984 865.566 18.2984 865.152 Q18.2984 863.942 17.1526 863.37 Q15.9749 862.797 13.365 862.733 L13.365 858.754 Q17.6618 858.818 20.0171 860.441 Q22.3406 862.065 22.3406 864.961 Q22.3406 866.17 21.895 867.189 Q21.4494 868.207 20.3991 869.385 Z\" fill=\"#000000\" fill-rule=\"nonzero\" fill-opacity=\"1\" /><path clip-path=\"url(#clip880)\" d=\"M32.4621 828.263 Q32.4621 832.973 36.1542 835.711 Q39.8145 838.448 46.212 838.448 Q52.6095 838.448 56.3017 835.742 Q59.9619 833.005 59.9619 828.263 Q59.9619 823.584 56.2698 820.847 Q52.5777 818.109 46.212 818.109 Q39.8781 818.109 36.186 820.847 Q32.4621 823.584 32.4621 828.263 M27.4968 828.263 Q27.4968 820.624 32.4621 816.263 Q37.4273 811.903 46.212 811.903 Q54.9649 811.903 59.9619 816.263 Q64.9272 820.624 64.9272 828.263 Q64.9272 835.933 59.9619 840.294 Q54.9649 844.623 46.212 844.623 Q37.4273 844.623 32.4621 840.294 Q27.4968 835.933 27.4968 828.263 Z\" fill=\"#000000\" fill-rule=\"nonzero\" fill-opacity=\"1\" /><path clip-path=\"url(#clip880)\" d=\"M33.7671 758.017 L14.479 758.017 L14.479 752.161 L64.0042 752.161 L64.0042 758.017 L58.657 758.017 Q61.8398 759.863 63.3994 762.696 Q64.9272 765.497 64.9272 769.444 Q64.9272 775.905 59.771 779.979 Q54.6147 784.021 46.212 784.021 Q37.8093 784.021 32.6531 779.979 Q27.4968 775.905 27.4968 769.444 Q27.4968 765.497 29.0564 762.696 Q30.5842 759.863 33.7671 758.017 M46.212 777.974 Q52.6732 777.974 56.3653 775.332 Q60.0256 772.658 60.0256 768.011 Q60.0256 763.364 56.3653 760.691 Q52.6732 758.017 46.212 758.017 Q39.7508 758.017 36.0905 760.691 Q32.3984 763.364 32.3984 768.011 Q32.3984 772.658 36.0905 775.332 Q39.7508 777.974 46.212 777.974 Z\" fill=\"#000000\" fill-rule=\"nonzero\" fill-opacity=\"1\" /><path clip-path=\"url(#clip880)\" d=\"M44.7161 709.606 L47.5806 709.606 L47.5806 736.533 Q53.6281 736.151 56.8109 732.904 Q59.9619 729.626 59.9619 723.801 Q59.9619 720.428 59.1344 717.277 Q58.3069 714.094 56.6518 710.975 L62.1899 710.975 Q63.5267 714.126 64.227 717.436 Q64.9272 720.746 64.9272 724.152 Q64.9272 732.682 59.9619 737.679 Q54.9967 742.644 46.5303 742.644 Q37.7774 742.644 32.6531 737.933 Q27.4968 733.191 27.4968 725.17 Q27.4968 717.977 32.1438 713.807 Q36.7589 709.606 44.7161 709.606 M42.9973 715.462 Q38.1912 715.526 35.3266 718.168 Q32.4621 720.778 32.4621 725.106 Q32.4621 730.008 35.2312 732.968 Q38.0002 735.896 43.0292 736.342 L42.9973 715.462 Z\" fill=\"#000000\" fill-rule=\"nonzero\" fill-opacity=\"1\" /><path clip-path=\"url(#clip880)\" d=\"M18.0438 650.532 L24.314 650.532 Q22.5634 654.192 21.704 657.439 Q20.8447 660.685 20.8447 663.709 Q20.8447 668.961 22.8817 671.825 Q24.9187 674.658 28.6745 674.658 Q31.8255 674.658 33.4488 672.78 Q35.0402 670.871 36.0269 665.587 L36.8226 661.704 Q38.1912 654.511 41.6605 651.105 Q45.098 647.668 50.8908 647.668 Q57.7976 647.668 61.3624 652.315 Q64.9272 656.93 64.9272 665.874 Q64.9272 669.247 64.1633 673.067 Q63.3994 676.854 61.9035 680.928 L55.2831 680.928 Q57.4793 677.013 58.5933 673.258 Q59.7073 669.502 59.7073 665.874 Q59.7073 660.367 57.543 657.375 Q55.3786 654.383 51.3682 654.383 Q47.8671 654.383 45.8937 656.548 Q43.9204 658.68 42.9337 663.582 L42.1698 667.497 Q40.7375 674.69 37.682 677.905 Q34.6264 681.119 29.1837 681.119 Q22.8817 681.119 19.2532 676.695 Q15.6248 672.239 15.6248 664.441 Q15.6248 661.099 16.2295 657.63 Q16.8343 654.161 18.0438 650.532 Z\" fill=\"#000000\" fill-rule=\"nonzero\" fill-opacity=\"1\" /><path clip-path=\"url(#clip880)\" d=\"M46.0847 621.696 Q46.0847 628.793 47.7079 631.531 Q49.3312 634.268 53.2461 634.268 Q56.3653 634.268 58.2114 632.231 Q60.0256 630.162 60.0256 626.629 Q60.0256 621.759 56.5881 618.831 Q53.1188 615.871 47.3897 615.871 L46.0847 615.871 L46.0847 621.696 M43.6657 610.014 L64.0042 610.014 L64.0042 615.871 L58.5933 615.871 Q61.8398 617.876 63.3994 620.868 Q64.9272 623.86 64.9272 628.189 Q64.9272 633.663 61.8716 636.91 Q58.7843 640.124 53.6281 640.124 Q47.6125 640.124 44.5569 636.114 Q41.5014 632.072 41.5014 624.083 L41.5014 615.871 L40.9285 615.871 Q36.8862 615.871 34.6901 618.544 Q32.4621 621.186 32.4621 625.992 Q32.4621 629.048 33.1941 631.944 Q33.9262 634.841 35.3903 637.514 L29.9795 637.514 Q28.7381 634.3 28.1334 631.276 Q27.4968 628.252 27.4968 625.388 Q27.4968 617.653 31.5072 613.834 Q35.5176 610.014 43.6657 610.014 Z\" fill=\"#000000\" fill-rule=\"nonzero\" fill-opacity=\"1\" /><path clip-path=\"url(#clip880)\" d=\"M18.2347 592.159 L28.3562 592.159 L28.3562 580.096 L32.9077 580.096 L32.9077 592.159 L52.2594 592.159 Q56.6199 592.159 57.8613 590.981 Q59.1026 589.771 59.1026 586.111 L59.1026 580.096 L64.0042 580.096 L64.0042 586.111 Q64.0042 592.891 61.4897 595.469 Q58.9434 598.047 52.2594 598.047 L32.9077 598.047 L32.9077 602.344 L28.3562 602.344 L28.3562 598.047 L18.2347 598.047 L18.2347 592.159 Z\" fill=\"#000000\" fill-rule=\"nonzero\" fill-opacity=\"1\" /><path clip-path=\"url(#clip880)\" d=\"M28.3562 572.393 L28.3562 566.537 L64.0042 566.537 L64.0042 572.393 L28.3562 572.393 M14.479 572.393 L14.479 566.537 L21.895 566.537 L21.895 572.393 L14.479 572.393 Z\" fill=\"#000000\" fill-rule=\"nonzero\" fill-opacity=\"1\" /><path clip-path=\"url(#clip880)\" d=\"M29.4065 531.557 L34.9447 531.557 Q33.6716 534.04 33.035 536.713 Q32.3984 539.387 32.3984 542.251 Q32.3984 546.612 33.7352 548.808 Q35.072 550.973 37.7456 550.973 Q39.7826 550.973 40.9603 549.413 Q42.1061 547.853 43.1565 543.143 L43.6021 541.137 Q44.9389 534.899 47.3897 532.289 Q49.8086 529.647 54.1691 529.647 Q59.1344 529.647 62.0308 533.594 Q64.9272 537.509 64.9272 544.384 Q64.9272 547.249 64.3543 550.368 Q63.8132 553.455 62.6992 556.893 L56.6518 556.893 Q58.3387 553.646 59.198 550.495 Q60.0256 547.344 60.0256 544.257 Q60.0256 540.119 58.6251 537.891 Q57.1929 535.663 54.6147 535.663 Q52.2276 535.663 50.9545 537.286 Q49.6813 538.878 48.5037 544.32 L48.0262 546.357 Q46.8804 551.8 44.5251 554.219 Q42.138 556.638 38.0002 556.638 Q32.9713 556.638 30.2341 553.073 Q27.4968 549.508 27.4968 542.952 Q27.4968 539.705 27.9743 536.841 Q28.4517 533.976 29.4065 531.557 Z\" fill=\"#000000\" fill-rule=\"nonzero\" fill-opacity=\"1\" /><path clip-path=\"url(#clip880)\" d=\"M14.479 502.275 L19.3487 502.275 L19.3487 507.877 Q19.3487 511.028 20.6219 512.269 Q21.895 513.478 25.2052 513.478 L28.3562 513.478 L28.3562 503.834 L32.9077 503.834 L32.9077 513.478 L64.0042 513.478 L64.0042 519.367 L32.9077 519.367 L32.9077 524.969 L28.3562 524.969 L28.3562 519.367 L25.8736 519.367 Q19.9216 519.367 17.2162 516.598 Q14.479 513.829 14.479 507.813 L14.479 502.275 Z\" fill=\"#000000\" fill-rule=\"nonzero\" fill-opacity=\"1\" /><path clip-path=\"url(#clip880)\" d=\"M46.0847 481.173 Q46.0847 488.27 47.7079 491.008 Q49.3312 493.745 53.2461 493.745 Q56.3653 493.745 58.2114 491.708 Q60.0256 489.639 60.0256 486.106 Q60.0256 481.236 56.5881 478.308 Q53.1188 475.348 47.3897 475.348 L46.0847 475.348 L46.0847 481.173 M43.6657 469.491 L64.0042 469.491 L64.0042 475.348 L58.5933 475.348 Q61.8398 477.353 63.3994 480.345 Q64.9272 483.337 64.9272 487.666 Q64.9272 493.14 61.8716 496.387 Q58.7843 499.601 53.6281 499.601 Q47.6125 499.601 44.5569 495.591 Q41.5014 491.549 41.5014 483.56 L41.5014 475.348 L40.9285 475.348 Q36.8862 475.348 34.6901 478.022 Q32.4621 480.663 32.4621 485.469 Q32.4621 488.525 33.1941 491.421 Q33.9262 494.318 35.3903 496.991 L29.9795 496.991 Q28.7381 493.777 28.1334 490.753 Q27.4968 487.729 27.4968 484.865 Q27.4968 477.13 31.5072 473.311 Q35.5176 469.491 43.6657 469.491 Z\" fill=\"#000000\" fill-rule=\"nonzero\" fill-opacity=\"1\" /><path clip-path=\"url(#clip880)\" d=\"M29.7248 431.775 L35.1993 431.775 Q33.8307 434.257 33.1623 436.772 Q32.4621 439.254 32.4621 441.801 Q32.4621 447.498 36.0905 450.649 Q39.6872 453.8 46.212 453.8 Q52.7369 453.8 56.3653 450.649 Q59.9619 447.498 59.9619 441.801 Q59.9619 439.254 59.2935 436.772 Q58.5933 434.257 57.2247 431.775 L62.6355 431.775 Q63.7814 434.225 64.3543 436.867 Q64.9272 439.477 64.9272 442.437 Q64.9272 450.49 59.8664 455.232 Q54.8057 459.975 46.212 459.975 Q37.491 459.975 32.4939 455.2 Q27.4968 450.394 27.4968 442.055 Q27.4968 439.35 28.0697 436.772 Q28.6108 434.194 29.7248 431.775 M64.0042 440.05 Q65.9775 438.299 67.6326 437.44 Q69.3195 436.581 70.8473 436.581 Q73.68 436.581 75.1123 438.49 Q76.5764 440.4 76.5764 444.156 Q76.5764 445.62 76.3855 447.021 Q76.1945 448.389 75.8125 449.758 L71.643 449.758 Q72.1841 448.676 72.4069 447.498 Q72.6615 446.32 72.6615 444.824 Q72.6615 442.946 71.8976 441.992 Q71.1337 441.037 69.6696 441.037 Q68.7148 441.037 67.3143 441.737 Q65.9457 442.405 64.0042 443.838 L64.0042 440.05 Z\" fill=\"#000000\" fill-rule=\"nonzero\" fill-opacity=\"1\" /><path clip-path=\"url(#clip880)\" d=\"M46.0847 405.389 Q46.0847 412.487 47.7079 415.224 Q49.3312 417.961 53.2461 417.961 Q56.3653 417.961 58.2114 415.924 Q60.0256 413.855 60.0256 410.322 Q60.0256 405.452 56.5881 402.524 Q53.1188 399.564 47.3897 399.564 L46.0847 399.564 L46.0847 405.389 M43.6657 393.708 L64.0042 393.708 L64.0042 399.564 L58.5933 399.564 Q61.8398 401.569 63.3994 404.561 Q64.9272 407.553 64.9272 411.882 Q64.9272 417.356 61.8716 420.603 Q58.7843 423.818 53.6281 423.818 Q47.6125 423.818 44.5569 419.807 Q41.5014 415.765 41.5014 407.776 L41.5014 399.564 L40.9285 399.564 Q36.8862 399.564 34.6901 402.238 Q32.4621 404.88 32.4621 409.686 Q32.4621 412.741 33.1941 415.638 Q33.9262 418.534 35.3903 421.208 L29.9795 421.208 Q28.7381 417.993 28.1334 414.969 Q27.4968 411.945 27.4968 409.081 Q27.4968 401.347 31.5072 397.527 Q35.5176 393.708 43.6657 393.708 M20.3991 408.954 L18.6485 410.768 Q18.0119 411.468 17.7255 412.009 Q17.4072 412.518 17.4072 412.932 Q17.4072 414.142 18.5848 414.715 Q19.7307 415.287 22.3406 415.351 L22.3406 419.33 Q18.0438 419.266 15.7203 417.643 Q13.365 416.02 13.365 413.123 Q13.365 411.914 13.8106 410.895 Q14.2562 409.877 15.3065 408.699 L17.0571 406.885 Q17.6936 406.185 18.0119 405.675 Q18.2984 405.134 18.2984 404.72 Q18.2984 403.511 17.1526 402.938 Q15.9749 402.365 13.365 402.301 L13.365 398.323 Q17.6618 398.387 20.0171 400.01 Q22.3406 401.633 22.3406 404.529 Q22.3406 405.739 21.895 406.757 Q21.4494 407.776 20.3991 408.954 Z\" fill=\"#000000\" fill-rule=\"nonzero\" fill-opacity=\"1\" /><path clip-path=\"url(#clip880)\" d=\"M32.4621 367.831 Q32.4621 372.542 36.1542 375.279 Q39.8145 378.016 46.212 378.016 Q52.6095 378.016 56.3017 375.311 Q59.9619 372.574 59.9619 367.831 Q59.9619 363.152 56.2698 360.415 Q52.5777 357.678 46.212 357.678 Q39.8781 357.678 36.186 360.415 Q32.4621 363.152 32.4621 367.831 M27.4968 367.831 Q27.4968 360.192 32.4621 355.832 Q37.4273 351.471 46.212 351.471 Q54.9649 351.471 59.9619 355.832 Q64.9272 360.192 64.9272 367.831 Q64.9272 375.502 59.9619 379.862 Q54.9649 384.191 46.212 384.191 Q37.4273 384.191 32.4621 379.862 Q27.4968 375.502 27.4968 367.831 Z\" fill=\"#000000\" fill-rule=\"nonzero\" fill-opacity=\"1\" /><circle clip-path=\"url(#clip882)\" cx=\"590.062\" cy=\"302.528\" r=\"14.4\" fill=\"#009af9\" fill-rule=\"evenodd\" fill-opacity=\"1\" stroke=\"#000000\" stroke-opacity=\"1\" stroke-width=\"3.2\"/>\n<circle clip-path=\"url(#clip882)\" cx=\"1595.99\" cy=\"681.126\" r=\"14.4\" fill=\"#009af9\" fill-rule=\"evenodd\" fill-opacity=\"1\" stroke=\"#000000\" stroke-opacity=\"1\" stroke-width=\"3.2\"/>\n<circle clip-path=\"url(#clip882)\" cx=\"280.546\" cy=\"86.1857\" r=\"14.4\" fill=\"#009af9\" fill-rule=\"evenodd\" fill-opacity=\"1\" stroke=\"#000000\" stroke-opacity=\"1\" stroke-width=\"3.2\"/>\n<circle clip-path=\"url(#clip882)\" cx=\"2292.4\" cy=\"1384.24\" r=\"14.4\" fill=\"#009af9\" fill-rule=\"evenodd\" fill-opacity=\"1\" stroke=\"#000000\" stroke-opacity=\"1\" stroke-width=\"3.2\"/>\n<circle clip-path=\"url(#clip882)\" cx=\"1131.72\" cy=\"464.784\" r=\"14.4\" fill=\"#009af9\" fill-rule=\"evenodd\" fill-opacity=\"1\" stroke=\"#000000\" stroke-opacity=\"1\" stroke-width=\"3.2\"/>\n<path clip-path=\"url(#clip880)\" d=\"M1619.04 196.789 L2281.67 196.789 L2281.67 93.1086 L1619.04 93.1086  Z\" fill=\"#ffffff\" fill-rule=\"evenodd\" fill-opacity=\"1\"/>\n<polyline clip-path=\"url(#clip880)\" style=\"stroke:#000000; stroke-linecap:round; stroke-linejoin:round; stroke-width:4; stroke-opacity:1; fill:none\" points=\"1619.04,196.789 2281.67,196.789 2281.67,93.1086 1619.04,93.1086 1619.04,196.789 \"/>\n<circle clip-path=\"url(#clip880)\" cx=\"1713.82\" cy=\"144.949\" r=\"20.48\" fill=\"#009af9\" fill-rule=\"evenodd\" fill-opacity=\"1\" stroke=\"#000000\" stroke-opacity=\"1\" stroke-width=\"4.55111\"/>\n<path clip-path=\"url(#clip880)\" d=\"M1808.6 127.669 L1813.28 127.669 L1813.28 162.229 L1808.6 162.229 L1808.6 127.669 Z\" fill=\"#000000\" fill-rule=\"nonzero\" fill-opacity=\"1\" /><path clip-path=\"url(#clip880)\" d=\"M1839.46 140.238 L1839.46 126.21 L1843.72 126.21 L1843.72 162.229 L1839.46 162.229 L1839.46 158.34 Q1838.12 160.655 1836.06 161.789 Q1834.02 162.9 1831.15 162.9 Q1826.45 162.9 1823.49 159.15 Q1820.55 155.4 1820.55 149.289 Q1820.55 143.178 1823.49 139.428 Q1826.45 135.678 1831.15 135.678 Q1834.02 135.678 1836.06 136.812 Q1838.12 137.923 1839.46 140.238 M1824.95 149.289 Q1824.95 153.988 1826.87 156.673 Q1828.81 159.335 1832.19 159.335 Q1835.57 159.335 1837.51 156.673 Q1839.46 153.988 1839.46 149.289 Q1839.46 144.59 1837.51 141.928 Q1835.57 139.243 1832.19 139.243 Q1828.81 139.243 1826.87 141.928 Q1824.95 144.59 1824.95 149.289 Z\" fill=\"#000000\" fill-rule=\"nonzero\" fill-opacity=\"1\" /><path clip-path=\"url(#clip880)\" d=\"M1864.27 149.196 Q1859.11 149.196 1857.12 150.377 Q1855.13 151.557 1855.13 154.405 Q1855.13 156.673 1856.61 158.016 Q1858.12 159.335 1860.69 159.335 Q1864.23 159.335 1866.36 156.835 Q1868.51 154.312 1868.51 150.145 L1868.51 149.196 L1864.27 149.196 M1872.77 147.437 L1872.77 162.229 L1868.51 162.229 L1868.51 158.293 Q1867.05 160.655 1864.88 161.789 Q1862.7 162.9 1859.55 162.9 Q1855.57 162.9 1853.21 160.678 Q1850.87 158.432 1850.87 154.682 Q1850.87 150.307 1853.79 148.085 Q1856.73 145.863 1862.54 145.863 L1868.51 145.863 L1868.51 145.446 Q1868.51 142.507 1866.57 140.909 Q1864.64 139.289 1861.15 139.289 Q1858.93 139.289 1856.82 139.821 Q1854.71 140.354 1852.77 141.419 L1852.77 137.483 Q1855.11 136.581 1857.31 136.141 Q1859.51 135.678 1861.59 135.678 Q1867.21 135.678 1869.99 138.594 Q1872.77 141.511 1872.77 147.437 Z\" fill=\"#000000\" fill-rule=\"nonzero\" fill-opacity=\"1\" /><path clip-path=\"url(#clip880)\" d=\"M1898.6 140.238 L1898.6 126.21 L1902.86 126.21 L1902.86 162.229 L1898.6 162.229 L1898.6 158.34 Q1897.26 160.655 1895.2 161.789 Q1893.16 162.9 1890.29 162.9 Q1885.59 162.9 1882.63 159.15 Q1879.69 155.4 1879.69 149.289 Q1879.69 143.178 1882.63 139.428 Q1885.59 135.678 1890.29 135.678 Q1893.16 135.678 1895.2 136.812 Q1897.26 137.923 1898.6 140.238 M1884.09 149.289 Q1884.09 153.988 1886.01 156.673 Q1887.95 159.335 1891.33 159.335 Q1894.71 159.335 1896.66 156.673 Q1898.6 153.988 1898.6 149.289 Q1898.6 144.59 1896.66 141.928 Q1894.71 139.243 1891.33 139.243 Q1887.95 139.243 1886.01 141.928 Q1884.09 144.59 1884.09 149.289 Z\" fill=\"#000000\" fill-rule=\"nonzero\" fill-opacity=\"1\" /><path clip-path=\"url(#clip880)\" d=\"M1933.81 148.201 L1933.81 150.284 L1914.23 150.284 Q1914.5 154.682 1916.87 156.997 Q1919.25 159.289 1923.49 159.289 Q1925.94 159.289 1928.23 158.687 Q1930.55 158.085 1932.81 156.881 L1932.81 160.909 Q1930.52 161.881 1928.12 162.391 Q1925.71 162.9 1923.23 162.9 Q1917.03 162.9 1913.39 159.289 Q1909.78 155.678 1909.78 149.52 Q1909.78 143.155 1913.21 139.428 Q1916.66 135.678 1922.49 135.678 Q1927.72 135.678 1930.75 139.057 Q1933.81 142.414 1933.81 148.201 M1929.55 146.951 Q1929.5 143.456 1927.58 141.372 Q1925.69 139.289 1922.54 139.289 Q1918.97 139.289 1916.82 141.303 Q1914.69 143.317 1914.37 146.974 L1929.55 146.951 Z\" fill=\"#000000\" fill-rule=\"nonzero\" fill-opacity=\"1\" /><path clip-path=\"url(#clip880)\" d=\"M1952.81 136.303 L1957.33 136.303 L1965.43 158.062 L1973.53 136.303 L1978.05 136.303 L1968.32 162.229 L1962.54 162.229 L1952.81 136.303 Z\" fill=\"#000000\" fill-rule=\"nonzero\" fill-opacity=\"1\" /><path clip-path=\"url(#clip880)\" d=\"M2000.45 137.067 L2000.45 141.094 Q1998.65 140.169 1996.7 139.706 Q1994.76 139.243 1992.68 139.243 Q1989.5 139.243 1987.91 140.215 Q1986.33 141.187 1986.33 143.131 Q1986.33 144.613 1987.47 145.469 Q1988.6 146.303 1992.03 147.067 L1993.49 147.391 Q1998.02 148.363 1999.92 150.145 Q2001.84 151.905 2001.84 155.076 Q2001.84 158.687 1998.97 160.793 Q1996.12 162.9 1991.12 162.9 Q1989.04 162.9 1986.77 162.483 Q1984.53 162.09 1982.03 161.28 L1982.03 156.881 Q1984.39 158.108 1986.68 158.733 Q1988.97 159.335 1991.22 159.335 Q1994.23 159.335 1995.85 158.317 Q1997.47 157.275 1997.47 155.4 Q1997.47 153.664 1996.29 152.738 Q1995.13 151.812 1991.17 150.956 L1989.69 150.608 Q1985.73 149.775 1983.97 148.062 Q1982.21 146.326 1982.21 143.317 Q1982.21 139.659 1984.81 137.669 Q1987.4 135.678 1992.17 135.678 Q1994.53 135.678 1996.61 136.025 Q1998.69 136.372 2000.45 137.067 Z\" fill=\"#000000\" fill-rule=\"nonzero\" fill-opacity=\"1\" /><path clip-path=\"url(#clip880)\" d=\"M2009.23 156.349 L2014.11 156.349 L2014.11 162.229 L2009.23 162.229 L2009.23 156.349 Z\" fill=\"#000000\" fill-rule=\"nonzero\" fill-opacity=\"1\" /><path clip-path=\"url(#clip880)\" d=\"M2050.5 132.275 L2044.16 149.474 L2056.87 149.474 L2050.5 132.275 M2047.86 127.669 L2053.16 127.669 L2066.33 162.229 L2061.47 162.229 L2058.32 153.363 L2042.74 153.363 L2039.6 162.229 L2034.67 162.229 L2047.86 127.669 Z\" fill=\"#000000\" fill-rule=\"nonzero\" fill-opacity=\"1\" /><path clip-path=\"url(#clip880)\" d=\"M2065.36 136.303 L2069.87 136.303 L2077.98 158.062 L2086.08 136.303 L2090.59 136.303 L2080.87 162.229 L2075.08 162.229 L2065.36 136.303 Z\" fill=\"#000000\" fill-rule=\"nonzero\" fill-opacity=\"1\" /><path clip-path=\"url(#clip880)\" d=\"M2108.25 149.196 Q2103.09 149.196 2101.1 150.377 Q2099.11 151.557 2099.11 154.405 Q2099.11 156.673 2100.59 158.016 Q2102.1 159.335 2104.67 159.335 Q2108.21 159.335 2110.34 156.835 Q2112.49 154.312 2112.49 150.145 L2112.49 149.196 L2108.25 149.196 M2116.75 147.437 L2116.75 162.229 L2112.49 162.229 L2112.49 158.293 Q2111.03 160.655 2108.86 161.789 Q2106.68 162.9 2103.53 162.9 Q2099.55 162.9 2097.19 160.678 Q2094.85 158.432 2094.85 154.682 Q2094.85 150.307 2097.77 148.085 Q2100.71 145.863 2106.52 145.863 L2112.49 145.863 L2112.49 145.446 Q2112.49 142.507 2110.55 140.909 Q2108.62 139.289 2105.13 139.289 Q2102.91 139.289 2100.8 139.821 Q2098.69 140.354 2096.75 141.419 L2096.75 137.483 Q2099.09 136.581 2101.29 136.141 Q2103.49 135.678 2105.57 135.678 Q2111.19 135.678 2113.97 138.594 Q2116.75 141.511 2116.75 147.437 Z\" fill=\"#000000\" fill-rule=\"nonzero\" fill-opacity=\"1\" /><path clip-path=\"url(#clip880)\" d=\"M2125.52 126.21 L2129.78 126.21 L2129.78 162.229 L2125.52 162.229 L2125.52 126.21 Z\" fill=\"#000000\" fill-rule=\"nonzero\" fill-opacity=\"1\" /><path clip-path=\"url(#clip880)\" d=\"M2138.69 136.303 L2142.95 136.303 L2142.95 162.229 L2138.69 162.229 L2138.69 136.303 M2138.69 126.21 L2142.95 126.21 L2142.95 131.604 L2138.69 131.604 L2138.69 126.21 Z\" fill=\"#000000\" fill-rule=\"nonzero\" fill-opacity=\"1\" /><path clip-path=\"url(#clip880)\" d=\"M2163.65 149.196 Q2158.49 149.196 2156.49 150.377 Q2154.5 151.557 2154.5 154.405 Q2154.5 156.673 2155.99 158.016 Q2157.49 159.335 2160.06 159.335 Q2163.6 159.335 2165.73 156.835 Q2167.88 154.312 2167.88 150.145 L2167.88 149.196 L2163.65 149.196 M2172.14 147.437 L2172.14 162.229 L2167.88 162.229 L2167.88 158.293 Q2166.42 160.655 2164.25 161.789 Q2162.07 162.9 2158.92 162.9 Q2154.94 162.9 2152.58 160.678 Q2150.24 158.432 2150.24 154.682 Q2150.24 150.307 2153.16 148.085 Q2156.1 145.863 2161.91 145.863 L2167.88 145.863 L2167.88 145.446 Q2167.88 142.507 2165.94 140.909 Q2164.02 139.289 2160.52 139.289 Q2158.3 139.289 2156.19 139.821 Q2154.09 140.354 2152.14 141.419 L2152.14 137.483 Q2154.48 136.581 2156.68 136.141 Q2158.88 135.678 2160.96 135.678 Q2166.59 135.678 2169.36 138.594 Q2172.14 141.511 2172.14 147.437 Z\" fill=\"#000000\" fill-rule=\"nonzero\" fill-opacity=\"1\" /><path clip-path=\"url(#clip880)\" d=\"M2199.57 137.298 L2199.57 141.28 Q2197.77 140.284 2195.94 139.798 Q2194.13 139.289 2192.28 139.289 Q2188.14 139.289 2185.85 141.928 Q2183.55 144.544 2183.55 149.289 Q2183.55 154.034 2185.85 156.673 Q2188.14 159.289 2192.28 159.289 Q2194.13 159.289 2195.94 158.803 Q2197.77 158.293 2199.57 157.298 L2199.57 161.233 Q2197.79 162.067 2195.87 162.483 Q2193.97 162.9 2191.82 162.9 Q2185.96 162.9 2182.51 159.219 Q2179.06 155.539 2179.06 149.289 Q2179.06 142.946 2182.54 139.312 Q2186.03 135.678 2192.1 135.678 Q2194.06 135.678 2195.94 136.095 Q2197.81 136.488 2199.57 137.298 M2193.55 162.229 Q2194.83 163.664 2195.45 164.867 Q2196.08 166.094 2196.08 167.205 Q2196.08 169.266 2194.69 170.307 Q2193.3 171.372 2190.57 171.372 Q2189.5 171.372 2188.48 171.233 Q2187.49 171.094 2186.49 170.817 L2186.49 167.784 Q2187.28 168.178 2188.14 168.34 Q2188.99 168.525 2190.08 168.525 Q2191.45 168.525 2192.14 167.969 Q2192.84 167.414 2192.84 166.349 Q2192.84 165.655 2192.33 164.636 Q2191.84 163.641 2190.8 162.229 L2193.55 162.229 Z\" fill=\"#000000\" fill-rule=\"nonzero\" fill-opacity=\"1\" /><path clip-path=\"url(#clip880)\" d=\"M2218.76 149.196 Q2213.6 149.196 2211.61 150.377 Q2209.62 151.557 2209.62 154.405 Q2209.62 156.673 2211.1 158.016 Q2212.61 159.335 2215.17 159.335 Q2218.72 159.335 2220.85 156.835 Q2223 154.312 2223 150.145 L2223 149.196 L2218.76 149.196 M2227.26 147.437 L2227.26 162.229 L2223 162.229 L2223 158.293 Q2221.54 160.655 2219.36 161.789 Q2217.19 162.9 2214.04 162.9 Q2210.06 162.9 2207.7 160.678 Q2205.36 158.432 2205.36 154.682 Q2205.36 150.307 2208.28 148.085 Q2211.22 145.863 2217.03 145.863 L2223 145.863 L2223 145.446 Q2223 142.507 2221.05 140.909 Q2219.13 139.289 2215.64 139.289 Q2213.42 139.289 2211.31 139.821 Q2209.2 140.354 2207.26 141.419 L2207.26 137.483 Q2209.6 136.581 2211.79 136.141 Q2213.99 135.678 2216.08 135.678 Q2221.7 135.678 2224.48 138.594 Q2227.26 141.511 2227.26 147.437 M2216.17 130.516 L2214.85 129.243 Q2214.34 128.78 2213.95 128.571 Q2213.58 128.34 2213.28 128.34 Q2212.4 128.34 2211.98 129.196 Q2211.56 130.03 2211.52 131.928 L2208.62 131.928 Q2208.67 128.803 2209.85 127.113 Q2211.03 125.4 2213.14 125.4 Q2214.02 125.4 2214.76 125.724 Q2215.5 126.048 2216.36 126.812 L2217.67 128.085 Q2218.18 128.548 2218.55 128.78 Q2218.95 128.988 2219.25 128.988 Q2220.13 128.988 2220.54 128.155 Q2220.96 127.298 2221.01 125.4 L2223.9 125.4 Q2223.86 128.525 2222.67 130.238 Q2221.49 131.928 2219.39 131.928 Q2218.51 131.928 2217.77 131.604 Q2217.03 131.28 2216.17 130.516 Z\" fill=\"#000000\" fill-rule=\"nonzero\" fill-opacity=\"1\" /><path clip-path=\"url(#clip880)\" d=\"M2246.08 139.289 Q2242.65 139.289 2240.66 141.974 Q2238.67 144.636 2238.67 149.289 Q2238.67 153.942 2240.64 156.627 Q2242.63 159.289 2246.08 159.289 Q2249.48 159.289 2251.47 156.604 Q2253.46 153.918 2253.46 149.289 Q2253.46 144.682 2251.47 141.997 Q2249.48 139.289 2246.08 139.289 M2246.08 135.678 Q2251.63 135.678 2254.8 139.289 Q2257.98 142.9 2257.98 149.289 Q2257.98 155.655 2254.8 159.289 Q2251.63 162.9 2246.08 162.9 Q2240.5 162.9 2237.33 159.289 Q2234.18 155.655 2234.18 149.289 Q2234.18 142.9 2237.33 139.289 Q2240.5 135.678 2246.08 135.678 Z\" fill=\"#000000\" fill-rule=\"nonzero\" fill-opacity=\"1\" /></svg>\n"
          },
          "metadata": {},
          "execution_count": 67
        }
      ]
    }
  ]
}